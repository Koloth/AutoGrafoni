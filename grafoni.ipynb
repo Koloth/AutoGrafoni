{
 "cells": [
  {
   "cell_type": "code",
   "execution_count": 918,
   "metadata": {},
   "outputs": [
    {
     "name": "stdout",
     "output_type": "stream",
     "text": [
      "Requirement already satisfied: eng-to-ipa in ./.conda/lib/python3.9/site-packages (0.0.2)\n",
      "Requirement already satisfied: drawsvg in ./.conda/lib/python3.9/site-packages (2.3.0)\n"
     ]
    }
   ],
   "source": [
    "!pip3 install eng-to-ipa\n",
    "!pip3 install drawsvg"
   ]
  },
  {
   "cell_type": "code",
   "execution_count": 919,
   "metadata": {},
   "outputs": [
    {
     "data": {
      "text/plain": [
       "'ðə kwɪk braʊn fɑks ʤəmpt ˈoʊvər ðə ˈleɪzi dɔg.'"
      ]
     },
     "execution_count": 919,
     "metadata": {},
     "output_type": "execute_result"
    }
   ],
   "source": [
    "import eng_to_ipa as ipa\n",
    "ipa.convert(\"The quick brown fox jumped over the lazy dog.\")"
   ]
  },
  {
   "cell_type": "code",
   "execution_count": 920,
   "metadata": {},
   "outputs": [
    {
     "data": {
      "text/plain": [
       "'ˈweɪtɪŋ'"
      ]
     },
     "execution_count": 920,
     "metadata": {},
     "output_type": "execute_result"
    }
   ],
   "source": [
    "ipa.convert(\"waiting\")"
   ]
  },
  {
   "cell_type": "code",
   "execution_count": 921,
   "metadata": {},
   "outputs": [
    {
     "data": {
      "text/plain": [
       "'ˈstədiɪŋ'"
      ]
     },
     "execution_count": 921,
     "metadata": {},
     "output_type": "execute_result"
    }
   ],
   "source": [
    "ipa.convert(\"studying\")"
   ]
  },
  {
   "cell_type": "code",
   "execution_count": 922,
   "metadata": {},
   "outputs": [
    {
     "data": {
      "text/plain": [
       "'jild'"
      ]
     },
     "execution_count": 922,
     "metadata": {},
     "output_type": "execute_result"
    }
   ],
   "source": [
    "ipa.convert(\"yield\")"
   ]
  },
  {
   "cell_type": "code",
   "execution_count": 923,
   "metadata": {},
   "outputs": [
    {
     "data": {
      "text/plain": [
       "'wud'"
      ]
     },
     "execution_count": 923,
     "metadata": {},
     "output_type": "execute_result"
    }
   ],
   "source": [
    "ipa.convert(\"wooed\")"
   ]
  },
  {
   "cell_type": "code",
   "execution_count": 924,
   "metadata": {},
   "outputs": [],
   "source": [
    "def keep_some_y_w(in_string):\n",
    "    return in_string.replace('wu','uWu').replace('ji','ɪYɪ').replace('iɪŋ','ɪɪYɪŋ').replace('iiŋ','ɪYɪŋ')"
   ]
  },
  {
   "cell_type": "code",
   "execution_count": 925,
   "metadata": {},
   "outputs": [],
   "source": [
    "convert_dict = {\n",
    "    'i': [\"uv1\",\"uv1\"], # sometimes can be duplicated like \"see\"\n",
    "    'ɪ': [\"uv1\"],\n",
    "    'ɛ': [\"uv2\"],\n",
    "    'e': [\"uv2\"],\n",
    "    'æ': [\"uv3\"],\n",
    "    'ʊ': [\"mv1\"],\n",
    "    'ə': [\"mv2\"],\n",
    "    'ɑ': [\"mv3\"],\n",
    "    'a': [\"mv3\"],\n",
    "    'u': [\"lv1\"],\n",
    "    'o': [\"lv2\"],\n",
    "    'ɔ': [\"lv3\"],\n",
    "\n",
    "    'j': [\"uv1\"],\n",
    "    'w': [\"lv1\"],\n",
    "\n",
    "    'θ': [\"th\"],\n",
    "    'ð': [\"dh\"],\n",
    "    'ʃ': [\"sh\"],\n",
    "    'ʒ': [\"zh\"],\n",
    "\n",
    "    'ʤ': [\"d\",\"zh\"],\n",
    "    'ʧ': [\"t\",\"sh\"],\n",
    "\n",
    "    'ŋ': [\"ng\"],\n",
    "\n",
    "    'ˈ': [],\n",
    "    'ˌ': [],\n",
    "    '*': [],\n",
    "    \n",
    "    ' ': [\" \"]\n",
    "}"
   ]
  },
  {
   "cell_type": "code",
   "execution_count": 926,
   "metadata": {},
   "outputs": [],
   "source": [
    "def grafoni_spell(string):\n",
    "    ipa_string = ipa.convert(string)\n",
    "    ipa_string = keep_some_y_w(ipa_string)\n",
    "    out = []\n",
    "    for letter in ipa_string:\n",
    "        if letter in convert_dict:\n",
    "            out += convert_dict[letter]\n",
    "        else:\n",
    "            out += [letter]\n",
    "    return out"
   ]
  },
  {
   "cell_type": "code",
   "execution_count": 927,
   "metadata": {},
   "outputs": [
    {
     "data": {
      "text/plain": [
       "['mv3',\n",
       " 'uv1',\n",
       " ' ',\n",
       " 's',\n",
       " 'uv1',\n",
       " 'uv1',\n",
       " ' ',\n",
       " 'uv1',\n",
       " 'lv1',\n",
       " ' ',\n",
       " 's',\n",
       " 't',\n",
       " 'mv2',\n",
       " 'd',\n",
       " 'uv1',\n",
       " 'uv1',\n",
       " 'Y',\n",
       " 'uv1',\n",
       " 'ng']"
      ]
     },
     "execution_count": 927,
     "metadata": {},
     "output_type": "execute_result"
    }
   ],
   "source": [
    "grafoni_spell(\"I see you studying\")"
   ]
  },
  {
   "cell_type": "code",
   "execution_count": 928,
   "metadata": {},
   "outputs": [
    {
     "data": {
      "text/plain": [
       "'ˈstədiɪŋ'"
      ]
     },
     "execution_count": 928,
     "metadata": {},
     "output_type": "execute_result"
    }
   ],
   "source": [
    "ipa.convert(\"studying\")"
   ]
  },
  {
   "cell_type": "code",
   "execution_count": 929,
   "metadata": {},
   "outputs": [
    {
     "data": {
      "text/plain": [
       "['m',\n",
       " 'lv3',\n",
       " 'th',\n",
       " 's',\n",
       " ' ',\n",
       " 'm',\n",
       " 'mv2',\n",
       " 'n',\n",
       " 'th',\n",
       " 's',\n",
       " ' ',\n",
       " 's',\n",
       " 't',\n",
       " 'mv2',\n",
       " 'd',\n",
       " 'uv1',\n",
       " 'uv1',\n",
       " 'Y',\n",
       " 'uv1',\n",
       " 'ng']"
      ]
     },
     "execution_count": 929,
     "metadata": {},
     "output_type": "execute_result"
    }
   ],
   "source": [
    "grafoni_spell(\"moths months studying\")"
   ]
  },
  {
   "cell_type": "code",
   "execution_count": 930,
   "metadata": {},
   "outputs": [],
   "source": [
    "import drawsvg as draw\n",
    "\n",
    "def bounding_box(strokes):\n",
    "    min_x = 0\n",
    "    min_y = 0\n",
    "    max_x = 0\n",
    "    max_y = 0\n",
    "    for stroke in strokes:\n",
    "        if stroke[0] == 'move':\n",
    "            min_x = min(min_x,stroke[1])\n",
    "            min_y = min(min_y,stroke[2])\n",
    "            max_x = max(max_x,stroke[1])\n",
    "            max_y = max(max_y,stroke[2])\n",
    "        if stroke[0] == 'line':\n",
    "            min_x = min(min_x,stroke[1])\n",
    "            min_y = min(min_y,stroke[2])\n",
    "            max_x = max(max_x,stroke[1])\n",
    "            max_y = max(max_y,stroke[2])\n",
    "        if stroke[0] == 'quadratic':\n",
    "            min_x = min(min_x,stroke[1],stroke[3])\n",
    "            min_y = min(min_y,stroke[2],stroke[4])\n",
    "            max_x = max(max_x,stroke[1],stroke[3])\n",
    "            max_y = max(max_y,stroke[2],stroke[4])\n",
    "        if stroke[0] == 'cubic':\n",
    "            min_x = min(min_x,stroke[1],stroke[3],stroke[5])\n",
    "            min_y = min(min_y,stroke[2],stroke[4],stroke[6])\n",
    "            max_x = max(max_x,stroke[1],stroke[3],stroke[5])\n",
    "            max_y = max(max_y,stroke[2],stroke[4],stroke[6])\n",
    "    return min_x, min_y, max_x, max_y\n",
    "\n",
    "def svgStrokes(strokes, scale = 4,padding = 1, stroke_width = 1.0/3):\n",
    "    path = draw.Path(stroke='black', fill='none', stroke_width = stroke_width*scale, stroke_linecap='round', stroke_linejoin='round')\n",
    "    min_x,min_y,max_x,max_y = bounding_box(strokes)\n",
    "    for stroke in strokes:\n",
    "        if stroke[0] == 'move':\n",
    "            path.M(scale*(stroke[1]-min_x)+scale*padding,scale*(stroke[2]-min_y)+scale*padding)\n",
    "        if stroke[0] == 'line':\n",
    "            path.L(scale*(stroke[1]-min_x)+scale*padding,scale*(stroke[2]-min_y)+scale*padding)\n",
    "        if stroke[0] == 'quadratic':\n",
    "            path.Q(scale*(stroke[1]-min_x)+scale*padding,scale*(stroke[2]-min_y)+scale*padding,scale*(stroke[3]-min_x)+scale*padding,scale*(stroke[4]-min_y)+scale*padding)\n",
    "        if stroke[0] == 'cubic':\n",
    "            path.C(scale*(stroke[1]-min_x)+scale*padding,scale*(stroke[2]-min_y)+scale*padding,scale*(stroke[3]-min_x)+scale*padding,scale*(stroke[4]-min_y)+scale*padding,scale*(stroke[5]-min_x)+scale*padding,scale*(stroke[6]-min_y)+scale*padding)\n",
    "    \n",
    "    d = draw.Drawing(scale*(max_x-min_x)+2*scale*padding,scale*(max_y-min_y)+2*scale*padding)\n",
    "    d.append(draw.Use(path,0,0))\n",
    "    return d\n",
    "\n",
    "def translate(strokes,dx,dy):\n",
    "    out = []\n",
    "    for s in strokes:\n",
    "        if s[0] == 'move':\n",
    "            out.append(('move',s[1]+dx,s[2]+dy))\n",
    "        if s[0] == 'line':\n",
    "            out.append(('line',s[1]+dx,s[2]+dy))\n",
    "        if s[0] == 'quadratic':\n",
    "            out.append(('quadratic',s[1]+dx,s[2]+dy,s[3]+dx,s[4]+dy))\n",
    "        if s[0] == 'cubic':\n",
    "            out.append(('cubic',s[1]+dx,s[2]+dy,s[3]+dx,s[4]+dy,s[5]+dx,s[6]+dy))\n",
    "    return out\n",
    "\n",
    "def scale(strokes,dx,dy):\n",
    "    out = []\n",
    "    for s in strokes:\n",
    "        if s[0] == 'move':\n",
    "            out.append(('move',s[1]*dx,s[2]*dy))\n",
    "        if s[0] == 'line':\n",
    "            out.append(('line',s[1]*dx,s[2]*dy))\n",
    "        if s[0] == 'quadratic':\n",
    "            out.append(('quadratic',s[1]*dx,s[2]*dy,s[3]*dx,s[4]*dy))\n",
    "        if s[0] == 'cubic':\n",
    "            out.append(('cubic',s[1]*dx,s[2]*dy,s[3]*dx,s[4]*dy,s[5]*dx,s[6]*dy))\n",
    "    return out\n",
    "\n",
    "def concat(strokes, new):\n",
    "    last_x, last_y = strokes[-1][-2:]\n",
    "    return strokes + translate(new,last_x,last_y)"
   ]
  },
  {
   "cell_type": "code",
   "execution_count": 931,
   "metadata": {},
   "outputs": [],
   "source": [
    "from IPython.display import display"
   ]
  },
  {
   "cell_type": "code",
   "execution_count": 932,
   "metadata": {},
   "outputs": [],
   "source": [
    "vowel_scale = 1.5\n",
    "\n",
    "letter_forms_type = {\n",
    "    \" \": [('move',4,0)],\n",
    "\n",
    "    \"uv1\": [('quadratic',1*vowel_scale,-1*vowel_scale,2*vowel_scale,0)],\n",
    "    \"uv2\": [('quadratic',2*vowel_scale,-1*vowel_scale,4*vowel_scale,0)],\n",
    "    \"uv3\": [('quadratic',4*vowel_scale,-1*vowel_scale,8*vowel_scale,0)],\n",
    "    \"mv1\": [('line',2*vowel_scale,0)],\n",
    "    \"mv2\": [('line',4*vowel_scale,0)],\n",
    "    \"mv3\": [('line',8*vowel_scale,0)],\n",
    "    \"lv1\": [('quadratic',1*vowel_scale,1*vowel_scale,2*vowel_scale,0)],\n",
    "    \"lv2\": [('quadratic',2*vowel_scale,1*vowel_scale,4*vowel_scale,0)],\n",
    "    \"lv3\": [('quadratic',4*vowel_scale,1*vowel_scale,8*vowel_scale,0)],\n",
    "\n",
    "    \"r\": [('cubic',2,-2,2,-4,1,-4),('cubic',0,-4,0,-2,2,0)],\n",
    "    \"l\": [('cubic',2,-2,2,-8,1,-8),('cubic',0,-8,0,-4,2,0)],\n",
    "    \"m\": [('cubic',2,0,2,2,1,2),('cubic',0,2,0,0,2,0)],\n",
    "    \"n\": [('cubic',2,2,2,4,1,4),('cubic',0,4,0,2,2,0)],\n",
    "    \"ng\":[('cubic',2,2,2,8,1,8),('cubic',0,8,0,4,2,0)],\n",
    "\n",
    "    \"k\": [('cubic',2,-2,0,-2,2,-4),('quadratic',0,-2,2,0)],\n",
    "    \"g\": [('cubic',2,-2,0,-4,2,-8),('quadratic',0,-4,2,0)],\n",
    "    \"h\": [('cubic',2,2,0,2,2,4),('quadratic',0,2,2,0)],\n",
    "    \"x\": [('cubic',2,2,0,4,2,8),('quadratic',0,4,2,0)],\n",
    "\n",
    "    \"t\": [('quadratic',2,0,2,-2),('move',2,-4),('line',2,0)],\n",
    "    \"d\": [('quadratic',2,0,2,-2),('move',2,-8),('line',2,0)],\n",
    "    \"th\": [('line',0,4),('move',0,2),('quadratic',0,0,2,0)],\n",
    "    \"dh\": [('line',0,8),('move',0,2),('quadratic',0,0,2,0)],\n",
    "\n",
    "    \"p\": [('quadratic',2,-2,0,-4),('cubic',2,-2,0,-2,2,0)],\n",
    "    \"b\": [('quadratic',2,-4,0,-8),('cubic',2,-4,0,-2,2,0)],\n",
    "    \"f\": [('quadratic',2,2,0,4),('cubic',2,2,0,2,2,0)],\n",
    "    \"v\": [('quadratic',2,4,0,8),('cubic',2,4,0,2,2,0)],\n",
    "\n",
    "    \"s\": [('quadratic',0,-4,1,-4),('quadratic',2,-4,2,0)],\n",
    "    \"z\": [('quadratic',0,-8,1,-8),('quadratic',2,-8,2,0)],\n",
    "    \"sh\": [('quadratic',0,4,1,4),('quadratic',2,4,2,0)],\n",
    "    \"zh\": [('quadratic',0,8,1,8),('quadratic',2,8,2,0)],\n",
    "\n",
    "    \"Y\": [('cubic',1,1,-1,1,0,0)],\n",
    "    \"W\": [('cubic',1,-1,-1,-1,0,0)],\n",
    "}"
   ]
  },
  {
   "cell_type": "code",
   "execution_count": 933,
   "metadata": {},
   "outputs": [],
   "source": [
    "from math import sqrt\n",
    "\n",
    "def show_grafoni_type(in_string):\n",
    "    chars = grafoni_spell(in_string)\n",
    "    out = [('move',0,0)]\n",
    "    for l in chars:\n",
    "        if l in letter_forms_type:\n",
    "            out = concat(out,letter_forms_type[l])\n",
    "        else:\n",
    "            print(\"error: \" + l)\n",
    "    return display(svgStrokes(out))"
   ]
  },
  {
   "cell_type": "code",
   "execution_count": 934,
   "metadata": {},
   "outputs": [
    {
     "data": {
      "image/svg+xml": [
       "<?xml version=\"1.0\" encoding=\"UTF-8\"?>\n",
       "<svg xmlns=\"http://www.w3.org/2000/svg\" xmlns:xlink=\"http://www.w3.org/1999/xlink\"\n",
       "     width=\"388.0\" height=\"72\" viewBox=\"0 0 388.0 72\">\n",
       "<defs>\n",
       "<path d=\"M4,36 C12,44,4,44,12,52 Q4,44,12,36 Q24.0,30.0,36.0,36 C44.0,28,44.0,4,40.0,4 C36.0,4,36.0,20,44.0,36 Q56.0,42.0,68.0,36 L80.0,36 M96.0,36 Q102.0,42.0,108.0,36 L132.0,36 C140.0,28,140.0,20,136.0,20 C132.0,20,132.0,28,140.0,36 C148.0,28,148.0,4,144.0,4 C140.0,4,140.0,20,148.0,36 Q156.0,36,156.0,28 M156.0,4 L156.0,36 M172.0,36 C180.0,44,172.0,44,180.0,52 Q172.0,44,180.0,36 L228.0,36 L240.0,36 M256.0,36 L280.0,36 C288.0,28,288.0,20,284.0,20 C280.0,20,280.0,28,288.0,36 M304.0,36 Q310.0,30.0,316.0,36 Q322.0,42.0,328.0,36 M344.0,36 Q352.0,36,352.0,28 M352.0,4 L352.0,36 Q358.0,42.0,364.0,36 Q370.0,30.0,376.0,36 C384.0,44,384.0,68,380.0,68 C376.0,68,376.0,52,384.0,36\" stroke=\"black\" fill=\"none\" stroke-width=\"1.3333333333333333\" stroke-linecap=\"round\" stroke-linejoin=\"round\" id=\"p4A2BjAa0\" />\n",
       "</defs>\n",
       "<use xlink:href=\"#p4A2BjAa0\" x=\"0\" y=\"0\" />\n",
       "</svg>"
      ],
      "text/plain": [
       "<drawsvg.drawing.Drawing at 0x10a39f280>"
      ]
     },
     "metadata": {},
     "output_type": "display_data"
    }
   ],
   "source": [
    "show_grafoni_type(\"hello world how are you doing\")"
   ]
  },
  {
   "cell_type": "code",
   "execution_count": 935,
   "metadata": {},
   "outputs": [
    {
     "data": {
      "image/svg+xml": [
       "<?xml version=\"1.0\" encoding=\"UTF-8\"?>\n",
       "<svg xmlns=\"http://www.w3.org/2000/svg\" xmlns:xlink=\"http://www.w3.org/1999/xlink\"\n",
       "     width=\"440.0\" height=\"72\" viewBox=\"0 0 440.0 72\">\n",
       "<defs>\n",
       "<path d=\"M4,36 C12,44,4,44,12,52 Q4,44,12,36 Q24.0,30.0,36.0,36 C44.0,28,44.0,4,40.0,4 C36.0,4,36.0,20,44.0,36 Q56.0,42.0,68.0,36 L80.0,36 M96.0,36 Q102.0,42.0,108.0,36 L132.0,36 C140.0,28,140.0,20,136.0,20 C132.0,20,132.0,28,140.0,36 C148.0,28,148.0,4,144.0,4 C140.0,4,140.0,20,148.0,36 Q156.0,36,156.0,28 M156.0,4 L156.0,36 M172.0,36 C180.0,44,172.0,44,180.0,52 Q172.0,44,180.0,36 L228.0,36 L240.0,36 M256.0,36 L280.0,36 C288.0,28,288.0,20,284.0,20 C280.0,20,280.0,28,288.0,36 M304.0,36 Q310.0,30.0,316.0,36 Q322.0,42.0,328.0,36 M344.0,36 Q344.0,20,348.0,20 Q352.0,20,352.0,36 Q360.0,36,360.0,28 M360.0,20 L360.0,36 L384.0,36 Q392.0,36,392.0,28 M392.0,4 L392.0,36 Q398.0,30.0,404.0,36 Q410.0,30.0,416.0,36 C420.0,40,412.0,40,416.0,36 Q422.0,30.0,428.0,36 C436.0,44,436.0,68,432.0,68 C428.0,68,428.0,52,436.0,36\" stroke=\"black\" fill=\"none\" stroke-width=\"1.3333333333333333\" stroke-linecap=\"round\" stroke-linejoin=\"round\" id=\"WBdoE19s0\" />\n",
       "</defs>\n",
       "<use xlink:href=\"#WBdoE19s0\" x=\"0\" y=\"0\" />\n",
       "</svg>"
      ],
      "text/plain": [
       "<drawsvg.drawing.Drawing at 0x10a30faf0>"
      ]
     },
     "metadata": {},
     "output_type": "display_data"
    }
   ],
   "source": [
    "show_grafoni_type(\"hello world how are you studying\")"
   ]
  },
  {
   "cell_type": "code",
   "execution_count": 936,
   "metadata": {},
   "outputs": [],
   "source": [
    "# letter_forms = {\n",
    "#     \" \": [('move',4,0)],\n",
    "\n",
    "#     \"uv1\": [('quadratic',1*vowel_scale,-1*vowel_scale,2*vowel_scale,0)],\n",
    "#     \"uv2\": [('quadratic',2*vowel_scale,-2*vowel_scale,4*vowel_scale,0)],\n",
    "#     \"uv3\": [('quadratic',4*vowel_scale,-4*vowel_scale,8*vowel_scale,0)],\n",
    "#     \"mv1\": [('line',2*vowel_scale,0)],\n",
    "#     \"mv2\": [('line',4*vowel_scale,0)],\n",
    "#     \"mv3\": [('line',8*vowel_scale,0)],\n",
    "#     \"lv1\": [('quadratic',1*vowel_scale,1*vowel_scale,2*vowel_scale,0)],\n",
    "#     \"lv2\": [('quadratic',2*vowel_scale,2*vowel_scale,4*vowel_scale,0)],\n",
    "#     \"lv3\": [('quadratic',4*vowel_scale,4*vowel_scale,8*vowel_scale,0)],\n",
    "\n",
    "#     \"r\": [('cubic',1,-2,1,-4,0,-4),('cubic',-1,-4,-1,-2,0,0)],\n",
    "#     \"l\": [('cubic',1,-2,1,-8,0,-8),('cubic',-1,-8,-1,-4,0,0)],\n",
    "#     \"m\": [('cubic',1,0,1,2,0,2),('cubic',-1,2,-1,0,0,0)],\n",
    "#     \"n\": [('cubic',1,2,1,4,0,4),('cubic',-1,4,-1,2,0,0)],\n",
    "#     \"ng\":[('cubic',1,2,1,8,0,8),('cubic',-1,8,-1,4,0,0)],\n",
    "\n",
    "#     \"k\": [('cubic',2,-2,0,-2,2,-4),('quadratic',0,-2,2,0)],\n",
    "#     \"g\": [('cubic',2,-2,0,-4,2,-8),('quadratic',0,-4,2,0)],\n",
    "#     \"h\": [('cubic',2,2,0,2,2,4),('quadratic',0,2,2,0)],\n",
    "#     \"x\": [('cubic',2,2,0,4,2,8),('quadratic',0,4,2,0)],\n",
    "\n",
    "#     \"t\": [('quadratic',2,0,2,-2),('line',2,-4),('line',2,0)],\n",
    "#     \"d\": [('quadratic',2,0,2,-2),('line',2,-8),('line',2,0)],\n",
    "#     \"th\": [('line',0,4),('line',0,2),('quadratic',0,0,2,0)],\n",
    "#     \"dh\": [('line',0,8),('line',0,2),('quadratic',0,0,2,0)],\n",
    "\n",
    "#     \"p\": [('quadratic',2,-2,0,-4),('cubic',2,-2,0,-2,2,0)],\n",
    "#     \"b\": [('quadratic',2,-4,0,-8),('cubic',2,-4,0,-2,2,0)],\n",
    "#     \"f\": [('quadratic',2,2,0,4),('cubic',2,2,0,2,2,0)],\n",
    "#     \"v\": [('quadratic',2,4,0,8),('cubic',2,4,0,2,2,0)],\n",
    "\n",
    "#     \"s\": [('quadratic',0,-4,1,-4),('quadratic',2,-4,2,0)],\n",
    "#     \"z\": [('quadratic',0,-8,1,-8),('quadratic',2,-8,2,0)],\n",
    "#     \"sh\": [('quadratic',0,4,1,4),('quadratic',2,4,2,0)],\n",
    "#     \"zh\": [('quadratic',0,8,1,8),('quadratic',2,8,2,0)],\n",
    "\n",
    "#     \"Y\": [('cubic',1,1,-1,1,0,0)],\n",
    "#     \"W\": [('cubic',1,-1,-1,-1,0,0)],\n",
    "\n",
    "#     \"k-beg\": [('move',0,-4),('quadratic',-2,-2,0,0)],\n",
    "#     \"g-beg\": [('move',0,-8),('quadratic',-2,-4,0,0)],\n",
    "#     \"h-beg\": [('move',-1,4),('quadratic',-3,2,0,0)],\n",
    "#     \"x-beg\": [('move',-2,8),('quadratic',-4,4,0,0)],\n",
    "\n",
    "#     \"t-beg\": [('move',0,-4),('line',0,0)],\n",
    "#     \"d-beg\": [('move',0,-8),('line',0,0)],\n",
    "#     \"th-beg\": [('move',-1,4),('line',0,0)],\n",
    "#     \"dh-beg\": [('move',-2,8),('line',0,0)],\n",
    "\n",
    "#     \"p-beg\": [('move',0,-4),('quadratic',2,-2,0,0)],\n",
    "#     \"b-beg\": [('move',0,-8),('quadratic',2,-4,0,0)],\n",
    "#     \"f-beg\": [('move',-1,4),('quadratic',1,2,0,0)],\n",
    "#     \"v-beg\": [('move',-2,8),('quadratic',0,4,0,0)],\n",
    "\n",
    "#     \"k-end\": [('quadratic',-1,-2,1,-4),('move',0,0)],\n",
    "#     \"g-end\": [('quadratic',0,-4,2,-8),('move',0,0)],\n",
    "#     \"h-end\": [('quadratic',-2,2,0,4),('move',0,0)],\n",
    "#     \"x-end\": [('quadratic',-2,4,0,8),('move',0,0)],\n",
    "\n",
    "#     \"t-end\": [('line',1,-4),('move',0,0)],\n",
    "#     \"d-end\": [('line',2,-8),('move',0,0)],\n",
    "#     \"th-end\": [('line',0,4),('move',0,0)],\n",
    "#     \"dh-end\": [('line',0,8),('move',0,0)],\n",
    "\n",
    "#     \"p-end\": [('quadratic',3,-2,1,-4),('move',0,0)],\n",
    "#     \"b-end\": [('quadratic',4,-4,2,-8),('move',0,0)],\n",
    "#     \"f-end\": [('quadratic',2,2,0,4),('move',0,0)],\n",
    "#     \"v-end\": [('quadratic',2,4,0,8),('move',0,0)],\n",
    "# }"
   ]
  },
  {
   "cell_type": "code",
   "execution_count": 979,
   "metadata": {},
   "outputs": [],
   "source": [
    "# don't like the random slopes\n",
    "\n",
    "letter_forms = {\n",
    "    \" \": [('move',4,0)],\n",
    "\n",
    "    \"uv1\": [('quadratic',1*vowel_scale,-1*vowel_scale,2*vowel_scale,0)],\n",
    "    \"uv2\": [('quadratic',2*vowel_scale,-2*vowel_scale,4*vowel_scale,0)],\n",
    "    \"uv3\": [('quadratic',4*vowel_scale,-4*vowel_scale,8*vowel_scale,0)],\n",
    "    \"mv1\": [('line',2*vowel_scale,0)],\n",
    "    \"mv2\": [('line',4*vowel_scale,0)],\n",
    "    \"mv3\": [('line',8*vowel_scale,0)],\n",
    "    \"lv1\": [('quadratic',1*vowel_scale,1*vowel_scale,2*vowel_scale,0)],\n",
    "    \"lv2\": [('quadratic',2*vowel_scale,2*vowel_scale,4*vowel_scale,0)],\n",
    "    \"lv3\": [('quadratic',4*vowel_scale,4*vowel_scale,8*vowel_scale,0)],\n",
    "\n",
    "    \"r\": [('cubic',1,-2,1,-4,0,-4),('cubic',-1,-4,-1,-2,0,0)],\n",
    "    \"l\": [('cubic',1,-2,1,-8,0,-8),('cubic',-1,-8,-1,-4,0,0)],\n",
    "    #\"m\": [('cubic',1,0,1,2,0,2),('cubic',-1,2,-1,0,0,0)],\n",
    "    \"m\": [('cubic',2,2,-2,2,0,0)],\n",
    "    \"n\": [('cubic',1,2,1,4,0,4),('cubic',-1,4,-1,2,0,0)],\n",
    "    \"ng\":[('cubic',1,2,1,8,0,8),('cubic',-1,8,-1,4,0,0)],\n",
    "\n",
    "    \"k\": [('cubic',2,-2,0,-2,2,-4),('quadratic',0,-2,2,0)],\n",
    "    \"g\": [('cubic',2,-2,0,-4,2,-8),('quadratic',0,-4,2,0)],\n",
    "    \"h\": [('cubic',2,2,0,2,2,4),('quadratic',0,2,2,0)],\n",
    "    \"x\": [('cubic',2,2,0,4,2,8),('quadratic',0,4,2,0)],\n",
    "\n",
    "    \"t\": [('quadratic',2,0,2,-2),('line',2,-4),('line',2,0)],\n",
    "    \"d\": [('quadratic',2,0,2,-2),('line',2,-8),('line',2,0)],\n",
    "    \"th\": [('line',0,4),('line',0,2),('quadratic',0,0,2,0)],\n",
    "    \"dh\": [('line',0,8),('line',0,2),('quadratic',0,0,2,0)],\n",
    "\n",
    "    \"p\": [('quadratic',2,-2,0,-4),('cubic',2,-2,0,-2,2,0)],\n",
    "    \"b\": [('quadratic',2,-4,0,-8),('cubic',2,-4,0,-2,2,0)],\n",
    "    \"f\": [('quadratic',2,2,0,4),('cubic',2,2,0,2,2,0)],\n",
    "    \"v\": [('quadratic',2,4,0,8),('cubic',2,4,0,2,2,0)],\n",
    "\n",
    "    \"s\": [('quadratic',0,-4,1,-4),('quadratic',2,-4,2,0)],\n",
    "    \"z\": [('quadratic',0,-8,1,-8),('quadratic',2,-8,2,0)],\n",
    "    \"sh\": [('quadratic',0,4,1,4),('quadratic',2,4,2,0)],\n",
    "    \"zh\": [('quadratic',0,8,1,8),('quadratic',2,8,2,0)],\n",
    "\n",
    "    \"Y\": [('cubic',1,1,-1,1,0,0)],\n",
    "    \"W\": [('cubic',1,-1,-1,-1,0,0)],\n",
    "\n",
    "    \"k-beg\": [('move',0,-4),('quadratic',-2,-2,0,0)],\n",
    "    \"g-beg\": [('move',0,-8),('quadratic',-2,-4,0,0)],\n",
    "    \"h-beg\": [('move',0,4),('quadratic',-2,2,0,0)],\n",
    "    \"x-beg\": [('move',0,8),('quadratic',-2,4,0,0)],\n",
    "\n",
    "    \"t-beg\": [('move',0,-4),('line',0,0)],\n",
    "    \"d-beg\": [('move',0,-8),('line',0,0)],\n",
    "    \"th-beg\": [('move',0,4),('line',0,0)],\n",
    "    \"dh-beg\": [('move',0,8),('line',0,0)],\n",
    "\n",
    "    \"p-beg\": [('move',0,-4),('quadratic',2,-2,0,0)],\n",
    "    \"b-beg\": [('move',0,-8),('quadratic',2,-4,0,0)],\n",
    "    \"f-beg\": [('move',0,4),('quadratic',2,2,0,0)],\n",
    "    \"v-beg\": [('move',0,8),('quadratic',2,4,0,0)],\n",
    "\n",
    "    \"k-end\": [('quadratic',-2,-2,0,-4),('move',0,0)],\n",
    "    \"g-end\": [('quadratic',-2,-4,0,-8),('move',0,0)],\n",
    "    \"h-end\": [('quadratic',-2,2,0,4),('move',0,0)],\n",
    "    \"x-end\": [('quadratic',-2,4,0,8),('move',0,0)],\n",
    "\n",
    "    \"t-end\": [('line',0,-4),('move',0,0)],\n",
    "    \"d-end\": [('line',0,-8),('move',0,0)],\n",
    "    \"th-end\": [('line',0,4),('move',0,0)],\n",
    "    \"dh-end\": [('line',0,8),('move',0,0)],\n",
    "\n",
    "    \"p-end\": [('quadratic',2,-2,0,-4),('move',0,0)],\n",
    "    \"b-end\": [('quadratic',2,-4,0,-8),('move',0,0)],\n",
    "    \"f-end\": [('quadratic',2,2,0,4),('move',0,0)],\n",
    "    \"v-end\": [('quadratic',2,4,0,8),('move',0,0)],\n",
    "\n",
    "    \".\": [('move',2,0),('quadratic',2,0.25,2.125,0.25),('quadratic',2.25,0.25,2.25,0),('quadratic',2.25,-0.25,2.125,-0.25),('quadratic',2,-0.25,2,0),('move',4,0)],\n",
    "    \",\": [('move',2,0),('quadratic',3,1,2,2),('move',4,0)],\n",
    "    \"-\": [('move',2,-1),('line',3,1),('move',5,0)],\n",
    "    \"(\": [('move',5,6),('quadratic',2,0,5,-6),('move',7,0)],\n",
    "    \")\": [('move',2,6),('quadratic',5,0,2,-6),('move',7,0)],\n",
    "\n",
    "    \"1\": [('move',0,-8),('line',0,0),('move',2,0)],\n",
    "}"
   ]
  },
  {
   "cell_type": "code",
   "execution_count": 980,
   "metadata": {},
   "outputs": [],
   "source": [
    "def process_ends(in_grafoni):\n",
    "    in_grafoni = [\" \"] + in_grafoni + [\" \"]\n",
    "    out_grafoni = []\n",
    "    for i in range(len(in_grafoni)-2):\n",
    "        # beginning\n",
    "        l, m, r = in_grafoni[i:i+3]\n",
    "        if l in [\" \",\",\",\".\",\"-\"] and (m in [\"k\",\"g\",\"t\",\"d\",\"p\",\"b\",\"h\",\"x\"]):\n",
    "            m += \"-beg\"\n",
    "        if l in [\" \",\",\",\".\",\"-\"] and m in [\"th\",\"dh\"] and not r in [\"uv1\",\"uv2\",\"uv3\",\"mv1\",\"mv2\",\"mv3\"]:\n",
    "            m += \"-beg\"\n",
    "        if l in [\" \",\",\",\".\",\"-\"] and m in [\"f\",\"v\"] and not r in [\"uv1\",\"uv2\",\"uv3\"]:\n",
    "            m += \"-beg\"\n",
    "        # ending\n",
    "        if r in [\" \",\",\",\".\",\"-\"] and m in [\"p\",\"b\",\"h\",\"x\",\"th\",\"dh\",\"f\",\"v\"]:\n",
    "            m += \"-end\"\n",
    "        if r in [\" \",\",\",\".\",\"-\"] and m in [\"t\",\"d\"] and not l in [\"lv1\",\"lv2\",\"lv3\",\"mv1\",\"mv2\",\"mv3\"]:\n",
    "            m += \"-end\"\n",
    "        if r in [\" \",\",\",\".\",\"-\"] and m in [\"k\",\"g\"] and not l in [\"lv1\",\"lv2\",\"lv3\"]:\n",
    "            m += \"-end\"\n",
    "        out_grafoni.append(m)\n",
    "    return out_grafoni"
   ]
  },
  {
   "cell_type": "code",
   "execution_count": 981,
   "metadata": {},
   "outputs": [],
   "source": [
    "def shear(strokes,by=-1):\n",
    "    out = []\n",
    "    for s in strokes:\n",
    "        if s[0] == 'move':\n",
    "            out.append(('move',s[1]+by*s[2],s[2]))\n",
    "        if s[0] == 'line':\n",
    "            out.append(('line',s[1]+by*s[2],s[2]))\n",
    "        if s[0] == 'quadratic':\n",
    "            out.append(('quadratic',s[1]+by*s[2],s[2],s[3]+by*s[4],s[4]))\n",
    "        if s[0] == 'cubic':\n",
    "            out.append(('cubic',s[1]+by*s[2],s[2],s[3]+by*s[4],s[4],s[5]+by*s[6],s[6]))\n",
    "    return out"
   ]
  },
  {
   "cell_type": "code",
   "execution_count": 982,
   "metadata": {},
   "outputs": [],
   "source": [
    "from math import sqrt\n",
    "\n",
    "def show_grafoni(in_string,bend = True):\n",
    "    chars = in_string\n",
    "    if isinstance(chars, str):\n",
    "        chars = process_ends(grafoni_spell(in_string))\n",
    "    print(\" \".join(chars))\n",
    "    out = [('move',0,0)]\n",
    "    for l in chars:\n",
    "        if l in letter_forms:\n",
    "            out = concat(out,letter_forms[l])\n",
    "        else:\n",
    "            print(\"error: \" + l)\n",
    "    if bend:\n",
    "        #return display(svgStrokes(shear(scale(out,1,0.5),by=-1/sqrt(3))))\n",
    "        return display(svgStrokes(shear(scale(out,1,0.5),by=-1)))\n",
    "    else:\n",
    "        return display(svgStrokes(out))"
   ]
  },
  {
   "cell_type": "code",
   "execution_count": 983,
   "metadata": {},
   "outputs": [
    {
     "data": {
      "image/svg+xml": [
       "<?xml version=\"1.0\" encoding=\"UTF-8\"?>\n",
       "<svg xmlns=\"http://www.w3.org/2000/svg\" xmlns:xlink=\"http://www.w3.org/1999/xlink\"\n",
       "     width=\"948.0\" height=\"72\" viewBox=\"0 0 948.0 72\">\n",
       "<defs>\n",
       "<path d=\"M4,36 L4,68 M4,44 Q4,36,12,36 Q24.0,30.0,36.0,36 C44.0,28,44.0,20,40.0,20 C36.0,20,36.0,28,44.0,36 M60.0,36 Q66.0,42.0,72.0,36 Q78.0,30.0,84.0,36 C92.0,28,92.0,4,88.0,4 C84.0,4,84.0,20,92.0,36 M108.0,36 C116.0,28,108.0,28,116.0,20 Q108.0,28,116.0,36 L140.0,36 C148.0,36,148.0,44,144.0,44 C140.0,44,140.0,36,148.0,36 M164.0,36 L188.0,36 M204.0,36 Q212.0,36,212.0,28 M212.0,20 L212.0,36 L260.0,36 Q266.0,30.0,272.0,36 C280.0,36,280.0,44,276.0,44 C272.0,44,272.0,36,280.0,36 M296.0,36 Q302.0,42.0,308.0,36 Q314.0,30.0,320.0,36 C328.0,44,328.0,52,324.0,52 C320.0,52,320.0,44,328.0,36 M344.0,36 Q350.0,30.0,356.0,36 Q362.0,42.0,368.0,36 M384.0,36 Q392.0,20,384.0,4 C392.0,20,384.0,28,392.0,36 Q398.0,30.0,404.0,36 C412.0,28,412.0,4,408.0,4 C404.0,4,404.0,20,412.0,36 Q418.0,30.0,424.0,36 Q430.0,30.0,436.0,36 Q444.0,52,436.0,68 C444.0,52,436.0,44,444.0,36 M460.0,36 Q472.0,30.0,484.0,36 Q492.0,52,484.0,68 C492.0,52,484.0,44,492.0,36 C500.0,28,500.0,20,496.0,20 C492.0,20,492.0,28,500.0,36 Q506.0,30.0,512.0,36 Q518.0,30.0,524.0,36 L524.0,52 M524.0,44 Q524.0,36,532.0,36 Q538.0,30.0,544.0,36 C552.0,44,552.0,68,548.0,68 C544.0,68,544.0,52,552.0,36 M568.0,36 Q574.0,30.0,580.0,36 Q580.0,4,584.0,4 Q588.0,4,588.0,36 M604.0,36 Q612.0,44,604.0,52 C612.0,44,604.0,44,612.0,36 Q618.0,30.0,624.0,36 C632.0,44,632.0,52,628.0,52 C624.0,52,624.0,44,632.0,36 Q638.0,30.0,644.0,36 Q644.0,52,648.0,52 Q652.0,52,652.0,36 Q660.0,36,660.0,28 M660.0,20 L660.0,36 M676.0,36 L676.0,68 M676.0,44 Q676.0,36,684.0,36 L708.0,36 Q716.0,36,716.0,28 M716.0,20 L716.0,36 M732.0,36 Q738.0,42.0,744.0,36 Q750.0,30.0,756.0,36 C764.0,28,764.0,4,760.0,4 C756.0,4,756.0,20,764.0,36 M780.0,36 Q788.0,20,780.0,4 C788.0,20,780.0,28,788.0,36 Q794.0,30.0,800.0,36 Q806.0,30.0,812.0,36 M828.0,36 L828.0,68 M828.0,44 Q828.0,36,836.0,36 L860.0,36 M876.0,36 Q884.0,20,876.0,4 C884.0,20,876.0,28,884.0,36 Q890.0,30.0,896.0,36 C904.0,28,896.0,20,904.0,4 Q896.0,20,904.0,36 Q910.0,30.0,916.0,36 C924.0,44,924.0,52,920.0,52 C916.0,52,916.0,44,924.0,36 Q930.0,30.0,936.0,36 C944.0,44,944.0,68,940.0,68 C936.0,68,936.0,52,944.0,36\" stroke=\"black\" fill=\"none\" stroke-width=\"1.3333333333333333\" stroke-linecap=\"round\" stroke-linejoin=\"round\" id=\"WHry1P4r0\" />\n",
       "</defs>\n",
       "<use xlink:href=\"#WHry1P4r0\" x=\"0\" y=\"0\" />\n",
       "</svg>"
      ],
      "text/plain": [
       "<drawsvg.drawing.Drawing at 0x10a248fa0>"
      ]
     },
     "metadata": {},
     "output_type": "display_data"
    }
   ],
   "source": [
    "show_grafoni_type(\"there will come a time when you believe everything is finished that will be the beginning\")"
   ]
  },
  {
   "cell_type": "code",
   "execution_count": 984,
   "metadata": {},
   "outputs": [
    {
     "name": "stdout",
     "output_type": "stream",
     "text": [
      "dh uv2 r   lv1 uv1 l   k-beg mv2 m   mv2   t-beg mv3 uv1 m   lv1 uv1 n   uv1 lv1   b-beg uv1 l uv1 uv1 v-end   uv2 v r uv1 uv1 th uv1 ng   uv1 z   f uv1 n uv1 sh t-end   dh mv2 t   lv1 uv1 l   b-beg uv1 uv1   dh mv2   b-beg uv1 g uv1 n uv1 ng\n"
     ]
    },
    {
     "data": {
      "image/svg+xml": [
       "<?xml version=\"1.0\" encoding=\"UTF-8\"?>\n",
       "<svg xmlns=\"http://www.w3.org/2000/svg\" xmlns:xlink=\"http://www.w3.org/1999/xlink\"\n",
       "     width=\"812.0\" height=\"40.0\" viewBox=\"0 0 812.0 40.0\">\n",
       "<defs>\n",
       "<path d=\"M20.0,20.0 L4.0,36.0 L16.0,24.0 Q20.0,20.0,28.0,20.0 Q46.0,14.0,52.0,20.0 C60.0,16.0,64.0,12.0,60.0,12.0 C56.0,12.0,52.0,16.0,52.0,20.0 M68.0,20.0 Q71.0,23.0,80.0,20.0 Q89.0,17.0,92.0,20.0 C100.0,16.0,112.0,4.0,108.0,4.0 C104.0,4.0,96.0,12.0,92.0,20.0 M108.0,20.0 M116.0,12.0 Q104.0,16.0,108.0,20.0 L132.0,20.0 C136.0,24.0,120.0,24.0,132.0,20.0 M148.0,20.0 L172.0,20.0 M188.0,20.0 M196.0,12.0 L188.0,20.0 L236.0,20.0 Q245.0,17.0,248.0,20.0 C252.0,24.0,236.0,24.0,248.0,20.0 M264.0,20.0 Q267.0,23.0,276.0,20.0 Q285.0,17.0,288.0,20.0 C288.0,24.0,284.0,28.0,280.0,28.0 C276.0,28.0,280.0,24.0,288.0,20.0 M304.0,20.0 Q313.0,17.0,316.0,20.0 Q319.0,23.0,328.0,20.0 M344.0,20.0 M360.0,4.0 Q360.0,12.0,344.0,20.0 Q353.0,17.0,356.0,20.0 C364.0,16.0,376.0,4.0,372.0,4.0 C368.0,4.0,360.0,12.0,356.0,20.0 Q365.0,17.0,368.0,20.0 Q377.0,17.0,380.0,20.0 Q380.0,28.0,364.0,36.0 M380.0,20.0 M396.0,20.0 Q414.0,14.0,420.0,20.0 Q420.0,28.0,404.0,36.0 C420.0,28.0,416.0,24.0,428.0,20.0 C436.0,16.0,440.0,12.0,436.0,12.0 C432.0,12.0,428.0,16.0,428.0,20.0 Q437.0,17.0,440.0,20.0 Q449.0,17.0,452.0,20.0 L444.0,28.0 L448.0,24.0 Q452.0,20.0,460.0,20.0 Q469.0,17.0,472.0,20.0 C472.0,24.0,460.0,36.0,456.0,36.0 C452.0,36.0,460.0,28.0,472.0,20.0 M488.0,20.0 Q497.0,17.0,500.0,20.0 Q516.0,4.0,520.0,4.0 Q524.0,4.0,508.0,20.0 M524.0,20.0 Q528.0,24.0,516.0,28.0 C528.0,24.0,520.0,24.0,532.0,20.0 Q541.0,17.0,544.0,20.0 C544.0,24.0,540.0,28.0,536.0,28.0 C532.0,28.0,536.0,24.0,544.0,20.0 Q553.0,17.0,556.0,20.0 Q548.0,28.0,552.0,28.0 Q556.0,28.0,564.0,20.0 L572.0,12.0 M564.0,20.0 M580.0,20.0 L564.0,36.0 L576.0,24.0 Q580.0,20.0,588.0,20.0 L612.0,20.0 Q620.0,20.0,624.0,16.0 L628.0,12.0 L620.0,20.0 M636.0,20.0 Q639.0,23.0,648.0,20.0 Q657.0,17.0,660.0,20.0 C668.0,16.0,680.0,4.0,676.0,4.0 C672.0,4.0,664.0,12.0,660.0,20.0 M676.0,20.0 M692.0,4.0 Q692.0,12.0,676.0,20.0 Q685.0,17.0,688.0,20.0 Q697.0,17.0,700.0,20.0 M716.0,20.0 L700.0,36.0 L712.0,24.0 Q716.0,20.0,724.0,20.0 L748.0,20.0 M764.0,20.0 M780.0,4.0 Q780.0,12.0,764.0,20.0 Q773.0,17.0,776.0,20.0 C788.0,16.0,784.0,12.0,800.0,4.0 Q784.0,12.0,784.0,20.0 Q793.0,17.0,796.0,20.0 C796.0,24.0,792.0,28.0,788.0,28.0 C784.0,28.0,788.0,24.0,796.0,20.0 Q805.0,17.0,808.0,20.0 C808.0,24.0,796.0,36.0,792.0,36.0 C788.0,36.0,796.0,28.0,808.0,20.0\" stroke=\"black\" fill=\"none\" stroke-width=\"1.3333333333333333\" stroke-linecap=\"round\" stroke-linejoin=\"round\" id=\"kNDXDhYu0\" />\n",
       "</defs>\n",
       "<use xlink:href=\"#kNDXDhYu0\" x=\"0\" y=\"0\" />\n",
       "</svg>"
      ],
      "text/plain": [
       "<drawsvg.drawing.Drawing at 0x10a4b0670>"
      ]
     },
     "metadata": {},
     "output_type": "display_data"
    }
   ],
   "source": [
    "show_grafoni(\"there will come a time when you believe everything is finished that will be the beginning\",bend=True)"
   ]
  },
  {
   "cell_type": "markdown",
   "metadata": {},
   "source": []
  },
  {
   "cell_type": "code",
   "execution_count": 985,
   "metadata": {},
   "outputs": [
    {
     "name": "stdout",
     "output_type": "stream",
     "text": [
      "mv2   g-beg r uv2 uv1 t-end   d-beg uv1 uv1 l   mv2 v-end   t-beg mv3 uv1 m   uv1 z   l lv3 s t-end   b-beg mv3 uv1   dh mv2   p-beg r uv2 z mv2 n t-end   uv1 n d mv2 r uv2 k t-end   m uv2 th mv2 d   mv2 v-end   r uv1 k lv3 r d uv1 ng   b-beg uv1 z n uv1 s   k-beg lv3 r mv2 s p mv3 n d mv2 n s\n"
     ]
    },
    {
     "data": {
      "image/svg+xml": [
       "<?xml version=\"1.0\" encoding=\"UTF-8\"?>\n",
       "<svg xmlns=\"http://www.w3.org/2000/svg\" xmlns:xlink=\"http://www.w3.org/1999/xlink\"\n",
       "     width=\"1116.0\" height=\"40.0\" viewBox=\"0 0 1116.0 40.0\">\n",
       "<defs>\n",
       "<path d=\"M4.0,20.0 L28.0,20.0 M44.0,20.0 M60.0,4.0 Q44.0,12.0,44.0,20.0 C52.0,16.0,56.0,12.0,52.0,12.0 C48.0,12.0,44.0,16.0,44.0,20.0 Q62.0,14.0,68.0,20.0 Q77.0,17.0,80.0,20.0 L88.0,12.0 M80.0,20.0 M96.0,20.0 M112.0,4.0 L96.0,20.0 Q105.0,17.0,108.0,20.0 Q117.0,17.0,120.0,20.0 C128.0,16.0,140.0,4.0,136.0,4.0 C132.0,4.0,124.0,12.0,120.0,20.0 M136.0,20.0 L160.0,20.0 Q160.0,28.0,144.0,36.0 M160.0,20.0 M176.0,20.0 M184.0,12.0 L176.0,20.0 L224.0,20.0 Q233.0,17.0,236.0,20.0 C240.0,24.0,224.0,24.0,236.0,20.0 M252.0,20.0 Q261.0,17.0,264.0,20.0 Q280.0,4.0,284.0,4.0 Q288.0,4.0,272.0,20.0 M288.0,20.0 C296.0,16.0,308.0,4.0,304.0,4.0 C300.0,4.0,292.0,12.0,288.0,20.0 Q300.0,32.0,336.0,20.0 Q344.0,12.0,348.0,12.0 Q352.0,12.0,344.0,20.0 L352.0,12.0 M344.0,20.0 M360.0,20.0 M376.0,4.0 Q376.0,12.0,360.0,20.0 L408.0,20.0 Q417.0,17.0,420.0,20.0 M436.0,20.0 L420.0,36.0 L432.0,24.0 Q436.0,20.0,444.0,20.0 L468.0,20.0 M484.0,20.0 M492.0,12.0 Q496.0,16.0,484.0,20.0 C492.0,16.0,496.0,12.0,492.0,12.0 C488.0,12.0,484.0,16.0,484.0,20.0 Q502.0,14.0,508.0,20.0 Q524.0,4.0,528.0,4.0 Q532.0,4.0,516.0,20.0 L540.0,20.0 C540.0,24.0,536.0,28.0,532.0,28.0 C528.0,28.0,532.0,24.0,540.0,20.0 L548.0,12.0 M540.0,20.0 M556.0,20.0 Q565.0,17.0,568.0,20.0 C568.0,24.0,564.0,28.0,560.0,28.0 C556.0,28.0,560.0,24.0,568.0,20.0 Q576.0,20.0,580.0,16.0 L592.0,4.0 L576.0,20.0 L600.0,20.0 C608.0,16.0,612.0,12.0,608.0,12.0 C604.0,12.0,600.0,16.0,600.0,20.0 Q618.0,14.0,624.0,20.0 C636.0,16.0,628.0,16.0,640.0,12.0 Q628.0,16.0,632.0,20.0 L640.0,12.0 M632.0,20.0 M648.0,20.0 C652.0,24.0,636.0,24.0,648.0,20.0 Q666.0,14.0,672.0,20.0 L664.0,28.0 L668.0,24.0 Q672.0,20.0,680.0,20.0 L704.0,20.0 Q712.0,20.0,716.0,16.0 L728.0,4.0 L712.0,20.0 M728.0,20.0 L752.0,20.0 Q752.0,28.0,736.0,36.0 M752.0,20.0 M768.0,20.0 C776.0,16.0,780.0,12.0,776.0,12.0 C772.0,12.0,768.0,16.0,768.0,20.0 Q777.0,17.0,780.0,20.0 C792.0,16.0,784.0,16.0,796.0,12.0 Q784.0,16.0,788.0,20.0 Q800.0,32.0,836.0,20.0 C844.0,16.0,848.0,12.0,844.0,12.0 C840.0,12.0,836.0,16.0,836.0,20.0 Q844.0,20.0,848.0,16.0 L860.0,4.0 L844.0,20.0 Q853.0,17.0,856.0,20.0 C856.0,24.0,844.0,36.0,840.0,36.0 C836.0,36.0,844.0,28.0,856.0,20.0 M872.0,20.0 M888.0,4.0 Q888.0,12.0,872.0,20.0 Q881.0,17.0,884.0,20.0 Q900.0,4.0,904.0,4.0 Q908.0,4.0,892.0,20.0 C892.0,24.0,888.0,28.0,884.0,28.0 C880.0,28.0,884.0,24.0,892.0,20.0 Q901.0,17.0,904.0,20.0 Q912.0,12.0,916.0,12.0 Q920.0,12.0,912.0,20.0 M928.0,20.0 M936.0,12.0 Q924.0,16.0,928.0,20.0 Q940.0,32.0,976.0,20.0 C984.0,16.0,988.0,12.0,984.0,12.0 C980.0,12.0,976.0,16.0,976.0,20.0 L1000.0,20.0 Q1008.0,12.0,1012.0,12.0 Q1016.0,12.0,1008.0,20.0 Q1020.0,16.0,1016.0,12.0 C1020.0,16.0,1012.0,16.0,1016.0,20.0 L1064.0,20.0 C1064.0,24.0,1060.0,28.0,1056.0,28.0 C1052.0,28.0,1056.0,24.0,1064.0,20.0 Q1072.0,20.0,1076.0,16.0 L1088.0,4.0 L1072.0,20.0 L1096.0,20.0 C1096.0,24.0,1092.0,28.0,1088.0,28.0 C1084.0,28.0,1088.0,24.0,1096.0,20.0 Q1104.0,12.0,1108.0,12.0 Q1112.0,12.0,1104.0,20.0\" stroke=\"black\" fill=\"none\" stroke-width=\"1.3333333333333333\" stroke-linecap=\"round\" stroke-linejoin=\"round\" id=\"PN3XvSZW0\" />\n",
       "</defs>\n",
       "<use xlink:href=\"#PN3XvSZW0\" x=\"0\" y=\"0\" />\n",
       "</svg>"
      ],
      "text/plain": [
       "<drawsvg.drawing.Drawing at 0x10a48b7f0>"
      ]
     },
     "metadata": {},
     "output_type": "display_data"
    }
   ],
   "source": [
    "show_grafoni(\"a great deal of time is lost by the present indirect method of recording business correspondence\")"
   ]
  },
  {
   "cell_type": "code",
   "execution_count": 986,
   "metadata": {},
   "outputs": [
    {
     "name": "stdout",
     "output_type": "stream",
     "text": [
      "lv1 mv2 r l d-end\n"
     ]
    },
    {
     "data": {
      "image/svg+xml": [
       "<?xml version=\"1.0\" encoding=\"UTF-8\"?>\n",
       "<svg xmlns=\"http://www.w3.org/2000/svg\" xmlns:xlink=\"http://www.w3.org/1999/xlink\"\n",
       "     width=\"64.0\" height=\"27.0\" viewBox=\"0 0 64.0 27.0\">\n",
       "<defs>\n",
       "<path d=\"M4.0,20.0 Q7.0,23.0,16.0,20.0 L40.0,20.0 C48.0,16.0,52.0,12.0,48.0,12.0 C44.0,12.0,40.0,16.0,40.0,20.0 C48.0,16.0,60.0,4.0,56.0,4.0 C52.0,4.0,44.0,12.0,40.0,20.0 L56.0,4.0 M40.0,20.0\" stroke=\"black\" fill=\"none\" stroke-width=\"1.3333333333333333\" stroke-linecap=\"round\" stroke-linejoin=\"round\" id=\"vHioC2j50\" />\n",
       "</defs>\n",
       "<use xlink:href=\"#vHioC2j50\" x=\"0\" y=\"0\" />\n",
       "</svg>"
      ],
      "text/plain": [
       "<drawsvg.drawing.Drawing at 0x10a4125e0>"
      ]
     },
     "metadata": {},
     "output_type": "display_data"
    }
   ],
   "source": [
    "show_grafoni(\"world\")"
   ]
  },
  {
   "cell_type": "code",
   "execution_count": 987,
   "metadata": {},
   "outputs": [
    {
     "name": "stdout",
     "output_type": "stream",
     "text": [
      "k s\n"
     ]
    },
    {
     "data": {
      "image/svg+xml": [
       "<?xml version=\"1.0\" encoding=\"UTF-8\"?>\n",
       "<svg xmlns=\"http://www.w3.org/2000/svg\" xmlns:xlink=\"http://www.w3.org/1999/xlink\"\n",
       "     width=\"32.0\" height=\"16.0\" viewBox=\"0 0 32.0 16.0\">\n",
       "<defs>\n",
       "<path d=\"M4.0,12.0 C16.0,8.0,8.0,8.0,20.0,4.0 Q8.0,8.0,12.0,12.0 Q20.0,4.0,24.0,4.0 Q28.0,4.0,20.0,12.0\" stroke=\"black\" fill=\"none\" stroke-width=\"1.3333333333333333\" stroke-linecap=\"round\" stroke-linejoin=\"round\" id=\"sNiFbBAG0\" />\n",
       "</defs>\n",
       "<use xlink:href=\"#sNiFbBAG0\" x=\"0\" y=\"0\" />\n",
       "</svg>"
      ],
      "text/plain": [
       "<drawsvg.drawing.Drawing at 0x10a412d60>"
      ]
     },
     "metadata": {},
     "output_type": "display_data"
    }
   ],
   "source": [
    "show_grafoni([\"k\", \"s\"])"
   ]
  },
  {
   "cell_type": "code",
   "execution_count": 988,
   "metadata": {},
   "outputs": [],
   "source": [
    "# change last curve to be a little longer, and flat.  do nothing with negatives, but do something with non-negatives, including zero\n",
    "def r_extend(strokes,length=1):\n",
    "    strokes = strokes.copy()\n",
    "    if length < 0:\n",
    "        return strokes\n",
    "    s = strokes[-1]\n",
    "    if s[0] == 'move':\n",
    "        strokes[-1] = ('move',s[1]+length,s[2])\n",
    "    if s[0] == 'line':\n",
    "        strokes[-1] = ('quadratic',s[1],s[2],s[1]+length,s[2])\n",
    "    if s[0] == 'quadratic':\n",
    "        strokes[-1] = ('cubic',s[1],s[2],s[3],s[4],s[3]+length,s[4])\n",
    "    if s[0] == 'cubic':\n",
    "        strokes[-1] = ('cubic',s[1],s[2],s[3],s[6],s[5]+length,s[6]) #note I kinda just flatten the end\n",
    "    return strokes\n",
    "\n",
    "# change first curve to be a little longer and flat, translate the rest\n",
    "# assumes you start at 0,0 (as all should)\n",
    "def l_extend(strokes,length = 1):\n",
    "    strokes = strokes.copy()\n",
    "    if length < 0:\n",
    "        return strokes\n",
    "    s = strokes[0]\n",
    "    if s[0] == 'move':\n",
    "        strokes[0] = ('move',s[1]+length,s[2])\n",
    "    if s[0] == 'line':\n",
    "        strokes[0] = ('quadratic',length,0,s[1]+length,s[2])\n",
    "    if s[0] == 'quadratic':\n",
    "        strokes[0] = ('cubic',length,0,s[1]+length,s[2],s[3]+length,s[4])\n",
    "    if s[0] == 'cubic':\n",
    "        strokes[0] = ('cubic',s[1]+length,0,s[3]+length,s[4],s[5]+length,s[6]) #note I kinda just flatten the end\n",
    "    return [strokes[0]] + translate(strokes[1:],length,0)\n",
    "    "
   ]
  },
  {
   "cell_type": "code",
   "execution_count": 989,
   "metadata": {},
   "outputs": [],
   "source": [
    "def show_extended(letter,l_length,r_length):\n",
    "    out = [('move',0,0)]\n",
    "    out += r_extend(l_extend(letter_forms[letter],l_length),r_length)\n",
    "    print(out)\n",
    "    display(svgStrokes(out))"
   ]
  },
  {
   "cell_type": "code",
   "execution_count": 990,
   "metadata": {},
   "outputs": [
    {
     "name": "stdout",
     "output_type": "stream",
     "text": [
      "[('move', 0, 0), ('quadratic', 2, 0, 2, -2), ('line', 2, -4), ('quadratic', 2, 0, 3, 0)]\n"
     ]
    },
    {
     "data": {
      "image/svg+xml": [
       "<?xml version=\"1.0\" encoding=\"UTF-8\"?>\n",
       "<svg xmlns=\"http://www.w3.org/2000/svg\" xmlns:xlink=\"http://www.w3.org/1999/xlink\"\n",
       "     width=\"20\" height=\"24\" viewBox=\"0 0 20 24\">\n",
       "<defs>\n",
       "<path d=\"M4,20 Q12,20,12,12 L12,4 Q12,20,16,20\" stroke=\"black\" fill=\"none\" stroke-width=\"1.3333333333333333\" stroke-linecap=\"round\" stroke-linejoin=\"round\" id=\"naaAO1Fp0\" />\n",
       "</defs>\n",
       "<use xlink:href=\"#naaAO1Fp0\" x=\"0\" y=\"0\" />\n",
       "</svg>"
      ],
      "text/plain": [
       "<drawsvg.drawing.Drawing at 0x10b915460>"
      ]
     },
     "metadata": {},
     "output_type": "display_data"
    }
   ],
   "source": [
    "show_extended(\"t\",-1,1)"
   ]
  },
  {
   "cell_type": "code",
   "execution_count": 991,
   "metadata": {},
   "outputs": [],
   "source": [
    "def show_kern(l_letter,r_letter,l_length,r_length):\n",
    "    out = [('move',0,0)]\n",
    "    out += r_extend(letter_forms[l_letter],l_length)\n",
    "    out = concat(out,l_extend(letter_forms[r_letter],r_length))\n",
    "    display(svgStrokes(out))"
   ]
  },
  {
   "cell_type": "code",
   "execution_count": 992,
   "metadata": {},
   "outputs": [
    {
     "data": {
      "image/svg+xml": [
       "<?xml version=\"1.0\" encoding=\"UTF-8\"?>\n",
       "<svg xmlns=\"http://www.w3.org/2000/svg\" xmlns:xlink=\"http://www.w3.org/1999/xlink\"\n",
       "     width=\"22.0\" height=\"40\" viewBox=\"0 0 22.0 40\">\n",
       "<defs>\n",
       "<path d=\"M8,36 C12,28,12,20,8,20 C4,20,4,36,18.0,36 C18.0,36,10.0,20,18.0,4 M18.0,36\" stroke=\"black\" fill=\"none\" stroke-width=\"1.3333333333333333\" stroke-linecap=\"round\" stroke-linejoin=\"round\" id=\"mmEQI53Z0\" />\n",
       "</defs>\n",
       "<use xlink:href=\"#mmEQI53Z0\" x=\"0\" y=\"0\" />\n",
       "</svg>"
      ],
      "text/plain": [
       "<drawsvg.drawing.Drawing at 0x10b80a040>"
      ]
     },
     "metadata": {},
     "output_type": "display_data"
    }
   ],
   "source": [
    "show_kern(\"r\",\"g-end\",2.5,0)"
   ]
  },
  {
   "cell_type": "markdown",
   "metadata": {},
   "source": [
    "#potential ligatures\n",
    "* k lv1\n",
    "* th r\n",
    "* f r\n",
    "* f l\n",
    "* s m\n",
    "* s n\n",
    "* s f\n",
    "* k sh\n",
    "* sh r\n",
    "* m p\n",
    "* m p\n",
    "* n t\n",
    "* n d"
   ]
  },
  {
   "cell_type": "code",
   "execution_count": 993,
   "metadata": {},
   "outputs": [],
   "source": [
    "from collections import defaultdict\n",
    "\n",
    "# this dictionary will hold kerning instructions for pairs of letters, it says how much to kern the left letter on the right and the right letter on the left\n",
    "kerning = defaultdict(lambda: (-1,-1))\n",
    "kerning[(\"t-beg\",\"r\")] = (0.5,1.5)\n",
    "kerning[(\"t-beg\",\"l\")] = (0.5,1.5)\n",
    "kerning[(\"d-beg\",\"r\")] = (0.5,1.5)\n",
    "kerning[(\"d-beg\",\"l\")] = (0.5,1.5)\n",
    "kerning[(\"t\",\"r\")] = (0.5,1.5)\n",
    "kerning[(\"t\",\"l\")] = (0.5,1.5)\n",
    "kerning[(\"d\",\"r\")] = (0.5,1.5)\n",
    "kerning[(\"d\",\"l\")] = (0.5,1.5)\n",
    "kerning[(\"t\",\"s\")] = (1,1)\n",
    "kerning[(\"t\",\"z\")] = (1,1)\n",
    "kerning[(\"d\",\"s\")] = (1,1)\n",
    "kerning[(\"d\",\"z\")] = (1,1)\n",
    "kerning[(\"g-beg\",\"r\")] = (1,1)\n",
    "kerning[(\"g-beg\",\"l\")] = (1,1)\n",
    "kerning[(\"k-beg\",\"r\")] = (1,1)\n",
    "kerning[(\"k-beg\",\"l\")] = (1,1)\n",
    "kerning[(\"g\",\"r\")] = (0.5,1)\n",
    "kerning[(\"g\",\"l\")] = (0.5,1)\n",
    "kerning[(\"k\",\"r\")] = (0.5,1)\n",
    "kerning[(\"k\",\"l\")] = (0.5,1)\n",
    "kerning[(\"r\",\"p\")] = (1,0.5)\n",
    "kerning[(\"r\",\"b\")] = (1,0.5)\n",
    "kerning[(\"l\",\"p\")] = (1,0.5)\n",
    "kerning[(\"l\",\"b\")] = (1,0.5)\n",
    "kerning[(\"p-beg\",\"r\")] = (1.5,1)\n",
    "kerning[(\"p-beg\",\"l\")] = (1.5,1)\n",
    "kerning[(\"b-beg\",\"r\")] = (1.5,0.5)\n",
    "kerning[(\"b-beg\",\"l\")] = (1.5,0.5)\n",
    "kerning[(\"p\",\"r\")] = (0.5,1)\n",
    "kerning[(\"p\",\"l\")] = (0.5,1)\n",
    "kerning[(\"b\",\"r\")] = (0.5,0.5)\n",
    "kerning[(\"b\",\"l\")] = (0.5,0.5)\n",
    "kerning[(\"r\",\"l\")] = (1,1)\n",
    "kerning[(\"r\",\"k\")] = (0.5,0.5)\n",
    "kerning[(\"r\",\"g\")] = (0.5,0.5)\n",
    "kerning[(\"r\",\"s\")] = (1.5,0.5)\n",
    "kerning[(\"r\",\"z\")] = (1.5,0.5)\n",
    "kerning[(\"l\",\"r\")] = (1,1)\n",
    "kerning[(\"l\",\"k\")] = (0.5,0.5)\n",
    "kerning[(\"l\",\"g\")] = (0.5,0.5)\n",
    "kerning[(\"l\",\"s\")] = (1.5,0.5)\n",
    "kerning[(\"l\",\"z\")] = (1.5,0.5)\n",
    "kerning[(\"s\",\"t-end\")] = (1,0.5)\n",
    "kerning[(\"s\",\"d-end\")] = (1,0.5)\n",
    "kerning[(\"z\",\"t-end\")] = (1,0.5)\n",
    "kerning[(\"z\",\"d-end\")] = (1,0.5)\n",
    "kerning[(\"r\",\"t-end\")] = (1,0.5)\n",
    "kerning[(\"r\",\"d-end\")] = (1,0.5)\n",
    "kerning[(\"l\",\"t-end\")] = (1,0.5)\n",
    "kerning[(\"l\",\"d-end\")] = (1,0.5)\n",
    "kerning[(\"k\",\"t-end\")] = (0.5,0.5)\n",
    "kerning[(\"k\",\"d-end\")] = (0.5,0.5)\n",
    "kerning[(\"g\",\"t-end\")] = (0.5,0.5)\n",
    "kerning[(\"g\",\"d-end\")] = (0.5,0.5)\n",
    "kerning[(\"s\",\"p\")] = (0.5,0.5)\n",
    "kerning[(\"s\",\"b\")] = (0.5,0.5)\n",
    "kerning[(\"z\",\"p\")] = (0.5,0.5)\n",
    "kerning[(\"z\",\"b\")] = (0.5,0.5)\n",
    "kerning[(\"s\",\"k\")] = (0.5,0.5)\n",
    "kerning[(\"s\",\"g\")] = (0.5,0.5)\n",
    "kerning[(\"z\",\"k\")] = (0.5,0.5)\n",
    "kerning[(\"z\",\"g\")] = (0.5,0.5)\n",
    "kerning[(\"s\",\"r\")] = (0.5,1.5)\n",
    "kerning[(\"s\",\"l\")] = (0.5,1.5)\n",
    "kerning[(\"z\",\"r\")] = (0.5,1.5)\n",
    "kerning[(\"z\",\"l\")] = (0.5,1.5)\n",
    "kerning[(\"k\",\"s\")] = (0.5,0.5)\n",
    "kerning[(\"k\",\"z\")] = (0.5,0.5)\n",
    "kerning[(\"g\",\"s\")] = (0.5,0.5)\n",
    "kerning[(\"g\",\"z\")] = (0.5,0.5)\n",
    "kerning[(\"k-beg\",\"s\")] = (0.5,0.5)\n",
    "kerning[(\"k-beg\",\"z\")] = (0.5,0.5)\n",
    "kerning[(\"g-beg\",\"s\")] = (0.5,0.5)\n",
    "kerning[(\"g-beg\",\"z\")] = (0.5,0.5)\n",
    "kerning[(\"t\",\"r\")] = (0.5,1.5)\n",
    "kerning[(\"t\",\"l\")] = (0.5,1.5)\n",
    "kerning[(\"d\",\"r\")] = (0.5,1.5)\n",
    "kerning[(\"d\",\"l\")] = (0.5,1.5)\n",
    "kerning[(\"r\",\"mv1\")] = (1,-1)\n",
    "kerning[(\"r\",\"mv2\")] = (1,-1)\n",
    "kerning[(\"r\",\"mv3\")] = (1,-1)\n",
    "kerning[(\"l\",\"mv1\")] = (1,-1)\n",
    "kerning[(\"l\",\"mv2\")] = (1,-1)\n",
    "kerning[(\"l\",\"mv3\")] = (1,-1)\n",
    "kerning[(\"mv1\",\"r\")] = (-1,1)\n",
    "kerning[(\"mv2\",\"r\")] = (-1,1)\n",
    "kerning[(\"mv3\",\"r\")] = (-1,1)\n",
    "kerning[(\"mv1\",\"l\")] = (-1,1)\n",
    "kerning[(\"mv2\",\"l\")] = (-1,1)\n",
    "kerning[(\"mv3\",\"l\")] = (-1,1)\n",
    "kerning[(\"n\",\"mv1\")] = (1,-1)\n",
    "kerning[(\"n\",\"mv2\")] = (1,-1)\n",
    "kerning[(\"n\",\"mv3\")] = (1,-1)\n",
    "kerning[(\"ng\",\"mv1\")] = (1,-1)\n",
    "kerning[(\"ng\",\"mv2\")] = (1,-1)\n",
    "kerning[(\"ng\",\"mv3\")] = (1,-1)\n",
    "kerning[(\"mv1\",\"n\")] = (-1,1)\n",
    "kerning[(\"mv2\",\"n\")] = (-1,1)\n",
    "kerning[(\"mv3\",\"n\")] = (-1,1)\n",
    "kerning[(\"mv1\",\"ng\")] = (-1,1)\n",
    "kerning[(\"mv2\",\"ng\")] = (-1,1)\n",
    "kerning[(\"mv3\",\"ng\")] = (-1,1)\n",
    "kerning[(\"n\",\"sh\")] = (1,1)\n",
    "kerning[(\"n\",\"zh\")] = (1,1)\n",
    "kerning[(\"ng\",\"sh\")] = (1,1)\n",
    "kerning[(\"ng\",\"zh\")] = (1,1)\n",
    "kerning[(\"n\",\"r\")] = (0.5,0.5)\n",
    "kerning[(\"n\",\"l\")] = (0.5,0.5)\n",
    "kerning[(\"ng\",\"r\")] = (0.5,0.5)\n",
    "kerning[(\"ng\",\"l\")] = (0.5,0.5)\n",
    "kerning[(\"r\",\"n\")] = (0.5,0.5)\n",
    "kerning[(\"r\",\"ng\")] = (0.5,0.5)\n",
    "kerning[(\"l\",\"n\")] = (0.5,0.5)\n",
    "kerning[(\"l\",\"ng\")] = (0.5,0.5)\n",
    "kerning[(\"n\",\"h\")] = (0.5,0.5)\n",
    "kerning[(\"n\",\"x\")] = (0.5,0.5)\n",
    "kerning[(\"ng\",\"h\")] = (0.5,0.5)\n",
    "kerning[(\"ng\",\"x\")] = (0.5,0.5)\n",
    "kerning[(\"r\",\"k\")] = (0.5,0.5)\n",
    "kerning[(\"l\",\"k\")] = (0.5,0.5)\n",
    "kerning[(\"r\",\"g\")] = (0.5,0.5)\n",
    "kerning[(\"l\",\"g\")] = (0.5,0.5)\n",
    "kerning[(\"r\",\"k-end\")] = (2.5,0)\n",
    "kerning[(\"l\",\"k-end\")] = (2.5,0)\n",
    "kerning[(\"r\",\"g-end\")] = (2.5,0)\n",
    "kerning[(\"l\",\"g-end\")] = (2.5,0)"
   ]
  },
  {
   "cell_type": "code",
   "execution_count": 994,
   "metadata": {},
   "outputs": [],
   "source": [
    "def show_grafoni_kerned(in_string,bend = True):\n",
    "    chars = in_string\n",
    "    if isinstance(chars, str):\n",
    "        chars = process_ends(grafoni_spell(in_string))\n",
    "    print(\" \".join(chars))\n",
    "    out = [('move',0,0)]\n",
    "    last_char = \" \"\n",
    "    for l in chars:\n",
    "        if l in letter_forms:\n",
    "            l_kern,r_kern = kerning[(last_char,l)]\n",
    "            last_char = l\n",
    "            out = concat(r_extend(out,l_kern),l_extend(letter_forms[l],r_kern))\n",
    "        else:\n",
    "            print(\"error: \" + l)\n",
    "    if bend:\n",
    "        #return display(svgStrokes(shear(scale(out,1,0.5),by=-1/sqrt(3))))\n",
    "        return display(svgStrokes(shear(scale(out,1,0.5),by=-1)))\n",
    "    else:\n",
    "        return display(svgStrokes(out))"
   ]
  },
  {
   "cell_type": "code",
   "execution_count": 995,
   "metadata": {},
   "outputs": [
    {
     "name": "stdout",
     "output_type": "stream",
     "text": [
      "s p l uv3 sh   lv1 mv2 r l d-end\n"
     ]
    },
    {
     "data": {
      "image/svg+xml": [
       "<?xml version=\"1.0\" encoding=\"UTF-8\"?>\n",
       "<svg xmlns=\"http://www.w3.org/2000/svg\" xmlns:xlink=\"http://www.w3.org/1999/xlink\"\n",
       "     width=\"176.0\" height=\"32.0\" viewBox=\"0 0 176.0 32.0\">\n",
       "<defs>\n",
       "<path d=\"M4.0,20.0 Q12.0,12.0,16.0,12.0 C20.0,12.0,12.0,20.0,14.0,20.0 C16.0,20.0,28.0,16.0,24.0,12.0 C28.0,16.0,16.0,20.0,26.0,20.0 C34.0,20.0,50.0,4.0,46.0,4.0 C42.0,4.0,34.0,12.0,30.0,20.0 Q66.0,8.0,78.0,20.0 Q70.0,28.0,74.0,28.0 Q78.0,28.0,86.0,20.0 M102.0,20.0 Q105.0,23.0,114.0,20.0 L138.0,20.0 C146.0,20.0,154.0,12.0,150.0,12.0 C146.0,12.0,138.0,20.0,146.0,20.0 C154.0,20.0,170.0,4.0,166.0,4.0 C162.0,4.0,146.0,20.0,154.0,20.0 Q156.0,20.0,172.0,4.0 M156.0,20.0\" stroke=\"black\" fill=\"none\" stroke-width=\"1.3333333333333333\" stroke-linecap=\"round\" stroke-linejoin=\"round\" id=\"SWYk8Hqa0\" />\n",
       "</defs>\n",
       "<use xlink:href=\"#SWYk8Hqa0\" x=\"0\" y=\"0\" />\n",
       "</svg>"
      ],
      "text/plain": [
       "<drawsvg.drawing.Drawing at 0x109eb0340>"
      ]
     },
     "metadata": {},
     "output_type": "display_data"
    }
   ],
   "source": [
    "show_grafoni_kerned(\"splash world\")"
   ]
  },
  {
   "cell_type": "code",
   "execution_count": 996,
   "metadata": {},
   "outputs": [
    {
     "name": "stdout",
     "output_type": "stream",
     "text": [
      "mv2   g-beg r uv2 uv1 t-end   d-beg uv1 uv1 l   mv2 v-end   t-beg mv3 uv1 m   uv1 z   l lv3 s t-end   b-beg mv3 uv1   dh mv2   p-beg r uv2 z mv2 n t-end   uv1 n d mv2 r uv2 k t-end   m uv2 th mv2 d   mv2 v-end   r uv1 k lv3 r d uv1 ng   b-beg uv1 z n uv1 s   k-beg lv3 r mv2 s p mv3 n d mv2 n s\n"
     ]
    },
    {
     "data": {
      "image/svg+xml": [
       "<?xml version=\"1.0\" encoding=\"UTF-8\"?>\n",
       "<svg xmlns=\"http://www.w3.org/2000/svg\" xmlns:xlink=\"http://www.w3.org/1999/xlink\"\n",
       "     width=\"1168.0\" height=\"40.0\" viewBox=\"0 0 1168.0 40.0\">\n",
       "<defs>\n",
       "<path d=\"M4.0,20.0 L28.0,20.0 M44.0,20.0 M60.0,4.0 C44.0,12.0,44.0,20.0,48.0,20.0 C56.0,20.0,64.0,12.0,60.0,12.0 C56.0,12.0,52.0,16.0,52.0,20.0 Q70.0,14.0,76.0,20.0 Q85.0,17.0,88.0,20.0 L96.0,12.0 M88.0,20.0 M104.0,20.0 M120.0,4.0 L104.0,20.0 Q113.0,17.0,116.0,20.0 Q125.0,17.0,128.0,20.0 C136.0,16.0,148.0,4.0,144.0,4.0 C140.0,4.0,132.0,12.0,128.0,20.0 M144.0,20.0 L168.0,20.0 Q168.0,28.0,152.0,36.0 M168.0,20.0 M184.0,20.0 M192.0,12.0 L184.0,20.0 L232.0,20.0 Q241.0,17.0,244.0,20.0 C248.0,24.0,232.0,24.0,244.0,20.0 M260.0,20.0 Q269.0,17.0,272.0,20.0 Q288.0,4.0,292.0,4.0 Q296.0,4.0,280.0,20.0 M296.0,20.0 C304.0,16.0,316.0,4.0,312.0,4.0 C308.0,4.0,300.0,12.0,296.0,20.0 Q308.0,32.0,344.0,20.0 Q352.0,12.0,356.0,12.0 C360.0,12.0,352.0,20.0,356.0,20.0 Q358.0,20.0,366.0,12.0 M358.0,20.0 M374.0,20.0 M390.0,4.0 Q390.0,12.0,374.0,20.0 L422.0,20.0 Q431.0,17.0,434.0,20.0 M450.0,20.0 L434.0,36.0 L446.0,24.0 Q450.0,20.0,458.0,20.0 L482.0,20.0 M498.0,20.0 M506.0,12.0 C510.0,16.0,498.0,20.0,504.0,20.0 C512.0,20.0,520.0,12.0,516.0,12.0 C512.0,12.0,508.0,16.0,508.0,20.0 Q526.0,14.0,532.0,20.0 Q548.0,4.0,552.0,4.0 Q556.0,4.0,540.0,20.0 L564.0,20.0 C572.0,20.0,564.0,28.0,560.0,28.0 C556.0,28.0,560.0,24.0,568.0,20.0 L576.0,12.0 M568.0,20.0 M584.0,20.0 Q593.0,17.0,596.0,20.0 C596.0,24.0,592.0,28.0,588.0,28.0 C584.0,28.0,588.0,24.0,596.0,20.0 Q604.0,20.0,608.0,16.0 L620.0,4.0 L604.0,20.0 L628.0,20.0 C636.0,20.0,644.0,12.0,640.0,12.0 C636.0,12.0,632.0,16.0,632.0,20.0 Q650.0,14.0,656.0,20.0 C668.0,16.0,660.0,16.0,672.0,12.0 C660.0,16.0,664.0,20.0,666.0,20.0 Q668.0,20.0,676.0,12.0 M668.0,20.0 M684.0,20.0 C688.0,24.0,672.0,24.0,684.0,20.0 Q702.0,14.0,708.0,20.0 L700.0,28.0 L704.0,24.0 Q708.0,20.0,716.0,20.0 L740.0,20.0 Q748.0,20.0,752.0,16.0 L764.0,4.0 L748.0,20.0 M764.0,20.0 L788.0,20.0 Q788.0,28.0,772.0,36.0 M788.0,20.0 M804.0,20.0 C812.0,16.0,816.0,12.0,812.0,12.0 C808.0,12.0,804.0,16.0,804.0,20.0 Q813.0,17.0,816.0,20.0 C828.0,16.0,820.0,16.0,832.0,12.0 Q820.0,16.0,824.0,20.0 Q836.0,32.0,872.0,20.0 C880.0,16.0,884.0,12.0,880.0,12.0 C876.0,12.0,872.0,16.0,872.0,20.0 Q880.0,20.0,884.0,16.0 L896.0,4.0 L880.0,20.0 Q889.0,17.0,892.0,20.0 C892.0,24.0,880.0,36.0,876.0,36.0 C872.0,36.0,880.0,28.0,892.0,20.0 M908.0,20.0 M924.0,4.0 Q924.0,12.0,908.0,20.0 Q917.0,17.0,920.0,20.0 Q936.0,4.0,940.0,4.0 Q944.0,4.0,928.0,20.0 C928.0,24.0,924.0,28.0,920.0,28.0 C916.0,28.0,920.0,24.0,928.0,20.0 Q937.0,17.0,940.0,20.0 Q948.0,12.0,952.0,12.0 Q956.0,12.0,948.0,20.0 M964.0,20.0 M972.0,12.0 Q960.0,16.0,964.0,20.0 Q976.0,32.0,1012.0,20.0 C1020.0,16.0,1024.0,12.0,1020.0,12.0 C1016.0,12.0,1008.0,20.0,1016.0,20.0 L1040.0,20.0 Q1048.0,12.0,1052.0,12.0 C1056.0,12.0,1048.0,20.0,1050.0,20.0 C1052.0,20.0,1064.0,16.0,1060.0,12.0 C1064.0,16.0,1056.0,16.0,1060.0,20.0 L1108.0,20.0 C1116.0,20.0,1108.0,28.0,1104.0,28.0 C1100.0,28.0,1104.0,24.0,1112.0,20.0 Q1120.0,20.0,1124.0,16.0 L1136.0,4.0 L1120.0,20.0 L1144.0,20.0 C1152.0,20.0,1144.0,28.0,1140.0,28.0 C1136.0,28.0,1140.0,24.0,1148.0,20.0 Q1156.0,12.0,1160.0,12.0 Q1164.0,12.0,1156.0,20.0\" stroke=\"black\" fill=\"none\" stroke-width=\"1.3333333333333333\" stroke-linecap=\"round\" stroke-linejoin=\"round\" id=\"JMfl4a7t0\" />\n",
       "</defs>\n",
       "<use xlink:href=\"#JMfl4a7t0\" x=\"0\" y=\"0\" />\n",
       "</svg>"
      ],
      "text/plain": [
       "<drawsvg.drawing.Drawing at 0x109eb0430>"
      ]
     },
     "metadata": {},
     "output_type": "display_data"
    }
   ],
   "source": [
    "show_grafoni_kerned(\"a great deal of time is lost by the present indirect method of recording business correspondence\")"
   ]
  },
  {
   "cell_type": "code",
   "execution_count": 997,
   "metadata": {},
   "outputs": [
    {
     "name": "stdout",
     "output_type": "stream",
     "text": [
      "s p uv2 uv1 s   dh mv2   f-beg mv3 uv1 n mv2 l   f-beg r mv2 n t uv1 r   dh uv1 uv1 z   mv2 r   dh mv2   v-beg lv3 uv1 uv1 d zh uv1 z   mv2 v-end   dh mv2   s t mv3 r sh uv1 p-end   uv2 n mv2 r p r mv3 uv1 z\n"
     ]
    },
    {
     "data": {
      "image/svg+xml": [
       "<?xml version=\"1.0\" encoding=\"UTF-8\"?>\n",
       "<svg xmlns=\"http://www.w3.org/2000/svg\" xmlns:xlink=\"http://www.w3.org/1999/xlink\"\n",
       "     width=\"940.0\" height=\"40.0\" viewBox=\"0 0 940.0 40.0\">\n",
       "<defs>\n",
       "<path d=\"M4.0,20.0 Q12.0,12.0,16.0,12.0 C20.0,12.0,12.0,20.0,14.0,20.0 C16.0,20.0,28.0,16.0,24.0,12.0 C28.0,16.0,20.0,16.0,24.0,20.0 Q42.0,14.0,48.0,20.0 Q57.0,17.0,60.0,20.0 Q68.0,12.0,72.0,12.0 Q76.0,12.0,68.0,20.0 M84.0,20.0 L68.0,36.0 L80.0,24.0 Q84.0,20.0,92.0,20.0 L116.0,20.0 M132.0,20.0 M124.0,28.0 Q136.0,24.0,132.0,20.0 L180.0,20.0 Q189.0,17.0,192.0,20.0 C192.0,24.0,188.0,28.0,184.0,28.0 C180.0,28.0,188.0,20.0,196.0,20.0 L220.0,20.0 C228.0,20.0,244.0,4.0,240.0,4.0 C236.0,4.0,228.0,12.0,224.0,20.0 M240.0,20.0 M232.0,28.0 Q244.0,24.0,240.0,20.0 C248.0,16.0,252.0,12.0,248.0,12.0 C244.0,12.0,236.0,20.0,244.0,20.0 L268.0,20.0 C276.0,20.0,268.0,28.0,264.0,28.0 C260.0,28.0,264.0,24.0,272.0,20.0 Q280.0,20.0,284.0,16.0 L288.0,12.0 L280.0,20.0 Q289.0,17.0,292.0,20.0 C300.0,16.0,304.0,12.0,300.0,12.0 C296.0,12.0,292.0,16.0,292.0,20.0 M308.0,20.0 L292.0,36.0 L304.0,24.0 Q308.0,20.0,316.0,20.0 Q325.0,17.0,328.0,20.0 Q337.0,17.0,340.0,20.0 Q356.0,4.0,360.0,4.0 Q364.0,4.0,348.0,20.0 M364.0,20.0 L388.0,20.0 C396.0,20.0,404.0,12.0,400.0,12.0 C396.0,12.0,392.0,16.0,392.0,20.0 M408.0,20.0 L392.0,36.0 L404.0,24.0 Q408.0,20.0,416.0,20.0 L440.0,20.0 M456.0,20.0 M440.0,36.0 Q456.0,28.0,456.0,20.0 Q468.0,32.0,504.0,20.0 Q513.0,17.0,516.0,20.0 Q525.0,17.0,528.0,20.0 Q536.0,20.0,540.0,16.0 L552.0,4.0 L536.0,20.0 Q520.0,36.0,524.0,36.0 Q528.0,36.0,544.0,20.0 Q553.0,17.0,556.0,20.0 Q572.0,4.0,576.0,4.0 Q580.0,4.0,564.0,20.0 M580.0,20.0 L604.0,20.0 Q604.0,28.0,588.0,36.0 M604.0,20.0 M620.0,20.0 L604.0,36.0 L616.0,24.0 Q620.0,20.0,628.0,20.0 L652.0,20.0 M668.0,20.0 Q676.0,12.0,680.0,12.0 Q684.0,12.0,676.0,20.0 Q684.0,20.0,688.0,16.0 L692.0,12.0 L684.0,20.0 L732.0,20.0 C740.0,20.0,748.0,12.0,744.0,12.0 C740.0,12.0,736.0,16.0,736.0,20.0 Q728.0,28.0,732.0,28.0 Q736.0,28.0,744.0,20.0 Q753.0,17.0,756.0,20.0 Q768.0,16.0,764.0,12.0 M756.0,20.0 M772.0,20.0 Q790.0,14.0,796.0,20.0 C796.0,24.0,792.0,28.0,788.0,28.0 C784.0,28.0,792.0,20.0,800.0,20.0 L824.0,20.0 C832.0,20.0,840.0,12.0,836.0,12.0 C832.0,12.0,824.0,20.0,832.0,20.0 C834.0,20.0,846.0,16.0,842.0,12.0 C846.0,16.0,834.0,20.0,844.0,20.0 C852.0,20.0,860.0,12.0,856.0,12.0 C852.0,12.0,844.0,20.0,852.0,20.0 L900.0,20.0 Q909.0,17.0,912.0,20.0 Q928.0,4.0,932.0,4.0 Q936.0,4.0,920.0,20.0\" stroke=\"black\" fill=\"none\" stroke-width=\"1.3333333333333333\" stroke-linecap=\"round\" stroke-linejoin=\"round\" id=\"HHhnfVPg0\" />\n",
       "</defs>\n",
       "<use xlink:href=\"#HHhnfVPg0\" x=\"0\" y=\"0\" />\n",
       "</svg>"
      ],
      "text/plain": [
       "<drawsvg.drawing.Drawing at 0x10a4067f0>"
      ]
     },
     "metadata": {},
     "output_type": "display_data"
    }
   ],
   "source": [
    "show_grafoni_kerned(\"space the final frontier these are the voyages of the starship enterprise\")"
   ]
  },
  {
   "cell_type": "code",
   "execution_count": 998,
   "metadata": {},
   "outputs": [
    {
     "name": "stdout",
     "output_type": "stream",
     "text": [
      "h-beg uv2 l lv2 mv1   h-beg mv3 mv1   mv2 r   uv1 lv1   f uv1 uv1 l uv1 ng   t-beg mv2 d uv2 uv1\n"
     ]
    },
    {
     "data": {
      "image/svg+xml": [
       "<?xml version=\"1.0\" encoding=\"UTF-8\"?>\n",
       "<svg xmlns=\"http://www.w3.org/2000/svg\" xmlns:xlink=\"http://www.w3.org/1999/xlink\"\n",
       "     width=\"384.0\" height=\"40.0\" viewBox=\"0 0 384.0 40.0\">\n",
       "<defs>\n",
       "<path d=\"M16.0,20.0 M8.0,28.0 Q4.0,24.0,16.0,20.0 Q34.0,14.0,40.0,20.0 C48.0,16.0,60.0,4.0,56.0,4.0 C52.0,4.0,44.0,12.0,40.0,20.0 Q46.0,26.0,64.0,20.0 L76.0,20.0 M92.0,20.0 M84.0,28.0 Q80.0,24.0,92.0,20.0 L140.0,20.0 L152.0,20.0 M168.0,20.0 L192.0,20.0 C200.0,20.0,208.0,12.0,204.0,12.0 C200.0,12.0,196.0,16.0,196.0,20.0 M212.0,20.0 Q221.0,17.0,224.0,20.0 Q227.0,23.0,236.0,20.0 M252.0,20.0 Q256.0,24.0,244.0,28.0 C256.0,24.0,248.0,24.0,260.0,20.0 Q269.0,17.0,272.0,20.0 Q281.0,17.0,284.0,20.0 C292.0,16.0,304.0,4.0,300.0,4.0 C296.0,4.0,288.0,12.0,284.0,20.0 Q293.0,17.0,296.0,20.0 C296.0,24.0,284.0,36.0,280.0,36.0 C276.0,36.0,284.0,28.0,296.0,20.0 M312.0,20.0 M320.0,12.0 L312.0,20.0 L336.0,20.0 Q344.0,20.0,348.0,16.0 L360.0,4.0 L344.0,20.0 Q362.0,14.0,368.0,20.0 Q377.0,17.0,380.0,20.0\" stroke=\"black\" fill=\"none\" stroke-width=\"1.3333333333333333\" stroke-linecap=\"round\" stroke-linejoin=\"round\" id=\"jprLgLnJ0\" />\n",
       "</defs>\n",
       "<use xlink:href=\"#jprLgLnJ0\" x=\"0\" y=\"0\" />\n",
       "</svg>"
      ],
      "text/plain": [
       "<drawsvg.drawing.Drawing at 0x109eb0520>"
      ]
     },
     "metadata": {},
     "output_type": "display_data"
    }
   ],
   "source": [
    "show_grafoni_kerned(\"hello how are you feeling today\")"
   ]
  },
  {
   "cell_type": "code",
   "execution_count": 999,
   "metadata": {},
   "outputs": [
    {
     "name": "stdout",
     "output_type": "stream",
     "text": [
      "mv3 uv1   n lv1   dh mv2   m lv2 mv1 m mv2 n t-end   dh mv2 t   mv3 uv1   f uv2 l   uv1 n t lv1   dh mv2   f uv1 sh mv2 r   dh mv2 t   m mv3 uv1   b-beg mv1 k-end   lv1 mv1 d   n mv3 t   b-beg uv1 uv1   d-beg uv1 s t r lv3 uv1 d-end   uv2 z   mv3 uv1   h-beg uv3 d-end   p-beg l uv3 n d-end\n"
     ]
    },
    {
     "data": {
      "image/svg+xml": [
       "<?xml version=\"1.0\" encoding=\"UTF-8\"?>\n",
       "<svg xmlns=\"http://www.w3.org/2000/svg\" xmlns:xlink=\"http://www.w3.org/1999/xlink\"\n",
       "     width=\"1286.0\" height=\"40.0\" viewBox=\"0 0 1286.0 40.0\">\n",
       "<defs>\n",
       "<path d=\"M4.0,20.0 L52.0,20.0 Q61.0,17.0,64.0,20.0 M80.0,20.0 C80.0,24.0,76.0,28.0,72.0,28.0 C68.0,28.0,72.0,24.0,80.0,20.0 Q83.0,23.0,92.0,20.0 M108.0,20.0 L92.0,36.0 L104.0,24.0 Q108.0,20.0,116.0,20.0 L140.0,20.0 M156.0,20.0 C160.0,24.0,144.0,24.0,156.0,20.0 Q162.0,26.0,180.0,20.0 L192.0,20.0 C196.0,24.0,180.0,24.0,192.0,20.0 L216.0,20.0 C224.0,20.0,216.0,28.0,212.0,28.0 C208.0,28.0,212.0,24.0,220.0,20.0 L228.0,12.0 M220.0,20.0 M236.0,20.0 L220.0,36.0 L232.0,24.0 Q236.0,20.0,244.0,20.0 L268.0,20.0 Q276.0,20.0,280.0,16.0 L284.0,12.0 L276.0,20.0 M292.0,20.0 L340.0,20.0 Q349.0,17.0,352.0,20.0 M368.0,20.0 Q372.0,24.0,360.0,28.0 C372.0,24.0,364.0,24.0,376.0,20.0 Q394.0,14.0,400.0,20.0 C408.0,16.0,420.0,4.0,416.0,4.0 C412.0,4.0,404.0,12.0,400.0,20.0 M416.0,20.0 Q425.0,17.0,428.0,20.0 C428.0,24.0,424.0,28.0,420.0,28.0 C416.0,28.0,420.0,24.0,428.0,20.0 Q436.0,20.0,440.0,16.0 L444.0,12.0 L436.0,20.0 Q439.0,23.0,448.0,20.0 M464.0,20.0 L448.0,36.0 L460.0,24.0 Q464.0,20.0,472.0,20.0 L496.0,20.0 M512.0,20.0 Q516.0,24.0,504.0,28.0 C516.0,24.0,508.0,24.0,520.0,20.0 Q529.0,17.0,532.0,20.0 Q524.0,28.0,528.0,28.0 Q532.0,28.0,540.0,20.0 L564.0,20.0 C572.0,20.0,580.0,12.0,576.0,12.0 C572.0,12.0,568.0,16.0,568.0,20.0 M584.0,20.0 L568.0,36.0 L580.0,24.0 Q584.0,20.0,592.0,20.0 L616.0,20.0 Q624.0,20.0,628.0,16.0 L632.0,12.0 L624.0,20.0 M640.0,20.0 C644.0,24.0,628.0,24.0,640.0,20.0 L688.0,20.0 Q697.0,17.0,700.0,20.0 M716.0,20.0 M732.0,4.0 Q732.0,12.0,716.0,20.0 L728.0,20.0 Q724.0,16.0,736.0,12.0 M728.0,20.0 M744.0,20.0 Q747.0,23.0,756.0,20.0 L768.0,20.0 Q776.0,20.0,780.0,16.0 L792.0,4.0 L776.0,20.0 M792.0,20.0 C792.0,24.0,788.0,28.0,784.0,28.0 C780.0,28.0,788.0,20.0,796.0,20.0 L844.0,20.0 Q852.0,20.0,856.0,16.0 L860.0,12.0 L852.0,20.0 M868.0,20.0 M884.0,4.0 Q884.0,12.0,868.0,20.0 Q877.0,17.0,880.0,20.0 Q889.0,17.0,892.0,20.0 M908.0,20.0 M924.0,4.0 L908.0,20.0 Q917.0,17.0,920.0,20.0 Q928.0,12.0,932.0,12.0 Q936.0,12.0,928.0,20.0 Q936.0,20.0,940.0,16.0 L944.0,12.0 Q936.0,20.0,938.0,20.0 C948.0,20.0,956.0,12.0,952.0,12.0 C948.0,12.0,944.0,16.0,944.0,20.0 Q956.0,32.0,992.0,20.0 Q1001.0,17.0,1004.0,20.0 L1020.0,4.0 M1004.0,20.0 M1020.0,20.0 Q1038.0,14.0,1044.0,20.0 Q1060.0,4.0,1064.0,4.0 Q1068.0,4.0,1052.0,20.0 M1068.0,20.0 L1116.0,20.0 Q1125.0,17.0,1128.0,20.0 M1144.0,20.0 M1136.0,28.0 Q1132.0,24.0,1144.0,20.0 Q1180.0,8.0,1192.0,20.0 L1208.0,4.0 M1192.0,20.0 M1208.0,20.0 M1216.0,12.0 C1220.0,16.0,1208.0,20.0,1214.0,20.0 C1222.0,20.0,1238.0,4.0,1234.0,4.0 C1230.0,4.0,1222.0,12.0,1218.0,20.0 Q1254.0,8.0,1266.0,20.0 C1266.0,24.0,1262.0,28.0,1258.0,28.0 C1254.0,28.0,1258.0,24.0,1266.0,20.0 L1282.0,4.0 M1266.0,20.0\" stroke=\"black\" fill=\"none\" stroke-width=\"1.3333333333333333\" stroke-linecap=\"round\" stroke-linejoin=\"round\" id=\"YMAvCtWs0\" />\n",
       "</defs>\n",
       "<use xlink:href=\"#YMAvCtWs0\" x=\"0\" y=\"0\" />\n",
       "</svg>"
      ],
      "text/plain": [
       "<drawsvg.drawing.Drawing at 0x10a5f35e0>"
      ]
     },
     "metadata": {},
     "output_type": "display_data"
    }
   ],
   "source": [
    "show_grafoni_kerned(\"I knew the moment that I fell into the fissure that my book would not be destroyed as I had planned\")"
   ]
  },
  {
   "cell_type": "code",
   "execution_count": 1000,
   "metadata": {},
   "outputs": [],
   "source": [
    "def show_grafoni_kerned_wrapped(in_string,wrap = 100,shear_val=-1,line_space=20,v_scale=0.5):\n",
    "    chars = in_string\n",
    "    if isinstance(chars, str):\n",
    "        chars = process_ends(grafoni_spell(in_string))\n",
    "    print(\" \".join(chars))\n",
    "    out = [('move',0,0)]\n",
    "    last_char = \" \"\n",
    "    for l in chars:\n",
    "        if l in letter_forms:\n",
    "            l_kern,r_kern = kerning[(last_char,l)]\n",
    "            last_char = l\n",
    "            out = concat(r_extend(out,l_kern),l_extend(letter_forms[l],r_kern))\n",
    "        else:\n",
    "            print(\"error: \" + l)\n",
    "        if last_char == \" \"  and out[-1][-2] + shear_val*v_scale*out[-1][-1] > wrap:\n",
    "            out.append(('move',-shear_val*v_scale*(out[-1][-1]+line_space),out[-1][-1]+line_space))\n",
    "    return display(svgStrokes(shear(scale(out,1,v_scale),by=shear_val)))"
   ]
  },
  {
   "cell_type": "code",
   "execution_count": 1001,
   "metadata": {},
   "outputs": [
    {
     "name": "stdout",
     "output_type": "stream",
     "text": [
      "mv3 uv1   n lv1   dh mv2   m lv2 mv1 m mv2 n t-end   dh mv2 t   mv3 uv1   f uv2 l   uv1 n t lv1   dh mv2   f uv1 sh mv2 r   dh mv2 t   m mv3 uv1   b-beg mv1 k-end   lv1 mv1 d   n mv3 t   b-beg uv1 uv1   d-beg uv1 s t r lv3 uv1 d-end   uv2 z   mv3 uv1   h-beg uv3 d-end   p-beg l uv3 n d-end .   uv2 z   mv3 uv1   f uv2 l   uv1 n t lv1   dh mv2 t   s t mv3 r uv1 uv1   uv1 k s p uv3 n s\n"
     ]
    },
    {
     "data": {
      "image/svg+xml": [
       "<?xml version=\"1.0\" encoding=\"UTF-8\"?>\n",
       "<svg xmlns=\"http://www.w3.org/2000/svg\" xmlns:xlink=\"http://www.w3.org/1999/xlink\"\n",
       "     width=\"500.0\" height=\"160.0\" viewBox=\"0 0 500.0 160.0\">\n",
       "<defs>\n",
       "<path d=\"M4.0,20.0 L52.0,20.0 Q61.0,17.0,64.0,20.0 M80.0,20.0 C80.0,24.0,76.0,28.0,72.0,28.0 C68.0,28.0,72.0,24.0,80.0,20.0 Q83.0,23.0,92.0,20.0 M108.0,20.0 L92.0,36.0 L104.0,24.0 Q108.0,20.0,116.0,20.0 L140.0,20.0 M156.0,20.0 C160.0,24.0,144.0,24.0,156.0,20.0 Q162.0,26.0,180.0,20.0 L192.0,20.0 C196.0,24.0,180.0,24.0,192.0,20.0 L216.0,20.0 C224.0,20.0,216.0,28.0,212.0,28.0 C208.0,28.0,212.0,24.0,220.0,20.0 L228.0,12.0 M220.0,20.0 M236.0,20.0 L220.0,36.0 L232.0,24.0 Q236.0,20.0,244.0,20.0 L268.0,20.0 Q276.0,20.0,280.0,16.0 L284.0,12.0 L276.0,20.0 M292.0,20.0 L340.0,20.0 Q349.0,17.0,352.0,20.0 M368.0,20.0 Q372.0,24.0,360.0,28.0 C372.0,24.0,364.0,24.0,376.0,20.0 Q394.0,14.0,400.0,20.0 C408.0,16.0,420.0,4.0,416.0,4.0 C412.0,4.0,404.0,12.0,400.0,20.0 M416.0,20.0 M4.0,60.0 Q13.0,57.0,16.0,60.0 C16.0,64.0,12.0,68.0,8.0,68.0 C4.0,68.0,8.0,64.0,16.0,60.0 Q24.0,60.0,28.0,56.0 L32.0,52.0 L24.0,60.0 Q27.0,63.0,36.0,60.0 M52.0,60.0 L36.0,76.0 L48.0,64.0 Q52.0,60.0,60.0,60.0 L84.0,60.0 M100.0,60.0 Q104.0,64.0,92.0,68.0 C104.0,64.0,96.0,64.0,108.0,60.0 Q117.0,57.0,120.0,60.0 Q112.0,68.0,116.0,68.0 Q120.0,68.0,128.0,60.0 L152.0,60.0 C160.0,60.0,168.0,52.0,164.0,52.0 C160.0,52.0,156.0,56.0,156.0,60.0 M172.0,60.0 L156.0,76.0 L168.0,64.0 Q172.0,60.0,180.0,60.0 L204.0,60.0 Q212.0,60.0,216.0,56.0 L220.0,52.0 L212.0,60.0 M228.0,60.0 C232.0,64.0,216.0,64.0,228.0,60.0 L276.0,60.0 Q285.0,57.0,288.0,60.0 M304.0,60.0 M320.0,44.0 Q320.0,52.0,304.0,60.0 L316.0,60.0 Q312.0,56.0,324.0,52.0 M316.0,60.0 M332.0,60.0 Q335.0,63.0,344.0,60.0 L356.0,60.0 Q364.0,60.0,368.0,56.0 L380.0,44.0 L364.0,60.0 M380.0,60.0 C380.0,64.0,376.0,68.0,372.0,68.0 C368.0,68.0,376.0,60.0,384.0,60.0 L432.0,60.0 Q440.0,60.0,444.0,56.0 L448.0,52.0 L440.0,60.0 M456.0,60.0 M4.0,100.0 M20.0,84.0 Q20.0,92.0,4.0,100.0 Q13.0,97.0,16.0,100.0 Q25.0,97.0,28.0,100.0 M44.0,100.0 M60.0,84.0 L44.0,100.0 Q53.0,97.0,56.0,100.0 Q64.0,92.0,68.0,92.0 Q72.0,92.0,64.0,100.0 Q72.0,100.0,76.0,96.0 L80.0,92.0 Q72.0,100.0,74.0,100.0 C84.0,100.0,92.0,92.0,88.0,92.0 C84.0,92.0,80.0,96.0,80.0,100.0 Q92.0,112.0,128.0,100.0 Q137.0,97.0,140.0,100.0 L156.0,84.0 M140.0,100.0 M156.0,100.0 Q174.0,94.0,180.0,100.0 Q196.0,84.0,200.0,84.0 Q204.0,84.0,188.0,100.0 M204.0,100.0 L252.0,100.0 Q261.0,97.0,264.0,100.0 M280.0,100.0 M272.0,108.0 Q268.0,104.0,280.0,100.0 Q316.0,88.0,328.0,100.0 L344.0,84.0 M328.0,100.0 M344.0,100.0 M352.0,92.0 C356.0,96.0,344.0,100.0,350.0,100.0 C358.0,100.0,374.0,84.0,370.0,84.0 C366.0,84.0,358.0,92.0,354.0,100.0 Q390.0,88.0,402.0,100.0 C402.0,104.0,398.0,108.0,394.0,108.0 C390.0,108.0,394.0,104.0,402.0,100.0 L418.0,84.0 M402.0,100.0 M410.0,100.0 Q409.5,100.5,410.0,100.5 Q410.5,100.5,411.0,100.0 Q411.5,99.5,411.0,99.5 Q410.5,99.5,410.0,100.0 M418.0,100.0 M434.0,100.0 M4.0,140.0 Q22.0,134.0,28.0,140.0 Q44.0,124.0,48.0,124.0 Q52.0,124.0,36.0,140.0 M52.0,140.0 L100.0,140.0 Q109.0,137.0,112.0,140.0 M128.0,140.0 Q132.0,144.0,120.0,148.0 C132.0,144.0,124.0,144.0,136.0,140.0 Q154.0,134.0,160.0,140.0 C168.0,136.0,180.0,124.0,176.0,124.0 C172.0,124.0,164.0,132.0,160.0,140.0 M176.0,140.0 Q185.0,137.0,188.0,140.0 C188.0,144.0,184.0,148.0,180.0,148.0 C176.0,148.0,180.0,144.0,188.0,140.0 Q196.0,140.0,200.0,136.0 L204.0,132.0 L196.0,140.0 Q199.0,143.0,208.0,140.0 M224.0,140.0 L208.0,156.0 L220.0,144.0 Q224.0,140.0,232.0,140.0 L256.0,140.0 Q264.0,140.0,268.0,136.0 L272.0,132.0 L264.0,140.0 M280.0,140.0 Q288.0,132.0,292.0,132.0 Q296.0,132.0,288.0,140.0 Q296.0,140.0,300.0,136.0 L304.0,132.0 L296.0,140.0 L344.0,140.0 C352.0,140.0,360.0,132.0,356.0,132.0 C352.0,132.0,348.0,136.0,348.0,140.0 Q357.0,137.0,360.0,140.0 Q369.0,137.0,372.0,140.0 M388.0,140.0 Q397.0,137.0,400.0,140.0 C412.0,136.0,404.0,136.0,416.0,132.0 C404.0,136.0,408.0,140.0,410.0,140.0 C412.0,140.0,420.0,132.0,424.0,132.0 C428.0,132.0,420.0,140.0,422.0,140.0 C424.0,140.0,436.0,136.0,432.0,132.0 C436.0,136.0,428.0,136.0,432.0,140.0 Q468.0,128.0,480.0,140.0 C480.0,144.0,476.0,148.0,472.0,148.0 C468.0,148.0,472.0,144.0,480.0,140.0 Q488.0,132.0,492.0,132.0 Q496.0,132.0,488.0,140.0\" stroke=\"black\" fill=\"none\" stroke-width=\"1.3333333333333333\" stroke-linecap=\"round\" stroke-linejoin=\"round\" id=\"SrQa6huh0\" />\n",
       "</defs>\n",
       "<use xlink:href=\"#SrQa6huh0\" x=\"0\" y=\"0\" />\n",
       "</svg>"
      ],
      "text/plain": [
       "<drawsvg.drawing.Drawing at 0x109e0ea00>"
      ]
     },
     "metadata": {},
     "output_type": "display_data"
    }
   ],
   "source": [
    "show_grafoni_kerned_wrapped(\"I knew the moment that I fell into the fissure that my book would not be destroyed as I had planned. as I fell into that starry expanse\")"
   ]
  },
  {
   "cell_type": "code",
   "execution_count": 1002,
   "metadata": {},
   "outputs": [
    {
     "name": "stdout",
     "output_type": "stream",
     "text": [
      "dh uv2 r   lv1 uv1 l   k-beg mv2 m   mv2   t-beg mv3 uv1 m   lv1 uv1 n   uv1 lv1   b-beg uv1 l uv1 uv1 v-end   uv2 v r uv1 uv1 th uv1 ng   uv1 z   f uv1 n uv1 sh t-end   dh mv2 t   lv1 uv1 l   b-beg uv1 uv1   dh mv2   b-beg uv1 g uv1 n uv1 ng\n"
     ]
    },
    {
     "data": {
      "image/svg+xml": [
       "<?xml version=\"1.0\" encoding=\"UTF-8\"?>\n",
       "<svg xmlns=\"http://www.w3.org/2000/svg\" xmlns:xlink=\"http://www.w3.org/1999/xlink\"\n",
       "     width=\"492.0\" height=\"80.0\" viewBox=\"0 0 492.0 80.0\">\n",
       "<defs>\n",
       "<path d=\"M20.0,20.0 L4.0,36.0 L16.0,24.0 Q20.0,20.0,28.0,20.0 Q46.0,14.0,52.0,20.0 C60.0,16.0,64.0,12.0,60.0,12.0 C56.0,12.0,52.0,16.0,52.0,20.0 M68.0,20.0 Q71.0,23.0,80.0,20.0 Q89.0,17.0,92.0,20.0 C100.0,16.0,112.0,4.0,108.0,4.0 C104.0,4.0,96.0,12.0,92.0,20.0 M108.0,20.0 M116.0,12.0 Q104.0,16.0,108.0,20.0 L132.0,20.0 C136.0,24.0,120.0,24.0,132.0,20.0 M148.0,20.0 L172.0,20.0 M188.0,20.0 M196.0,12.0 L188.0,20.0 L236.0,20.0 Q245.0,17.0,248.0,20.0 C252.0,24.0,236.0,24.0,248.0,20.0 M264.0,20.0 Q267.0,23.0,276.0,20.0 Q285.0,17.0,288.0,20.0 C288.0,24.0,284.0,28.0,280.0,28.0 C276.0,28.0,280.0,24.0,288.0,20.0 M304.0,20.0 Q313.0,17.0,316.0,20.0 Q319.0,23.0,328.0,20.0 M344.0,20.0 M360.0,4.0 Q360.0,12.0,344.0,20.0 Q353.0,17.0,356.0,20.0 C364.0,16.0,376.0,4.0,372.0,4.0 C368.0,4.0,360.0,12.0,356.0,20.0 Q365.0,17.0,368.0,20.0 Q377.0,17.0,380.0,20.0 Q380.0,28.0,364.0,36.0 M380.0,20.0 M396.0,20.0 Q414.0,14.0,420.0,20.0 Q420.0,28.0,404.0,36.0 C420.0,28.0,416.0,24.0,428.0,20.0 C436.0,16.0,440.0,12.0,436.0,12.0 C432.0,12.0,428.0,16.0,428.0,20.0 Q437.0,17.0,440.0,20.0 Q449.0,17.0,452.0,20.0 L444.0,28.0 L448.0,24.0 Q452.0,20.0,460.0,20.0 Q469.0,17.0,472.0,20.0 C472.0,24.0,460.0,36.0,456.0,36.0 C452.0,36.0,460.0,28.0,472.0,20.0 M488.0,20.0 M20.0,60.0 Q29.0,57.0,32.0,60.0 Q48.0,44.0,52.0,44.0 Q56.0,44.0,40.0,60.0 M56.0,60.0 Q60.0,64.0,48.0,68.0 C60.0,64.0,52.0,64.0,64.0,60.0 Q73.0,57.0,76.0,60.0 C76.0,64.0,72.0,68.0,68.0,68.0 C64.0,68.0,68.0,64.0,76.0,60.0 Q85.0,57.0,88.0,60.0 Q80.0,68.0,84.0,68.0 Q88.0,68.0,96.0,60.0 L104.0,52.0 M96.0,60.0 M112.0,60.0 L96.0,76.0 L108.0,64.0 Q112.0,60.0,120.0,60.0 L144.0,60.0 Q152.0,60.0,156.0,56.0 L160.0,52.0 L152.0,60.0 M168.0,60.0 Q171.0,63.0,180.0,60.0 Q189.0,57.0,192.0,60.0 C200.0,56.0,212.0,44.0,208.0,44.0 C204.0,44.0,196.0,52.0,192.0,60.0 M208.0,60.0 M224.0,44.0 Q224.0,52.0,208.0,60.0 Q217.0,57.0,220.0,60.0 Q229.0,57.0,232.0,60.0 M248.0,60.0 L232.0,76.0 L244.0,64.0 Q248.0,60.0,256.0,60.0 L280.0,60.0 M296.0,60.0 M312.0,44.0 Q312.0,52.0,296.0,60.0 Q305.0,57.0,308.0,60.0 C320.0,56.0,316.0,52.0,332.0,44.0 Q316.0,52.0,316.0,60.0 Q325.0,57.0,328.0,60.0 C328.0,64.0,324.0,68.0,320.0,68.0 C316.0,68.0,320.0,64.0,328.0,60.0 Q337.0,57.0,340.0,60.0 C340.0,64.0,328.0,76.0,324.0,76.0 C320.0,76.0,328.0,68.0,340.0,60.0\" stroke=\"black\" fill=\"none\" stroke-width=\"1.3333333333333333\" stroke-linecap=\"round\" stroke-linejoin=\"round\" id=\"df2ZjRBY0\" />\n",
       "</defs>\n",
       "<use xlink:href=\"#df2ZjRBY0\" x=\"0\" y=\"0\" />\n",
       "</svg>"
      ],
      "text/plain": [
       "<drawsvg.drawing.Drawing at 0x109e0e790>"
      ]
     },
     "metadata": {},
     "output_type": "display_data"
    }
   ],
   "source": [
    "show_grafoni_kerned_wrapped(\"there will come a time when you believe everything is finished that will be the beginning\")"
   ]
  },
  {
   "cell_type": "code",
   "execution_count": 1003,
   "metadata": {},
   "outputs": [
    {
     "data": {
      "image/svg+xml": [
       "<?xml version=\"1.0\" encoding=\"UTF-8\"?>\n",
       "<svg xmlns=\"http://www.w3.org/2000/svg\" xmlns:xlink=\"http://www.w3.org/1999/xlink\"\n",
       "     width=\"948.0\" height=\"72\" viewBox=\"0 0 948.0 72\">\n",
       "<defs>\n",
       "<path d=\"M4,36 L4,68 M4,44 Q4,36,12,36 Q24.0,30.0,36.0,36 C44.0,28,44.0,20,40.0,20 C36.0,20,36.0,28,44.0,36 M60.0,36 Q66.0,42.0,72.0,36 Q78.0,30.0,84.0,36 C92.0,28,92.0,4,88.0,4 C84.0,4,84.0,20,92.0,36 M108.0,36 C116.0,28,108.0,28,116.0,20 Q108.0,28,116.0,36 L140.0,36 C148.0,36,148.0,44,144.0,44 C140.0,44,140.0,36,148.0,36 M164.0,36 L188.0,36 M204.0,36 Q212.0,36,212.0,28 M212.0,20 L212.0,36 L260.0,36 Q266.0,30.0,272.0,36 C280.0,36,280.0,44,276.0,44 C272.0,44,272.0,36,280.0,36 M296.0,36 Q302.0,42.0,308.0,36 Q314.0,30.0,320.0,36 C328.0,44,328.0,52,324.0,52 C320.0,52,320.0,44,328.0,36 M344.0,36 Q350.0,30.0,356.0,36 Q362.0,42.0,368.0,36 M384.0,36 Q392.0,20,384.0,4 C392.0,20,384.0,28,392.0,36 Q398.0,30.0,404.0,36 C412.0,28,412.0,4,408.0,4 C404.0,4,404.0,20,412.0,36 Q418.0,30.0,424.0,36 Q430.0,30.0,436.0,36 Q444.0,52,436.0,68 C444.0,52,436.0,44,444.0,36 M460.0,36 Q472.0,30.0,484.0,36 Q492.0,52,484.0,68 C492.0,52,484.0,44,492.0,36 C500.0,28,500.0,20,496.0,20 C492.0,20,492.0,28,500.0,36 Q506.0,30.0,512.0,36 Q518.0,30.0,524.0,36 L524.0,52 M524.0,44 Q524.0,36,532.0,36 Q538.0,30.0,544.0,36 C552.0,44,552.0,68,548.0,68 C544.0,68,544.0,52,552.0,36 M568.0,36 Q574.0,30.0,580.0,36 Q580.0,4,584.0,4 Q588.0,4,588.0,36 M604.0,36 Q612.0,44,604.0,52 C612.0,44,604.0,44,612.0,36 Q618.0,30.0,624.0,36 C632.0,44,632.0,52,628.0,52 C624.0,52,624.0,44,632.0,36 Q638.0,30.0,644.0,36 Q644.0,52,648.0,52 Q652.0,52,652.0,36 Q660.0,36,660.0,28 M660.0,20 L660.0,36 M676.0,36 L676.0,68 M676.0,44 Q676.0,36,684.0,36 L708.0,36 Q716.0,36,716.0,28 M716.0,20 L716.0,36 M732.0,36 Q738.0,42.0,744.0,36 Q750.0,30.0,756.0,36 C764.0,28,764.0,4,760.0,4 C756.0,4,756.0,20,764.0,36 M780.0,36 Q788.0,20,780.0,4 C788.0,20,780.0,28,788.0,36 Q794.0,30.0,800.0,36 Q806.0,30.0,812.0,36 M828.0,36 L828.0,68 M828.0,44 Q828.0,36,836.0,36 L860.0,36 M876.0,36 Q884.0,20,876.0,4 C884.0,20,876.0,28,884.0,36 Q890.0,30.0,896.0,36 C904.0,28,896.0,20,904.0,4 Q896.0,20,904.0,36 Q910.0,30.0,916.0,36 C924.0,44,924.0,52,920.0,52 C916.0,52,916.0,44,924.0,36 Q930.0,30.0,936.0,36 C944.0,44,944.0,68,940.0,68 C936.0,68,936.0,52,944.0,36\" stroke=\"black\" fill=\"none\" stroke-width=\"1.3333333333333333\" stroke-linecap=\"round\" stroke-linejoin=\"round\" id=\"dgkLFxSc0\" />\n",
       "</defs>\n",
       "<use xlink:href=\"#dgkLFxSc0\" x=\"0\" y=\"0\" />\n",
       "</svg>"
      ],
      "text/plain": [
       "<drawsvg.drawing.Drawing at 0x109e0e850>"
      ]
     },
     "metadata": {},
     "output_type": "display_data"
    }
   ],
   "source": [
    "show_grafoni_type(\"there will come a time when you believe everything is finished that will be the beginning\")"
   ]
  },
  {
   "cell_type": "code",
   "execution_count": 1004,
   "metadata": {},
   "outputs": [
    {
     "name": "stdout",
     "output_type": "stream",
     "text": [
      "mv3 uv1   r uv1 uv1 mv2 l mv3 uv1 z d-end ,   dh mv2   m lv2 mv1 m mv2 n t-end   mv3 uv1   f uv2 l   uv1 n t lv1   dh mv2   f uv1 sh mv2 r ,   dh mv2 t   dh mv2   b-beg mv1 k-end   lv1 mv1 d   n mv3 t   b-beg uv1 uv1   d-beg uv1 s t r lv3 uv1 d-end   uv2 z   mv3 uv1   h-beg uv3 d-end   p-beg l uv3 n d-end .   uv1 t-end   k-beg mv2 n t uv1 n uv1 lv1 d   f-beg mv3 l uv1 ng   uv1 n t lv1   dh mv2 t   s t mv3 r uv1 uv1   uv1 k s p uv3 n s   mv2 v-end   lv1 uv1 t sh   mv3 uv1   h-beg uv3 d-end   lv2 mv1 n l uv1 uv1   mv2   f-beg l uv1 uv1 t uv1 ng   g-beg l uv1 m p s .   mv3 uv1   h-beg uv3 v-end   t-beg r mv3 uv1 d-end   t-beg uv1   s p uv2 k uv1 mv2 l uv2 uv1 t-end   lv1 uv2 r   uv1 t-end   m mv3 uv1 t-end   h-beg uv3 v-end   l uv3 n d uv1 d-end ,   b-beg mv2 t   mv3 uv1   m mv2 s t-end   mv2 d m uv1 t-end ,   h-beg lv2 lv1 uv2 v uv2 r - s lv1 c h-end   k-beg mv2 n d zh uv2 k t sh mv2 r   uv1 z   f uv1 lv1 t mv2 l .   s t uv1 l ,   dh mv2   k-beg lv1 uv2 sh mv2 n   mv2 v-end   h-beg lv1 z   h-beg uv3 n z   m mv3 uv1 t-end   s mv2 m d uv2 uv1   h-beg lv2 mv1 l d-end   m mv3 uv1   m uv1 s t-end   b-beg mv1 k-end   mv2 r   mv2 n s uv2 t mv2 l uv1 ng   t-beg uv1   m uv1 uv1 .   mv3 uv1   n lv2 mv1   dh mv2 t   m mv3 uv1   uv3 p r uv1 h uv2 n sh mv2 n z   m mv3 uv1 t-end   n uv2 v mv2 r   b-beg uv1 uv1   mv2 l uv2 uv1 d-end ,   mv2 n d-end   s lv2 mv1   mv3 uv1   k-beg l lv2 mv1 z ,   r uv1 uv1 mv2 l mv3 uv1 z uv1 ng   dh mv2 t   p-beg mv2 r h uv3 p s ,   dh mv2   uv2 n d uv1 ng   h-beg mv2 z   n mv3 t   uv1 uv2 t-end   b-beg uv1 n   r uv1 t mv2 n .\n",
      "error: c\n"
     ]
    },
    {
     "data": {
      "image/svg+xml": [
       "<?xml version=\"1.0\" encoding=\"UTF-8\"?>\n",
       "<svg xmlns=\"http://www.w3.org/2000/svg\" xmlns:xlink=\"http://www.w3.org/1999/xlink\"\n",
       "     width=\"550.3094010767586\" height=\"560.0\" viewBox=\"0 0 550.3094010767586 560.0\">\n",
       "<defs>\n",
       "<path d=\"M14.30940107675849,20.0 L62.30940107675849,20.0 Q70.04145188432736,17.0,74.30940107675849,20.0 M90.30940107675849,20.0 C96.618802153517,16.0,98.9282032302755,12.0,94.9282032302755,12.0 C90.9282032302755,12.0,88.618802153517,16.0,90.30940107675849,20.0 Q98.04145188432737,17.0,102.30940107675849,20.0 Q110.04145188432737,17.0,114.30940107675849,20.0 L138.3094010767585,20.0 C146.3094010767585,20.0,155.5470053837925,4.0,151.5470053837925,4.0 C147.5470053837925,4.0,138.3094010767585,20.0,146.3094010767585,20.0 L194.3094010767585,20.0 Q202.04145188432736,17.0,206.3094010767585,20.0 Q215.5470053837925,4.0,219.5470053837925,4.0 C223.5470053837925,4.0,214.3094010767585,20.0,218.3094010767585,20.0 Q220.3094010767585,20.0,229.5470053837925,4.0 M220.3094010767585,20.0 M228.3094010767585,20.0 Q231.15470053837925,22.0,226.0,24.0 M236.3094010767585,20.0 M252.3094010767585,20.0 L243.07179676972447,36.0 L250.0,24.0 Q252.3094010767585,20.0,260.3094010767585,20.0 L284.3094010767585,20.0 M300.3094010767585,20.0 C306.0,24.0,290.0,24.0,300.3094010767585,20.0 Q308.84529946162075,26.0,324.3094010767585,20.0 L336.3094010767585,20.0 C342.0,24.0,326.0,24.0,336.3094010767585,20.0 L360.3094010767585,20.0 C368.3094010767585,20.0,363.6905989232415,28.0,359.6905989232415,28.0 C355.6905989232415,28.0,358.0,24.0,364.3094010767585,20.0 L368.92820323027547,12.0 M364.3094010767585,20.0 M380.3094010767585,20.0 L428.3094010767585,20.0 Q436.0414518843274,17.0,440.3094010767585,20.0 M456.3094010767585,20.0 M14.30940107675849,60.0 Q19.999999999999986,64.0,9.690598923241481,68.0 C19.999999999999986,64.0,11.999999999999986,64.0,22.30940107675849,60.0 Q37.77350269189624,54.0,46.30940107675849,60.0 C52.618802153516995,56.0,59.5470053837925,44.0,55.5470053837925,44.0 C51.5470053837925,44.0,46.9282032302755,52.0,46.30940107675849,60.0 M62.30940107675849,60.0 Q70.04145188432736,57.0,74.30940107675849,60.0 C75.99999999999999,64.0,73.69059892324148,68.0,69.69059892324148,68.0 C65.69059892324148,68.0,67.99999999999999,64.0,74.30940107675849,60.0 Q82.30940107675849,60.0,84.618802153517,56.0 L86.9282032302755,52.0 L82.30940107675849,60.0 Q86.57735026918961,63.0,94.30940107675849,60.0 M110.30940107675849,60.0 L101.07179676972447,76.0 L107.99999999999999,64.0 Q110.30940107675849,60.0,118.30940107675849,60.0 L142.3094010767585,60.0 M158.3094010767585,60.0 Q163.99999999999997,64.0,153.69059892324145,68.0 C163.99999999999997,64.0,155.99999999999997,64.0,166.3094010767585,60.0 Q174.04145188432736,57.0,178.3094010767585,60.0 Q173.69059892324145,68.0,177.69059892324145,68.0 Q181.69059892324145,68.0,186.3094010767585,60.0 L210.3094010767585,60.0 C218.3094010767585,60.0,222.92820323027547,52.0,218.92820323027547,52.0 C214.92820323027547,52.0,212.61880215351698,56.0,214.3094010767585,60.0 M222.3094010767585,60.0 Q225.15470053837922,62.0,219.99999999999997,64.0 M230.3094010767585,60.0 M246.3094010767585,60.0 L237.07179676972447,76.0 L243.99999999999997,64.0 Q246.3094010767585,60.0,254.3094010767585,60.0 L278.3094010767585,60.0 Q286.3094010767585,60.0,288.618802153517,56.0 L290.92820323027547,52.0 L286.3094010767585,60.0 M302.3094010767585,60.0 L293.0717967697245,76.0 L300.0,64.0 Q302.3094010767585,60.0,310.3094010767585,60.0 L334.3094010767585,60.0 M350.3094010767585,60.0 M359.5470053837925,44.0 Q362.92820323027547,52.0,350.3094010767585,60.0 L362.3094010767585,60.0 Q356.618802153517,56.0,366.92820323027547,52.0 M362.3094010767585,60.0 M378.3094010767585,60.0 Q382.5773502691896,63.0,390.3094010767585,60.0 L402.3094010767585,60.0 Q410.3094010767585,60.0,412.618802153517,56.0 L419.5470053837925,44.0 L410.3094010767585,60.0 M426.3094010767585,60.0 C428.0,64.0,425.69059892324145,68.0,421.69059892324145,68.0 C417.69059892324145,68.0,422.3094010767585,60.0,430.3094010767585,60.0 L478.3094010767585,60.0 Q486.3094010767585,60.0,488.618802153517,56.0 L490.92820323027547,52.0 L486.3094010767585,60.0 M502.3094010767585,60.0 M14.30940107675849,100.0 M23.547005383792502,84.0 Q26.928203230275493,92.0,14.30940107675849,100.0 Q22.041451884327365,97.0,26.30940107675849,100.0 Q34.041451884327365,97.0,38.30940107675849,100.0 M54.30940107675849,100.0 M63.5470053837925,84.0 L54.30940107675849,100.0 Q62.041451884327365,97.0,66.30940107675849,100.0 Q70.9282032302755,92.0,74.9282032302755,92.0 Q78.9282032302755,92.0,74.30940107675849,100.0 Q82.30940107675849,100.0,84.618802153517,96.0 L86.9282032302755,92.0 Q82.30940107675849,100.0,84.30940107675849,100.0 C94.30940107675849,100.0,98.9282032302755,92.0,94.9282032302755,92.0 C90.9282032302755,92.0,88.618802153517,96.0,90.30940107675849,100.0 Q107.38119784648298,112.0,138.3094010767585,100.0 Q146.04145188432736,97.0,150.3094010767585,100.0 L159.5470053837925,84.0 M150.3094010767585,100.0 M166.3094010767585,100.0 Q181.77350269189623,94.0,190.3094010767585,100.0 Q199.5470053837925,84.0,203.5470053837925,84.0 Q207.5470053837925,84.0,198.3094010767585,100.0 M214.3094010767585,100.0 L262.3094010767585,100.0 Q270.04145188432733,97.0,274.3094010767585,100.0 M290.3094010767585,100.0 M285.69059892324145,108.0 Q279.99999999999994,104.0,290.3094010767585,100.0 Q321.23760430703396,88.0,338.3094010767585,100.0 L347.54700538379245,84.0 M338.3094010767585,100.0 M354.3094010767585,100.0 M358.92820323027547,92.0 C364.618802153517,96.0,354.3094010767585,100.0,360.3094010767585,100.0 C368.3094010767585,100.0,377.54700538379245,84.0,373.54700538379245,84.0 C369.54700538379245,84.0,364.92820323027547,92.0,364.3094010767585,100.0 Q395.23760430703396,88.0,412.3094010767585,100.0 C413.99999999999994,104.0,411.69059892324145,108.0,407.69059892324145,108.0 C403.69059892324145,108.0,405.99999999999994,104.0,412.3094010767585,100.0 L421.54700538379245,84.0 M412.3094010767585,100.0 M420.3094010767585,100.0 Q420.02072594216366,100.5,420.52072594216366,100.5 Q421.02072594216366,100.5,421.3094010767585,100.0 Q421.59807621135326,99.5,421.09807621135326,99.5 Q420.59807621135326,99.5,420.3094010767585,100.0 M428.3094010767585,100.0 M444.3094010767585,100.0 M14.30940107675849,140.0 Q22.04145188432736,137.0,26.30940107675849,140.0 L30.9282032302755,132.0 M26.30940107675849,140.0 M42.30940107675849,140.0 M46.9282032302755,132.0 Q36.618802153516995,136.0,42.30940107675849,140.0 L66.30940107675849,140.0 C74.3094010767585,140.0,69.6905989232415,148.0,65.69059892324148,148.0 C61.69059892324148,148.0,63.999999999999986,144.0,70.30940107675849,140.0 Q78.3094010767585,140.0,80.61880215351701,136.0 L82.92820323027551,132.0 L78.3094010767585,140.0 Q86.04145188432737,137.0,90.3094010767585,140.0 C92.0,144.0,89.6905989232415,148.0,85.6905989232415,148.0 C81.6905989232415,148.0,84.0,144.0,90.3094010767585,140.0 Q98.04145188432737,137.0,102.3094010767585,140.0 Q106.57735026918962,143.0,114.3094010767585,140.0 Q122.3094010767585,140.0,124.61880215351701,136.0 L131.5470053837925,124.0 L122.3094010767585,140.0 M138.3094010767585,140.0 M133.6905989232415,148.0 Q144.0,144.0,138.3094010767585,140.0 L186.3094010767585,140.0 C194.3094010767585,140.0,203.5470053837925,124.0,199.5470053837925,124.0 C195.5470053837925,124.0,190.92820323027553,132.0,190.3094010767585,140.0 Q198.0414518843274,137.0,202.3094010767585,140.0 C204.0,144.0,197.07179676972447,156.0,193.07179676972447,156.0 C189.07179676972447,156.0,193.6905989232415,148.0,202.3094010767585,140.0 M218.3094010767585,140.0 Q226.0414518843274,137.0,230.3094010767585,140.0 C232.0,144.0,229.6905989232415,148.0,225.6905989232415,148.0 C221.6905989232415,148.0,224.0,144.0,230.3094010767585,140.0 Q238.3094010767585,140.0,240.618802153517,136.0 L242.92820323027553,132.0 L238.3094010767585,140.0 Q242.57735026918962,143.0,250.3094010767585,140.0 M266.3094010767585,140.0 L257.0717967697245,156.0 L264.0,144.0 Q266.3094010767585,140.0,274.3094010767585,140.0 L298.3094010767585,140.0 Q306.3094010767585,140.0,308.618802153517,136.0 L310.9282032302755,132.0 L306.3094010767585,140.0 M322.3094010767585,140.0 Q326.9282032302755,132.0,330.9282032302755,132.0 Q334.9282032302755,132.0,330.3094010767585,140.0 Q338.3094010767585,140.0,340.618802153517,136.0 L342.9282032302755,132.0 L338.3094010767585,140.0 L386.3094010767585,140.0 C394.3094010767585,140.0,398.9282032302755,132.0,394.9282032302755,132.0 C390.9282032302755,132.0,388.618802153517,136.0,390.3094010767585,140.0 Q398.0414518843274,137.0,402.3094010767585,140.0 Q410.0414518843274,137.0,414.3094010767585,140.0 M430.3094010767585,140.0 Q438.0414518843274,137.0,442.3094010767585,140.0 C452.618802153517,136.0,444.618802153517,136.0,454.9282032302755,132.0 C444.618802153517,136.0,450.3094010767585,140.0,452.3094010767585,140.0 C454.3094010767585,140.0,458.9282032302755,132.0,462.9282032302756,132.0 C466.9282032302756,132.0,462.30940107675855,140.0,464.30940107675855,140.0 C466.30940107675855,140.0,476.6188021535171,136.0,470.9282032302756,132.0 C476.6188021535171,136.0,468.6188021535171,136.0,474.30940107675855,140.0 Q505.2376043070341,128.0,522.3094010767586,140.0 C524.0,144.0,521.6905989232416,148.0,517.6905989232416,148.0 C513.6905989232416,148.0,516.0,144.0,522.3094010767586,140.0 Q526.9282032302756,132.0,530.9282032302756,132.0 Q534.9282032302756,132.0,530.3094010767586,140.0 M546.3094010767586,140.0 M14.30940107675849,180.0 L38.30940107675849,180.0 Q41.69059892324148,188.0,29.07179676972447,196.0 M38.30940107675849,180.0 M54.30940107675849,180.0 Q58.57735026918961,183.0,66.30940107675849,180.0 Q74.04145188432736,177.0,78.30940107675849,180.0 Q86.30940107675849,180.0,88.618802153517,176.0 L90.9282032302755,172.0 L86.30940107675849,180.0 Q81.69059892324148,188.0,85.69059892324148,188.0 Q89.69059892324148,188.0,94.30940107675849,180.0 M110.30940107675849,180.0 L158.3094010767585,180.0 Q166.04145188432736,177.0,170.3094010767585,180.0 M186.3094010767585,180.0 M181.69059892324148,188.0 Q176.0,184.0,186.3094010767585,180.0 Q217.237604307034,168.0,234.3094010767585,180.0 L243.5470053837925,164.0 M234.3094010767585,180.0 M250.3094010767585,180.0 Q258.8452994616207,186.0,274.3094010767585,180.0 L286.3094010767585,180.0 C294.3094010767585,180.0,289.6905989232415,188.0,285.6905989232415,188.0 C281.6905989232415,188.0,286.3094010767585,180.0,292.3094010767585,180.0 C298.3094010767585,180.0,307.5470053837925,164.0,303.5470053837925,164.0 C299.5470053837925,164.0,294.92820323027547,172.0,294.3094010767585,180.0 Q302.04145188432733,177.0,306.3094010767585,180.0 Q314.04145188432733,177.0,318.3094010767585,180.0 M334.3094010767585,180.0 L358.3094010767585,180.0 M374.3094010767585,180.0 M369.6905989232415,188.0 Q380.0,184.0,374.3094010767585,180.0 C380.618802153517,176.0,387.5470053837925,164.0,383.5470053837925,164.0 C379.5470053837925,164.0,374.92820323027547,172.0,374.3094010767585,180.0 Q382.04145188432733,177.0,386.3094010767585,180.0 Q394.04145188432733,177.0,398.3094010767585,180.0 Q406.3094010767585,180.0,408.618802153517,176.0 L410.92820323027547,172.0 L406.3094010767585,180.0 Q414.04145188432733,177.0,418.3094010767585,180.0 C420.0,184.0,413.0717967697245,196.0,409.0717967697245,196.0 C405.0717967697245,196.0,409.6905989232415,188.0,418.3094010767585,180.0 M434.30940107675843,180.0 M443.54700538379245,164.0 C430.92820323027547,172.0,434.30940107675843,180.0,438.30940107675843,180.0 C446.30940107675843,180.0,455.54700538379245,164.0,451.54700538379245,164.0 C447.54700538379245,164.0,442.92820323027547,172.0,442.30940107675843,180.0 Q450.04145188432733,177.0,454.30940107675843,180.0 C459.99999999999994,184.0,443.99999999999994,184.0,454.30940107675843,180.0 Q464.6188021535169,176.0,458.92820323027547,172.0 C464.6188021535169,176.0,456.6188021535169,176.0,462.30940107675843,180.0 Q466.92820323027547,172.0,470.92820323027547,172.0 Q474.92820323027547,172.0,470.30940107675843,180.0 M478.30940107675843,180.0 Q478.0207259421636,180.5,478.5207259421636,180.5 Q479.0207259421636,180.5,479.30940107675843,180.0 Q479.59807621135326,179.5,479.09807621135326,179.5 Q478.59807621135326,179.5,478.30940107675843,180.0 M486.30940107675843,180.0 M502.30940107675843,180.0 M14.30940107675849,220.0 L62.309401076758476,220.0 Q70.04145188432734,217.0,74.30940107675848,220.0 M90.30940107675848,220.0 M85.69059892324147,228.0 Q79.99999999999997,224.0,90.30940107675848,220.0 Q121.23760430703398,208.0,138.3094010767585,220.0 Q141.69059892324145,228.0,129.07179676972447,236.0 M138.3094010767585,220.0 M154.3094010767585,220.0 M158.92820323027547,212.0 Q154.3094010767585,220.0,156.3094010767585,220.0 C166.3094010767585,220.0,170.92820323027547,212.0,166.92820323027547,212.0 C162.92820323027547,212.0,158.3094010767585,220.0,166.3094010767585,220.0 L214.3094010767585,220.0 Q222.04145188432733,217.0,226.3094010767585,220.0 L235.54700538379248,204.0 M226.3094010767585,220.0 M242.3094010767585,220.0 M246.92820323027547,212.0 L242.3094010767585,220.0 Q250.04145188432733,217.0,254.3094010767585,220.0 M270.3094010767585,220.0 Q274.92820323027547,212.0,278.92820323027547,212.0 C282.92820323027547,212.0,278.3094010767585,220.0,280.3094010767585,220.0 C282.3094010767585,220.0,292.618802153517,216.0,286.92820323027547,212.0 C292.618802153517,216.0,284.618802153517,216.0,290.3094010767585,220.0 Q305.7735026918962,214.0,314.3094010767585,220.0 C324.618802153517,216.0,316.618802153517,216.0,326.92820323027547,212.0 Q316.618802153517,216.0,322.3094010767585,220.0 Q330.04145188432733,217.0,334.3094010767585,220.0 L358.3094010767585,220.0 C366.3094010767585,220.0,375.54700538379245,204.0,371.54700538379245,204.0 C367.54700538379245,204.0,362.92820323027547,212.0,362.3094010767585,220.0 Q377.7735026918962,214.0,386.3094010767585,220.0 Q394.04145188432733,217.0,398.3094010767585,220.0 L402.92820323027547,212.0 M398.3094010767585,220.0 M414.30940107675855,220.0 Q418.57735026918965,223.0,426.30940107675855,220.0 Q441.7735026918963,214.0,450.30940107675855,220.0 C456.61880215351704,216.0,458.9282032302755,212.0,454.9282032302755,212.0 C450.9282032302755,212.0,448.61880215351704,216.0,450.30940107675855,220.0 M466.30940107675855,220.0 M14.30940107675849,260.0 Q22.04145188432736,257.0,26.30940107675849,260.0 L30.9282032302755,252.0 M26.30940107675849,260.0 M42.30940107675849,260.0 C47.99999999999997,264.0,31.99999999999997,264.0,42.30940107675849,260.0 L90.30940107675849,260.0 Q98.04145188432736,257.0,102.30940107675849,260.0 L106.9282032302755,252.0 M102.30940107675849,260.0 M118.30940107675849,260.0 M113.69059892324148,268.0 Q107.99999999999997,264.0,118.30940107675849,260.0 Q149.23760430703402,248.0,166.30940107675852,260.0 Q169.6905989232415,268.0,157.0717967697245,276.0 M166.30940107675852,260.0 M182.30940107675852,260.0 C188.618802153517,256.0,195.54700538379254,244.0,191.54700538379254,244.0 C187.54700538379254,244.0,182.92820323027553,252.0,182.30940107675852,260.0 Q213.23760430703402,248.0,230.30940107675852,260.0 C232.0,264.0,229.6905989232415,268.0,225.6905989232415,268.0 C221.6905989232415,268.0,224.0,264.0,230.30940107675852,260.0 Q238.30940107675852,260.0,240.618802153517,256.0 L247.54700538379254,244.0 L238.30940107675852,260.0 Q246.0414518843274,257.0,250.30940107675852,260.0 L259.54700538379257,244.0 M250.30940107675852,260.0 M258.3094010767585,260.0 Q261.1547005383793,262.0,256.0,264.0 M266.3094010767585,260.0 M282.3094010767585,260.0 M291.54700538379257,244.0 Q294.9282032302755,252.0,282.3094010767585,260.0 L306.3094010767585,260.0 Q314.3094010767585,260.0,316.618802153517,256.0 L318.9282032302755,252.0 L314.3094010767585,260.0 M330.3094010767585,260.0 L378.3094010767585,260.0 Q386.0414518843274,257.0,390.3094010767585,260.0 M406.3094010767585,260.0 C412.0,264.0,396.0,264.0,406.3094010767585,260.0 L430.3094010767585,260.0 Q434.9282032302755,252.0,438.9282032302755,252.0 C442.9282032302755,252.0,438.3094010767585,260.0,442.3094010767585,260.0 Q444.3094010767585,260.0,448.9282032302755,252.0 M444.3094010767585,260.0 M460.3094010767585,260.0 M14.30940107675849,300.0 L38.30940107675849,300.0 Q46.30940107675849,300.0,48.61880215351701,296.0 L55.54700538379251,284.0 L46.30940107675849,300.0 C52.0,304.0,36.0,304.0,46.30940107675849,300.0 Q54.04145188432739,297.0,58.30940107675849,300.0 L62.9282032302755,292.0 M58.30940107675849,300.0 M66.30940107675849,300.0 Q69.15470053837925,302.0,64.0,304.0 M74.30940107675849,300.0 M90.30940107675849,300.0 M85.69059892324148,308.0 Q80.0,304.0,90.30940107675849,300.0 Q98.84529946162075,306.0,114.30940107675849,300.0 Q118.57735026918962,303.0,126.30940107675849,300.0 Q141.77350269189625,294.0,150.3094010767585,300.0 Q153.69059892324148,308.0,141.07179676972447,316.0 C153.69059892324148,308.0,148.0,304.0,158.3094010767585,300.0 Q173.77350269189625,294.0,182.3094010767585,300.0 C188.618802153517,296.0,190.9282032302755,292.0,186.9282032302755,292.0 C182.9282032302755,292.0,180.618802153517,296.0,182.3094010767585,300.0 M191.46410161513776,298.0 L193.15470053837925,302.0 M202.3094010767585,300.0 Q206.9282032302755,292.0,210.9282032302755,292.0 Q214.9282032302755,292.0,210.3094010767585,300.0 Q214.57735026918962,303.0,222.3094010767585,300.0 Q212.0,304.0,217.69059892324148,308.0 M222.3094010767585,300.0 M238.3094010767585,300.0 M242.9282032302755,292.0 Q232.618802153517,296.0,238.3094010767585,300.0 L262.3094010767585,300.0 C270.3094010767585,300.0,265.6905989232415,308.0,261.6905989232415,308.0 C257.6905989232415,308.0,260.0,304.0,266.3094010767585,300.0 Q274.3094010767585,300.0,276.618802153517,296.0 L283.5470053837925,284.0 L274.3094010767585,300.0 Q265.0717967697245,316.0,269.0717967697245,316.0 Q273.0717967697245,316.0,282.3094010767585,300.0 Q297.7735026918963,294.0,306.3094010767585,300.0 C316.618802153517,296.0,308.618802153517,296.0,318.92820323027547,292.0 Q308.618802153517,296.0,314.3094010767585,300.0 Q322.3094010767585,300.0,324.618802153517,296.0 L326.92820323027547,292.0 L322.3094010767585,300.0 Q317.6905989232415,308.0,321.6905989232415,308.0 Q325.6905989232415,308.0,330.3094010767585,300.0 L354.3094010767585,300.0 C362.3094010767585,300.0,366.92820323027547,292.0,362.92820323027547,292.0 C358.92820323027547,292.0,356.618802153517,296.0,358.3094010767585,300.0 M374.3094010767585,300.0 Q382.0414518843274,297.0,386.3094010767585,300.0 Q395.5470053837925,284.0,399.5470053837925,284.0 Q403.5470053837925,284.0,394.3094010767585,300.0 M410.3094010767585,300.0 Q416.0,304.0,405.6905989232415,308.0 C416.0,304.0,408.0,304.0,418.3094010767585,300.0 Q426.0414518843274,297.0,430.3094010767585,300.0 Q434.57735026918965,303.0,442.3094010767585,300.0 Q450.3094010767585,300.0,452.618802153517,296.0 L454.92820323027547,292.0 L450.3094010767585,300.0 L474.3094010767585,300.0 C482.3094010767585,300.0,491.5470053837925,284.0,487.5470053837925,284.0 C483.5470053837925,284.0,478.92820323027547,292.0,478.3094010767585,300.0 M486.3094010767585,300.0 Q486.0207259421637,300.5,486.5207259421637,300.5 Q487.0207259421637,300.5,487.3094010767585,300.0 Q487.5980762113533,299.5,487.0980762113533,299.5 Q486.5980762113533,299.5,486.3094010767585,300.0 M494.3094010767585,300.0 M510.3094010767585,300.0 M14.30940107675849,340.0 Q18.9282032302755,332.0,22.9282032302755,332.0 Q26.9282032302755,332.0,22.30940107675849,340.0 Q30.30940107675849,340.0,32.61880215351698,336.0 L34.9282032302755,332.0 L30.30940107675849,340.0 Q38.04145188432736,337.0,42.30940107675849,340.0 C48.61880215351698,336.0,55.54700538379251,324.0,51.54700538379251,324.0 C47.54700538379251,324.0,42.9282032302755,332.0,42.30940107675849,340.0 M50.30940107675849,340.0 Q53.154700538379245,342.0,47.99999999999997,344.0 M58.30940107675849,340.0 M74.30940107675849,340.0 L65.07179676972447,356.0 L71.99999999999997,344.0 Q74.30940107675849,340.0,82.30940107675849,340.0 L106.30940107675849,340.0 M122.30940107675849,340.0 M126.9282032302755,332.0 Q116.61880215351698,336.0,122.30940107675849,340.0 Q126.5773502691896,343.0,134.3094010767585,340.0 Q149.77350269189623,334.0,158.3094010767585,340.0 Q153.69059892324148,348.0,157.69059892324148,348.0 Q161.69059892324148,348.0,166.3094010767585,340.0 L190.3094010767585,340.0 C198.3094010767585,340.0,193.69059892324148,348.0,189.69059892324148,348.0 C185.69059892324148,348.0,187.99999999999997,344.0,194.3094010767585,340.0 M210.3094010767585,340.0 L234.3094010767585,340.0 Q237.69059892324148,348.0,225.07179676972447,356.0 M234.3094010767585,340.0 M250.3094010767585,340.0 M245.69059892324148,348.0 Q239.99999999999997,344.0,250.3094010767585,340.0 Q254.5773502691896,343.0,262.3094010767585,340.0 Q271.5470053837925,324.0,275.5470053837925,324.0 Q279.5470053837925,324.0,270.3094010767585,340.0 M286.3094010767585,340.0 M281.6905989232415,348.0 Q276.0,344.0,286.3094010767585,340.0 Q317.23760430703396,328.0,334.3094010767585,340.0 C336.0,344.0,333.6905989232415,348.0,329.6905989232415,348.0 C325.6905989232415,348.0,328.0,344.0,334.3094010767585,340.0 Q343.5470053837925,324.0,347.5470053837925,324.0 Q351.5470053837925,324.0,342.3094010767585,340.0 M358.3094010767585,340.0 C364.0,344.0,348.0,344.0,358.3094010767585,340.0 L406.3094010767585,340.0 Q414.04145188432733,337.0,418.3094010767585,340.0 L422.92820323027547,332.0 M418.3094010767585,340.0 M434.3094010767585,340.0 Q438.92820323027547,332.0,442.92820323027547,332.0 Q446.92820323027547,332.0,442.3094010767585,340.0 L466.3094010767585,340.0 C472.0,344.0,456.0,344.0,466.3094010767585,340.0 Q474.3094010767585,340.0,476.618802153517,336.0 L483.5470053837925,324.0 L474.3094010767585,340.0 Q489.7735026918962,334.0,498.3094010767585,340.0 Q506.04145188432733,337.0,510.3094010767585,340.0 M526.3094010767585,340.0 M14.30940107675849,380.0 M9.690598923241481,388.0 Q4.0,384.0,14.30940107675849,380.0 Q22.845299461620755,386.0,38.30940107675849,380.0 L50.30940107675849,380.0 C58.30940107675849,380.0,67.54700538379251,364.0,63.54700538379251,364.0 C59.54700538379251,364.0,50.30940107675849,380.0,58.30940107675849,380.0 Q60.30940107675849,380.0,69.54700538379251,364.0 M60.30940107675849,380.0 M76.30940107675846,380.0 C81.99999999999997,384.0,65.99999999999997,384.0,76.30940107675846,380.0 L124.30940107675846,380.0 Q132.04145188432736,377.0,136.30940107675846,380.0 M152.30940107675846,380.0 C157.99999999999997,384.0,141.99999999999997,384.0,152.30940107675846,380.0 Q160.04145188432736,377.0,164.30940107675846,380.0 Q168.92820323027547,372.0,172.92820323027547,372.0 C176.92820323027547,372.0,172.30940107675846,380.0,176.30940107675846,380.0 Q178.30940107675846,380.0,182.92820323027547,372.0 M178.30940107675846,380.0 M194.30940107675846,380.0 M203.54700538379248,364.0 Q206.92820323027547,372.0,194.30940107675846,380.0 L206.30940107675846,380.0 Q200.61880215351698,376.0,210.92820323027547,372.0 M206.30940107675846,380.0 M222.30940107675846,380.0 L246.30940107675846,380.0 C254.30940107675846,380.0,258.92820323027547,372.0,254.92820323027547,372.0 C250.92820323027547,372.0,248.61880215351698,376.0,250.30940107675846,380.0 M266.3094010767585,380.0 L290.3094010767585,380.0 C298.3094010767585,380.0,293.69059892324145,388.0,289.69059892324145,388.0 C285.69059892324145,388.0,288.0,384.0,294.3094010767585,380.0 Q298.92820323027547,372.0,302.92820323027547,372.0 Q306.92820323027547,372.0,302.3094010767585,380.0 Q317.7735026918962,374.0,326.3094010767585,380.0 Q334.3094010767585,380.0,336.618802153517,376.0 L338.92820323027547,372.0 L334.3094010767585,380.0 L358.3094010767585,380.0 C366.3094010767585,380.0,375.54700538379245,364.0,371.54700538379245,364.0 C367.54700538379245,364.0,362.92820323027547,372.0,362.3094010767585,380.0 Q370.04145188432733,377.0,374.3094010767585,380.0 C376.0,384.0,369.0717967697244,396.0,365.0717967697244,396.0 C361.0717967697244,396.0,365.69059892324145,388.0,374.3094010767585,380.0 M390.3094010767585,380.0 M394.92820323027547,372.0 L390.3094010767585,380.0 Q398.04145188432733,377.0,402.3094010767585,380.0 M418.3094010767585,380.0 C424.0,384.0,408.0,384.0,418.3094010767585,380.0 Q426.04145188432733,377.0,430.3094010767585,380.0 Q438.04145188432733,377.0,442.3094010767585,380.0 M450.3094010767585,380.0 Q450.02072594216366,380.5,450.52072594216366,380.5 Q451.02072594216366,380.5,451.3094010767585,380.0 Q451.59807621135326,379.5,451.09807621135326,379.5 Q450.59807621135326,379.5,450.3094010767585,380.0 M458.3094010767585,380.0 M474.3094010767585,380.0 M14.30940107675849,420.0 L62.30940107675846,420.0 Q70.04145188432733,417.0,74.30940107675846,420.0 M90.30940107675846,420.0 C91.99999999999994,424.0,89.69059892324145,428.0,85.69059892324145,428.0 C81.69059892324145,428.0,83.99999999999994,424.0,90.30940107675846,420.0 Q98.8452994616207,426.0,114.30940107675846,420.0 L126.30940107675846,420.0 M142.30940107675846,420.0 L133.07179676972444,436.0 L139.99999999999994,424.0 Q142.30940107675846,420.0,150.30940107675846,420.0 L174.30940107675846,420.0 Q182.30940107675846,420.0,184.61880215351695,416.0 L186.92820323027547,412.0 L182.30940107675846,420.0 M198.30940107675846,420.0 C203.99999999999994,424.0,187.99999999999994,424.0,198.30940107675846,420.0 L246.30940107675846,420.0 Q254.04145188432733,417.0,258.3094010767585,420.0 M274.3094010767585,420.0 Q305.23760430703396,408.0,322.3094010767585,420.0 Q332.618802153517,416.0,326.92820323027547,412.0 C332.618802153517,416.0,322.3094010767585,420.0,332.3094010767585,420.0 C340.3094010767585,420.0,344.92820323027547,412.0,340.92820323027547,412.0 C336.92820323027547,412.0,334.618802153517,416.0,336.3094010767585,420.0 Q344.04145188432733,417.0,348.3094010767585,420.0 C353.99999999999994,424.0,345.99999999999994,424.0,351.69059892324145,428.0 Q345.99999999999994,424.0,356.3094010767585,420.0 Q371.77350269189617,414.0,380.3094010767585,420.0 C381.99999999999994,424.0,379.69059892324145,428.0,375.69059892324145,428.0 C371.69059892324145,428.0,376.3094010767585,420.0,384.3094010767585,420.0 C388.3094010767585,420.0,383.69059892324145,428.0,387.69059892324145,428.0 Q391.69059892324145,428.0,396.3094010767585,420.0 L420.3094010767585,420.0 C428.3094010767585,420.0,423.69059892324145,428.0,419.69059892324145,428.0 C415.69059892324145,428.0,417.99999999999994,424.0,424.3094010767585,420.0 Q433.54700538379245,404.0,437.54700538379245,404.0 Q441.54700538379245,404.0,432.3094010767585,420.0 M448.3094010767585,420.0 M14.30940107675849,460.0 C20.0,464.0,4.0,464.0,14.30940107675849,460.0 L62.30940107675849,460.0 Q70.04145188432736,457.0,74.30940107675849,460.0 L78.9282032302755,452.0 M74.30940107675849,460.0 M90.30940107675849,460.0 C92.0,464.0,89.69059892324151,468.0,85.69059892324151,468.0 C81.69059892324151,468.0,84.0,464.0,90.30940107675849,460.0 Q105.77350269189625,454.0,114.30940107675849,460.0 Q117.69059892324151,468.0,105.07179676972447,476.0 C117.69059892324151,468.0,112.0,464.0,122.30940107675849,460.0 L146.3094010767585,460.0 C154.3094010767585,460.0,158.9282032302755,452.0,154.9282032302755,452.0 C150.9282032302755,452.0,148.618802153517,456.0,150.3094010767585,460.0 M166.3094010767585,460.0 M175.5470053837925,444.0 Q178.9282032302755,452.0,166.3094010767585,460.0 Q174.04145188432736,457.0,178.3094010767585,460.0 Q186.04145188432736,457.0,190.3094010767585,460.0 M206.3094010767585,460.0 L230.3094010767585,460.0 C238.3094010767585,460.0,247.5470053837925,444.0,243.5470053837925,444.0 C239.5470053837925,444.0,234.9282032302755,452.0,234.3094010767585,460.0 Q249.77350269189625,454.0,258.3094010767585,460.0 Q266.04145188432733,457.0,270.3094010767585,460.0 L279.5470053837925,444.0 M270.3094010767585,460.0 M278.30940107675843,460.0 Q281.1547005383792,462.0,275.99999999999994,464.0 M286.30940107675843,460.0 M302.30940107675843,460.0 L326.30940107675843,460.0 C334.30940107675843,460.0,329.69059892324145,468.0,325.69059892324145,468.0 C321.69059892324145,468.0,323.99999999999994,464.0,330.30940107675843,460.0 L339.54700538379245,444.0 M330.30940107675843,460.0 M346.30940107675843,460.0 Q350.92820323027547,452.0,354.92820323027547,452.0 Q358.92820323027547,452.0,354.30940107675843,460.0 Q362.8452994616207,466.0,378.30940107675843,460.0 L390.30940107675843,460.0 M406.30940107675843,460.0 L454.30940107675843,460.0 Q462.04145188432733,457.0,466.30940107675843,460.0 M482.30940107675843,460.0 M14.30940107675849,500.0 M18.92820323027547,492.0 C8.618802153516981,496.0,14.30940107675849,500.0,18.30940107675849,500.0 C26.30940107675849,500.0,35.54700538379251,484.0,31.54700538379251,484.0 C27.54700538379251,484.0,22.92820323027547,492.0,22.30940107675849,500.0 Q30.845299461620698,506.0,46.30940107675849,500.0 L58.30940107675849,500.0 Q67.54700538379251,484.0,71.54700538379251,484.0 Q75.54700538379251,484.0,66.30940107675849,500.0 M74.30940107675849,500.0 Q77.15470053837925,502.0,72.0,504.0 M82.30940107675849,500.0 M98.30940107675849,500.0 C104.61880215351698,496.0,106.92820323027547,492.0,102.92820323027547,492.0 C98.92820323027547,492.0,96.61880215351698,496.0,98.30940107675849,500.0 Q106.04145188432733,497.0,110.30940107675849,500.0 Q118.04145188432733,497.0,122.30940107675849,500.0 L146.3094010767585,500.0 C154.3094010767585,500.0,163.5470053837925,484.0,159.5470053837925,484.0 C155.5470053837925,484.0,146.3094010767585,500.0,154.3094010767585,500.0 L202.3094010767585,500.0 Q210.04145188432733,497.0,214.3094010767585,500.0 Q223.5470053837925,484.0,227.5470053837925,484.0 Q231.5470053837925,484.0,222.3094010767585,500.0 Q230.04145188432733,497.0,234.3094010767585,500.0 C236.0,504.0,229.07179676972447,516.0,225.07179676972447,516.0 C221.07179676972447,516.0,225.69059892324145,508.0,234.3094010767585,500.0 M250.30940107675855,500.0 L241.07179676972453,516.0 L248.00000000000006,504.0 Q250.30940107675855,500.0,258.30940107675855,500.0 L282.30940107675855,500.0 Q290.30940107675855,500.0,292.61880215351704,496.0 L294.9282032302755,492.0 L290.30940107675855,500.0 M306.30940107675855,500.0 M310.9282032302755,492.0 Q316.61880215351704,496.0,306.30940107675855,500.0 L330.30940107675855,500.0 C338.30940107675855,500.0,342.9282032302755,492.0,338.9282032302755,492.0 C334.9282032302755,492.0,332.61880215351704,496.0,334.30940107675855,500.0 C340.00000000000006,504.0,332.00000000000006,504.0,337.6905989232415,508.0 Q332.00000000000006,504.0,342.30940107675855,500.0 Q373.237604307034,488.0,390.30940107675855,500.0 Q400.61880215351704,496.0,394.9282032302755,492.0 C400.61880215351704,496.0,392.61880215351704,496.0,398.30940107675855,500.0 Q402.9282032302755,492.0,406.9282032302755,492.0 Q410.9282032302755,492.0,406.30940107675855,500.0 M414.30940107675855,500.0 Q417.1547005383793,502.0,412.00000000000006,504.0 M422.30940107675855,500.0 M438.30940107675855,500.0 M14.30940107675849,540.0 L5.071796769724472,556.0 L11.999999999999943,544.0 Q14.30940107675849,540.0,22.30940107675849,540.0 L46.30940107675849,540.0 M62.30940107675849,540.0 Q77.77350269189623,534.0,86.30940107675849,540.0 C87.99999999999994,544.0,85.69059892324145,548.0,81.69059892324145,548.0 C77.69059892324145,548.0,79.99999999999994,544.0,86.30940107675849,540.0 Q94.30940107675849,540.0,96.61880215351698,536.0 L103.54700538379245,524.0 L94.30940107675849,540.0 Q102.04145188432733,537.0,106.30940107675849,540.0 C107.99999999999994,544.0,101.07179676972447,556.0,97.07179676972447,556.0 C93.07179676972447,556.0,97.69059892324145,548.0,106.30940107675849,540.0 M122.30940107675849,540.0 M117.69059892324145,548.0 Q111.99999999999994,544.0,122.30940107675849,540.0 L146.3094010767585,540.0 Q155.54700538379245,524.0,159.54700538379245,524.0 Q163.54700538379245,524.0,154.3094010767585,540.0 M170.3094010767585,540.0 C171.99999999999994,544.0,169.69059892324145,548.0,165.69059892324145,548.0 C161.69059892324145,548.0,166.3094010767585,540.0,174.3094010767585,540.0 L222.3094010767585,540.0 Q230.30940107675843,540.0,232.61880215351692,536.0 L234.92820323027541,532.0 L230.30940107675843,540.0 M246.30940107675843,540.0 Q254.04145188432727,537.0,258.30940107675843,540.0 Q273.77350269189617,534.0,282.30940107675843,540.0 L286.9282032302754,532.0 M282.30940107675843,540.0 M298.30940107675843,540.0 M307.5470053837924,524.0 Q310.9282032302754,532.0,298.30940107675843,540.0 Q306.0414518843273,537.0,310.30940107675843,540.0 C311.9999999999999,544.0,309.6905989232414,548.0,305.6905989232414,548.0 C301.6905989232414,548.0,303.9999999999999,544.0,310.30940107675843,540.0 M326.30940107675843,540.0 C332.6188021535169,536.0,334.9282032302754,532.0,330.9282032302754,532.0 C326.9282032302754,532.0,324.6188021535169,536.0,326.30940107675843,540.0 Q334.0414518843273,537.0,338.30940107675843,540.0 Q346.30940107675843,540.0,348.6188021535169,536.0 L350.9282032302754,532.0 L346.30940107675843,540.0 L370.30940107675843,540.0 C378.30940107675843,540.0,373.6905989232414,548.0,369.6905989232414,548.0 C365.6905989232414,548.0,367.9999999999999,544.0,374.30940107675843,540.0 M382.30940107675843,540.0 Q382.0207259421636,540.5,382.5207259421636,540.5 Q383.0207259421636,540.5,383.30940107675843,540.0 Q383.5980762113532,539.5,383.0980762113532,539.5 Q382.5980762113532,539.5,382.30940107675843,540.0 M390.30940107675843,540.0\" stroke=\"black\" fill=\"none\" stroke-width=\"1.3333333333333333\" stroke-linecap=\"round\" stroke-linejoin=\"round\" id=\"cURCnH9x0\" />\n",
       "</defs>\n",
       "<use xlink:href=\"#cURCnH9x0\" x=\"0\" y=\"0\" />\n",
       "</svg>"
      ],
      "text/plain": [
       "<drawsvg.drawing.Drawing at 0x10a4be190>"
      ]
     },
     "metadata": {},
     "output_type": "display_data"
    }
   ],
   "source": [
    "show_grafoni_kerned_wrapped(\"I realized, the moment I fell into the fissure, that the book would not be destroyed as I had planned. It continued falling into that starry expanse of which I had only a fleeting glimpse. I have tried to speculate where it might have landed, but I must admit, however-such conjecture is futile. Still, the question of whose hands might someday hold my mist book are unsettling to me. I know that my apprehensions might never be allayed, and so I close, realizing that perhaps, the ending has not yet been written.\",shear_val=-1/sqrt(3),wrap=105)"
   ]
  },
  {
   "cell_type": "code",
   "execution_count": 1005,
   "metadata": {},
   "outputs": [
    {
     "name": "stdout",
     "output_type": "stream",
     "text": [
      "dh uv2 r   lv1 uv1 l   k-beg mv2 m   mv2   t-beg mv3 uv1 m   lv1 uv1 n   uv1 lv1   b-beg uv1 l uv1 uv1 v-end   uv2 v r uv1 uv1 th uv1 ng   uv1 z   f uv1 n uv1 sh t-end   dh mv2 t   lv1 uv1 l   b-beg uv1 uv1   dh mv2   b-beg uv1 g uv1 n uv1 ng\n"
     ]
    },
    {
     "data": {
      "image/svg+xml": [
       "<?xml version=\"1.0\" encoding=\"UTF-8\"?>\n",
       "<svg xmlns=\"http://www.w3.org/2000/svg\" xmlns:xlink=\"http://www.w3.org/1999/xlink\"\n",
       "     width=\"225.23760430703402\" height=\"200.0\" viewBox=\"0 0 225.23760430703402 200.0\">\n",
       "<defs>\n",
       "<path d=\"M13.237604307034019,20.0 L4.000000000000005,36.0 L10.928203230275516,24.0 Q13.237604307034019,20.0,21.23760430703402,20.0 Q36.701705922171776,14.0,45.23760430703402,20.0 C51.54700538379252,16.0,53.85640646055103,12.0,49.85640646055103,12.0 C45.85640646055103,12.0,43.54700538379252,16.0,45.23760430703402,20.0 M61.23760430703402,20.0 Q65.50555349946515,23.0,73.23760430703402,20.0 Q80.9696551146029,17.0,85.23760430703402,20.0 C91.54700538379252,16.0,98.47520861406804,4.0,94.47520861406804,4.0 C90.47520861406804,4.0,85.85640646055103,12.0,85.23760430703402,20.0 M101.23760430703402,20.0 M105.85640646055103,12.0 Q95.54700538379252,16.0,101.23760430703402,20.0 L125.23760430703402,20.0 C130.92820323027553,24.0,114.92820323027551,24.0,125.23760430703402,20.0 M141.23760430703402,20.0 L165.23760430703402,20.0 M181.23760430703402,20.0 M13.237604307034019,60.0 M17.856406460551025,52.0 L13.237604307034019,60.0 L61.23760430703402,60.0 Q68.96965511460289,57.0,73.23760430703402,60.0 C78.92820323027551,64.0,62.928203230275514,64.0,73.23760430703402,60.0 M89.23760430703402,60.0 Q93.50555349946514,63.0,101.23760430703402,60.0 Q108.96965511460289,57.0,113.23760430703402,60.0 C114.92820323027551,64.0,112.61880215351701,68.0,108.61880215351701,68.0 C104.61880215351701,68.0,106.92820323027551,64.0,113.23760430703402,60.0 M129.23760430703402,60.0 Q136.9696551146029,57.0,141.23760430703402,60.0 Q145.50555349946512,63.0,153.23760430703402,60.0 M169.23760430703402,60.0 M178.475208614068,44.0 Q181.856406460551,52.0,169.23760430703402,60.0 Q176.9696551146029,57.0,181.23760430703402,60.0 C187.5470053837925,56.0,194.475208614068,44.0,190.475208614068,44.0 C186.475208614068,44.0,181.856406460551,52.0,181.23760430703402,60.0 Q188.9696551146029,57.0,193.23760430703402,60.0 Q200.9696551146029,57.0,205.23760430703402,60.0 Q208.61880215351698,68.0,196.0,76.0 M205.23760430703402,60.0 M221.23760430703402,60.0 M13.237604307034019,100.0 Q28.70170592217177,94.0,37.23760430703402,100.0 Q40.61880215351701,108.0,28.0,116.0 C40.61880215351701,108.0,34.928203230275514,104.0,45.23760430703402,100.0 C51.54700538379252,96.0,53.85640646055102,92.0,49.85640646055102,92.0 C45.85640646055102,92.0,43.54700538379252,96.0,45.23760430703402,100.0 Q52.969655114602894,97.0,57.23760430703402,100.0 Q64.96965511460289,97.0,69.23760430703402,100.0 L64.61880215351701,108.0 L66.92820323027551,104.0 Q69.23760430703402,100.0,77.23760430703402,100.0 Q84.96965511460289,97.0,89.23760430703402,100.0 C90.92820323027551,104.0,84.0,116.0,80.0,116.0 C76.0,116.0,80.61880215351701,108.0,89.23760430703402,100.0 M105.23760430703402,100.0 Q112.96965511460289,97.0,117.23760430703402,100.0 Q126.47520861406804,84.0,130.47520861406804,84.0 Q134.47520861406804,84.0,125.23760430703402,100.0 M141.23760430703402,100.0 Q146.92820323027553,104.0,136.618802153517,108.0 C146.92820323027553,104.0,138.92820323027553,104.0,149.23760430703402,100.0 Q156.9696551146029,97.0,161.23760430703402,100.0 C162.92820323027553,104.0,160.618802153517,108.0,156.618802153517,108.0 C152.618802153517,108.0,154.92820323027553,104.0,161.23760430703402,100.0 Q168.9696551146029,97.0,173.23760430703402,100.0 Q168.618802153517,108.0,172.618802153517,108.0 Q176.618802153517,108.0,181.23760430703402,100.0 L185.85640646055103,92.0 M181.23760430703402,100.0 M197.23760430703402,100.0 M13.237604307034019,140.0 L4.0,156.0 L10.928203230275514,144.0 Q13.237604307034019,140.0,21.23760430703402,140.0 L45.23760430703402,140.0 Q53.23760430703402,140.0,55.54700538379252,136.0 L57.85640646055103,132.0 L53.23760430703402,140.0 M69.23760430703402,140.0 Q73.50555349946515,143.0,81.23760430703403,140.0 Q88.9696551146029,137.0,93.23760430703403,140.0 C99.54700538379254,136.0,106.47520861406804,124.0,102.47520861406804,124.0 C98.47520861406804,124.0,93.85640646055104,132.0,93.23760430703403,140.0 M109.23760430703403,140.0 M118.47520861406804,124.0 Q121.85640646055104,132.0,109.23760430703403,140.0 Q116.9696551146029,137.0,121.23760430703403,140.0 Q128.96965511460292,137.0,133.23760430703402,140.0 M149.23760430703402,140.0 L140.0,156.0 L146.92820323027553,144.0 Q149.23760430703402,140.0,157.23760430703402,140.0 L181.23760430703402,140.0 M197.23760430703402,140.0 M13.237604307034019,180.0 M22.475208614068023,164.0 Q25.856406460551028,172.0,13.237604307034019,180.0 Q20.969655114602887,177.0,25.23760430703402,180.0 C35.54700538379252,176.0,29.856406460551028,172.0,42.47520861406802,164.0 Q29.856406460551028,172.0,33.23760430703402,180.0 Q40.96965511460289,177.0,45.23760430703402,180.0 C46.928203230275514,184.0,44.61880215351701,188.0,40.61880215351701,188.0 C36.61880215351701,188.0,38.928203230275514,184.0,45.23760430703402,180.0 Q52.96965511460289,177.0,57.23760430703402,180.0 C58.928203230275514,184.0,52.0,196.0,48.0,196.0 C44.0,196.0,48.61880215351701,188.0,57.23760430703402,180.0\" stroke=\"black\" fill=\"none\" stroke-width=\"1.3333333333333333\" stroke-linecap=\"round\" stroke-linejoin=\"round\" id=\"KT8wLq9C0\" />\n",
       "</defs>\n",
       "<use xlink:href=\"#KT8wLq9C0\" x=\"0\" y=\"0\" />\n",
       "</svg>"
      ],
      "text/plain": [
       "<drawsvg.drawing.Drawing at 0x10a29aa00>"
      ]
     },
     "metadata": {},
     "output_type": "display_data"
    }
   ],
   "source": [
    "show_grafoni_kerned_wrapped(\"there will come a time when you believe everything is finished that will be the beginning\",shear_val=-1/sqrt(3),wrap=40)"
   ]
  },
  {
   "cell_type": "markdown",
   "metadata": {},
   "source": [
    "#potential ligatures\n",
    "* k lv1\n",
    "* th r\n",
    "* ~~f r~~\n",
    "* ~~f l~~\n",
    "* s m\n",
    "* s n\n",
    "* ~~s f~~\n",
    "* k sh\n",
    "* sh r\n",
    "* m p\n",
    "* m p\n",
    "* ~~n t~~\n",
    "* ~~n d~~"
   ]
  },
  {
   "cell_type": "code",
   "execution_count": 1006,
   "metadata": {},
   "outputs": [
    {
     "data": {
      "image/svg+xml": [
       "<?xml version=\"1.0\" encoding=\"UTF-8\"?>\n",
       "<svg xmlns=\"http://www.w3.org/2000/svg\" xmlns:xlink=\"http://www.w3.org/1999/xlink\"\n",
       "     width=\"20\" height=\"40\" viewBox=\"0 0 20 40\">\n",
       "<defs>\n",
       "<path d=\"M8,20 M8,36 Q16,28,8,20 C12,12,12,4,8,4 C4,4,4,12,8,20\" stroke=\"black\" fill=\"none\" stroke-width=\"1.3333333333333333\" stroke-linecap=\"round\" stroke-linejoin=\"round\" id=\"aqphw1ju0\" />\n",
       "</defs>\n",
       "<use xlink:href=\"#aqphw1ju0\" x=\"0\" y=\"0\" />\n",
       "</svg>"
      ],
      "text/plain": [
       "<drawsvg.drawing.Drawing at 0x10a21de80>"
      ]
     },
     "metadata": {},
     "output_type": "display_data"
    }
   ],
   "source": [
    "show_kern(\"f-beg\",\"r\",-1,-1)"
   ]
  },
  {
   "cell_type": "code",
   "execution_count": 1007,
   "metadata": {},
   "outputs": [
    {
     "data": {
      "text/plain": [
       "\"[('cubic', 1, 2, 1, 8, 0, 8), ('cubic', -1, 8, -1, 4, 0, 0), ('quadratic', 0, -8, 1, -8), ('quadratic', 2, -8, 2, 0)]\""
      ]
     },
     "execution_count": 1007,
     "metadata": {},
     "output_type": "execute_result"
    }
   ],
   "source": [
    "def print_pair(l,ll):\n",
    "    return str(concat(letter_forms[l],letter_forms[ll]))\n",
    "\n",
    "print_pair(\"ng\",\"z\")"
   ]
  },
  {
   "cell_type": "code",
   "execution_count": 1008,
   "metadata": {},
   "outputs": [],
   "source": [
    "ligatures = {\n",
    "    \"n_t\": [('cubic',1,2,1,4,0,4),('cubic',-1,4,-1,2,0,0),('quadratic',1,-2,1,-4),('line',1,0)],\n",
    "    \"n_d\": [('cubic',1,2,1,4,0,4),('cubic',-1,4,-1,2,0,0),('quadratic',1,-2,1,-4),('line',1,-8),('line',1,0)],\n",
    "    \"n_t-end\": [('cubic',2,2,2,4,1,4),('cubic',0,4,0,2,0,0),('line',0,-4),('move',0,0)],\n",
    "    \"n_d-end\": [('cubic',2,2,2,4,1,4),('cubic',0,4,0,2,0,0),('line',0,-8),('move',0,0)],\n",
    "    \"n_s\": [('cubic',2,2,2,4,1,4),('cubic',0,4,0,2,0,0), ('quadratic', 0, -4, 1, -4), ('quadratic', 2, -4, 2, 0)],\n",
    "    \"n_z\": [('cubic',2,2,2,4,1,4),('cubic',0,4,0,2,0,0), ('quadratic', 0, -8, 1, -8), ('quadratic', 2, -8, 2, 0)],\n",
    "    \"ng_s\": [('cubic',2,2,2,8,1,8),('cubic',0,8,0,2,0,0), ('quadratic', 0, -4, 1, -4), ('quadratic', 2, -4, 2, 0)],\n",
    "    \"ng_z\": [('cubic',2,2,2,8,1,8),('cubic',0,8,0,2,0,0), ('quadratic', 0, -8, 1, -8), ('quadratic', 2, -8, 2, 0)],    \n",
    "    \"th_uv1\": [('line',0,4),('line',0,2),('cubic',0,0,1*vowel_scale,-1*vowel_scale,2*vowel_scale,0)],\n",
    "    \"th_uv2\": [('line',0,4),('line',0,2),('cubic',0,0,2*vowel_scale,-2*vowel_scale,4*vowel_scale,0)],\n",
    "    \"th_uv3\": [('line',0,4),('line',0,2),('cubic',0,0,4*vowel_scale,-4*vowel_scale,8*vowel_scale,0)],\n",
    "    \"dh_uv1\": [('line',0,8),('line',0,2),('cubic',0,0,1*vowel_scale,-1*vowel_scale,2*vowel_scale,0)],\n",
    "    \"dh_uv2\": [('line',0,8),('line',0,2),('cubic',0,0,2*vowel_scale,-2*vowel_scale,4*vowel_scale,0)],\n",
    "    \"dh_uv3\": [('line',0,8),('line',0,2),('cubic',0,0,4*vowel_scale,-4*vowel_scale,8*vowel_scale,0)],\n",
    "    \"s_f\": [('quadratic', 0, -4, 1, -4), ('quadratic', 2, -4, 2, 0), ('quadratic', 2, 4, 1, 4), ('cubic', 2, 4, 2, 0, 3, 0)],\n",
    "    \"v_r\": [('quadratic', 2, 4, 0, 8), ('cubic', 2, 4, 0, 2, 1, 0), ('cubic', 2, -2, 2, -4, 1, -4), ('cubic', 0, -4, 0, -2, 1, 0)],\n",
    "    \"v_l\": [('quadratic', 2, 4, 0, 8), ('cubic', 2, 4, 0, 2, 1, 0), ('cubic', 2, -4, 2, -8, 1, -8), ('cubic', 0, -8, 0, -4, 1, 0)],\n",
    "    \"f_r\": [('quadratic', 2, 2, 0, 4), ('cubic', 2, 2, 0, 1, 1, 0), ('cubic', 2, -2, 2, -4, 1, -4), ('cubic', 0, -4, 0, -2, 1, 0)],\n",
    "    \"f_l\": [('quadratic', 2, 2, 0, 4), ('cubic', 2, 2, 0, 1, 1, 0), ('cubic', 2, -4, 2, -8, 1, -8), ('cubic', 0, -8, 0, -4, 1, 0)],\n",
    "    \"f-beg_r\": [('move', 0, 4), ('quadratic', 2, 3, 2, 0), ('cubic', 2, -2, 2, -4, 1, -4), ('cubic', 0, -4, 0, -2, 2, 0)],\n",
    "    \"f-beg_l\": [('move', 0, 4), ('quadratic', 2, 3, 2, 0), ('cubic', 2, -4, 2, -8, 1, -8), ('cubic', 0, -8, 0, -4, 2, 0)],\n",
    "}"
   ]
  },
  {
   "cell_type": "code",
   "execution_count": 1009,
   "metadata": {},
   "outputs": [
    {
     "data": {
      "image/svg+xml": [
       "<?xml version=\"1.0\" encoding=\"UTF-8\"?>\n",
       "<svg xmlns=\"http://www.w3.org/2000/svg\" xmlns:xlink=\"http://www.w3.org/1999/xlink\"\n",
       "     width=\"16\" height=\"40\" viewBox=\"0 0 16 40\">\n",
       "<defs>\n",
       "<path d=\"M4,20 C12,28,12,36,8,36 C4,36,4,28,4,20 L4,4 M4,20\" stroke=\"black\" fill=\"none\" stroke-width=\"1.3333333333333333\" stroke-linecap=\"round\" stroke-linejoin=\"round\" id=\"K9RbBk590\" />\n",
       "</defs>\n",
       "<use xlink:href=\"#K9RbBk590\" x=\"0\" y=\"0\" />\n",
       "</svg>"
      ],
      "text/plain": [
       "<drawsvg.drawing.Drawing at 0x10b809b80>"
      ]
     },
     "metadata": {},
     "output_type": "display_data"
    }
   ],
   "source": [
    "display(svgStrokes([('move',0,0)]+ligatures[\"n_t-end\"]))"
   ]
  },
  {
   "cell_type": "code",
   "execution_count": 1010,
   "metadata": {},
   "outputs": [
    {
     "data": {
      "text/plain": [
       "['s', 't', 'uv3', 'n_d', 'z', ' ', 's', 'uv1', 'ng']"
      ]
     },
     "execution_count": 1010,
     "metadata": {},
     "output_type": "execute_result"
    }
   ],
   "source": [
    "def make_ligatures(in_list):\n",
    "    out = []\n",
    "    last = \"None\"\n",
    "    for c in in_list:\n",
    "        potential = last + \"_\" + c\n",
    "        if potential in ligatures:\n",
    "            out.append(potential) \n",
    "            last = \"None\"\n",
    "        else:\n",
    "            if last != \"None\":\n",
    "                out.append(last)\n",
    "            last = c\n",
    "    if last != \"None\":\n",
    "        out.append(last)\n",
    "    return out\n",
    "\n",
    "make_ligatures([\"s\", \"t\", \"uv3\", \"n\", \"d\", \"z\", \" \", \"s\", \"uv1\", \"ng\"])"
   ]
  },
  {
   "cell_type": "code",
   "execution_count": 1011,
   "metadata": {},
   "outputs": [
    {
     "data": {
      "text/plain": [
       "['s', 't', 'uv3', 'n', 'd']"
      ]
     },
     "execution_count": 1011,
     "metadata": {},
     "output_type": "execute_result"
    }
   ],
   "source": [
    "[\"s\", \"t\", \"uv3\", \"n\", \"d\"]"
   ]
  },
  {
   "cell_type": "code",
   "execution_count": 1012,
   "metadata": {},
   "outputs": [],
   "source": [
    "def first(string):\n",
    "    parts = string.split(\"_\")\n",
    "    if len(parts) == 0:\n",
    "        return \" \"\n",
    "    else:\n",
    "        return parts[0]\n",
    "\n",
    "def last(string):\n",
    "    parts = string.split(\"_\")\n",
    "    if len(parts) == 0:\n",
    "        return \" \"\n",
    "    else:\n",
    "        return parts[-1]"
   ]
  },
  {
   "cell_type": "code",
   "execution_count": 1013,
   "metadata": {},
   "outputs": [],
   "source": [
    "def show_grafoni_kerned_wrapped_ligs(in_string,wrap = 100,shear_val=-1,line_space=20,v_scale=0.5):\n",
    "    chars = in_string\n",
    "    if isinstance(chars, str):\n",
    "        chars = make_ligatures(process_ends(grafoni_spell(in_string)))\n",
    "    print(\" \".join(chars))\n",
    "    out = [('move',0,0)]\n",
    "    last_char = \" \"\n",
    "    for l in chars:\n",
    "        if l in letter_forms:\n",
    "            l_kern,r_kern = kerning[(last(last_char),first(l))]\n",
    "            last_char = l\n",
    "            out = concat(r_extend(out,l_kern),l_extend(letter_forms[l],r_kern))\n",
    "        elif l in ligatures:\n",
    "            l_kern,r_kern = kerning[(last(last_char),first(l))]\n",
    "            last_char = l\n",
    "            out = concat(r_extend(out,l_kern),l_extend(ligatures[l],r_kern))\n",
    "        else:\n",
    "            print(\"error: \" + l)\n",
    "        if last_char == \" \"  and out[-1][-2] + shear_val*v_scale*out[-1][-1] > wrap:\n",
    "            out.append(('move',-shear_val*v_scale*(out[-1][-1]+line_space),out[-1][-1]+line_space))\n",
    "    return display(svgStrokes(shear(scale(out,1,v_scale),by=shear_val)))"
   ]
  },
  {
   "cell_type": "code",
   "execution_count": 1014,
   "metadata": {},
   "outputs": [
    {
     "name": "stdout",
     "output_type": "stream",
     "text": [
      "s t uv3 n_d z   v uv2 n_t uv1 ng   dh mv2   dh_uv2 r   s_f uv1 r   f-beg_r uv3 n_s   f-beg_l mv3 uv1 t-end\n"
     ]
    },
    {
     "data": {
      "image/svg+xml": [
       "<?xml version=\"1.0\" encoding=\"UTF-8\"?>\n",
       "<svg xmlns=\"http://www.w3.org/2000/svg\" xmlns:xlink=\"http://www.w3.org/1999/xlink\"\n",
       "     width=\"460.0\" height=\"40.0\" viewBox=\"0 0 460.0 40.0\">\n",
       "<defs>\n",
       "<path d=\"M4.0,20.0 Q12.0,12.0,16.0,12.0 Q20.0,12.0,12.0,20.0 Q20.0,20.0,24.0,16.0 L28.0,12.0 L20.0,20.0 Q56.0,8.0,68.0,20.0 C68.0,24.0,64.0,28.0,60.0,28.0 C56.0,28.0,60.0,24.0,68.0,20.0 Q76.0,16.0,80.0,12.0 L88.0,4.0 Q72.0,20.0,76.0,20.0 C80.0,20.0,96.0,4.0,100.0,4.0 Q104.0,4.0,88.0,20.0 M104.0,20.0 Q104.0,28.0,88.0,36.0 C104.0,28.0,100.0,24.0,112.0,20.0 Q130.0,14.0,136.0,20.0 C136.0,24.0,132.0,28.0,128.0,28.0 C124.0,28.0,128.0,24.0,136.0,20.0 Q144.0,16.0,148.0,12.0 L140.0,20.0 Q149.0,17.0,152.0,20.0 C152.0,24.0,140.0,36.0,136.0,36.0 C132.0,36.0,140.0,28.0,152.0,20.0 M168.0,20.0 L152.0,36.0 L164.0,24.0 Q168.0,20.0,176.0,20.0 L200.0,20.0 M216.0,20.0 L200.0,36.0 L212.0,24.0 C216.0,20.0,234.0,14.0,240.0,20.0 C248.0,16.0,252.0,12.0,248.0,12.0 C244.0,12.0,240.0,16.0,240.0,20.0 M256.0,20.0 Q264.0,12.0,268.0,12.0 Q272.0,12.0,264.0,20.0 Q256.0,28.0,252.0,28.0 C256.0,28.0,264.0,20.0,268.0,20.0 Q277.0,17.0,280.0,20.0 C288.0,16.0,292.0,12.0,288.0,12.0 C284.0,12.0,280.0,16.0,280.0,20.0 M296.0,20.0 M288.0,28.0 Q298.0,26.0,304.0,20.0 C308.0,16.0,312.0,12.0,308.0,12.0 C304.0,12.0,300.0,16.0,304.0,20.0 Q340.0,8.0,352.0,20.0 C356.0,24.0,352.0,28.0,348.0,28.0 C344.0,28.0,348.0,24.0,352.0,20.0 Q360.0,12.0,364.0,12.0 Q368.0,12.0,360.0,20.0 M376.0,20.0 M368.0,28.0 Q378.0,26.0,384.0,20.0 C392.0,12.0,400.0,4.0,396.0,4.0 C392.0,4.0,376.0,20.0,388.0,20.0 L436.0,20.0 Q445.0,17.0,448.0,20.0 L456.0,12.0 M448.0,20.0\" stroke=\"black\" fill=\"none\" stroke-width=\"1.3333333333333333\" stroke-linecap=\"round\" stroke-linejoin=\"round\" id=\"sw2dHgJs0\" />\n",
       "</defs>\n",
       "<use xlink:href=\"#sw2dHgJs0\" x=\"0\" y=\"0\" />\n",
       "</svg>"
      ],
      "text/plain": [
       "<drawsvg.drawing.Drawing at 0x10a490e80>"
      ]
     },
     "metadata": {},
     "output_type": "display_data"
    }
   ],
   "source": [
    "show_grafoni_kerned_wrapped_ligs(\"stands venting the there sphere france flight\")"
   ]
  },
  {
   "cell_type": "code",
   "execution_count": 1015,
   "metadata": {},
   "outputs": [
    {
     "name": "stdout",
     "output_type": "stream",
     "text": [
      "s t uv3 n d z   v uv2 n t uv1 ng   dh mv2   dh uv2 r   s f uv1 r   f-beg r uv3 n s   f-beg l mv3 uv1 t-end\n"
     ]
    },
    {
     "data": {
      "image/svg+xml": [
       "<?xml version=\"1.0\" encoding=\"UTF-8\"?>\n",
       "<svg xmlns=\"http://www.w3.org/2000/svg\" xmlns:xlink=\"http://www.w3.org/1999/xlink\"\n",
       "     width=\"464.0\" height=\"40.0\" viewBox=\"0 0 464.0 40.0\">\n",
       "<defs>\n",
       "<path d=\"M4.0,20.0 Q12.0,12.0,16.0,12.0 Q20.0,12.0,12.0,20.0 Q20.0,20.0,24.0,16.0 L28.0,12.0 L20.0,20.0 Q56.0,8.0,68.0,20.0 C68.0,24.0,64.0,28.0,60.0,28.0 C56.0,28.0,60.0,24.0,68.0,20.0 Q76.0,20.0,80.0,16.0 L92.0,4.0 Q76.0,20.0,80.0,20.0 C84.0,20.0,100.0,4.0,104.0,4.0 Q108.0,4.0,92.0,20.0 M108.0,20.0 Q108.0,28.0,92.0,36.0 C108.0,28.0,104.0,24.0,116.0,20.0 Q134.0,14.0,140.0,20.0 C140.0,24.0,136.0,28.0,132.0,28.0 C128.0,28.0,132.0,24.0,140.0,20.0 Q148.0,20.0,152.0,16.0 L156.0,12.0 L148.0,20.0 Q157.0,17.0,160.0,20.0 C160.0,24.0,148.0,36.0,144.0,36.0 C140.0,36.0,148.0,28.0,160.0,20.0 M176.0,20.0 L160.0,36.0 L172.0,24.0 Q176.0,20.0,184.0,20.0 L208.0,20.0 M224.0,20.0 L208.0,36.0 L220.0,24.0 Q224.0,20.0,232.0,20.0 Q250.0,14.0,256.0,20.0 C264.0,16.0,268.0,12.0,264.0,12.0 C260.0,12.0,256.0,16.0,256.0,20.0 M272.0,20.0 Q280.0,12.0,284.0,12.0 Q288.0,12.0,280.0,20.0 Q284.0,24.0,272.0,28.0 C284.0,24.0,276.0,24.0,288.0,20.0 Q297.0,17.0,300.0,20.0 C308.0,16.0,312.0,12.0,308.0,12.0 C304.0,12.0,300.0,16.0,300.0,20.0 M316.0,20.0 M308.0,28.0 Q320.0,24.0,316.0,20.0 C324.0,16.0,328.0,12.0,324.0,12.0 C320.0,12.0,316.0,16.0,316.0,20.0 Q352.0,8.0,364.0,20.0 C364.0,24.0,360.0,28.0,356.0,28.0 C352.0,28.0,356.0,24.0,364.0,20.0 Q372.0,12.0,376.0,12.0 Q380.0,12.0,372.0,20.0 M388.0,20.0 M380.0,28.0 Q392.0,24.0,388.0,20.0 C396.0,16.0,408.0,4.0,404.0,4.0 C400.0,4.0,384.0,20.0,392.0,20.0 L440.0,20.0 Q449.0,17.0,452.0,20.0 L460.0,12.0 M452.0,20.0\" stroke=\"black\" fill=\"none\" stroke-width=\"1.3333333333333333\" stroke-linecap=\"round\" stroke-linejoin=\"round\" id=\"GDJjZqRx0\" />\n",
       "</defs>\n",
       "<use xlink:href=\"#GDJjZqRx0\" x=\"0\" y=\"0\" />\n",
       "</svg>"
      ],
      "text/plain": [
       "<drawsvg.drawing.Drawing at 0x10a367640>"
      ]
     },
     "metadata": {},
     "output_type": "display_data"
    }
   ],
   "source": [
    "show_grafoni_kerned_wrapped(\"stands venting the there sphere france flight\")"
   ]
  },
  {
   "cell_type": "code",
   "execution_count": 1016,
   "metadata": {},
   "outputs": [
    {
     "name": "stdout",
     "output_type": "stream",
     "text": [
      "dh_uv2 r   lv1 uv1 l   k-beg mv2 m   mv2   t-beg mv3 uv1 m   lv1 uv1 n   uv1 lv1   b-beg uv1 l uv1 uv1 v-end   uv2 v_r uv1 uv1 th_uv1 ng   uv1 z   f uv1 n uv1 sh t-end   dh mv2 t   lv1 uv1 l   b-beg uv1 uv1   dh mv2   b-beg uv1 g uv1 n uv1 ng\n"
     ]
    },
    {
     "data": {
      "image/svg+xml": [
       "<?xml version=\"1.0\" encoding=\"UTF-8\"?>\n",
       "<svg xmlns=\"http://www.w3.org/2000/svg\" xmlns:xlink=\"http://www.w3.org/1999/xlink\"\n",
       "     width=\"185.23760430703402\" height=\"200.0\" viewBox=\"0 0 185.23760430703402 200.0\">\n",
       "<defs>\n",
       "<path d=\"M13.237604307034013,20.0 L4.0,36.0 L10.92820323027551,24.0 C13.237604307034013,20.0,28.70170592217177,14.0,37.23760430703401,20.0 C43.547005383792516,16.0,45.85640646055102,12.0,41.85640646055102,12.0 C37.85640646055102,12.0,35.547005383792516,16.0,37.23760430703401,20.0 M53.23760430703401,20.0 Q57.50555349946514,23.0,65.23760430703402,20.0 Q72.96965511460289,17.0,77.23760430703402,20.0 C83.54700538379252,16.0,90.47520861406804,4.0,86.47520861406804,4.0 C82.47520861406804,4.0,77.85640646055103,12.0,77.23760430703402,20.0 M93.23760430703402,20.0 M97.85640646055103,12.0 Q87.54700538379252,16.0,93.23760430703402,20.0 L117.23760430703402,20.0 C122.92820323027551,24.0,106.92820323027551,24.0,117.23760430703402,20.0 M133.23760430703402,20.0 L157.23760430703402,20.0 M173.23760430703402,20.0 M13.237604307034013,60.0 M17.85640646055102,52.0 L13.237604307034013,60.0 L61.23760430703401,60.0 Q68.96965511460289,57.0,73.23760430703402,60.0 C78.92820323027551,64.0,62.92820323027551,64.0,73.23760430703402,60.0 M89.23760430703402,60.0 Q93.50555349946514,63.0,101.23760430703402,60.0 Q108.96965511460289,57.0,113.23760430703402,60.0 C114.92820323027551,64.0,112.61880215351701,68.0,108.61880215351701,68.0 C104.61880215351701,68.0,106.92820323027551,64.0,113.23760430703402,60.0 M129.23760430703402,60.0 Q136.9696551146029,57.0,141.237604307034,60.0 Q145.50555349946512,63.0,153.23760430703402,60.0 M169.23760430703402,60.0 M13.237604307034013,100.0 M22.475208614068023,84.0 Q25.856406460551014,92.0,13.237604307034013,100.0 Q20.969655114602887,97.0,25.23760430703401,100.0 C31.547005383792516,96.0,38.47520861406802,84.0,34.47520861406802,84.0 C30.475208614068023,84.0,25.856406460551014,92.0,25.23760430703401,100.0 Q32.96965511460289,97.0,37.23760430703401,100.0 Q44.96965511460289,97.0,49.23760430703401,100.0 Q52.618802153517,108.0,39.99999999999999,116.0 M49.23760430703401,100.0 M65.23760430703402,100.0 Q80.70170592217177,94.0,89.23760430703402,100.0 Q92.61880215351701,108.0,80.0,116.0 C92.61880215351701,108.0,86.92820323027551,104.0,93.23760430703402,100.0 C99.54700538379252,96.0,101.85640646055103,92.0,97.85640646055103,92.0 C93.85640646055103,92.0,91.54700538379252,96.0,93.23760430703402,100.0 Q100.96965511460289,97.0,105.23760430703402,100.0 Q112.96965511460289,97.0,117.23760430703402,100.0 L112.61880215351701,108.0 L114.92820323027551,104.0 C117.23760430703402,100.0,124.96965511460289,97.0,129.23760430703402,100.0 C130.92820323027553,104.0,124.0,116.0,120.0,116.0 C116.0,116.0,120.61880215351701,108.0,129.23760430703402,100.0 M145.23760430703402,100.0 Q152.9696551146029,97.0,157.23760430703402,100.0 Q166.47520861406804,84.0,170.47520861406804,84.0 Q174.47520861406804,84.0,165.23760430703402,100.0 M181.23760430703402,100.0 M13.237604307034013,140.0 Q18.928203230275507,144.0,8.618802153517004,148.0 C18.928203230275507,144.0,10.928203230275509,144.0,21.23760430703401,140.0 Q28.96965511460288,137.0,33.23760430703401,140.0 C34.92820323027551,144.0,32.618802153517,148.0,28.618802153517002,148.0 C24.618802153517002,148.0,26.928203230275507,144.0,33.23760430703401,140.0 Q40.96965511460288,137.0,45.23760430703401,140.0 Q40.618802153517,148.0,44.618802153517,148.0 Q48.618802153517,148.0,53.23760430703401,140.0 L57.85640646055102,132.0 M53.23760430703401,140.0 M69.23760430703402,140.0 L59.99999999999999,156.0 L66.9282032302755,144.0 Q69.23760430703402,140.0,77.23760430703403,140.0 L101.23760430703403,140.0 Q109.23760430703403,140.0,111.54700538379254,136.0 L113.85640646055104,132.0 L109.23760430703403,140.0 M125.23760430703403,140.0 Q129.50555349946515,143.0,137.23760430703402,140.0 Q144.96965511460292,137.0,149.23760430703402,140.0 C155.54700538379254,136.0,162.47520861406804,124.0,158.47520861406804,124.0 C154.47520861406804,124.0,149.85640646055106,132.0,149.23760430703402,140.0 M165.23760430703402,140.0 M13.237604307034013,180.0 M22.475208614068016,164.0 Q25.85640646055102,172.0,13.237604307034013,180.0 Q20.96965511460288,177.0,25.23760430703401,180.0 Q32.96965511460288,177.0,37.23760430703401,180.0 M53.23760430703401,180.0 L43.99999999999999,196.0 L50.92820323027551,184.0 Q53.23760430703401,180.0,61.23760430703401,180.0 L85.23760430703402,180.0 M101.23760430703402,180.0 M110.47520861406802,164.0 Q113.85640646055103,172.0,101.23760430703402,180.0 Q108.96965511460289,177.0,113.23760430703402,180.0 C123.54700538379252,176.0,117.85640646055103,172.0,130.47520861406804,164.0 Q117.85640646055103,172.0,121.23760430703402,180.0 Q128.9696551146029,177.0,133.23760430703402,180.0 C134.9282032302755,184.0,132.618802153517,188.0,128.618802153517,188.0 C124.61880215351701,188.0,126.92820323027551,184.0,133.23760430703402,180.0 Q140.9696551146029,177.0,145.23760430703402,180.0 C146.92820323027553,184.0,140.0,196.0,136.0,196.0 C132.0,196.0,136.618802153517,188.0,145.23760430703402,180.0\" stroke=\"black\" fill=\"none\" stroke-width=\"1.3333333333333333\" stroke-linecap=\"round\" stroke-linejoin=\"round\" id=\"Pxi7CZuh0\" />\n",
       "</defs>\n",
       "<use xlink:href=\"#Pxi7CZuh0\" x=\"0\" y=\"0\" />\n",
       "</svg>"
      ],
      "text/plain": [
       "<drawsvg.drawing.Drawing at 0x10a4b0670>"
      ]
     },
     "metadata": {},
     "output_type": "display_data"
    }
   ],
   "source": [
    "show_grafoni_kerned_wrapped_ligs(\"there will come a time when you believe everything is finished that will be the beginning\",shear_val=-1/sqrt(3),wrap=35)"
   ]
  },
  {
   "cell_type": "code",
   "execution_count": 1017,
   "metadata": {},
   "outputs": [
    {
     "name": "stdout",
     "output_type": "stream",
     "text": [
      "dh uv2 r   lv1 uv1 l   k-beg mv2 m   mv2   t-beg mv3 uv1 m   lv1 uv1 n   uv1 lv1   b-beg uv1 l uv1 uv1 v-end   uv2 v r uv1 uv1 th uv1 ng   uv1 z   f uv1 n uv1 sh t-end   dh mv2 t   lv1 uv1 l   b-beg uv1 uv1   dh mv2   b-beg uv1 g uv1 n uv1 ng\n"
     ]
    },
    {
     "data": {
      "image/svg+xml": [
       "<?xml version=\"1.0\" encoding=\"UTF-8\"?>\n",
       "<svg xmlns=\"http://www.w3.org/2000/svg\" xmlns:xlink=\"http://www.w3.org/1999/xlink\"\n",
       "     width=\"190.92820323027553\" height=\"200.0\" viewBox=\"0 0 190.92820323027553 200.0\">\n",
       "<defs>\n",
       "<path d=\"M13.237604307034013,20.0 L4.0,36.0 L10.92820323027551,24.0 Q13.237604307034013,20.0,21.23760430703401,20.0 Q36.70170592217177,14.0,45.23760430703401,20.0 C51.547005383792516,16.0,53.85640646055102,12.0,49.85640646055102,12.0 C45.85640646055102,12.0,43.547005383792516,16.0,45.23760430703401,20.0 M61.23760430703401,20.0 Q65.50555349946514,23.0,73.23760430703402,20.0 Q80.9696551146029,17.0,85.23760430703402,20.0 C91.54700538379252,16.0,98.47520861406804,4.0,94.47520861406804,4.0 C90.47520861406804,4.0,85.85640646055103,12.0,85.23760430703402,20.0 M101.23760430703402,20.0 M105.85640646055103,12.0 Q95.54700538379252,16.0,101.23760430703402,20.0 L125.23760430703402,20.0 C130.92820323027553,24.0,114.92820323027551,24.0,125.23760430703402,20.0 M141.23760430703402,20.0 L165.23760430703402,20.0 M181.23760430703402,20.0 M13.237604307034013,60.0 M17.85640646055102,52.0 L13.237604307034013,60.0 L61.23760430703401,60.0 Q68.96965511460289,57.0,73.23760430703402,60.0 C78.92820323027551,64.0,62.92820323027551,64.0,73.23760430703402,60.0 M89.23760430703402,60.0 Q93.50555349946514,63.0,101.23760430703402,60.0 Q108.96965511460289,57.0,113.23760430703402,60.0 C114.92820323027551,64.0,112.61880215351701,68.0,108.61880215351701,68.0 C104.61880215351701,68.0,106.92820323027551,64.0,113.23760430703402,60.0 M129.23760430703402,60.0 Q136.9696551146029,57.0,141.237604307034,60.0 Q145.50555349946512,63.0,153.23760430703402,60.0 M169.23760430703402,60.0 M13.237604307034013,100.0 M22.475208614068023,84.0 Q25.856406460551014,92.0,13.237604307034013,100.0 Q20.969655114602887,97.0,25.23760430703401,100.0 C31.547005383792516,96.0,38.47520861406802,84.0,34.47520861406802,84.0 C30.475208614068023,84.0,25.856406460551014,92.0,25.23760430703401,100.0 Q32.96965511460289,97.0,37.23760430703401,100.0 Q44.96965511460289,97.0,49.23760430703401,100.0 Q52.618802153517,108.0,39.99999999999999,116.0 M49.23760430703401,100.0 M65.23760430703402,100.0 Q80.70170592217177,94.0,89.23760430703402,100.0 Q92.61880215351701,108.0,80.0,116.0 C92.61880215351701,108.0,86.92820323027551,104.0,97.23760430703402,100.0 C103.54700538379252,96.0,105.85640646055103,92.0,101.85640646055103,92.0 C97.85640646055103,92.0,95.54700538379252,96.0,97.23760430703402,100.0 Q104.96965511460289,97.0,109.23760430703402,100.0 Q116.96965511460289,97.0,121.23760430703402,100.0 L116.61880215351701,108.0 L118.92820323027551,104.0 Q121.23760430703402,100.0,129.23760430703402,100.0 Q136.9696551146029,97.0,141.23760430703402,100.0 C142.92820323027553,104.0,136.0,116.0,132.0,116.0 C128.0,116.0,132.618802153517,108.0,141.23760430703402,100.0 M157.23760430703402,100.0 M13.237604307034013,140.0 Q20.96965511460288,137.0,25.23760430703401,140.0 Q34.47520861406802,124.0,38.47520861406802,124.0 Q42.47520861406802,124.0,33.23760430703401,140.0 M49.23760430703401,140.0 Q54.92820323027551,144.0,44.618802153517,148.0 C54.92820323027551,144.0,46.92820323027551,144.0,57.23760430703401,140.0 Q64.96965511460289,137.0,69.23760430703402,140.0 C70.92820323027553,144.0,68.61880215351702,148.0,64.61880215351701,148.0 C60.618802153517,148.0,62.92820323027551,144.0,69.23760430703402,140.0 Q76.9696551146029,137.0,81.23760430703403,140.0 Q76.61880215351702,148.0,80.61880215351702,148.0 Q84.61880215351702,148.0,89.23760430703403,140.0 L93.85640646055104,132.0 M89.23760430703403,140.0 M105.23760430703403,140.0 L96.00000000000001,156.0 L102.92820323027553,144.0 Q105.23760430703403,140.0,113.23760430703403,140.0 L137.23760430703402,140.0 Q145.23760430703402,140.0,147.54700538379254,136.0 L149.85640646055106,132.0 L145.23760430703402,140.0 M161.23760430703402,140.0 M13.237604307034013,180.0 Q17.50555349946513,183.0,25.23760430703401,180.0 Q32.96965511460288,177.0,37.23760430703401,180.0 C43.547005383792516,176.0,50.475208614068016,164.0,46.475208614068016,164.0 C42.475208614068016,164.0,37.85640646055102,172.0,37.23760430703401,180.0 M53.23760430703401,180.0 M62.475208614068016,164.0 Q65.85640646055103,172.0,53.23760430703401,180.0 Q60.96965511460288,177.0,65.23760430703402,180.0 Q72.96965511460289,177.0,77.23760430703402,180.0 M93.23760430703402,180.0 L84.0,196.0 L90.92820323027551,184.0 Q93.23760430703402,180.0,101.23760430703402,180.0 L125.23760430703402,180.0 M141.23760430703402,180.0 M150.47520861406804,164.0 Q153.85640646055103,172.0,141.23760430703402,180.0 Q148.9696551146029,177.0,153.23760430703402,180.0 C163.5470053837925,176.0,157.85640646055103,172.0,170.47520861406804,164.0 Q157.85640646055103,172.0,161.23760430703402,180.0 Q168.9696551146029,177.0,173.23760430703402,180.0 C174.92820323027553,184.0,172.618802153517,188.0,168.618802153517,188.0 C164.618802153517,188.0,166.92820323027553,184.0,173.23760430703402,180.0 Q180.9696551146029,177.0,185.23760430703402,180.0 C186.92820323027553,184.0,180.0,196.0,176.0,196.0 C172.0,196.0,176.618802153517,188.0,185.23760430703402,180.0\" stroke=\"black\" fill=\"none\" stroke-width=\"1.3333333333333333\" stroke-linecap=\"round\" stroke-linejoin=\"round\" id=\"EeXwCe9p0\" />\n",
       "</defs>\n",
       "<use xlink:href=\"#EeXwCe9p0\" x=\"0\" y=\"0\" />\n",
       "</svg>"
      ],
      "text/plain": [
       "<drawsvg.drawing.Drawing at 0x10a278130>"
      ]
     },
     "metadata": {},
     "output_type": "display_data"
    }
   ],
   "source": [
    "show_grafoni_kerned_wrapped(\"there will come a time when you believe everything is finished that will be the beginning\",shear_val=-1/sqrt(3),wrap=35)"
   ]
  },
  {
   "cell_type": "code",
   "execution_count": 1018,
   "metadata": {},
   "outputs": [
    {
     "name": "stdout",
     "output_type": "stream",
     "text": [
      "uv1 Y uv1 l d-end   lv1 W lv1 d   s t mv2 d uv1 uv1 Y uv1 ng\n"
     ]
    },
    {
     "data": {
      "image/svg+xml": [
       "<?xml version=\"1.0\" encoding=\"UTF-8\"?>\n",
       "<svg xmlns=\"http://www.w3.org/2000/svg\" xmlns:xlink=\"http://www.w3.org/1999/xlink\"\n",
       "     width=\"187.6905989232415\" height=\"40.0\" viewBox=\"0 0 187.6905989232415 40.0\">\n",
       "<defs>\n",
       "<path d=\"M4.0,20.0 Q11.732050807568879,17.0,16.0,20.0 C18.845299461620748,22.0,10.845299461620748,22.0,16.0,20.0 Q23.73205080756888,17.0,28.0,20.0 C34.309401076758505,16.0,41.23760430703401,4.0,37.23760430703401,4.0 C33.23760430703401,4.0,24.0,20.0,32.0,20.0 Q34.0,20.0,43.23760430703401,4.0 M34.0,20.0 M50.0,20.0 Q54.267949192431125,23.0,62.0,20.0 C67.15470053837925,18.0,59.15470053837925,18.0,62.0,20.0 Q66.26794919243113,23.0,74.0,20.0 Q82.0,20.0,84.3094010767585,16.0 L91.23760430703402,4.0 L82.0,20.0 M98.0,20.0 Q102.61880215351701,12.0,106.61880215351701,12.0 Q110.61880215351701,12.0,106.0,20.0 Q114.0,20.0,116.3094010767585,16.0 L118.61880215351701,12.0 L114.0,20.0 L138.0,20.0 Q146.0,20.0,148.3094010767585,16.0 L155.23760430703402,4.0 L146.0,20.0 Q153.73205080756887,17.0,158.0,20.0 Q165.73205080756887,17.0,170.0,20.0 C172.84529946162075,22.0,164.84529946162075,22.0,170.0,20.0 Q177.73205080756887,17.0,182.0,20.0 C183.6905989232415,24.0,176.76239569296598,36.0,172.76239569296598,36.0 C168.76239569296598,36.0,173.381197846483,28.0,182.0,20.0\" stroke=\"black\" fill=\"none\" stroke-width=\"1.3333333333333333\" stroke-linecap=\"round\" stroke-linejoin=\"round\" id=\"ga7Five40\" />\n",
       "</defs>\n",
       "<use xlink:href=\"#ga7Five40\" x=\"0\" y=\"0\" />\n",
       "</svg>"
      ],
      "text/plain": [
       "<drawsvg.drawing.Drawing at 0x10a29d910>"
      ]
     },
     "metadata": {},
     "output_type": "display_data"
    }
   ],
   "source": [
    "show_grafoni_kerned_wrapped_ligs(\"yield wooed studying\",shear_val=-1/sqrt(3),wrap=35)"
   ]
  },
  {
   "cell_type": "code",
   "execution_count": 1019,
   "metadata": {},
   "outputs": [
    {
     "name": "stdout",
     "output_type": "stream",
     "text": [
      "mv3 uv1   r uv1 uv1 mv2 l mv3 uv1 z d-end ,   dh mv2   m lv2 mv1 m mv2 n_t-end   mv3 uv1   f uv2 l   uv1 n_t lv1   dh mv2   f uv1 sh mv2 r ,   dh mv2 t   dh mv2   b-beg mv1 k-end   lv1 mv1 d   n mv3 t   b-beg uv1 uv1   d-beg uv1 s t r lv3 uv1 d-end   uv2 z   mv3 uv1   h-beg uv3 d-end   p-beg l uv3 n_d-end .   uv1 t-end   k-beg mv2 n_t uv1 n uv1 lv1 d   f-beg mv3 l uv1 ng   uv1 n_t lv1   dh mv2 t   s t mv3 r uv1 uv1   uv1 k s p uv3 n_s   mv2 v-end   lv1 uv1 t sh   mv3 uv1   h-beg uv3 d-end   lv2 mv1 n l uv1 uv1   mv2   f-beg_l uv1 uv1 t uv1 ng   g-beg l uv1 m p s .   mv3 uv1   h-beg uv3 v-end   t-beg r mv3 uv1 d-end   t-beg uv1   s p uv2 k uv1 mv2 l uv2 uv1 t-end   lv1 uv2 r   uv1 t-end   m mv3 uv1 t-end   h-beg uv3 v-end   l uv3 n_d uv1 d-end ,   b-beg mv2 t   mv3 uv1   m mv2 s t-end   mv2 d m uv1 t-end ,   h-beg lv2 lv1 uv2 v uv2 r - s lv1 c h-end   k-beg mv2 n_d zh uv2 k t sh mv2 r   uv1 z   f uv1 lv1 t mv2 l .   s t uv1 l ,   dh mv2   k-beg lv1 uv2 sh mv2 n   mv2 v-end   h-beg lv1 z   h-beg uv3 n_z   m mv3 uv1 t-end   s mv2 m d uv2 uv1   h-beg lv2 mv1 l d-end   m mv3 uv1   m uv1 s t-end   b-beg mv1 k-end   mv2 r   mv2 n_s uv2 t mv2 l uv1 ng   t-beg uv1   m uv1 uv1 .   mv3 uv1   n lv2 mv1   dh mv2 t   m mv3 uv1   uv3 p r uv1 h uv2 n sh mv2 n_z   m mv3 uv1 t-end   n uv2 v mv2 r   b-beg uv1 uv1   mv2 l uv2 uv1 d-end ,   mv2 n_d-end   s lv2 mv1   mv3 uv1   k-beg l lv2 mv1 z ,   r uv1 uv1 mv2 l mv3 uv1 z uv1 ng   dh mv2 t   p-beg mv2 r h uv3 p s ,   dh mv2   uv2 n_d uv1 ng   h-beg mv2 z   n mv3 t   uv1 uv2 t-end   b-beg uv1 n   r uv1 t mv2 n .\n",
      "error: c\n"
     ]
    },
    {
     "data": {
      "image/svg+xml": [
       "<?xml version=\"1.0\" encoding=\"UTF-8\"?>\n",
       "<svg xmlns=\"http://www.w3.org/2000/svg\" xmlns:xlink=\"http://www.w3.org/1999/xlink\"\n",
       "     width=\"462.3094010767585\" height=\"640.0\" viewBox=\"0 0 462.3094010767585 640.0\">\n",
       "<defs>\n",
       "<path d=\"M14.309401076758519,20.0 L62.30940107675852,20.0 Q70.04145188432739,17.0,74.30940107675852,20.0 M90.30940107675852,20.0 C96.61880215351702,16.0,98.92820323027553,12.0,94.92820323027553,12.0 C90.92820323027553,12.0,88.61880215351702,16.0,90.30940107675852,20.0 Q98.0414518843274,17.0,102.30940107675852,20.0 Q110.0414518843274,17.0,114.30940107675852,20.0 L138.30940107675852,20.0 C146.30940107675852,20.0,155.54700538379254,4.0,151.54700538379254,4.0 C147.54700538379254,4.0,138.30940107675852,20.0,146.30940107675852,20.0 L194.30940107675852,20.0 Q202.0414518843274,17.0,206.30940107675852,20.0 Q215.54700538379254,4.0,219.54700538379254,4.0 C223.54700538379254,4.0,214.30940107675852,20.0,218.30940107675852,20.0 Q220.30940107675852,20.0,229.54700538379254,4.0 M220.30940107675852,20.0 M228.30940107675852,20.0 Q231.15470053837927,22.0,226.00000000000003,24.0 M236.30940107675852,20.0 M252.30940107675852,20.0 L243.0717967697245,36.0 L250.00000000000003,24.0 Q252.30940107675852,20.0,260.3094010767585,20.0 L284.3094010767585,20.0 M300.3094010767585,20.0 C306.0,24.0,290.0,24.0,300.3094010767585,20.0 Q308.8452994616208,26.0,324.3094010767585,20.0 L336.3094010767585,20.0 C342.0,24.0,326.0,24.0,336.3094010767585,20.0 L360.3094010767585,20.0 C372.3094010767585,20.0,367.6905989232415,28.0,363.6905989232415,28.0 C359.6905989232415,28.0,362.0,24.0,364.3094010767585,20.0 L368.92820323027547,12.0 M364.3094010767585,20.0 M380.3094010767585,20.0 L428.3094010767585,20.0 Q436.04145188432744,17.0,440.3094010767585,20.0 M456.3094010767585,20.0 M14.309401076758519,60.0 Q20.000000000000014,64.0,9.69059892324151,68.0 C20.000000000000014,64.0,12.000000000000014,64.0,22.30940107675852,60.0 Q37.77350269189627,54.0,46.30940107675852,60.0 C52.618802153517024,56.0,59.54700538379253,44.0,55.54700538379253,44.0 C51.54700538379253,44.0,46.92820323027553,52.0,46.30940107675852,60.0 M62.30940107675852,60.0 Q70.04145188432739,57.0,74.30940107675852,60.0 C76.00000000000001,64.0,73.69059892324151,68.0,69.69059892324151,68.0 C65.69059892324151,68.0,68.00000000000001,64.0,74.30940107675852,60.0 Q80.61880215351702,56.0,82.92820323027553,52.0 L78.30940107675852,60.0 Q82.57735026918964,63.0,90.30940107675852,60.0 M106.30940107675852,60.0 L97.0717967697245,76.0 L104.00000000000001,64.0 Q106.30940107675852,60.0,114.30940107675852,60.0 L138.3094010767585,60.0 M154.30940107675852,60.0 Q160.0,64.0,149.69059892324148,68.0 C160.0,64.0,152.0,64.0,162.30940107675852,60.0 Q170.0414518843274,57.0,174.30940107675852,60.0 Q169.69059892324148,68.0,173.69059892324148,68.0 Q177.69059892324148,68.0,182.30940107675852,60.0 L206.30940107675852,60.0 C214.30940107675852,60.0,218.9282032302755,52.0,214.9282032302755,52.0 C210.9282032302755,52.0,208.618802153517,56.0,210.30940107675852,60.0 M218.30940107675852,60.0 Q221.15470053837925,62.0,216.0,64.0 M226.30940107675852,60.0 M242.30940107675852,60.0 L233.0717967697245,76.0 L240.0,64.0 Q242.30940107675852,60.0,250.30940107675852,60.0 L274.3094010767585,60.0 Q282.3094010767585,60.0,284.618802153517,56.0 L286.92820323027547,52.0 L282.3094010767585,60.0 M298.3094010767585,60.0 L289.07179676972453,76.0 L296.0,64.0 Q298.3094010767585,60.0,306.3094010767585,60.0 L330.3094010767585,60.0 M346.3094010767585,60.0 M355.54700538379257,44.0 Q358.92820323027547,52.0,346.3094010767585,60.0 L358.3094010767585,60.0 Q352.618802153517,56.0,362.92820323027547,52.0 M358.3094010767585,60.0 M374.3094010767585,60.0 Q378.57735026918965,63.0,386.3094010767585,60.0 L398.3094010767585,60.0 Q406.3094010767585,60.0,408.618802153517,56.0 L415.54700538379257,44.0 L406.3094010767585,60.0 M422.3094010767585,60.0 M14.309401076758519,100.0 C16.000000000000014,104.0,13.69059892324151,108.0,9.69059892324151,108.0 C5.6905989232415095,108.0,10.309401076758519,100.0,18.30940107675852,100.0 L66.30940107675852,100.0 Q74.30940107675852,100.0,76.61880215351702,96.0 L78.92820323027553,92.0 L74.30940107675852,100.0 M90.30940107675852,100.0 M99.54700538379254,84.0 Q102.92820323027553,92.0,90.30940107675852,100.0 Q98.04145188432739,97.0,102.30940107675852,100.0 Q110.04145188432739,97.0,114.30940107675852,100.0 M130.30940107675852,100.0 M139.54700538379254,84.0 L130.30940107675852,100.0 Q138.0414518843274,97.0,142.30940107675852,100.0 Q146.92820323027553,92.0,150.92820323027553,92.0 Q154.92820323027553,92.0,150.30940107675852,100.0 Q158.30940107675852,100.0,160.618802153517,96.0 L162.92820323027553,92.0 Q158.30940107675852,100.0,160.30940107675852,100.0 C170.30940107675852,100.0,174.92820323027553,92.0,170.92820323027553,92.0 C166.92820323027553,92.0,164.618802153517,96.0,166.30940107675852,100.0 Q183.381197846483,112.0,214.30940107675852,100.0 Q222.0414518843274,97.0,226.3094010767585,100.0 L235.5470053837925,84.0 M226.3094010767585,100.0 M242.3094010767585,100.0 Q257.7735026918963,94.0,266.3094010767585,100.0 Q275.54700538379245,84.0,279.54700538379245,84.0 Q283.54700538379245,84.0,274.3094010767585,100.0 M290.3094010767585,100.0 L338.3094010767585,100.0 Q346.04145188432733,97.0,350.3094010767585,100.0 M366.3094010767585,100.0 M361.6905989232415,108.0 Q356.0,104.0,366.3094010767585,100.0 Q397.23760430703396,88.0,414.3094010767585,100.0 L423.54700538379245,84.0 M414.3094010767585,100.0 M430.3094010767585,100.0 M14.309401076758519,140.0 M18.92820323027553,132.0 C24.618802153517024,136.0,14.309401076758519,140.0,20.30940107675852,140.0 C28.30940107675852,140.0,37.54700538379253,124.0,33.54700538379253,124.0 C29.54700538379253,124.0,24.92820323027553,132.0,24.30940107675852,140.0 Q55.237604307034026,128.0,72.30940107675852,140.0 C78.00000000000003,144.0,75.69059892324152,148.0,71.69059892324152,148.0 C67.69059892324151,148.0,70.00000000000001,144.0,72.30940107675852,140.0 L81.54700538379254,124.0 M72.30940107675852,140.0 M80.30940107675853,140.0 Q80.02072594216372,140.5,80.52072594216372,140.5 Q81.02072594216372,140.5,81.30940107675853,140.0 Q81.59807621135334,139.5,81.09807621135334,139.5 Q80.59807621135334,139.5,80.30940107675853,140.0 M88.30940107675853,140.0 M104.30940107675853,140.0 Q112.0414518843274,137.0,116.30940107675853,140.0 L120.92820323027554,132.0 M116.30940107675853,140.0 M132.30940107675855,140.0 M136.92820323027553,132.0 Q126.61880215351704,136.0,132.30940107675855,140.0 L156.30940107675852,140.0 C164.30940107675852,140.0,159.69059892324154,148.0,155.69059892324154,148.0 C151.69059892324154,148.0,154.00000000000003,144.0,160.30940107675852,140.0 Q166.61880215351704,136.0,168.92820323027556,132.0 L164.30940107675852,140.0 Q172.04145188432742,137.0,176.30940107675852,140.0 C178.00000000000003,144.0,175.69059892324154,148.0,171.69059892324154,148.0 C167.69059892324154,148.0,170.00000000000003,144.0,176.30940107675852,140.0 Q184.04145188432742,137.0,188.30940107675852,140.0 Q192.57735026918965,143.0,200.30940107675852,140.0 Q208.30940107675852,140.0,210.61880215351704,136.0 L217.54700538379254,124.0 L208.30940107675852,140.0 M224.30940107675852,140.0 M219.69059892324154,148.0 Q230.00000000000003,144.0,224.30940107675852,140.0 L272.3094010767585,140.0 C280.3094010767585,140.0,289.54700538379257,124.0,285.54700538379257,124.0 C281.54700538379257,124.0,276.9282032302756,132.0,276.3094010767585,140.0 Q284.04145188432744,137.0,288.3094010767585,140.0 C290.0,144.0,283.07179676972453,156.0,279.07179676972453,156.0 C275.07179676972453,156.0,279.6905989232415,148.0,288.3094010767585,140.0 M304.3094010767585,140.0 Q312.04145188432744,137.0,316.3094010767585,140.0 C318.0,144.0,315.6905989232415,148.0,311.6905989232415,148.0 C307.6905989232415,148.0,310.0,144.0,316.3094010767585,140.0 Q322.618802153517,136.0,324.9282032302756,132.0 L320.3094010767585,140.0 Q324.57735026918965,143.0,332.3094010767585,140.0 M348.3094010767585,140.0 L339.07179676972453,156.0 L346.0,144.0 Q348.3094010767585,140.0,356.3094010767585,140.0 L380.3094010767585,140.0 Q388.3094010767585,140.0,390.618802153517,136.0 L392.9282032302756,132.0 L388.3094010767585,140.0 M404.3094010767585,140.0 M14.309401076758519,180.0 Q18.92820323027553,172.0,22.92820323027553,172.0 Q26.92820323027553,172.0,22.30940107675852,180.0 Q30.30940107675852,180.0,32.618802153517024,176.0 L34.92820323027553,172.0 L30.30940107675852,180.0 L78.30940107675852,180.0 C86.30940107675852,180.0,90.92820323027553,172.0,86.92820323027553,172.0 C82.92820323027553,172.0,80.61880215351702,176.0,82.30940107675852,180.0 Q90.04145188432739,177.0,94.30940107675852,180.0 Q102.04145188432739,177.0,106.30940107675852,180.0 M122.30940107675852,180.0 Q130.0414518843274,177.0,134.30940107675852,180.0 C144.618802153517,176.0,136.61880215351704,176.0,146.92820323027553,172.0 C136.61880215351704,176.0,142.30940107675852,180.0,144.30940107675852,180.0 C146.30940107675852,180.0,150.92820323027553,172.0,154.92820323027553,172.0 C158.92820323027553,172.0,154.30940107675852,180.0,156.30940107675852,180.0 C158.30940107675852,180.0,168.618802153517,176.0,162.92820323027553,172.0 C168.618802153517,176.0,160.618802153517,176.0,166.30940107675852,180.0 Q197.23760430703402,168.0,214.30940107675852,180.0 C220.00000000000003,184.0,217.6905989232415,188.0,213.6905989232415,188.0 C209.6905989232415,188.0,212.00000000000003,184.0,214.30940107675852,180.0 Q218.92820323027553,172.0,222.92820323027553,172.0 Q226.92820323027553,172.0,222.30940107675852,180.0 M238.30940107675852,180.0 L262.3094010767585,180.0 Q265.6905989232415,188.0,253.0717967697245,196.0 M262.3094010767585,180.0 M278.3094010767585,180.0 Q282.57735026918965,183.0,290.3094010767585,180.0 Q298.04145188432733,177.0,302.3094010767585,180.0 Q310.3094010767585,180.0,312.618802153517,176.0 L314.92820323027547,172.0 L310.3094010767585,180.0 Q305.6905989232415,188.0,309.6905989232415,188.0 Q313.6905989232415,188.0,318.3094010767585,180.0 M334.3094010767585,180.0 L382.3094010767585,180.0 Q390.04145188432733,177.0,394.3094010767585,180.0 M410.3094010767585,180.0 M14.309401076758519,220.0 M9.69059892324151,228.0 Q4.000000000000014,224.0,14.309401076758519,220.0 Q45.237604307034005,208.0,62.309401076758505,220.0 L71.54700538379251,204.0 M62.309401076758505,220.0 M78.3094010767585,220.0 Q86.84529946162074,226.0,102.3094010767585,220.0 L114.3094010767585,220.0 C122.3094010767585,220.0,117.6905989232415,228.0,113.6905989232415,228.0 C109.6905989232415,228.0,114.3094010767585,220.0,120.3094010767585,220.0 C126.3094010767585,220.0,135.5470053837925,204.0,131.5470053837925,204.0 C127.54700538379251,204.0,122.9282032302755,212.0,122.3094010767585,220.0 Q130.0414518843274,217.0,134.3094010767585,220.0 Q142.0414518843274,217.0,146.30940107675852,220.0 M162.30940107675852,220.0 L186.30940107675852,220.0 M202.30940107675852,220.0 M197.69059892324148,228.0 Q206.84529946162073,226.0,210.30940107675852,220.0 C214.9282032302755,212.0,219.5470053837925,204.0,215.5470053837925,204.0 C211.5470053837925,204.0,206.9282032302755,212.0,210.30940107675852,220.0 Q218.04145188432736,217.0,222.30940107675852,220.0 Q230.04145188432736,217.0,234.30940107675852,220.0 Q242.30940107675852,220.0,244.618802153517,216.0 L246.9282032302755,212.0 L242.30940107675852,220.0 Q250.04145188432736,217.0,254.30940107675852,220.0 C256.0,224.0,249.0717967697245,236.0,245.0717967697245,236.0 C241.0717967697245,236.0,245.69059892324148,228.0,254.30940107675852,220.0 M270.3094010767585,220.0 M279.54700538379245,204.0 C266.92820323027547,212.0,270.3094010767585,220.0,274.3094010767585,220.0 C282.3094010767585,220.0,291.54700538379245,204.0,287.54700538379245,204.0 C283.54700538379245,204.0,278.92820323027547,212.0,278.3094010767585,220.0 Q286.04145188432733,217.0,290.3094010767585,220.0 C296.0,224.0,280.0,224.0,290.3094010767585,220.0 Q300.618802153517,216.0,294.92820323027547,212.0 C300.618802153517,216.0,292.618802153517,216.0,298.3094010767585,220.0 Q302.92820323027547,212.0,306.92820323027547,212.0 Q310.92820323027547,212.0,306.3094010767585,220.0 M314.3094010767585,220.0 Q314.0207259421637,220.5,314.5207259421637,220.5 Q315.0207259421637,220.5,315.3094010767585,220.0 Q315.59807621135326,219.5,315.09807621135326,219.5 Q314.59807621135326,219.5,314.3094010767585,220.0 M322.3094010767585,220.0 M338.3094010767585,220.0 L386.3094010767585,220.0 Q394.04145188432733,217.0,398.3094010767585,220.0 M414.3094010767586,220.0 M14.309401076758519,260.0 M9.69059892324151,268.0 Q4.0,264.0,14.309401076758519,260.0 Q45.23760430703402,248.0,62.30940107675852,260.0 Q65.69059892324151,268.0,53.0717967697245,276.0 M62.30940107675852,260.0 M78.30940107675852,260.0 M82.92820323027553,252.0 Q78.30940107675852,260.0,80.30940107675852,260.0 C90.30940107675852,260.0,94.92820323027553,252.0,90.92820323027553,252.0 C86.92820323027553,252.0,82.30940107675852,260.0,90.30940107675852,260.0 L138.30940107675855,260.0 Q146.04145188432742,257.0,150.30940107675855,260.0 L159.54700538379257,244.0 M150.30940107675855,260.0 M166.30940107675855,260.0 M170.92820323027556,252.0 L166.30940107675855,260.0 Q174.04145188432742,257.0,178.30940107675855,260.0 M194.30940107675855,260.0 Q198.92820323027556,252.0,202.92820323027556,252.0 C206.92820323027556,252.0,202.30940107675855,260.0,204.30940107675855,260.0 C206.30940107675855,260.0,216.61880215351704,256.0,210.92820323027556,252.0 C216.61880215351704,256.0,208.61880215351704,256.0,214.30940107675855,260.0 Q229.77350269189628,254.0,238.30940107675855,260.0 C248.61880215351704,256.0,240.61880215351704,256.0,250.92820323027556,252.0 Q240.61880215351704,256.0,246.30940107675855,260.0 Q254.04145188432742,257.0,258.30940107675855,260.0 L282.3094010767585,260.0 C290.3094010767585,260.0,299.54700538379257,244.0,295.54700538379257,244.0 C291.54700538379257,244.0,286.9282032302756,252.0,286.3094010767585,260.0 Q301.7735026918963,254.0,310.3094010767585,260.0 Q318.04145188432744,257.0,322.3094010767585,260.0 L326.9282032302756,252.0 M322.3094010767585,260.0 M338.3094010767585,260.0 Q342.57735026918965,263.0,350.3094010767585,260.0 Q365.7735026918963,254.0,374.3094010767585,260.0 C380.618802153517,256.0,382.9282032302756,252.0,378.9282032302756,252.0 C374.9282032302756,252.0,372.618802153517,256.0,374.3094010767585,260.0 M390.3094010767585,260.0 Q398.04145188432744,257.0,402.3094010767585,260.0 L406.9282032302756,252.0 M402.3094010767585,260.0 M418.3094010767585,260.0 M14.309401076758519,300.0 C20.00000000000003,304.0,4.000000000000028,304.0,14.309401076758519,300.0 L62.30940107675852,300.0 Q70.04145188432742,297.0,74.30940107675852,300.0 L78.92820323027553,292.0 M74.30940107675852,300.0 M90.30940107675852,300.0 M85.69059892324151,308.0 Q80.00000000000003,304.0,90.30940107675852,300.0 Q121.23760430703405,288.0,138.30940107675852,300.0 Q141.6905989232415,308.0,129.0717967697245,316.0 M138.30940107675852,300.0 M154.30940107675852,300.0 C160.61880215351704,296.0,167.54700538379254,284.0,163.54700538379254,284.0 C159.54700538379254,284.0,154.92820323027553,292.0,154.30940107675852,300.0 Q185.23760430703405,288.0,202.30940107675852,300.0 C204.00000000000003,304.0,201.6905989232415,308.0,197.6905989232415,308.0 C193.6905989232415,308.0,196.00000000000003,304.0,202.30940107675852,300.0 Q208.61880215351704,296.0,210.92820323027553,292.0 L215.54700538379254,284.0 L206.30940107675852,300.0 Q214.04145188432742,297.0,218.30940107675852,300.0 L227.54700538379254,284.0 M218.30940107675852,300.0 M226.30940107675852,300.0 Q229.15470053837927,302.0,224.00000000000003,304.0 M234.30940107675852,300.0 M250.30940107675852,300.0 M259.54700538379257,284.0 Q262.9282032302755,292.0,250.30940107675852,300.0 L274.3094010767585,300.0 Q282.3094010767585,300.0,284.618802153517,296.0 L286.92820323027547,292.0 L282.3094010767585,300.0 M298.3094010767585,300.0 L346.3094010767585,300.0 Q354.04145188432744,297.0,358.3094010767585,300.0 M374.3094010767585,300.0 C380.0,304.0,364.0,304.0,374.3094010767585,300.0 L398.3094010767585,300.0 Q402.92820323027547,292.0,406.92820323027547,292.0 C410.92820323027547,292.0,406.3094010767585,300.0,410.3094010767585,300.0 Q412.3094010767585,300.0,416.92820323027547,292.0 M412.3094010767585,300.0 M428.3094010767585,300.0 M14.309401076758519,340.0 L38.30940107675852,340.0 Q46.30940107675852,340.0,48.61880215351701,336.0 L55.54700538379254,324.0 L46.30940107675852,340.0 C52.0,344.0,36.0,344.0,46.30940107675852,340.0 Q54.04145188432739,337.0,58.30940107675852,340.0 L62.92820323027553,332.0 M58.30940107675852,340.0 M66.30940107675852,340.0 Q69.15470053837927,342.0,64.0,344.0 M74.30940107675852,340.0 M90.30940107675852,340.0 M85.69059892324151,348.0 Q80.0,344.0,90.30940107675852,340.0 Q98.84529946162075,346.0,114.30940107675852,340.0 Q118.57735026918962,343.0,126.30940107675852,340.0 Q141.77350269189625,334.0,150.30940107675852,340.0 Q153.6905989232415,348.0,141.0717967697245,356.0 C153.6905989232415,348.0,148.0,344.0,158.30940107675852,340.0 Q173.77350269189625,334.0,182.30940107675852,340.0 C188.618802153517,336.0,190.92820323027553,332.0,186.92820323027553,332.0 C182.92820323027553,332.0,180.618802153517,336.0,182.30940107675852,340.0 M191.46410161513776,338.0 L193.15470053837927,342.0 M202.30940107675852,340.0 Q206.92820323027553,332.0,210.92820323027553,332.0 Q214.92820323027553,332.0,210.30940107675852,340.0 Q214.57735026918962,343.0,222.30940107675852,340.0 Q212.0,344.0,217.6905989232415,348.0 M222.30940107675852,340.0 M238.30940107675852,340.0 M242.92820323027553,332.0 Q232.618802153517,336.0,238.30940107675852,340.0 L262.3094010767585,340.0 C270.3094010767585,340.0,265.6905989232415,348.0,261.6905989232415,348.0 C257.6905989232415,348.0,260.0,344.0,266.3094010767585,340.0 Q272.618802153517,336.0,274.92820323027547,332.0 L279.54700538379257,324.0 L270.3094010767585,340.0 Q261.07179676972453,356.0,265.07179676972453,356.0 Q269.07179676972453,356.0,278.3094010767585,340.0 Q293.7735026918963,334.0,302.3094010767585,340.0 C312.618802153517,336.0,304.618802153517,336.0,314.92820323027547,332.0 Q304.618802153517,336.0,310.3094010767585,340.0 Q318.3094010767585,340.0,320.618802153517,336.0 L322.92820323027547,332.0 L318.3094010767585,340.0 Q313.6905989232415,348.0,317.6905989232415,348.0 Q321.6905989232415,348.0,326.3094010767585,340.0 L350.3094010767585,340.0 C358.3094010767585,340.0,362.92820323027547,332.0,358.92820323027547,332.0 C354.92820323027547,332.0,352.618802153517,336.0,354.3094010767585,340.0 M370.3094010767585,340.0 Q378.04145188432733,337.0,382.3094010767585,340.0 Q391.54700538379257,324.0,395.54700538379257,324.0 Q399.54700538379257,324.0,390.3094010767585,340.0 M406.3094010767585,340.0 M14.309401076758519,380.0 Q20.00000000000003,384.0,9.69059892324151,388.0 C20.00000000000003,384.0,12.000000000000028,384.0,22.30940107675852,380.0 Q30.041451884327415,377.0,34.30940107675852,380.0 Q38.57735026918965,383.0,46.30940107675852,380.0 Q54.30940107675852,380.0,56.61880215351704,376.0 L58.92820323027553,372.0 L54.30940107675852,380.0 L78.30940107675849,380.0 C86.30940107675849,380.0,95.54700538379251,364.0,91.54700538379251,364.0 C87.54700538379251,364.0,82.9282032302755,372.0,82.30940107675849,380.0 M90.30940107675849,380.0 Q90.0207259421637,380.5,90.5207259421637,380.5 Q91.0207259421637,380.5,91.30940107675849,380.0 Q91.59807621135332,379.5,91.09807621135332,379.5 Q90.59807621135332,379.5,90.30940107675849,380.0 M98.30940107675849,380.0 M114.30940107675849,380.0 Q118.9282032302755,372.0,122.9282032302755,372.0 Q126.9282032302755,372.0,122.30940107675849,380.0 Q130.3094010767585,380.0,132.618802153517,376.0 L134.9282032302755,372.0 L130.3094010767585,380.0 Q138.0414518843274,377.0,142.3094010767585,380.0 C148.618802153517,376.0,155.5470053837925,364.0,151.5470053837925,364.0 C147.5470053837925,364.0,142.9282032302755,372.0,142.3094010767585,380.0 M150.3094010767585,380.0 Q153.15470053837925,382.0,148.0,384.0 M158.3094010767585,380.0 M174.3094010767585,380.0 L165.07179676972447,396.0 L172.0,384.0 Q174.3094010767585,380.0,182.3094010767585,380.0 L206.3094010767585,380.0 M222.3094010767585,380.0 M226.9282032302755,372.0 Q216.618802153517,376.0,222.3094010767585,380.0 Q226.57735026918962,383.0,234.3094010767585,380.0 Q249.77350269189625,374.0,258.3094010767585,380.0 Q253.69059892324148,388.0,257.6905989232415,388.0 Q261.6905989232415,388.0,266.3094010767585,380.0 L290.3094010767585,380.0 C298.3094010767585,380.0,293.6905989232415,388.0,289.6905989232415,388.0 C285.6905989232415,388.0,288.0,384.0,294.3094010767585,380.0 M310.3094010767585,380.0 L334.3094010767585,380.0 Q337.6905989232415,388.0,325.0717967697244,396.0 M334.3094010767585,380.0 M350.3094010767585,380.0 M345.6905989232415,388.0 Q340.0,384.0,350.3094010767585,380.0 Q354.57735026918965,383.0,362.3094010767585,380.0 Q371.54700538379245,364.0,375.54700538379245,364.0 Q379.54700538379245,364.0,370.3094010767585,380.0 M386.3094010767585,380.0 M381.6905989232415,388.0 Q376.0,384.0,386.3094010767585,380.0 Q417.23760430703396,368.0,434.3094010767585,380.0 C440.0,384.0,437.6905989232415,388.0,433.6905989232415,388.0 C429.6905989232415,388.0,432.0,384.0,434.3094010767585,380.0 Q443.54700538379245,364.0,447.54700538379245,364.0 Q451.54700538379245,364.0,442.3094010767585,380.0 M458.3094010767585,380.0 M14.309401076758519,420.0 C20.0,424.0,4.0,424.0,14.309401076758519,420.0 L62.30940107675849,420.0 Q70.04145188432736,417.0,74.30940107675849,420.0 L78.9282032302755,412.0 M74.30940107675849,420.0 M90.30940107675849,420.0 Q94.9282032302755,412.0,98.9282032302755,412.0 Q102.9282032302755,412.0,98.30940107675849,420.0 L122.30940107675849,420.0 C127.99999999999997,424.0,111.99999999999997,424.0,122.30940107675849,420.0 Q130.3094010767585,420.0,132.61880215351698,416.0 L139.54700538379248,404.0 L130.3094010767585,420.0 Q145.77350269189623,414.0,154.3094010767585,420.0 Q162.04145188432736,417.0,166.3094010767585,420.0 M182.3094010767585,420.0 M177.69059892324148,428.0 Q171.99999999999997,424.0,182.3094010767585,420.0 Q190.84529946162073,426.0,206.3094010767585,420.0 L218.3094010767585,420.0 C226.3094010767585,420.0,235.54700538379248,404.0,231.54700538379248,404.0 C227.54700538379248,404.0,218.3094010767585,420.0,226.3094010767585,420.0 Q228.3094010767585,420.0,237.54700538379248,404.0 M228.3094010767585,420.0 M244.3094010767585,420.0 C249.99999999999997,424.0,233.99999999999997,424.0,244.3094010767585,420.0 L292.3094010767585,420.0 Q300.04145188432733,417.0,304.3094010767585,420.0 M320.3094010767585,420.0 C326.0,424.0,310.0,424.0,320.3094010767585,420.0 Q328.04145188432733,417.0,332.3094010767585,420.0 Q336.92820323027547,412.0,340.92820323027547,412.0 C344.92820323027547,412.0,340.3094010767585,420.0,344.3094010767585,420.0 Q346.3094010767585,420.0,350.92820323027547,412.0 M346.3094010767585,420.0 M362.3094010767585,420.0 M371.54700538379245,404.0 Q374.92820323027547,412.0,362.3094010767585,420.0 L374.3094010767585,420.0 Q368.618802153517,416.0,378.92820323027547,412.0 M374.3094010767585,420.0 M390.3094010767585,420.0 L414.3094010767585,420.0 C422.3094010767585,420.0,426.92820323027547,412.0,422.92820323027547,412.0 C418.92820323027547,412.0,416.618802153517,416.0,418.3094010767585,420.0 M434.3094010767585,420.0 M14.309401076758519,460.0 L38.30940107675852,460.0 C50.30940107675852,460.0,45.69059892324154,468.0,41.69059892324154,468.0 C37.69059892324154,468.0,40.00000000000003,464.0,42.30940107675852,460.0 Q46.92820323027553,452.0,50.92820323027553,452.0 Q54.92820323027553,452.0,50.30940107675852,460.0 Q65.77350269189628,454.0,74.30940107675852,460.0 Q82.30940107675852,460.0,84.61880215351704,456.0 L86.92820323027553,452.0 L82.30940107675852,460.0 L106.30940107675852,460.0 C114.30940107675852,460.0,123.54700538379254,444.0,119.54700538379254,444.0 C115.54700538379254,444.0,110.92820323027553,452.0,110.30940107675852,460.0 Q118.04145188432739,457.0,122.30940107675852,460.0 C124.00000000000003,464.0,117.0717967697245,476.0,113.0717967697245,476.0 C109.0717967697245,476.0,113.69059892324154,468.0,122.30940107675852,460.0 M138.30940107675852,460.0 M142.92820323027553,452.0 L138.30940107675852,460.0 Q146.0414518843274,457.0,150.30940107675852,460.0 M166.30940107675852,460.0 C172.00000000000003,464.0,156.00000000000003,464.0,166.30940107675852,460.0 Q174.0414518843274,457.0,178.30940107675852,460.0 Q186.0414518843274,457.0,190.30940107675852,460.0 M198.30940107675852,460.0 Q198.02072594216372,460.5,198.52072594216372,460.5 Q199.02072594216372,460.5,199.30940107675852,460.0 Q199.59807621135334,459.5,199.09807621135334,459.5 Q198.59807621135334,459.5,198.30940107675852,460.0 M206.30940107675852,460.0 M222.30940107675852,460.0 L270.3094010767585,460.0 Q278.04145188432733,457.0,282.3094010767585,460.0 M298.3094010767585,460.0 C300.0,464.0,297.6905989232415,468.0,293.6905989232415,468.0 C289.6905989232415,468.0,292.0,464.0,298.3094010767585,460.0 Q306.8452994616207,466.0,322.3094010767585,460.0 L334.3094010767585,460.0 M350.3094010767585,460.0 L341.0717967697244,476.0 L348.0,464.0 Q350.3094010767585,460.0,358.3094010767585,460.0 L382.3094010767585,460.0 Q390.3094010767585,460.0,392.618802153517,456.0 L394.92820323027547,452.0 L390.3094010767585,460.0 M406.3094010767585,460.0 M14.309401076758519,500.0 C20.00000000000003,504.0,4.000000000000028,504.0,14.309401076758519,500.0 L62.30940107675852,500.0 Q70.04145188432736,497.0,74.30940107675852,500.0 M90.30940107675852,500.0 Q121.23760430703399,488.0,138.30940107675852,500.0 Q148.618802153517,496.0,142.9282032302755,492.0 C148.618802153517,496.0,138.30940107675852,500.0,148.30940107675852,500.0 C156.30940107675852,500.0,160.9282032302755,492.0,156.9282032302755,492.0 C152.9282032302755,492.0,150.618802153517,496.0,152.30940107675852,500.0 Q160.04145188432736,497.0,164.30940107675852,500.0 C170.00000000000003,504.0,162.00000000000003,504.0,167.69059892324148,508.0 Q162.00000000000003,504.0,172.30940107675852,500.0 Q187.77350269189625,494.0,196.30940107675852,500.0 C198.00000000000003,504.0,195.69059892324148,508.0,191.69059892324148,508.0 C187.69059892324148,508.0,192.30940107675852,500.0,200.30940107675852,500.0 C204.30940107675852,500.0,199.69059892324148,508.0,203.69059892324148,508.0 Q207.69059892324148,508.0,212.30940107675852,500.0 L236.30940107675852,500.0 C248.30940107675852,500.0,243.69059892324148,508.0,239.69059892324148,508.0 C235.69059892324148,508.0,238.00000000000003,504.0,240.30940107675852,500.0 Q249.54700538379254,484.0,253.54700538379254,484.0 Q257.54700538379257,484.0,248.30940107675852,500.0 M264.3094010767586,500.0 C270.0000000000001,504.0,254.00000000000009,504.0,264.3094010767586,500.0 L312.3094010767586,500.0 Q320.04145188432744,497.0,324.3094010767586,500.0 L328.9282032302756,492.0 M324.3094010767586,500.0 M340.3094010767586,500.0 C342.0000000000001,504.0,339.6905989232415,508.0,335.6905989232415,508.0 C331.6905989232415,508.0,334.0000000000001,504.0,340.3094010767586,500.0 Q355.7735026918963,494.0,364.3094010767586,500.0 Q367.6905989232415,508.0,355.07179676972453,516.0 C367.6905989232415,508.0,362.0000000000001,504.0,372.3094010767586,500.0 L396.3094010767586,500.0 C404.3094010767586,500.0,408.9282032302756,492.0,404.9282032302756,492.0 C400.9282032302756,492.0,398.6188021535171,496.0,400.3094010767586,500.0 M416.3094010767586,500.0 M14.309401076758519,540.0 M23.54700538379248,524.0 Q26.9282032302755,532.0,14.309401076758519,540.0 Q22.04145188432736,537.0,26.30940107675852,540.0 Q34.04145188432736,537.0,38.30940107675852,540.0 M54.30940107675852,540.0 L78.30940107675852,540.0 C86.30940107675852,540.0,95.54700538379248,524.0,91.54700538379248,524.0 C87.54700538379248,524.0,82.9282032302755,532.0,82.30940107675852,540.0 Q97.77350269189625,534.0,106.30940107675852,540.0 Q114.04145188432736,537.0,118.30940107675852,540.0 L127.54700538379248,524.0 M118.30940107675852,540.0 M126.30940107675852,540.0 Q129.15470053837922,542.0,123.99999999999997,544.0 M134.30940107675852,540.0 M150.30940107675852,540.0 L174.30940107675852,540.0 C186.30940107675852,540.0,181.69059892324148,548.0,177.69059892324148,548.0 C173.69059892324148,548.0,175.99999999999997,544.0,178.30940107675852,540.0 L187.54700538379248,524.0 M178.30940107675852,540.0 M194.30940107675852,540.0 Q198.9282032302755,532.0,202.9282032302755,532.0 Q206.9282032302755,532.0,202.30940107675852,540.0 Q210.84529946162073,546.0,226.30940107675846,540.0 L238.30940107675846,540.0 M254.30940107675846,540.0 L302.3094010767585,540.0 Q310.04145188432733,537.0,314.3094010767585,540.0 M330.3094010767585,540.0 M334.92820323027547,532.0 C324.618802153517,536.0,330.3094010767585,540.0,334.3094010767585,540.0 C342.3094010767585,540.0,351.54700538379245,524.0,347.54700538379245,524.0 C343.54700538379245,524.0,338.92820323027547,532.0,338.3094010767585,540.0 Q346.8452994616207,546.0,362.3094010767585,540.0 L374.3094010767585,540.0 Q383.54700538379245,524.0,387.54700538379245,524.0 Q391.54700538379245,524.0,382.3094010767585,540.0 M390.3094010767585,540.0 Q393.1547005383792,542.0,387.9999999999999,544.0 M398.3094010767585,540.0 M414.3094010767585,540.0 M14.309401076758519,580.0 C20.618802153517066,576.0,22.928203230275557,572.0,18.928203230275557,572.0 C14.928203230275557,572.0,12.618802153517066,576.0,14.309401076758519,580.0 Q22.041451884327415,577.0,26.30940107675852,580.0 Q34.041451884327415,577.0,38.30940107675852,580.0 L62.30940107675852,580.0 C70.30940107675852,580.0,79.54700538379254,564.0,75.54700538379254,564.0 C71.54700538379254,564.0,62.30940107675852,580.0,70.30940107675852,580.0 L118.30940107675852,580.0 Q126.04145188432742,577.0,130.30940107675852,580.0 Q139.54700538379254,564.0,143.54700538379254,564.0 Q147.54700538379254,564.0,138.30940107675852,580.0 Q146.04145188432742,577.0,150.30940107675852,580.0 C152.00000000000003,584.0,145.0717967697245,596.0,141.0717967697245,596.0 C137.0717967697245,596.0,141.69059892324154,588.0,150.30940107675852,580.0 M166.30940107675852,580.0 L157.0717967697245,596.0 L164.00000000000003,584.0 Q166.30940107675852,580.0,174.30940107675852,580.0 L198.30940107675852,580.0 Q206.30940107675852,580.0,208.61880215351707,576.0 L210.92820323027556,572.0 L206.30940107675852,580.0 M222.30940107675852,580.0 M226.92820323027556,572.0 Q232.61880215351707,576.0,222.30940107675852,580.0 L246.30940107675852,580.0 C254.30940107675852,580.0,258.9282032302756,572.0,254.92820323027556,572.0 C250.92820323027556,572.0,248.61880215351707,576.0,250.30940107675852,580.0 C256.0,584.0,248.00000000000003,584.0,253.69059892324154,588.0 Q248.00000000000003,584.0,258.3094010767585,580.0 Q289.2376043070341,568.0,306.3094010767585,580.0 Q316.6188021535171,576.0,310.9282032302756,572.0 C316.6188021535171,576.0,308.6188021535171,576.0,314.3094010767585,580.0 Q318.9282032302756,572.0,322.9282032302756,572.0 Q326.9282032302756,572.0,322.3094010767585,580.0 M330.3094010767585,580.0 Q333.1547005383793,582.0,328.0,584.0 M338.3094010767585,580.0 M354.3094010767585,580.0 L345.07179676972453,596.0 L352.0,584.0 Q354.3094010767585,580.0,362.3094010767585,580.0 L386.3094010767585,580.0 M402.3094010767585,580.0 M14.309401076758519,620.0 Q29.773502691896255,614.0,38.30940107675852,620.0 C40.00000000000003,624.0,37.69059892324154,628.0,33.69059892324154,628.0 C29.690598923241538,628.0,32.00000000000003,624.0,38.30940107675852,620.0 Q44.61880215351701,616.0,46.9282032302755,612.0 L51.54700538379254,604.0 L42.30940107675852,620.0 Q50.041451884327415,617.0,54.30940107675852,620.0 C56.00000000000003,624.0,49.0717967697245,636.0,45.0717967697245,636.0 C41.0717967697245,636.0,45.69059892324154,628.0,54.30940107675852,620.0 M70.30940107675852,620.0 M65.69059892324154,628.0 Q60.00000000000003,624.0,70.30940107675852,620.0 L94.30940107675852,620.0 Q103.54700538379254,604.0,107.54700538379254,604.0 Q111.54700538379254,604.0,102.30940107675852,620.0 M118.30940107675852,620.0 C120.00000000000003,624.0,117.69059892324154,628.0,113.69059892324154,628.0 C109.69059892324154,628.0,114.30940107675852,620.0,122.30940107675852,620.0 L170.30940107675852,620.0 Q178.30940107675852,620.0,180.618802153517,616.0 L182.9282032302755,612.0 L178.30940107675852,620.0 M194.30940107675852,620.0 Q202.04145188432742,617.0,206.30940107675852,620.0 Q221.77350269189625,614.0,230.30940107675852,620.0 L234.9282032302755,612.0 M230.30940107675852,620.0 M246.30940107675852,620.0 M255.54700538379254,604.0 Q258.92820323027547,612.0,246.30940107675852,620.0 Q254.04145188432742,617.0,258.3094010767585,620.0 C260.0,624.0,257.6905989232415,628.0,253.69059892324154,628.0 C249.69059892324154,628.0,252.00000000000003,624.0,258.3094010767585,620.0 M274.3094010767585,620.0 C280.618802153517,616.0,282.92820323027547,612.0,278.92820323027547,612.0 C274.92820323027547,612.0,272.618802153517,616.0,274.3094010767585,620.0 Q282.04145188432744,617.0,286.3094010767585,620.0 Q294.3094010767585,620.0,296.618802153517,616.0 L298.92820323027547,612.0 L294.3094010767585,620.0 L318.3094010767585,620.0 C326.3094010767585,620.0,321.6905989232415,628.0,317.6905989232415,628.0 C313.6905989232415,628.0,316.0,624.0,322.3094010767585,620.0 M330.3094010767585,620.0 Q330.0207259421637,620.5,330.5207259421637,620.5 Q331.0207259421637,620.5,331.3094010767585,620.0 Q331.5980762113534,619.5,331.0980762113534,619.5 Q330.5980762113534,619.5,330.3094010767585,620.0 M338.3094010767585,620.0\" stroke=\"black\" fill=\"none\" stroke-width=\"1.3333333333333333\" stroke-linecap=\"round\" stroke-linejoin=\"round\" id=\"kSHpbLv60\" />\n",
       "</defs>\n",
       "<use xlink:href=\"#kSHpbLv60\" x=\"0\" y=\"0\" />\n",
       "</svg>"
      ],
      "text/plain": [
       "<drawsvg.drawing.Drawing at 0x10a48be80>"
      ]
     },
     "metadata": {},
     "output_type": "display_data"
    }
   ],
   "source": [
    "show_grafoni_kerned_wrapped_ligs(\"I realized, the moment I fell into the fissure, that the book would not be destroyed as I had planned. It continued falling into that starry expanse of which I had only a fleeting glimpse. I have tried to speculate where it might have landed, but I must admit, however-such conjecture is futile. Still, the question of whose hands might someday hold my mist book are unsettling to me. I know that my apprehensions might never be allayed, and so I close, realizing that perhaps, the ending has not yet been written.\",shear_val=-1/sqrt(3),wrap=95)"
   ]
  },
  {
   "cell_type": "code",
   "execution_count": 1022,
   "metadata": {},
   "outputs": [
    {
     "name": "stdout",
     "output_type": "stream",
     "text": [
      "dh mv2   th_uv1 ng   dh mv2 t   h-beg uv1 uv1   lv1 mv3 z   mv2 b mv3 mv1 t   t-beg uv1   d-beg lv1   lv1 mv3 z   t-beg uv1   lv2 mv1 p mv2 n   mv2   d-beg mv3 uv1 mv2 r uv1 uv1 .   dh_uv1 s   lv1 mv3 z   n mv3 t   uv1 l uv1 uv1 g mv2 l   ( n mv2 th_uv1 ng   lv1 mv3 z   uv1 l uv1 uv1 g mv2 l ,   s uv1 n_s   dh_uv2 r   lv1 mv2 r   n lv2 mv1   l lv3 ng g mv2 r   uv2 n uv1 uv1   l lv3 z ) ,   b-beg mv2 t   uv1 f-end   d-beg uv1 t uv2 k t uv1 d-end   uv1 t-end   lv1 mv3 z   r uv1 uv1 z mv2 n mv2 b l uv1 uv1   s mv2 r t mv2 n   dh mv2 t   uv1 t-end   lv1 mv1 d   b-beg uv1 uv1   p-beg mv2 n uv1 sh t-end   b-beg mv3 uv1   d-beg uv2 th-end ,   mv2 r   uv3 t-end   l uv1 uv1 s t-end   b-beg mv3 uv1   t-beg lv1 uv2 n_t uv1 uv1 f mv3 uv1 v-end   uv1 uv1 r z   uv1 n   mv2   f-beg lv2 r c uv2 d-end - l mv3 b lv2 lv1 r   k-beg uv3 m p-end .   lv1 uv1 n_s t mv2 n   f uv1 t uv1 d-end   mv2   n uv1 b-end   uv1 n_t lv1   dh mv2   p-beg uv2 n h lv2 l d uv2 r   mv2 n_d-end   s mv2 k t-end   uv1 t-end   t-beg uv1   g-beg uv1 t-end   dh mv2   g-beg r uv1 uv1 s   lv3 f-end .   dh mv2   p-beg uv2 n   lv1 mv3 z   mv2 n   mv3 r k uv2 uv1 uv1 k-end   uv1 n_s t r mv2 m mv2 n_t-end ,   s uv2 l d mv2 m   uv1 lv1 z d-end   uv1 uv1 v uv1 n   f-beg mv2 r   s uv1 g n mv2 t sh mv2 r z ,   mv2 n_d-end   h-beg uv1 uv1   h-beg uv3 d-end   p-beg r lv2 mv1 k uv1 mv1 r d-end   lv1 mv2 n ,   f-beg mv2 r t uv1 v_l uv1 uv1   mv2 n_d-end   lv1 uv1 th-end   s mv2 m   d-beg uv1 f uv1 k mv2 l t uv1 uv1 ,   s uv1 m p l uv1 uv1   b-beg uv1 k mv2 z   mv2 v-end   mv2   f uv1 uv1 l uv1 ng   dh mv2 t   dh mv2   b-beg uv1 lv1 t mv2 f mv2 l   k-beg r uv1 uv1 m uv1 uv1   p-beg uv2 uv1 p mv2 r   d-beg uv1 z mv2 r v d-end   t-beg uv1   b-beg uv1 uv1   r uv1 t mv2 n   lv3 n   lv1 uv1 th-end   mv2   r uv1 uv1 l   n uv1 b-end   uv1 n_s t uv2 d-end   mv2 v-end   b-beg uv1 uv1 Y uv1 ng   s k r uv3 t sh t-end   lv1 uv1 th-end   mv2 n   uv1 uv1 n k-end - p-beg uv2 n c uv1 uv1 l .   uv3 k t sh lv1 mv2 l uv1 uv1   h-beg uv1 uv1   lv1 mv3 z   n mv3 t   uv1 lv1 z d-end   t-beg uv1   r mv3 uv1 t uv1 ng   b-beg mv3 uv1   h-beg uv3 n_d-end .   mv2 p mv3 r t-end   f-beg_r mv2 m   v uv2 r uv1 uv1   sh lv3 r t-end   n lv2 mv1 t s ,   uv1 t-end   lv1 mv3 z   uv1 lv1 zh mv2 lv1 mv2 l   t-beg uv1   d-beg uv1 k t uv2 uv1 t-end   uv2 v_r uv1 uv1 th_uv1 ng   uv1 n_t lv1   dh mv2   s p uv2 mv3 k-end - lv1 r uv1 uv1 t uv2   lv1 uv1 t sh   lv1 mv3 z   mv2 v-end   k-beg lv3 r s   uv1 m p mv3 s mv2 b mv2 l   f-beg mv2 r   h-beg uv1 z   p-beg r uv2 z mv2 n_t-end   p-beg mv2 r p mv2 s .   h-beg uv1 uv1   d-beg uv1 p t-end   dh mv2   p-beg uv2 n   uv1 n_t lv1   dh mv2   uv1 ng k-end   mv2 n_d-end   dh_uv2 n   f-beg mv3 l t mv2 r d-end   f-beg mv2 r   d-beg zh uv1 s t-end   mv2   s uv2 k mv2 n_d-end .   mv2   t-beg r uv2 m mv2 r   h-beg uv3 d-end   g-beg lv3 n   th-beg r lv1   h-beg uv1 z   b-beg mv3 mv1 mv2 l z .   t-beg uv1   m mv3 r k-end   dh mv2   p-beg uv2 uv1 p mv2 r   lv1 mv3 z   dh mv2   d-beg uv1 s mv3 uv1 s uv1 v-end   uv3 k t-end .   uv1 n   s m lv3 l   k-beg l mv2 m z uv1 uv1   l uv2 t mv2 r z   h-beg uv1 uv1   r lv2 mv1 t :   uv2 uv1 p r mv2 l   4 t h-end ,   1 9 8 4\n",
      "error: c\n",
      "error: c\n",
      "error: :\n",
      "error: 4\n",
      "error: 9\n",
      "error: 8\n",
      "error: 4\n"
     ]
    },
    {
     "data": {
      "image/svg+xml": [
       "<?xml version=\"1.0\" encoding=\"UTF-8\"?>\n",
       "<svg xmlns=\"http://www.w3.org/2000/svg\" xmlns:xlink=\"http://www.w3.org/1999/xlink\"\n",
       "     width=\"655.237604307034\" height=\"832.0\" viewBox=\"0 0 655.237604307034 832.0\">\n",
       "<defs>\n",
       "<path d=\"M13.237604307034019,20.0 L4.000000000000005,36.0 L10.928203230275516,24.0 Q13.237604307034019,20.0,21.23760430703402,20.0 L45.23760430703402,20.0 M61.23760430703402,20.0 L56.61880215351701,28.0 L58.928203230275514,24.0 C61.23760430703402,20.0,68.96965511460289,17.0,73.23760430703402,20.0 C74.92820323027551,24.0,68.0,36.0,64.0,36.0 C60.00000000000001,36.0,64.61880215351701,28.0,73.23760430703402,20.0 M89.23760430703402,20.0 L80.0,36.0 L86.92820323027551,24.0 Q89.23760430703402,20.0,97.23760430703402,20.0 L121.23760430703402,20.0 Q129.23760430703402,20.0,131.5470053837925,16.0 L133.85640646055103,12.0 L129.23760430703402,20.0 M145.23760430703402,20.0 M140.618802153517,28.0 Q134.92820323027553,24.0,145.23760430703402,20.0 Q152.9696551146029,17.0,157.23760430703402,20.0 Q164.9696551146029,17.0,169.23760430703402,20.0 M185.23760430703402,20.0 Q189.50555349946515,23.0,197.23760430703402,20.0 L245.23760430703402,20.0 Q254.47520861406804,4.0,258.47520861406804,4.0 Q262.47520861406804,4.0,253.23760430703402,20.0 M269.237604307034,20.0 L293.237604307034,20.0 Q305.856406460551,12.0,302.47520861406804,4.0 C305.856406460551,12.0,295.5470053837925,16.0,301.237604307034,20.0 L349.237604307034,20.0 L361.237604307034,20.0 Q369.237604307034,20.0,371.5470053837925,16.0 L373.856406460551,12.0 L369.237604307034,20.0 M385.237604307034,20.0 M389.856406460551,12.0 L385.237604307034,20.0 Q392.9696551146029,17.0,397.237604307034,20.0 M413.237604307034,20.0 M422.47520861406804,4.0 L413.237604307034,20.0 Q417.5055534994651,23.0,425.237604307034,20.0 M441.237604307034,20.0 Q445.5055534994651,23.0,453.237604307034,20.0 L501.237604307034,20.0 Q510.47520861406804,4.0,514.475208614068,4.0 Q518.475208614068,4.0,509.237604307034,20.0 M525.237604307034,20.0 M529.8564064605509,12.0 L525.237604307034,20.0 Q532.9696551146028,17.0,537.237604307034,20.0 M553.237604307034,20.0 Q561.7735026918963,26.0,577.237604307034,20.0 L589.237604307034,20.0 Q599.5470053837926,16.0,593.8564064605509,12.0 C599.5470053837926,16.0,591.5470053837926,16.0,597.237604307034,20.0 L621.237604307034,20.0 C629.237604307034,20.0,624.618802153517,28.0,620.618802153517,28.0 C616.618802153517,28.0,618.9282032302756,24.0,625.237604307034,20.0 M641.237604307034,20.0 M13.237604307034019,60.0 L37.23760430703402,60.0 M53.23760430703402,60.0 M62.47520861406803,44.0 L53.23760430703402,60.0 L101.23760430703402,60.0 Q108.96965511460289,57.0,113.23760430703402,60.0 L137.23760430703402,60.0 C145.23760430703402,60.0,149.856406460551,52.0,145.856406460551,52.0 C141.856406460551,52.0,139.5470053837925,56.0,141.23760430703402,60.0 Q148.9696551146029,57.0,153.23760430703402,60.0 Q160.9696551146029,57.0,165.23760430703402,60.0 M173.23760430703402,60.0 Q172.9489291724392,60.5,173.4489291724392,60.5 Q173.9489291724392,60.5,174.23760430703402,60.0 Q174.52627944162882,59.5,174.02627944162882,59.5 Q173.52627944162882,59.5,173.23760430703402,60.0 M181.23760430703402,60.0 M197.23760430703402,60.0 L188.0,76.0 L194.9282032302755,64.0 C197.23760430703402,60.0,204.9696551146029,57.0,209.23760430703402,60.0 Q213.856406460551,52.0,217.856406460551,52.0 Q221.856406460551,52.0,217.23760430703402,60.0 M233.23760430703402,60.0 Q237.50555349946512,63.0,245.23760430703402,60.0 L293.237604307034,60.0 Q302.47520861406804,44.0,306.47520861406804,44.0 Q310.47520861406804,44.0,301.237604307034,60.0 M317.237604307034,60.0 C318.9282032302755,64.0,316.618802153517,68.0,312.618802153517,68.0 C308.618802153517,68.0,313.237604307034,60.0,321.237604307034,60.0 L369.237604307034,60.0 Q377.237604307034,60.0,379.5470053837925,56.0 L381.856406460551,52.0 L377.237604307034,60.0 M393.237604307034,60.0 Q400.96965511460286,57.0,405.237604307034,60.0 C411.5470053837925,56.0,418.47520861406804,44.0,414.47520861406804,44.0 C410.47520861406804,44.0,405.856406460551,52.0,405.237604307034,60.0 Q412.96965511460286,57.0,417.237604307034,60.0 Q424.96965511460286,57.0,429.237604307034,60.0 C439.5470053837925,56.0,433.856406460551,52.0,446.47520861406804,44.0 Q433.856406460551,52.0,437.237604307034,60.0 L461.237604307034,60.0 C469.237604307034,60.0,478.47520861406804,44.0,474.47520861406804,44.0 C470.47520861406804,44.0,465.856406460551,52.0,465.237604307034,60.0 M481.237604307034,60.0 M494.3094010767585,72.0 Q489.237604307034,60.0,508.1658075373095,48.0 M509.237604307034,60.0 C510.9282032302755,64.0,508.618802153517,68.0,504.618802153517,68.0 C500.618802153517,68.0,505.237604307034,60.0,513.237604307034,60.0 L537.237604307034,60.0 L532.618802153517,68.0 L534.9282032302756,64.0 C537.237604307034,60.0,544.9696551146028,57.0,549.237604307034,60.0 C550.9282032302756,64.0,544.0,76.0,540.0,76.0 C536.0,76.0,540.618802153517,68.0,549.237604307034,60.0 M565.237604307034,60.0 M13.237604307034019,100.0 Q17.505553499465137,103.0,25.23760430703402,100.0 L73.23760430703402,100.0 Q82.47520861406804,84.0,86.47520861406804,84.0 Q90.47520861406804,84.0,81.23760430703402,100.0 M97.23760430703402,100.0 Q104.96965511460289,97.0,109.23760430703402,100.0 C115.54700538379252,96.0,122.47520861406804,84.0,118.47520861406804,84.0 C114.47520861406804,84.0,109.85640646055103,92.0,109.23760430703402,100.0 Q116.96965511460289,97.0,121.23760430703402,100.0 Q128.9696551146029,97.0,133.23760430703402,100.0 C143.5470053837925,96.0,137.85640646055103,92.0,150.47520861406804,84.0 Q137.85640646055103,92.0,141.23760430703402,100.0 L165.23760430703402,100.0 C173.23760430703402,100.0,182.47520861406804,84.0,178.47520861406804,84.0 C174.47520861406804,84.0,169.85640646055103,92.0,169.23760430703402,100.0 M177.23760430703402,100.0 Q180.08290376865477,102.0,174.92820323027553,104.0 M185.23760430703402,100.0 M201.23760430703402,100.0 Q205.85640646055103,92.0,209.85640646055103,92.0 Q213.85640646055103,92.0,209.23760430703402,100.0 Q216.9696551146029,97.0,221.23760430703402,100.0 C226.92820323027547,104.0,224.61880215351698,108.0,220.61880215351698,108.0 C216.618802153517,108.0,218.92820323027553,104.0,221.23760430703402,100.0 Q225.85640646055103,92.0,229.856406460551,92.0 Q233.856406460551,92.0,229.237604307034,100.0 M245.237604307034,100.0 L235.99999999999997,116.0 L242.92820323027547,104.0 C245.237604307034,100.0,260.70170592217175,94.0,269.23760430703396,100.0 C275.5470053837925,96.0,277.856406460551,92.0,273.856406460551,92.0 C269.856406460551,92.0,267.5470053837925,96.0,269.23760430703396,100.0 M285.237604307034,100.0 Q289.5055534994651,103.0,297.237604307034,100.0 L321.237604307034,100.0 C329.237604307034,100.0,333.856406460551,92.0,329.856406460551,92.0 C325.856406460551,92.0,323.5470053837925,96.0,325.237604307034,100.0 M341.237604307034,100.0 C342.92820323027547,104.0,340.618802153517,108.0,336.618802153517,108.0 C332.618802153517,108.0,334.92820323027547,104.0,341.237604307034,100.0 Q349.7735026918962,106.0,365.237604307034,100.0 L377.237604307034,100.0 M393.237604307034,100.0 C399.5470053837925,96.0,406.475208614068,84.0,402.475208614068,84.0 C398.475208614068,84.0,393.856406460551,92.0,393.237604307034,100.0 Q410.3094010767585,112.0,441.237604307034,100.0 C442.92820323027547,104.0,435.99999999999994,116.0,431.99999999999994,116.0 C427.99999999999994,116.0,432.618802153517,108.0,441.237604307034,100.0 C451.5470053837925,96.0,445.856406460551,92.0,458.475208614068,84.0 Q445.856406460551,92.0,449.237604307034,100.0 L473.237604307034,100.0 C481.237604307034,100.0,485.856406460551,92.0,481.856406460551,92.0 C477.856406460551,92.0,475.5470053837925,96.0,477.237604307034,100.0 M493.237604307034,100.0 Q508.70170592217175,94.0,517.237604307034,100.0 C518.9282032302755,104.0,516.618802153517,108.0,512.618802153517,108.0 C508.618802153517,108.0,510.92820323027547,104.0,517.237604307034,100.0 Q524.9696551146028,97.0,529.237604307034,100.0 Q536.9696551146028,97.0,541.237604307034,100.0 M557.237604307034,100.0 M13.237604307034019,140.0 C19.547005383792524,136.0,26.47520861406803,124.0,22.47520861406803,124.0 C18.47520861406803,124.0,13.856406460551028,132.0,13.237604307034019,140.0 Q30.309401076758505,152.0,61.23760430703402,140.0 Q70.47520861406804,124.0,74.47520861406804,124.0 Q78.47520861406804,124.0,69.23760430703402,140.0 M70.30940107675852,152.0 Q89.23760430703403,140.0,84.16580753730955,128.0 M97.23760430703403,140.0 M105.23760430703403,140.0 Q108.08290376865477,142.0,102.92820323027553,144.0 M113.23760430703403,140.0 M129.23760430703402,140.0 M138.47520861406804,124.0 Q141.85640646055106,132.0,129.23760430703402,140.0 L153.23760430703402,140.0 Q161.23760430703402,140.0,163.54700538379254,136.0 L165.85640646055106,132.0 L161.23760430703402,140.0 M177.23760430703402,140.0 Q184.96965511460292,137.0,189.23760430703402,140.0 Q194.92820323027553,144.0,184.61880215351704,148.0 M189.23760430703402,140.0 M205.23760430703402,140.0 M214.47520861406804,124.0 L205.23760430703402,140.0 Q212.96965511460292,137.0,217.23760430703402,140.0 Q225.23760430703402,140.0,227.54700538379254,136.0 L229.85640646055106,132.0 L225.23760430703402,140.0 Q240.70170592217178,134.0,249.23760430703402,140.0 C259.54700538379257,136.0,251.54700538379254,136.0,261.85640646055106,132.0 Q251.54700538379254,136.0,257.237604307034,140.0 Q265.237604307034,140.0,267.54700538379257,136.0 L269.85640646055106,132.0 L265.237604307034,140.0 Q272.9696551146029,137.0,277.237604307034,140.0 L286.47520861406804,124.0 M277.237604307034,140.0 M293.237604307034,140.0 Q300.9696551146029,137.0,305.237604307034,140.0 L309.85640646055106,132.0 M305.237604307034,140.0 M321.237604307034,140.0 Q325.5055534994652,143.0,333.237604307034,140.0 L381.237604307034,140.0 Q390.47520861406804,124.0,394.47520861406804,124.0 Q398.47520861406804,124.0,389.237604307034,140.0 M405.237604307034,140.0 C411.5470053837925,136.0,413.85640646055106,132.0,409.85640646055106,132.0 C405.85640646055106,132.0,403.5470053837925,136.0,405.237604307034,140.0 Q412.9696551146029,137.0,417.237604307034,140.0 Q424.9696551146029,137.0,429.237604307034,140.0 Q438.47520861406804,124.0,442.47520861406804,124.0 Q446.47520861406804,124.0,437.237604307034,140.0 L461.2376043070341,140.0 C469.2376043070341,140.0,464.6188021535171,148.0,460.6188021535171,148.0 C456.6188021535171,148.0,461.2376043070341,140.0,469.2376043070341,140.0 L493.2376043070341,140.0 Q505.8564064605511,132.0,502.4752086140681,124.0 C505.8564064605511,132.0,493.2376043070341,140.0,503.2376043070341,140.0 C509.2376043070341,140.0,518.4752086140682,124.0,514.4752086140682,124.0 C510.4752086140681,124.0,505.8564064605511,132.0,505.2376043070341,140.0 Q512.969655114603,137.0,517.2376043070341,140.0 Q524.969655114603,137.0,529.2376043070342,140.0 M545.2376043070342,140.0 Q549.8564064605512,132.0,553.8564064605512,132.0 Q557.8564064605512,132.0,553.2376043070342,140.0 L577.2376043070342,140.0 C585.2376043070342,140.0,589.8564064605512,132.0,585.8564064605512,132.0 C581.8564064605512,132.0,579.5470053837926,136.0,581.2376043070342,140.0 Q589.2376043070342,140.0,591.5470053837926,136.0 L593.8564064605512,132.0 L589.2376043070342,140.0 L613.2376043070342,140.0 C621.2376043070342,140.0,616.618802153517,148.0,612.618802153517,148.0 C608.618802153517,148.0,610.9282032302756,144.0,617.2376043070342,140.0 M633.2376043070342,140.0 M13.237604307034019,180.0 L4.0,196.0 L10.928203230275514,184.0 Q13.237604307034019,180.0,21.23760430703402,180.0 L45.23760430703402,180.0 Q53.23760430703402,180.0,55.54700538379252,176.0 L57.85640646055103,172.0 L53.23760430703402,180.0 M69.23760430703402,180.0 Q76.96965511460289,177.0,81.23760430703402,180.0 L85.85640646055103,172.0 M81.23760430703402,180.0 M97.23760430703402,180.0 Q101.50555349946514,183.0,109.23760430703402,180.0 L121.23760430703402,180.0 Q129.23760430703402,180.0,131.5470053837925,176.0 L138.47520861406804,164.0 L129.23760430703402,180.0 M145.23760430703402,180.0 M154.47520861406804,164.0 Q157.85640646055103,172.0,145.23760430703402,180.0 Q152.9696551146029,177.0,157.23760430703402,180.0 Q164.9696551146029,177.0,169.23760430703402,180.0 M185.23760430703402,180.0 M189.85640646055103,172.0 Q195.5470053837925,176.0,185.23760430703402,180.0 L209.23760430703402,180.0 C217.23760430703402,180.0,212.618802153517,188.0,208.618802153517,188.0 C204.618802153517,188.0,206.92820323027553,184.0,213.23760430703402,180.0 Q220.9696551146029,177.0,225.23760430703402,180.0 Q220.618802153517,188.0,224.618802153517,188.0 Q228.618802153517,188.0,233.23760430703402,180.0 L237.85640646055103,172.0 M233.23760430703402,180.0 M249.23760430703402,180.0 M258.47520861406804,164.0 Q261.85640646055106,172.0,249.23760430703402,180.0 L297.237604307034,180.0 Q304.96965511460286,177.0,309.237604307034,180.0 M325.237604307034,180.0 M334.47520861406804,164.0 L325.237604307034,180.0 Q340.70170592217175,174.0,349.237604307034,180.0 L344.61880215351704,188.0 M349.237604307034,180.0 M357.237604307034,180.0 Q360.0829037686548,182.0,354.9282032302755,184.0 M365.237604307034,180.0 M381.237604307034,180.0 L405.237604307034,180.0 C413.237604307034,180.0,417.856406460551,172.0,413.856406460551,172.0 C409.856406460551,172.0,407.5470053837925,176.0,409.237604307034,180.0 M425.237604307034,180.0 Q456.1658075373095,168.0,473.23760430703396,180.0 L477.856406460551,172.0 M473.23760430703396,180.0 M489.23760430703396,180.0 C495.54700538379245,176.0,502.475208614068,164.0,498.475208614068,164.0 C494.475208614068,164.0,489.856406460551,172.0,489.23760430703396,180.0 Q496.96965511460286,177.0,501.23760430703396,180.0 Q508.96965511460286,177.0,513.237604307034,180.0 Q517.8564064605509,172.0,521.8564064605509,172.0 C525.8564064605509,172.0,521.237604307034,180.0,525.237604307034,180.0 Q527.237604307034,180.0,531.8564064605509,172.0 M527.237604307034,180.0 M543.237604307034,180.0 M552.4752086140679,164.0 Q555.8564064605509,172.0,543.237604307034,180.0 L591.237604307034,180.0 Q598.9696551146028,177.0,603.237604307034,180.0 M619.237604307034,180.0 M13.237604307034019,220.0 M17.856406460551014,212.0 L13.237604307034019,220.0 Q17.505553499465137,223.0,25.23760430703402,220.0 Q40.701705922171755,214.0,49.237604307034005,220.0 C50.9282032302755,224.0,48.618802153516995,228.0,44.618802153516995,228.0 C40.618802153516995,228.0,42.9282032302755,224.0,49.237604307034005,220.0 Q55.54700538379251,216.0,57.856406460551,212.0 L53.237604307034005,220.0 Q60.96965511460287,217.0,65.237604307034,220.0 Q72.96965511460287,217.0,77.237604307034,220.0 Q82.9282032302755,224.0,72.618802153517,228.0 C82.9282032302755,224.0,74.9282032302755,224.0,85.237604307034,220.0 L133.23760430703402,220.0 Q140.96965511460286,217.0,145.23760430703402,220.0 Q148.61880215351698,228.0,136.0,236.0 M145.23760430703402,220.0 M161.23760430703402,220.0 Q168.96965511460286,217.0,173.23760430703402,220.0 Q180.96965511460286,217.0,185.23760430703402,220.0 C191.5470053837925,216.0,193.856406460551,212.0,189.856406460551,212.0 C185.856406460551,212.0,181.23760430703402,220.0,191.23760430703402,220.0 C193.23760430703402,220.0,202.475208614068,204.0,206.475208614068,204.0 Q210.475208614068,204.0,201.23760430703402,220.0 M217.23760430703402,220.0 Q224.96965511460286,217.0,229.23760430703402,220.0 C230.9282032302755,224.0,228.61880215351698,228.0,224.61880215351698,228.0 C220.61880215351698,228.0,222.9282032302755,224.0,229.23760430703402,220.0 M245.23760430703402,220.0 L269.237604307034,220.0 M285.237604307034,220.0 M280.618802153517,228.0 Q290.9282032302755,224.0,285.237604307034,220.0 Q293.7735026918962,226.0,309.237604307034,220.0 C315.5470053837925,216.0,317.856406460551,212.0,313.856406460551,212.0 C309.856406460551,212.0,307.5470053837925,216.0,309.237604307034,220.0 Q324.70170592217175,214.0,333.237604307034,220.0 L342.475208614068,204.0 M333.237604307034,220.0 M342.39230484541326,218.0 L344.0829037686547,222.0 M353.237604307034,220.0 C359.5470053837925,216.0,366.475208614068,204.0,362.475208614068,204.0 C358.475208614068,204.0,349.237604307034,220.0,357.237604307034,220.0 L405.237604307034,220.0 Q417.85640646055106,212.0,414.475208614068,204.0 C417.85640646055106,212.0,407.5470053837925,216.0,413.2376043070341,220.0 Q421.7735026918963,226.0,437.2376043070341,220.0 Q441.5055534994652,223.0,449.2376043070341,220.0 C455.54700538379257,216.0,457.85640646055106,212.0,453.85640646055106,212.0 C449.85640646055106,212.0,447.54700538379257,216.0,449.2376043070341,220.0 M465.2376043070341,220.0 M469.85640646055106,212.0 Q459.54700538379257,216.0,465.2376043070341,220.0 Q496.16580753730955,208.0,513.2376043070341,220.0 C518.9282032302756,224.0,502.9282032302755,224.0,513.2376043070341,220.0 Q523.5470053837926,216.0,517.856406460551,212.0 M513.2376043070341,220.0 M521.2376043070341,220.0 Q520.9489291724392,220.5,521.4489291724392,220.5 Q521.9489291724392,220.5,522.2376043070341,220.0 Q522.526279441629,219.5,522.026279441629,219.5 Q521.526279441629,219.5,521.2376043070341,220.0 M529.237604307034,220.0 M545.237604307034,220.0 Q549.5055534994651,223.0,557.237604307034,220.0 Q564.969655114603,217.0,569.237604307034,220.0 C574.9282032302756,224.0,572.618802153517,228.0,568.618802153517,228.0 C564.618802153517,228.0,566.9282032302756,224.0,569.237604307034,220.0 Q573.8564064605509,212.0,577.8564064605509,212.0 Q581.8564064605509,212.0,577.237604307034,220.0 Q585.237604307034,220.0,587.5470053837926,216.0 L589.8564064605509,212.0 L585.237604307034,220.0 L609.237604307034,220.0 C617.237604307034,220.0,612.618802153517,228.0,608.618802153517,228.0 C604.618802153517,228.0,606.9282032302756,224.0,613.237604307034,220.0 M629.237604307034,220.0 M13.237604307034019,260.0 Q18.9282032302755,264.0,8.61880215351701,268.0 C18.9282032302755,264.0,10.9282032302755,264.0,21.23760430703402,260.0 Q28.969655114602887,257.0,33.23760430703402,260.0 Q41.23760430703402,260.0,43.54700538379251,256.0 L45.85640646055103,252.0 L41.23760430703402,260.0 Q48.96965511460289,257.0,53.23760430703402,260.0 L62.47520861406804,244.0 M53.23760430703402,260.0 M69.23760430703402,260.0 L93.23760430703402,260.0 M109.23760430703402,260.0 C110.9282032302755,264.0,108.61880215351701,268.0,104.61880215351701,268.0 C100.61880215351701,268.0,102.9282032302755,264.0,109.23760430703402,260.0 Q116.96965511460289,257.0,121.23760430703402,260.0 Q133.85640646055103,252.0,130.47520861406804,244.0 M121.23760430703402,260.0 M137.23760430703405,260.0 Q144.96965511460292,257.0,149.23760430703405,260.0 C150.92820323027553,264.0,148.61880215351704,268.0,144.61880215351704,268.0 C140.61880215351704,268.0,142.92820323027553,264.0,149.23760430703405,260.0 Q155.54700538379254,256.0,157.85640646055106,252.0 L153.23760430703405,260.0 Q157.50555349946515,263.0,165.23760430703405,260.0 M181.23760430703405,260.0 L172.00000000000003,276.0 L178.92820323027553,264.0 Q181.23760430703405,260.0,189.23760430703405,260.0 L213.23760430703405,260.0 M229.23760430703405,260.0 M233.85640646055106,252.0 Q239.54700538379254,256.0,229.23760430703405,260.0 Q244.70170592217178,254.0,253.23760430703405,260.0 C254.92820323027553,264.0,252.61880215351704,268.0,248.61880215351704,268.0 C244.61880215351704,268.0,249.23760430703405,260.0,255.23760430703405,260.0 C265.2376043070341,260.0,254.92820323027553,264.0,260.61880215351704,268.0 Q254.92820323027553,264.0,265.2376043070341,260.0 Q273.7735026918963,266.0,289.237604307034,260.0 C295.5470053837925,256.0,302.4752086140681,244.0,298.4752086140681,244.0 C294.4752086140681,244.0,289.85640646055106,252.0,289.237604307034,260.0 Q297.237604307034,260.0,299.5470053837925,256.0 L306.4752086140681,244.0 L297.237604307034,260.0 Q312.7017059221718,254.0,321.237604307034,260.0 C327.5470053837925,256.0,329.85640646055106,252.0,325.85640646055106,252.0 C321.85640646055106,252.0,319.5470053837925,256.0,321.237604307034,260.0 M337.237604307034,260.0 L361.237604307034,260.0 C373.237604307034,260.0,368.61880215351704,268.0,364.61880215351704,268.0 C360.61880215351704,268.0,362.9282032302755,264.0,365.237604307034,260.0 L374.4752086140681,244.0 M365.237604307034,260.0 M381.237604307034,260.0 Q385.85640646055106,252.0,389.85640646055106,252.0 Q393.85640646055106,252.0,389.237604307034,260.0 L413.237604307034,260.0 C423.5470053837925,256.0,415.5470053837925,256.0,425.85640646055106,252.0 C415.5470053837925,256.0,421.237604307034,260.0,423.237604307034,260.0 Q425.237604307034,260.0,429.85640646055106,252.0 M425.237604307034,260.0 M441.237604307034,260.0 Q448.9696551146029,257.0,453.237604307034,260.0 L457.85640646055106,252.0 M453.237604307034,260.0 M469.237604307034,260.0 M473.85640646055106,252.0 L469.237604307034,260.0 Q476.9696551146029,257.0,481.237604307034,260.0 M497.237604307034,260.0 M506.4752086140681,244.0 Q493.85640646055106,252.0,497.237604307034,260.0 Q504.9696551146029,257.0,509.237604307034,260.0 L513.856406460551,252.0 M509.237604307034,260.0 M525.237604307034,260.0 L516.0,276.0 L522.9282032302756,264.0 Q525.237604307034,260.0,533.237604307034,260.0 L557.237604307034,260.0 M573.237604307034,260.0 M13.237604307034019,300.0 M22.475208614068038,284.0 C9.856406460551028,292.0,13.237604307034019,300.0,17.23760430703402,300.0 C25.23760430703402,300.0,29.856406460551028,292.0,25.856406460551028,292.0 C21.856406460551028,292.0,19.547005383792538,296.0,21.23760430703402,300.0 Q28.969655114602915,297.0,33.23760430703402,300.0 Q40.969655114602915,297.0,45.23760430703402,300.0 Q49.85640646055103,292.0,53.85640646055103,292.0 Q57.85640646055103,292.0,53.23760430703402,300.0 M69.23760430703402,300.0 Q86.30940107675852,312.0,117.23760430703402,300.0 Q122.92820323027553,304.0,112.61880215351701,308.0 M117.23760430703402,300.0 M125.23760430703402,300.0 Q124.94892917243922,300.5,125.44892917243922,300.5 Q125.94892917243922,300.5,126.23760430703402,300.0 Q126.52627944162884,299.5,126.02627944162884,299.5 Q125.52627944162884,299.5,125.23760430703402,300.0 M133.23760430703402,300.0 M149.23760430703402,300.0 L140.0,316.0 L146.92820323027553,304.0 Q149.23760430703402,300.0,157.23760430703402,300.0 L181.23760430703402,300.0 M197.23760430703402,300.0 M201.85640646055103,292.0 Q207.54700538379254,296.0,197.23760430703402,300.0 Q212.70170592217178,294.0,221.23760430703402,300.0 C222.92820323027553,304.0,220.618802153517,308.0,216.618802153517,308.0 C212.618802153517,308.0,214.92820323027553,304.0,221.23760430703402,300.0 M237.23760430703402,300.0 Q241.50555349946515,303.0,249.23760430703402,300.0 L297.237604307034,300.0 Q306.47520861406804,284.0,310.47520861406804,284.0 Q314.47520861406804,284.0,305.237604307034,300.0 M321.237604307034,300.0 L345.237604307034,300.0 C353.237604307034,300.0,348.61880215351704,308.0,344.61880215351704,308.0 C340.61880215351704,308.0,342.9282032302755,304.0,349.237604307034,300.0 M365.237604307034,300.0 L413.237604307034,300.0 C421.237604307034,300.0,425.856406460551,292.0,421.856406460551,292.0 C417.856406460551,292.0,413.237604307034,300.0,419.237604307034,300.0 C429.237604307034,300.0,423.5470053837925,296.0,433.856406460551,292.0 Q423.5470053837925,296.0,429.237604307034,300.0 Q444.7017059221718,294.0,453.237604307034,300.0 Q460.9696551146029,297.0,465.237604307034,300.0 Q472.9696551146029,297.0,477.237604307034,300.0 Q471.5470053837925,296.0,481.856406460551,292.0 M477.237604307034,300.0 M493.237604307034,300.0 Q500.9696551146029,297.0,505.237604307034,300.0 C510.9282032302755,304.0,508.61880215351704,308.0,504.61880215351704,308.0 C500.61880215351704,308.0,502.9282032302755,304.0,505.237604307034,300.0 Q509.856406460551,292.0,513.8564064605509,292.0 Q517.8564064605509,292.0,513.237604307034,300.0 Q521.237604307034,300.0,523.5470053837926,296.0 L525.8564064605509,292.0 Q521.237604307034,300.0,523.237604307034,300.0 C533.237604307034,300.0,537.8564064605509,292.0,533.8564064605509,292.0 C529.8564064605509,292.0,525.237604307034,300.0,533.237604307034,300.0 L557.237604307034,300.0 C562.9282032302756,304.0,546.9282032302756,304.0,557.237604307034,300.0 L581.237604307034,300.0 C593.237604307034,300.0,588.618802153517,308.0,584.618802153517,308.0 C580.618802153517,308.0,582.9282032302756,304.0,585.237604307034,300.0 L589.8564064605509,292.0 M585.237604307034,300.0 M593.237604307034,300.0 Q596.0829037686547,302.0,590.9282032302756,304.0 M601.237604307034,300.0 M617.237604307034,300.0 M13.237604307034019,340.0 Q17.856406460551028,332.0,21.856406460551028,332.0 Q25.856406460551028,332.0,21.23760430703402,340.0 Q36.701705922171755,334.0,45.23760430703402,340.0 C51.54700538379251,336.0,58.47520861406804,324.0,54.47520861406804,324.0 C50.47520861406804,324.0,45.85640646055103,332.0,45.23760430703402,340.0 Q53.23760430703402,340.0,55.54700538379251,336.0 L62.47520861406804,324.0 L53.23760430703402,340.0 L77.23760430703402,340.0 C82.9282032302755,344.0,66.9282032302755,344.0,77.23760430703402,340.0 M93.23760430703402,340.0 Q100.96965511460289,337.0,105.23760430703402,340.0 Q109.50555349946512,343.0,117.23760430703402,340.0 Q126.47520861406804,324.0,130.47520861406804,324.0 C134.47520861406804,324.0,125.23760430703402,340.0,129.23760430703402,340.0 Q131.23760430703402,340.0,140.47520861406804,324.0 M131.23760430703402,340.0 M147.23760430703402,340.0 Q154.9696551146029,337.0,159.23760430703402,340.0 Q166.9696551146029,337.0,171.23760430703402,340.0 Q174.618802153517,348.0,162.0,356.0 C174.618802153517,348.0,168.9282032302755,344.0,179.23760430703402,340.0 Q186.9696551146029,337.0,191.23760430703402,340.0 C192.9282032302755,344.0,190.618802153517,348.0,186.618802153517,348.0 C182.618802153517,348.0,184.9282032302755,344.0,191.23760430703402,340.0 M207.23760430703402,340.0 M202.618802153517,348.0 Q212.9282032302755,344.0,207.23760430703402,340.0 L231.23760430703402,340.0 C239.23760430703402,340.0,243.85640646055103,332.0,239.85640646055103,332.0 C235.85640646055103,332.0,233.5470053837925,336.0,235.23760430703402,340.0 M251.23760430703402,340.0 Q255.85640646055103,332.0,259.85640646055106,332.0 Q263.85640646055106,332.0,259.237604307034,340.0 Q266.9696551146029,337.0,271.237604307034,340.0 C281.5470053837925,336.0,275.856406460551,332.0,288.47520861406804,324.0 Q275.856406460551,332.0,279.237604307034,340.0 C280.9282032302755,344.0,278.61880215351704,348.0,274.61880215351704,348.0 C270.61880215351704,348.0,275.237604307034,340.0,283.237604307034,340.0 L307.237604307034,340.0 Q315.237604307034,340.0,317.5470053837925,336.0 L319.856406460551,332.0 L315.237604307034,340.0 Q310.61880215351704,348.0,314.61880215351704,348.0 Q318.61880215351704,348.0,323.237604307034,340.0 L347.237604307034,340.0 C355.237604307034,340.0,359.856406460551,332.0,355.856406460551,332.0 C351.856406460551,332.0,347.237604307034,340.0,357.237604307034,340.0 C359.237604307034,340.0,368.47520861406804,324.0,372.47520861406804,324.0 Q376.47520861406804,324.0,367.237604307034,340.0 M375.237604307034,340.0 Q378.0829037686548,342.0,372.9282032302755,344.0 M383.237604307034,340.0 M399.237604307034,340.0 L423.237604307034,340.0 C435.237604307034,340.0,430.61880215351704,348.0,426.61880215351704,348.0 C422.61880215351704,348.0,424.9282032302755,344.0,427.237604307034,340.0 L436.47520861406804,324.0 M427.237604307034,340.0 M443.237604307034,340.0 M438.61880215351704,348.0 Q432.9282032302755,344.0,443.237604307034,340.0 Q450.96965511460286,337.0,455.237604307034,340.0 Q462.96965511460286,337.0,467.237604307034,340.0 M483.237604307034,340.0 M478.61880215351704,348.0 Q472.9282032302755,344.0,483.237604307034,340.0 Q514.1658075373095,328.0,531.237604307034,340.0 L540.4752086140679,324.0 M531.237604307034,340.0 M547.237604307034,340.0 M551.8564064605509,332.0 C557.5470053837926,336.0,547.237604307034,340.0,553.237604307034,340.0 C561.237604307034,340.0,565.8564064605509,332.0,561.8564064605509,332.0 C557.8564064605509,332.0,555.5470053837926,336.0,557.237604307034,340.0 Q565.7735026918963,346.0,581.237604307034,340.0 L593.237604307034,340.0 C603.5470053837926,336.0,595.5470053837926,336.0,605.8564064605509,332.0 Q595.5470053837926,336.0,601.237604307034,340.0 Q608.9696551146028,337.0,613.237604307034,340.0 L625.237604307034,340.0 C633.237604307034,340.0,637.8564064605509,332.0,633.8564064605509,332.0 C629.8564064605509,332.0,625.237604307034,340.0,633.237604307034,340.0 Q635.237604307034,340.0,644.4752086140679,324.0 M635.237604307034,340.0 M651.237604307034,340.0 M13.237604307034019,380.0 Q17.50555349946515,383.0,25.23760430703402,380.0 L49.23760430703402,380.0 C57.23760430703402,380.0,52.61880215351701,388.0,48.61880215351701,388.0 C44.61880215351701,388.0,46.92820323027553,384.0,53.23760430703402,380.0 M61.23760430703402,380.0 Q64.08290376865475,382.0,58.92820323027553,384.0 M69.23760430703399,380.0 M85.23760430703399,380.0 M80.61880215351698,388.0 Q90.9282032302755,384.0,85.23760430703399,380.0 L109.23760430703399,380.0 C117.23760430703399,380.0,121.856406460551,372.0,117.856406460551,372.0 C113.856406460551,372.0,111.54700538379251,376.0,113.23760430703399,380.0 Q121.23760430703399,380.0,123.54700538379251,376.0 L125.856406460551,372.0 L121.23760430703399,380.0 Q128.9696551146029,377.0,133.237604307034,380.0 Q136.61880215351698,388.0,123.99999999999997,396.0 C136.61880215351698,388.0,130.9282032302755,384.0,137.237604307034,380.0 C145.856406460551,372.0,150.475208614068,364.0,146.475208614068,364.0 C142.475208614068,364.0,137.856406460551,372.0,137.237604307034,380.0 Q144.9696551146029,377.0,149.237604307034,380.0 Q156.9696551146029,377.0,161.237604307034,380.0 M177.237604307034,380.0 L201.237604307034,380.0 C213.237604307034,380.0,208.61880215351698,388.0,204.61880215351698,388.0 C200.61880215351698,388.0,202.9282032302755,384.0,205.237604307034,380.0 L214.475208614068,364.0 M205.237604307034,380.0 M221.237604307034,380.0 Q225.50555349946512,383.0,233.237604307034,380.0 Q240.9696551146029,377.0,245.237604307034,380.0 L240.61880215351698,388.0 M245.237604307034,380.0 M261.23760430703396,380.0 Q265.856406460551,372.0,269.856406460551,372.0 Q273.856406460551,372.0,269.23760430703396,380.0 L293.237604307034,380.0 C298.9282032302755,384.0,282.9282032302755,384.0,293.237604307034,380.0 M309.237604307034,380.0 M318.475208614068,364.0 L309.237604307034,380.0 Q316.96965511460286,377.0,321.237604307034,380.0 Q326.9282032302755,384.0,316.618802153517,388.0 C326.9282032302755,384.0,318.9282032302755,384.0,329.237604307034,380.0 Q336.96965511460286,377.0,341.237604307034,380.0 C351.5470053837925,376.0,343.5470053837925,376.0,353.856406460551,372.0 Q343.5470053837925,376.0,349.237604307034,380.0 L373.237604307034,380.0 C381.237604307034,380.0,390.475208614068,364.0,386.475208614068,364.0 C382.475208614068,364.0,377.856406460551,372.0,377.237604307034,380.0 Q385.237604307034,380.0,387.5470053837925,376.0 L389.856406460551,372.0 L385.237604307034,380.0 Q392.96965511460286,377.0,397.237604307034,380.0 Q404.96965511460286,377.0,409.237604307034,380.0 M417.237604307034,380.0 Q420.0829037686547,382.0,414.9282032302755,384.0 M425.237604307034,380.0 M441.237604307034,380.0 Q445.856406460551,372.0,449.856406460551,372.0 Q453.856406460551,372.0,449.237604307034,380.0 Q456.96965511460286,377.0,461.237604307034,380.0 C466.9282032302755,384.0,450.9282032302755,384.0,461.237604307034,380.0 Q471.5470053837925,376.0,465.856406460551,372.0 C471.5470053837925,376.0,461.237604307034,380.0,471.237604307034,380.0 C479.237604307034,380.0,488.475208614068,364.0,484.475208614068,364.0 C480.475208614068,364.0,475.856406460551,372.0,475.237604307034,380.0 Q482.96965511460286,377.0,487.237604307034,380.0 Q494.96965511460286,377.0,499.237604307034,380.0 M515.237604307034,380.0 M524.4752086140679,364.0 Q527.8564064605509,372.0,515.237604307034,380.0 Q522.9696551146028,377.0,527.237604307034,380.0 C537.5470053837926,376.0,529.5470053837926,376.0,539.8564064605509,372.0 Q529.5470053837926,376.0,535.237604307034,380.0 L559.237604307034,380.0 Q568.4752086140679,364.0,572.4752086140679,364.0 Q576.4752086140679,364.0,567.237604307034,380.0 M583.237604307034,380.0 M13.237604307034019,420.0 L37.23760430703402,420.0 Q40.61880215351698,428.0,28.0,436.0 M37.23760430703402,420.0 M53.23760430703399,420.0 L77.23760430703399,420.0 M93.23760430703399,420.0 Q98.92820323027547,424.0,88.61880215351698,428.0 C98.92820323027547,424.0,90.92820323027547,424.0,101.23760430703399,420.0 Q108.96965511460286,417.0,113.23760430703399,420.0 Q120.96965511460286,417.0,125.23760430703399,420.0 C131.54700538379248,416.0,138.47520861406798,404.0,134.47520861406798,404.0 C130.47520861406798,404.0,125.856406460551,412.0,125.23760430703399,420.0 Q132.96965511460286,417.0,137.237604307034,420.0 C138.92820323027547,424.0,131.99999999999997,436.0,127.99999999999997,436.0 C123.99999999999997,436.0,128.61880215351698,428.0,137.237604307034,420.0 M153.237604307034,420.0 L143.99999999999997,436.0 L150.92820323027547,424.0 Q153.237604307034,420.0,161.237604307034,420.0 L185.237604307034,420.0 Q193.237604307034,420.0,195.54700538379248,416.0 L197.856406460551,412.0 L193.237604307034,420.0 M209.237604307034,420.0 L199.99999999999997,436.0 L206.92820323027547,424.0 Q209.237604307034,420.0,217.237604307034,420.0 L241.237604307034,420.0 M257.23760430703396,420.0 M266.475208614068,404.0 Q269.856406460551,412.0,257.23760430703396,420.0 Q264.96965511460286,417.0,269.23760430703396,420.0 Q273.50555349946507,423.0,281.237604307034,420.0 Q289.237604307034,420.0,291.5470053837925,416.0 L293.856406460551,412.0 L289.237604307034,420.0 L313.237604307034,420.0 Q318.92820323027547,424.0,308.618802153517,428.0 C318.92820323027547,424.0,310.92820323027547,424.0,321.237604307034,420.0 L345.237604307034,420.0 C353.237604307034,420.0,362.475208614068,404.0,358.475208614068,404.0 C354.475208614068,404.0,349.856406460551,412.0,349.237604307034,420.0 M365.237604307034,420.0 M369.856406460551,412.0 C359.5470053837925,416.0,365.237604307034,420.0,369.237604307034,420.0 C377.237604307034,420.0,381.856406460551,412.0,377.856406460551,412.0 C373.856406460551,412.0,371.5470053837925,416.0,373.237604307034,420.0 Q380.96965511460286,417.0,385.237604307034,420.0 Q392.96965511460286,417.0,397.237604307034,420.0 C402.92820323027547,424.0,386.92820323027547,424.0,397.237604307034,420.0 Q404.96965511460286,417.0,409.237604307034,420.0 Q416.96965511460286,417.0,421.237604307034,420.0 M437.237604307034,420.0 M441.856406460551,412.0 Q447.5470053837925,416.0,437.237604307034,420.0 Q452.7017059221717,414.0,461.237604307034,420.0 Q468.96965511460286,417.0,473.237604307034,420.0 Q483.5470053837925,416.0,477.856406460551,412.0 C483.5470053837925,416.0,475.5470053837925,416.0,481.237604307034,420.0 L505.237604307034,420.0 C513.237604307034,420.0,517.8564064605509,412.0,513.8564064605509,412.0 C509.856406460551,412.0,507.5470053837925,416.0,509.237604307034,420.0 M525.237604307034,420.0 M534.4752086140679,404.0 L525.237604307034,420.0 Q532.9696551146028,417.0,537.237604307034,420.0 Q546.4752086140679,404.0,550.4752086140679,404.0 Q554.4752086140679,404.0,545.237604307034,420.0 L569.237604307034,420.0 C577.237604307034,420.0,581.8564064605509,412.0,577.8564064605509,412.0 C573.8564064605509,412.0,571.5470053837926,416.0,573.237604307034,420.0 Q576.618802153517,428.0,564.0,436.0 C576.618802153517,428.0,570.9282032302754,424.0,581.237604307034,420.0 L590.4752086140679,404.0 M581.237604307034,420.0 M597.237604307034,420.0 M13.237604307034019,460.0 M17.856406460551028,452.0 L13.237604307034019,460.0 Q20.969655114602887,457.0,25.23760430703402,460.0 M41.23760430703402,460.0 M50.47520861406804,444.0 Q53.85640646055103,452.0,41.23760430703402,460.0 Q48.96965511460289,457.0,53.23760430703402,460.0 Q60.96965511460289,457.0,65.23760430703402,460.0 M81.23760430703402,460.0 C87.54700538379254,456.0,89.85640646055103,452.0,85.85640646055103,452.0 C81.85640646055103,452.0,79.54700538379254,456.0,81.23760430703402,460.0 Q88.96965511460289,457.0,93.23760430703402,460.0 Q101.23760430703402,460.0,103.54700538379254,456.0 L105.85640646055103,452.0 L101.23760430703402,460.0 L125.23760430703402,460.0 C133.23760430703402,460.0,128.61880215351704,468.0,124.61880215351704,468.0 C120.61880215351704,468.0,122.92820323027553,464.0,129.23760430703402,460.0 M145.23760430703402,460.0 Q162.3094010767585,472.0,193.23760430703402,460.0 C194.92820323027553,464.0,192.61880215351704,468.0,188.61880215351704,468.0 C184.61880215351704,468.0,186.92820323027553,464.0,193.23760430703402,460.0 M209.23760430703402,460.0 Q213.50555349946515,463.0,221.23760430703402,460.0 Q228.9696551146029,457.0,233.23760430703402,460.0 L228.61880215351704,468.0 M233.23760430703402,460.0 M249.23760430703402,460.0 L273.23760430703396,460.0 M289.23760430703396,460.0 C295.5470053837925,456.0,297.856406460551,452.0,293.856406460551,452.0 C289.856406460551,452.0,287.5470053837925,456.0,289.23760430703396,460.0 Q296.96965511460286,457.0,301.23760430703396,460.0 Q308.96965511460286,457.0,313.23760430703396,460.0 C319.5470053837925,456.0,326.475208614068,444.0,322.475208614068,444.0 C318.475208614068,444.0,313.856406460551,452.0,313.23760430703396,460.0 M329.23760430703396,460.0 C330.92820323027547,464.0,328.618802153517,468.0,324.618802153517,468.0 C320.618802153517,468.0,322.92820323027547,464.0,329.23760430703396,460.0 Q336.96965511460286,457.0,341.23760430703396,460.0 Q353.856406460551,452.0,350.475208614068,444.0 M341.23760430703396,460.0 M357.23760430703396,460.0 Q364.96965511460286,457.0,369.23760430703396,460.0 C374.92820323027547,464.0,372.618802153517,468.0,368.618802153517,468.0 C364.618802153517,468.0,366.92820323027547,464.0,369.23760430703396,460.0 Q373.856406460551,452.0,377.856406460551,452.0 Q381.856406460551,452.0,377.23760430703396,460.0 Q385.23760430703396,460.0,387.5470053837925,456.0 L389.856406460551,452.0 L385.23760430703396,460.0 Q400.7017059221717,454.0,409.23760430703396,460.0 L418.475208614068,444.0 M409.23760430703396,460.0 M425.23760430703396,460.0 L449.23760430703396,460.0 Q452.618802153517,468.0,439.99999999999994,476.0 M449.23760430703396,460.0 M465.23760430703396,460.0 M474.475208614068,444.0 Q477.856406460551,452.0,465.23760430703396,460.0 Q472.96965511460286,457.0,477.23760430703396,460.0 Q484.96965511460286,457.0,489.23760430703396,460.0 C492.0829037686547,462.0,484.0829037686547,462.0,489.23760430703396,460.0 Q496.96965511460286,457.0,501.23760430703396,460.0 C502.92820323027547,464.0,495.99999999999994,476.0,491.99999999999994,476.0 C487.99999999999994,476.0,492.618802153517,468.0,501.23760430703396,460.0 M517.237604307034,460.0 Q521.8564064605509,452.0,525.8564064605509,452.0 C529.8564064605509,452.0,525.237604307034,460.0,527.237604307034,460.0 C537.237604307034,460.0,531.5470053837926,456.0,541.8564064605509,452.0 C531.5470053837926,456.0,537.237604307034,460.0,539.237604307034,460.0 C547.237604307034,460.0,551.8564064605509,452.0,547.8564064605509,452.0 C543.8564064605509,452.0,541.5470053837926,456.0,543.237604307034,460.0 Q574.1658075373095,448.0,591.237604307034,460.0 Q599.237604307034,460.0,601.5470053837926,456.0 L603.8564064605509,452.0 L599.237604307034,460.0 Q594.618802153517,468.0,598.618802153517,468.0 Q602.618802153517,468.0,607.237604307034,460.0 L611.8564064605509,452.0 M607.237604307034,460.0 M623.237604307034,460.0 M13.237604307034019,500.0 Q17.505553499465123,503.0,25.23760430703402,500.0 Q32.96965511460286,497.0,37.23760430703402,500.0 L32.61880215351698,508.0 M37.23760430703402,500.0 M53.23760430703402,500.0 L77.23760430703402,500.0 C85.23760430703402,500.0,80.61880215351698,508.0,76.61880215351698,508.0 C72.61880215351698,508.0,74.92820323027553,504.0,81.23760430703402,500.0 M97.23760430703402,500.0 Q104.96965511460286,497.0,109.23760430703402,500.0 Q116.96965511460286,497.0,121.23760430703402,500.0 C122.92820323027553,504.0,120.61880215351698,508.0,116.61880215351698,508.0 C112.61880215351698,508.0,114.92820323027553,504.0,121.23760430703402,500.0 Q115.54700538379251,496.0,125.856406460551,492.0 M121.23760430703402,500.0 M130.39230484541326,498.0 L132.08290376865477,502.0 M141.23760430703402,500.0 M145.856406460551,492.0 Q151.5470053837925,496.0,141.23760430703402,500.0 Q156.70170592217175,494.0,165.23760430703402,500.0 C166.92820323027553,504.0,164.61880215351698,508.0,160.61880215351698,508.0 C156.61880215351698,508.0,158.92820323027553,504.0,165.23760430703402,500.0 Q172.96965511460286,497.0,177.23760430703402,500.0 Q184.96965511460286,497.0,189.23760430703402,500.0 C195.5470053837925,496.0,202.47520861406804,484.0,198.47520861406804,484.0 C194.47520861406804,484.0,189.856406460551,492.0,189.23760430703402,500.0 M197.23760430703402,500.0 Q196.9489291724392,500.5,197.4489291724392,500.5 Q197.9489291724392,500.5,198.23760430703402,500.0 Q198.52627944162884,499.5,198.02627944162884,499.5 Q197.52627944162884,499.5,197.23760430703402,500.0 M205.23760430703402,500.0 M221.23760430703402,500.0 Q252.1658075373095,488.0,269.2376043070341,500.0 C279.54700538379257,496.0,271.54700538379257,496.0,281.85640646055106,492.0 Q271.54700538379257,496.0,277.2376043070341,500.0 Q285.2376043070341,500.0,287.54700538379257,496.0 L289.85640646055106,492.0 L285.2376043070341,500.0 Q280.61880215351704,508.0,284.61880215351704,508.0 Q288.61880215351704,508.0,293.2376043070341,500.0 Q297.5055534994652,503.0,305.2376043070341,500.0 L329.2376043070341,500.0 C337.2376043070341,500.0,346.4752086140681,484.0,342.4752086140681,484.0 C338.4752086140681,484.0,333.85640646055106,492.0,333.2376043070341,500.0 Q340.9696551146029,497.0,345.2376043070341,500.0 Q352.9696551146029,497.0,357.2376043070341,500.0 M373.2376043070341,500.0 M368.61880215351704,508.0 Q362.9282032302756,504.0,373.2376043070341,500.0 Q380.9696551146029,497.0,385.2376043070341,500.0 Q392.9696551146029,497.0,397.2376043070341,500.0 M413.2376043070341,500.0 Q417.5055534994652,503.0,425.2376043070341,500.0 L473.2376043070341,500.0 Q482.4752086140681,484.0,486.4752086140681,484.0 Q490.4752086140681,484.0,481.2376043070341,500.0 M497.2376043070341,500.0 C498.9282032302756,504.0,496.61880215351704,508.0,492.61880215351704,508.0 C488.61880215351704,508.0,493.2376043070341,500.0,501.2376043070341,500.0 L549.237604307034,500.0 Q557.237604307034,500.0,559.5470053837926,496.0 L561.8564064605509,492.0 L557.237604307034,500.0 M573.237604307034,500.0 M13.237604307034019,540.0 Q20.96965511460286,537.0,25.23760430703402,540.0 Q29.505553499465123,543.0,37.23760430703402,540.0 Q46.47520861406798,524.0,50.47520861406798,524.0 C54.47520861406798,524.0,45.23760430703402,540.0,49.23760430703402,540.0 Q51.23760430703402,540.0,60.47520861406798,524.0 M51.23760430703402,540.0 M67.23760430703402,540.0 M71.856406460551,532.0 L67.23760430703402,540.0 Q74.96965511460286,537.0,79.23760430703402,540.0 M95.23760430703402,540.0 C101.54700538379251,536.0,103.856406460551,532.0,99.856406460551,532.0 C95.856406460551,532.0,91.23760430703402,540.0,99.23760430703402,540.0 L147.23760430703402,540.0 Q154.96965511460286,537.0,159.23760430703402,540.0 Q167.23760430703402,540.0,169.5470053837925,536.0 L171.856406460551,532.0 L167.23760430703402,540.0 Q174.96965511460286,537.0,179.23760430703402,540.0 C180.92820323027547,544.0,174.0,556.0,170.0,556.0 C166.0,556.0,170.61880215351698,548.0,179.23760430703402,540.0 M195.23760430703402,540.0 M204.47520861406798,524.0 Q207.856406460551,532.0,195.23760430703402,540.0 L243.23760430703396,540.0 Q250.9696551146028,537.0,255.23760430703396,540.0 M271.23760430703396,540.0 M266.6188021535169,548.0 Q260.9282032302754,544.0,271.23760430703396,540.0 Q302.16580753730943,528.0,319.23760430703396,540.0 C324.9282032302754,544.0,322.6188021535169,548.0,318.6188021535169,548.0 C314.6188021535169,548.0,316.9282032302754,544.0,319.23760430703396,540.0 L328.4752086140679,524.0 M319.23760430703396,540.0 M327.23760430703396,540.0 Q326.94892917243914,540.5,327.44892917243914,540.5 Q327.94892917243914,540.5,328.23760430703396,540.0 Q328.52627944162873,539.5,328.02627944162873,539.5 Q327.52627944162873,539.5,327.23760430703396,540.0 M335.23760430703396,540.0 M351.23760430703396,540.0 L375.23760430703396,540.0 Q385.54700538379245,536.0,379.85640646055094,532.0 C385.54700538379245,536.0,377.54700538379245,536.0,383.23760430703396,540.0 L431.23760430703396,540.0 C439.23760430703396,540.0,443.85640646055094,532.0,439.85640646055094,532.0 C435.85640646055094,532.0,431.23760430703396,540.0,439.23760430703396,540.0 Q441.23760430703396,540.0,445.85640646055094,532.0 M441.23760430703396,540.0 M457.23760430703396,540.0 M452.6188021535169,548.0 Q461.77350269189617,546.0,465.23760430703396,540.0 C467.54700538379245,536.0,469.85640646055094,532.0,465.85640646055094,532.0 C461.85640646055094,532.0,457.23760430703396,540.0,469.23760430703396,540.0 L493.23760430703396,540.0 C498.9282032302754,544.0,482.9282032302754,544.0,493.23760430703396,540.0 M509.23760430703396,540.0 Q512.618802153517,548.0,499.99999999999994,556.0 C512.618802153517,548.0,506.9282032302754,544.0,517.237604307034,540.0 Q532.7017059221716,534.0,541.237604307034,540.0 C547.5470053837923,536.0,549.8564064605509,532.0,545.8564064605509,532.0 C541.8564064605509,532.0,539.5470053837923,536.0,541.237604307034,540.0 Q548.9696551146028,537.0,553.237604307034,540.0 Q560.9696551146028,537.0,565.237604307034,540.0 M581.237604307034,540.0 M13.237604307034019,580.0 Q8.618802153517038,588.0,12.618802153517038,588.0 Q16.618802153517038,588.0,21.23760430703402,580.0 Q38.30940107675855,592.0,69.23760430703402,580.0 C75.54700538379257,576.0,77.85640646055106,572.0,73.85640646055106,572.0 C69.85640646055106,572.0,65.23760430703402,580.0,73.23760430703402,580.0 Q75.23760430703402,580.0,79.85640646055106,572.0 M75.23760430703402,580.0 M91.23760430703402,580.0 C92.92820323027553,584.0,90.61880215351704,588.0,86.61880215351704,588.0 C82.61880215351704,588.0,84.92820323027553,584.0,91.23760430703402,580.0 Q99.77350269189628,586.0,115.23760430703402,580.0 L127.23760430703402,580.0 Q135.23760430703402,580.0,137.54700538379257,576.0 L139.85640646055106,572.0 Q135.23760430703402,580.0,139.23760430703402,580.0 C143.23760430703402,580.0,147.85640646055106,572.0,151.85640646055106,572.0 Q155.85640646055106,572.0,151.23760430703402,580.0 M159.23760430703402,580.0 Q162.08290376865477,582.0,156.92820323027553,584.0 M167.23760430703402,580.0 M183.23760430703402,580.0 Q190.96965511460292,577.0,195.23760430703402,580.0 L199.85640646055106,572.0 M195.23760430703402,580.0 M211.23760430703402,580.0 Q215.50555349946518,583.0,223.23760430703402,580.0 L271.237604307034,580.0 Q280.47520861406804,564.0,284.47520861406804,564.0 Q288.47520861406804,564.0,279.237604307034,580.0 M295.237604307034,580.0 Q302.9696551146029,577.0,307.237604307034,580.0 Q311.5055534994652,583.0,319.237604307034,580.0 Q310.0,596.0,314.0,596.0 Q318.0,596.0,327.237604307034,580.0 L351.237604307034,580.0 Q355.5055534994652,583.0,363.237604307034,580.0 L387.237604307034,580.0 C395.237604307034,580.0,404.47520861406804,564.0,400.47520861406804,564.0 C396.47520861406804,564.0,391.85640646055106,572.0,391.237604307034,580.0 M407.237604307034,580.0 M411.85640646055106,572.0 L407.237604307034,580.0 Q414.9696551146029,577.0,419.237604307034,580.0 M435.237604307034,580.0 M444.47520861406804,564.0 L435.237604307034,580.0 Q442.9696551146029,577.0,447.237604307034,580.0 C457.54700538379257,576.0,449.54700538379257,576.0,459.85640646055106,572.0 Q449.54700538379257,576.0,455.237604307034,580.0 Q463.237604307034,580.0,465.54700538379257,576.0 L467.85640646055106,572.0 L463.237604307034,580.0 Q478.7017059221718,574.0,487.237604307034,580.0 Q494.9696551146029,577.0,499.237604307034,580.0 L503.85640646055106,572.0 M499.237604307034,580.0 M515.237604307034,580.0 Q530.7017059221719,574.0,539.237604307034,580.0 Q542.618802153517,588.0,530.0,596.0 C542.618802153517,588.0,536.9282032302756,584.0,543.237604307034,580.0 C549.5470053837926,576.0,551.8564064605509,572.0,547.8564064605509,572.0 C543.8564064605509,572.0,541.5470053837926,576.0,543.237604307034,580.0 Q550.9696551146028,577.0,555.237604307034,580.0 Q562.9696551146028,577.0,567.237604307034,580.0 L562.618802153517,588.0 L564.9282032302756,584.0 C567.237604307034,580.0,574.9696551146028,577.0,579.237604307034,580.0 C580.9282032302756,584.0,574.0,596.0,570.0,596.0 C566.0,596.0,570.618802153517,588.0,579.237604307034,580.0 M595.237604307034,580.0 M13.237604307034019,620.0 Q20.969655114602915,617.0,25.23760430703402,620.0 C26.92820323027553,624.0,24.618802153517038,628.0,20.618802153517038,628.0 C16.618802153517038,628.0,18.92820323027553,624.0,25.23760430703402,620.0 Q31.54700538379251,616.0,33.856406460551,612.0 L29.23760430703402,620.0 Q33.50555349946512,623.0,41.23760430703402,620.0 M57.23760430703402,620.0 L48.0,636.0 L54.92820323027553,624.0 Q57.23760430703402,620.0,65.23760430703402,620.0 L89.23760430703402,620.0 M105.23760430703402,620.0 Q109.856406460551,612.0,113.856406460551,612.0 C117.856406460551,612.0,113.23760430703402,620.0,115.23760430703402,620.0 C117.23760430703402,620.0,127.54700538379251,616.0,121.856406460551,612.0 C127.54700538379251,616.0,119.54700538379251,616.0,125.23760430703402,620.0 Q140.70170592217175,614.0,149.23760430703402,620.0 L197.23760430703402,620.0 Q191.5470053837925,616.0,201.856406460551,612.0 M197.23760430703402,620.0 M206.39230484541326,618.0 L208.08290376865477,622.0 M217.23760430703402,620.0 Q221.50555349946512,623.0,229.23760430703402,620.0 C235.5470053837925,616.0,237.856406460551,612.0,233.856406460551,612.0 C229.856406460551,612.0,227.5470053837925,616.0,229.23760430703402,620.0 Q236.96965511460292,617.0,241.23760430703402,620.0 Q248.96965511460292,617.0,253.23760430703402,620.0 Q261.237604307034,620.0,263.5470053837925,616.0 L265.856406460551,612.0 L261.237604307034,620.0 Q276.70170592217175,614.0,285.237604307034,620.0 M301.237604307034,620.0 Q305.5055534994651,623.0,313.237604307034,620.0 Q320.9696551146029,617.0,325.237604307034,620.0 Q333.237604307034,620.0,335.5470053837925,616.0 L337.856406460551,612.0 L333.237604307034,620.0 Q328.61880215351704,628.0,332.61880215351704,628.0 Q336.61880215351704,628.0,341.237604307034,620.0 M357.237604307034,620.0 Q361.5055534994651,623.0,369.237604307034,620.0 L417.237604307034,620.0 Q426.47520861406804,604.0,430.47520861406804,604.0 Q434.47520861406804,604.0,425.237604307034,620.0 M441.237604307034,620.0 L465.237604307034,620.0 Q468.61880215351704,628.0,456.0,636.0 M465.237604307034,620.0 M481.237604307034,620.0 M485.856406460551,612.0 Q475.5470053837925,616.0,481.237604307034,620.0 Q498.3094010767585,632.0,529.237604307034,620.0 C535.5470053837926,616.0,537.8564064605509,612.0,533.8564064605509,612.0 C529.8564064605509,612.0,525.237604307034,620.0,535.237604307034,620.0 C537.237604307034,620.0,541.8564064605509,612.0,545.8564064605509,612.0 Q549.8564064605509,612.0,545.237604307034,620.0 M561.237604307034,620.0 M13.237604307034019,660.0 Q20.96965511460286,657.0,25.23760430703402,660.0 C30.92820323027553,664.0,14.928203230275528,664.0,25.23760430703402,660.0 Q35.54700538379251,656.0,29.856406460551,652.0 C35.54700538379251,656.0,27.54700538379251,656.0,33.23760430703402,660.0 L81.23760430703402,660.0 Q85.856406460551,652.0,89.856406460551,652.0 Q93.856406460551,652.0,89.23760430703402,660.0 L113.23760430703402,660.0 Q125.856406460551,652.0,122.47520861406804,644.0 C125.856406460551,652.0,115.54700538379251,656.0,121.23760430703402,660.0 L145.23760430703402,660.0 C153.23760430703402,660.0,162.47520861406804,644.0,158.47520861406804,644.0 C154.47520861406804,644.0,149.856406460551,652.0,149.23760430703402,660.0 M165.23760430703402,660.0 M160.61880215351698,668.0 Q170.92820323027553,664.0,165.23760430703402,660.0 L189.23760430703402,660.0 C197.23760430703402,660.0,201.856406460551,652.0,197.856406460551,652.0 C193.856406460551,652.0,191.5470053837925,656.0,193.23760430703402,660.0 M209.23760430703402,660.0 M204.61880215351698,668.0 Q198.92820323027553,664.0,209.23760430703402,660.0 Q216.96965511460286,657.0,221.23760430703402,660.0 Q230.47520861406804,644.0,234.47520861406804,644.0 Q238.47520861406804,644.0,229.23760430703402,660.0 M245.23760430703402,660.0 M249.856406460551,652.0 C255.5470053837925,656.0,245.23760430703402,660.0,251.23760430703402,660.0 C259.237604307034,660.0,263.856406460551,652.0,259.856406460551,652.0 C255.856406460551,652.0,253.5470053837925,656.0,255.23760430703402,660.0 Q270.70170592217175,654.0,279.237604307034,660.0 Q288.47520861406804,644.0,292.47520861406804,644.0 Q296.47520861406804,644.0,287.237604307034,660.0 L311.237604307034,660.0 C323.237604307034,660.0,318.618802153517,668.0,314.618802153517,668.0 C310.618802153517,668.0,312.9282032302755,664.0,315.237604307034,660.0 L319.856406460551,652.0 M315.237604307034,660.0 M331.237604307034,660.0 M335.856406460551,652.0 Q341.5470053837925,656.0,331.237604307034,660.0 L355.237604307034,660.0 C363.237604307034,660.0,367.856406460551,652.0,363.856406460551,652.0 C359.856406460551,652.0,355.237604307034,660.0,363.237604307034,660.0 C365.237604307034,660.0,375.5470053837925,656.0,369.856406460551,652.0 C375.5470053837925,656.0,367.5470053837925,656.0,373.237604307034,660.0 L397.237604307034,660.0 Q401.856406460551,652.0,405.856406460551,652.0 Q409.856406460551,652.0,405.237604307034,660.0 M413.237604307034,660.0 Q412.9489291724392,660.5,413.4489291724392,660.5 Q413.9489291724392,660.5,414.237604307034,660.0 Q414.52627944162884,659.5,414.02627944162884,659.5 Q413.52627944162884,659.5,413.237604307034,660.0 M421.237604307034,660.0 M437.237604307034,660.0 M432.618802153517,668.0 Q426.9282032302755,664.0,437.237604307034,660.0 Q444.96965511460286,657.0,449.237604307034,660.0 Q456.96965511460286,657.0,461.237604307034,660.0 M477.237604307034,660.0 M486.47520861406804,644.0 L477.237604307034,660.0 Q484.96965511460286,657.0,489.237604307034,660.0 Q499.5470053837925,656.0,493.856406460551,652.0 C499.5470053837925,656.0,491.5470053837925,656.0,497.237604307034,660.0 L501.856406460551,652.0 M497.237604307034,660.0 M513.237604307034,660.0 L504.0,676.0 L510.9282032302755,664.0 Q513.237604307034,660.0,521.237604307034,660.0 L545.237604307034,660.0 M561.237604307034,660.0 M13.237604307034019,700.0 M17.856406460551057,692.0 Q23.547005383792566,696.0,13.237604307034019,700.0 Q28.70170592217181,694.0,37.23760430703402,700.0 C38.92820323027553,704.0,36.61880215351704,708.0,32.61880215351704,708.0 C28.618802153517038,708.0,30.92820323027553,704.0,37.23760430703402,700.0 M53.23760430703402,700.0 Q60.969655114602915,697.0,65.23760430703402,700.0 C66.92820323027553,704.0,64.61880215351704,708.0,60.61880215351704,708.0 C56.61880215351704,708.0,58.92820323027553,704.0,65.23760430703402,700.0 Q71.54700538379257,696.0,73.85640646055106,692.0 L69.23760430703402,700.0 Q73.50555349946518,703.0,81.23760430703402,700.0 M97.23760430703402,700.0 L88.00000000000006,716.0 L94.92820323027553,704.0 Q97.23760430703402,700.0,105.23760430703402,700.0 L129.23760430703402,700.0 M145.23760430703408,700.0 Q152.96965511460297,697.0,157.23760430703408,700.0 C158.92820323027559,704.0,152.0000000000001,716.0,148.0000000000001,716.0 C144.0000000000001,716.0,148.6188021535171,708.0,157.23760430703408,700.0 Q151.54700538379262,696.0,161.8564064605511,692.0 M157.23760430703408,700.0 M173.23760430703408,700.0 L197.23760430703408,700.0 C209.23760430703408,700.0,204.6188021535171,708.0,200.6188021535171,708.0 C196.6188021535171,708.0,198.92820323027559,704.0,201.23760430703408,700.0 L210.4752086140681,684.0 M201.23760430703408,700.0 M217.23760430703408,700.0 L208.0000000000001,716.0 L214.92820323027559,704.0 C217.23760430703408,700.0,232.70170592217187,694.0,241.23760430703408,700.0 C242.92820323027559,704.0,240.6188021535171,708.0,236.6188021535171,708.0 C232.6188021535171,708.0,234.92820323027559,704.0,241.23760430703408,700.0 M257.2376043070341,700.0 M252.6188021535171,708.0 Q262.9282032302756,704.0,257.2376043070341,700.0 L305.2376043070341,700.0 C313.2376043070341,700.0,322.4752086140681,684.0,318.4752086140681,684.0 C314.4752086140681,684.0,309.8564064605511,692.0,309.2376043070341,700.0 Q317.2376043070341,700.0,319.5470053837926,696.0 L321.8564064605511,692.0 L317.2376043070341,700.0 L341.2376043070341,700.0 C349.2376043070341,700.0,353.8564064605511,692.0,349.8564064605511,692.0 C345.8564064605511,692.0,341.2376043070341,700.0,349.2376043070341,700.0 Q351.2376043070341,700.0,360.4752086140681,684.0 M351.2376043070341,700.0 M367.2376043070341,700.0 M362.6188021535171,708.0 Q372.9282032302756,704.0,367.2376043070341,700.0 L391.2376043070341,700.0 C399.2376043070341,700.0,403.8564064605511,692.0,399.8564064605511,692.0 C395.8564064605511,692.0,393.5470053837926,696.0,395.2376043070341,700.0 M411.2376043070341,700.0 M420.4752086140681,684.0 L411.2376043070341,700.0 Q402.0000000000001,716.0,406.0000000000001,716.0 Q410.0000000000001,716.0,419.2376043070341,700.0 Q426.969655114603,697.0,431.2376043070341,700.0 Q435.8564064605511,692.0,439.8564064605511,692.0 C443.8564064605511,692.0,439.2376043070341,700.0,443.2376043070341,700.0 Q445.2376043070341,700.0,449.8564064605511,692.0 M445.2376043070341,700.0 M461.2376043070341,700.0 L485.2376043070341,700.0 M501.2376043070341,700.0 Q505.8564064605511,692.0,509.8564064605511,692.0 Q513.8564064605512,692.0,509.2376043070341,700.0 Q524.7017059221719,694.0,533.237604307034,700.0 C543.5470053837926,696.0,535.5470053837926,696.0,545.8564064605512,692.0 Q535.5470053837926,696.0,541.237604307034,700.0 L565.237604307034,700.0 C577.237604307034,700.0,572.618802153517,708.0,568.618802153517,708.0 C564.618802153517,708.0,566.9282032302756,704.0,569.237604307034,700.0 L578.4752086140682,684.0 M569.237604307034,700.0 M577.237604307034,700.0 Q576.9489291724392,700.5,577.4489291724392,700.5 Q577.9489291724392,700.5,578.237604307034,700.0 Q578.526279441629,699.5,578.026279441629,699.5 Q577.526279441629,699.5,577.237604307034,700.0 M585.237604307034,700.0 M601.237604307034,700.0 M13.237604307034019,740.0 L37.23760430703402,740.0 M53.23760430703402,740.0 M57.85640646055106,732.0 Q53.23760430703402,740.0,55.23760430703402,740.0 C65.23760430703402,740.0,69.85640646055106,732.0,65.85640646055106,732.0 C61.85640646055106,732.0,59.54700538379251,736.0,61.23760430703402,740.0 Q76.70170592217181,734.0,85.23760430703402,740.0 C90.92820323027553,744.0,74.92820323027553,744.0,85.23760430703402,740.0 L109.23760430703402,740.0 C117.23760430703396,740.0,121.856406460551,732.0,117.856406460551,732.0 C113.85640646055106,732.0,111.54700538379251,736.0,113.23760430703396,740.0 M129.23760430703396,740.0 M124.61880215351698,748.0 Q118.92820323027547,744.0,129.23760430703396,740.0 Q160.1658075373095,728.0,177.23760430703396,740.0 L186.47520861406798,724.0 M177.23760430703396,740.0 M193.23760430703396,740.0 M202.47520861406798,724.0 Q189.856406460551,732.0,193.23760430703396,740.0 Q210.3094010767585,752.0,241.23760430703396,740.0 C242.92820323027547,744.0,240.61880215351698,748.0,236.61880215351698,748.0 C232.61880215351698,748.0,234.92820323027547,744.0,241.23760430703396,740.0 M257.23760430703396,740.0 M252.61880215351698,748.0 L257.23760430703396,740.0 C263.54700538379245,736.0,265.856406460551,732.0,261.856406460551,732.0 C257.856406460551,732.0,255.54700538379245,736.0,257.23760430703396,740.0 Q261.5055534994651,743.0,269.23760430703396,740.0 M285.23760430703396,740.0 M280.618802153517,748.0 Q274.92820323027547,744.0,285.23760430703396,740.0 Q292.96965511460286,737.0,297.23760430703396,740.0 Q306.475208614068,724.0,310.475208614068,724.0 Q314.475208614068,724.0,305.23760430703396,740.0 M321.23760430703396,740.0 M330.475208614068,724.0 Q333.856406460551,732.0,321.23760430703396,740.0 L369.23760430703396,740.0 L381.23760430703396,740.0 L405.23760430703396,740.0 C413.23760430703396,740.0,422.475208614068,724.0,418.475208614068,724.0 C414.475208614068,724.0,405.23760430703396,740.0,415.23760430703396,740.0 C417.23760430703396,740.0,426.475208614068,724.0,430.475208614068,724.0 Q434.475208614068,724.0,425.23760430703396,740.0 M433.23760430703396,740.0 Q432.94892917243914,740.5,433.44892917243914,740.5 Q433.94892917243914,740.5,434.23760430703396,740.0 Q434.5262794416288,739.5,434.0262794416288,739.5 Q433.5262794416288,739.5,433.23760430703396,740.0 M441.23760430703396,740.0 M457.23760430703396,740.0 M461.856406460551,732.0 L457.23760430703396,740.0 Q464.96965511460286,737.0,469.23760430703396,740.0 M485.23760430703396,740.0 C490.92820323027547,744.0,474.92820323027547,744.0,485.23760430703396,740.0 L533.237604307034,740.0 C541.237604307034,740.0,545.8564064605509,732.0,541.8564064605509,732.0 C537.8564064605509,732.0,533.237604307034,740.0,547.237604307034,740.0 C547.237604307034,740.0,541.5470053837923,736.0,551.8564064605509,732.0 M547.237604307034,740.0 M563.237604307034,740.0 M13.237604307034019,780.0 L4.0,796.0 L10.928203230275528,784.0 Q13.237604307034019,780.0,21.23760430703402,780.0 L45.23760430703402,780.0 M61.23760430703402,780.0 M65.856406460551,772.0 Q71.54700538379251,776.0,61.23760430703402,780.0 Q76.70170592217175,774.0,85.23760430703402,780.0 Q92.96965511460297,777.0,97.23760430703408,780.0 Q107.54700538379257,776.0,101.85640646055106,772.0 C107.54700538379257,776.0,99.54700538379257,776.0,105.23760430703408,780.0 L129.23760430703408,780.0 C137.23760430703408,780.0,141.85640646055106,772.0,137.85640646055106,772.0 C133.85640646055106,772.0,131.54700538379257,776.0,133.23760430703408,780.0 M149.23760430703408,780.0 Q153.50555349946518,783.0,161.23760430703408,780.0 L209.23760430703408,780.0 Q218.4752086140681,764.0,222.4752086140681,764.0 Q226.4752086140681,764.0,217.23760430703408,780.0 M233.23760430703408,780.0 L224.00000000000006,796.0 L230.92820323027559,784.0 Q233.23760430703408,780.0,241.23760430703408,780.0 L265.2376043070341,780.0 M281.2376043070341,780.0 M290.4752086140681,764.0 L281.2376043070341,780.0 Q288.969655114603,777.0,293.2376043070341,780.0 Q297.85640646055106,772.0,301.85640646055106,772.0 Q305.85640646055106,772.0,301.2376043070341,780.0 L349.2376043070341,780.0 Q356.969655114603,777.0,361.2376043070341,780.0 Q365.85640646055106,772.0,369.85640646055106,772.0 Q373.85640646055106,772.0,369.2376043070341,780.0 Q376.969655114603,777.0,381.2376043070341,780.0 Q384.61880215351704,788.0,372.00000000000006,796.0 M381.2376043070341,780.0 M397.2376043070341,780.0 Q428.1658075373096,768.0,445.2376043070341,780.0 C455.54700538379257,776.0,447.54700538379257,776.0,457.85640646055106,772.0 C447.54700538379257,776.0,453.2376043070341,780.0,455.2376043070341,780.0 Q457.2376043070341,780.0,461.85640646055106,772.0 M457.2376043070341,780.0 M465.2376043070341,780.0 Q464.94892917243925,780.5,465.44892917243925,780.5 Q465.94892917243925,780.5,466.2376043070341,780.0 Q466.5262794416289,779.5,466.0262794416289,779.5 Q465.5262794416289,779.5,465.2376043070341,780.0 M473.2376043070341,780.0 M489.2376043070341,780.0 Q496.969655114603,777.0,501.2376043070341,780.0 C502.9282032302756,784.0,500.61880215351704,788.0,496.61880215351704,788.0 C492.61880215351704,788.0,494.9282032302756,784.0,501.2376043070341,780.0 M517.2376043070341,780.0 Q521.856406460551,772.0,525.8564064605509,772.0 Q529.8564064605509,772.0,525.237604307034,780.0 C530.9282032302756,784.0,514.9282032302756,784.0,525.237604307034,780.0 Q542.3094010767586,792.0,573.237604307034,780.0 C579.5470053837926,776.0,586.4752086140682,764.0,582.4752086140682,764.0 C578.4752086140682,764.0,573.8564064605509,772.0,573.237604307034,780.0 M589.237604307034,780.0 M13.237604307034019,820.0 M17.856406460551,812.0 C7.547005383792509,816.0,13.237604307034019,820.0,17.23760430703402,820.0 C25.23760430703402,820.0,34.47520861406804,804.0,30.475208614068038,804.0 C26.475208614068038,804.0,17.23760430703402,820.0,25.23760430703402,820.0 L49.23760430703402,820.0 C54.92820323027547,824.0,38.92820323027547,824.0,49.23760430703402,820.0 Q58.47520861406804,804.0,62.47520861406804,804.0 Q66.47520861406804,804.0,57.23760430703402,820.0 Q64.96965511460286,817.0,69.23760430703396,820.0 Q76.9696551146028,817.0,81.23760430703396,820.0 M97.23760430703396,820.0 C103.54700538379245,816.0,110.47520861406798,804.0,106.47520861406798,804.0 C102.47520861406798,804.0,97.85640646055094,812.0,97.23760430703396,820.0 Q112.7017059221717,814.0,121.23760430703396,820.0 Q129.23760430703396,820.0,131.54700538379245,816.0 L133.85640646055094,812.0 L129.23760430703396,820.0 L153.23760430703396,820.0 C161.23760430703396,820.0,165.85640646055094,812.0,161.85640646055094,812.0 C157.85640646055094,812.0,153.23760430703396,820.0,163.23760430703396,820.0 C165.23760430703396,820.0,174.47520861406798,804.0,178.47520861406798,804.0 Q182.47520861406798,804.0,173.23760430703396,820.0 M189.23760430703396,820.0 M184.61880215351692,828.0 Q178.92820323027541,824.0,189.23760430703396,820.0 Q196.9696551146028,817.0,201.23760430703396,820.0 Q208.9696551146028,817.0,213.23760430703396,820.0 M229.23760430703396,820.0 C235.54700538379245,816.0,237.85640646055094,812.0,233.85640646055094,812.0 C229.85640646055094,812.0,227.54700538379245,816.0,229.23760430703396,820.0 Q237.77350269189617,826.0,253.23760430703396,820.0 L265.23760430703396,820.0 Q273.23760430703396,820.0,275.54700538379245,816.0 L277.85640646055094,812.0 L273.23760430703396,820.0 M289.23760430703396,820.0 Q304.7017059221717,814.0,313.23760430703396,820.0 Q320.9696551146028,817.0,325.23760430703396,820.0 Q335.54700538379245,816.0,329.85640646055094,812.0 C335.54700538379245,816.0,325.23760430703396,820.0,335.23760430703396,820.0 C343.23760430703396,820.0,347.85640646055094,812.0,343.85640646055094,812.0 C339.85640646055094,812.0,335.23760430703396,820.0,343.23760430703396,820.0 L367.23760430703396,820.0 C375.23760430703396,820.0,384.475208614068,804.0,380.475208614068,804.0 C376.475208614068,804.0,371.85640646055094,812.0,371.23760430703396,820.0 M387.23760430703396,820.0 Q395.23760430703396,820.0,397.54700538379245,816.0 L399.85640646055094,812.0 L395.23760430703396,820.0 Q384.9282032302754,824.0,390.6188021535169,828.0 M395.23760430703396,820.0 M403.23760430703396,820.0 Q406.0829037686547,822.0,400.9282032302754,824.0 M411.23760430703396,820.0 M427.23760430703396,820.0 M436.475208614068,804.0 L427.23760430703396,820.0 M435.23760430703396,820.0\" stroke=\"black\" fill=\"none\" stroke-width=\"1.3333333333333333\" stroke-linecap=\"round\" stroke-linejoin=\"round\" id=\"E9yobgPg0\" />\n",
       "</defs>\n",
       "<use xlink:href=\"#E9yobgPg0\" x=\"0\" y=\"0\" />\n",
       "</svg>"
      ],
      "text/plain": [
       "<drawsvg.drawing.Drawing at 0x10a29a220>"
      ]
     },
     "metadata": {},
     "output_type": "display_data"
    }
   ],
   "source": [
    "show_grafoni_kerned_wrapped_ligs(\"\"\"The thing that he was about to do was to open a diary. This was not illegal\n",
    "(nothing was illegal, since there were no longer any laws), but if detected\n",
    "it was reasonably certain that it would be punished by death, or at least by\n",
    "twenty-five years in a forced-labour camp. Winston\n",
    "fitted a nib into the penholder and sucked it to get the grease off.\n",
    "The pen was an archaic instrument, seldom used even for\n",
    "signatures, and he had procured one, furtively and with some\n",
    "difficulty, simply because of a feeling that the beautiful creamy paper\n",
    "deserved to be written on with a real nib instead of being scratched with\n",
    "an ink-pencil. Actually he was not used to writing by hand.\n",
    "Apart from very short notes, it was usual to dictate everything into the\n",
    "speak-write which was of course impossible for his present purpose.\n",
    "He dipped the pen into the ink and then faltered for just a second. A\n",
    "tremor had gone through his bowels. To mark the paper was the decisive\n",
    "act. In small clumsy letters he wrote: April 4th, 1984.\"\"\",shear_val=-1/sqrt(3),wrap=135)"
   ]
  },
  {
   "cell_type": "code",
   "execution_count": null,
   "metadata": {},
   "outputs": [],
   "source": []
  },
  {
   "cell_type": "code",
   "execution_count": null,
   "metadata": {},
   "outputs": [],
   "source": []
  },
  {
   "cell_type": "code",
   "execution_count": null,
   "metadata": {},
   "outputs": [],
   "source": []
  },
  {
   "cell_type": "code",
   "execution_count": null,
   "metadata": {},
   "outputs": [],
   "source": []
  },
  {
   "cell_type": "code",
   "execution_count": null,
   "metadata": {},
   "outputs": [],
   "source": []
  },
  {
   "cell_type": "code",
   "execution_count": null,
   "metadata": {},
   "outputs": [],
   "source": []
  },
  {
   "cell_type": "code",
   "execution_count": null,
   "metadata": {},
   "outputs": [],
   "source": []
  },
  {
   "cell_type": "code",
   "execution_count": null,
   "metadata": {},
   "outputs": [],
   "source": []
  }
 ],
 "metadata": {
  "kernelspec": {
   "display_name": "Python 3",
   "language": "python",
   "name": "python3"
  },
  "language_info": {
   "codemirror_mode": {
    "name": "ipython",
    "version": 3
   },
   "file_extension": ".py",
   "mimetype": "text/x-python",
   "name": "python",
   "nbconvert_exporter": "python",
   "pygments_lexer": "ipython3",
   "version": "3.9.18"
  }
 },
 "nbformat": 4,
 "nbformat_minor": 2
}
