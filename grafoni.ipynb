{
 "cells": [
  {
   "cell_type": "code",
   "execution_count": 758,
   "metadata": {},
   "outputs": [
    {
     "name": "stdout",
     "output_type": "stream",
     "text": [
      "Defaulting to user installation because normal site-packages is not writeable\n",
      "Requirement already satisfied: eng-to-ipa in /Users/bwernes/Library/Python/3.9/lib/python/site-packages (0.0.2)\n",
      "\u001b[33mWARNING: You are using pip version 21.2.4; however, version 23.3.2 is available.\n",
      "You should consider upgrading via the '/Library/Developer/CommandLineTools/usr/bin/python3 -m pip install --upgrade pip' command.\u001b[0m\n"
     ]
    }
   ],
   "source": [
    "!pip3 install eng-to-ipa"
   ]
  },
  {
   "cell_type": "code",
   "execution_count": 759,
   "metadata": {},
   "outputs": [
    {
     "data": {
      "text/plain": [
       "'ðə kwɪk braʊn fɑks ʤəmpt ˈoʊvər ðə ˈleɪzi dɔg.'"
      ]
     },
     "execution_count": 759,
     "metadata": {},
     "output_type": "execute_result"
    }
   ],
   "source": [
    "import eng_to_ipa as ipa\n",
    "ipa.convert(\"The quick brown fox jumped over the lazy dog.\")"
   ]
  },
  {
   "cell_type": "code",
   "execution_count": 760,
   "metadata": {},
   "outputs": [
    {
     "data": {
      "text/plain": [
       "'ˈweɪtɪŋ'"
      ]
     },
     "execution_count": 760,
     "metadata": {},
     "output_type": "execute_result"
    }
   ],
   "source": [
    "ipa.convert(\"waiting\")"
   ]
  },
  {
   "cell_type": "code",
   "execution_count": 761,
   "metadata": {},
   "outputs": [],
   "source": [
    "convert_dict = {\n",
    "    'i': [\"uv1\"], # sometimes can be duplicated like \"see\"\n",
    "    'ɪ': [\"uv1\"],\n",
    "    'ɛ': [\"uv2\"],\n",
    "    'e': [\"uv2\"],\n",
    "    'æ': [\"uv3\"],\n",
    "    'ʊ': [\"mv1\"],\n",
    "    'ə': [\"mv2\"],\n",
    "    'ɑ': [\"mv3\"],\n",
    "    'a': [\"mv3\"],\n",
    "    'u': [\"lv1\"],\n",
    "    'o': [\"lv2\"],\n",
    "    'ɔ': [\"lv3\"],\n",
    "\n",
    "    'j': [\"uv1\"],\n",
    "    'w': [\"lv1\"],\n",
    "\n",
    "    'θ': [\"th\"],\n",
    "    'ð': [\"dh\"],\n",
    "    'ʃ': [\"sh\"],\n",
    "    'ʒ': [\"zh\"],\n",
    "\n",
    "    'ʤ': [\"d\",\"zh\"],\n",
    "    'ʧ': [\"t\",\"sh\"],\n",
    "\n",
    "    'ŋ': [\"ng\"],\n",
    "\n",
    "    'ˈ': [],\n",
    "    'ˌ': [],\n",
    "    '*': [],\n",
    "    \n",
    "    ' ': [\" \"]\n",
    "}"
   ]
  },
  {
   "cell_type": "code",
   "execution_count": 762,
   "metadata": {},
   "outputs": [],
   "source": [
    "def grafoni_spell(string):\n",
    "    ipa_string = ipa.convert(string)\n",
    "    out = []\n",
    "    for letter in ipa_string:\n",
    "        if letter in convert_dict:\n",
    "            out += convert_dict[letter]\n",
    "        else:\n",
    "            out += [letter]\n",
    "    return out"
   ]
  },
  {
   "cell_type": "code",
   "execution_count": 763,
   "metadata": {},
   "outputs": [
    {
     "data": {
      "text/plain": [
       "['mv3',\n",
       " 'uv1',\n",
       " ' ',\n",
       " 's',\n",
       " 'uv1',\n",
       " ' ',\n",
       " 'uv1',\n",
       " 'lv1',\n",
       " ' ',\n",
       " 's',\n",
       " 't',\n",
       " 'mv2',\n",
       " 'd',\n",
       " 'uv1',\n",
       " 'uv1',\n",
       " 'ng']"
      ]
     },
     "execution_count": 763,
     "metadata": {},
     "output_type": "execute_result"
    }
   ],
   "source": [
    "grafoni_spell(\"I see you studying\")"
   ]
  },
  {
   "cell_type": "code",
   "execution_count": 764,
   "metadata": {},
   "outputs": [
    {
     "data": {
      "text/plain": [
       "'ˈstədiɪŋ'"
      ]
     },
     "execution_count": 764,
     "metadata": {},
     "output_type": "execute_result"
    }
   ],
   "source": [
    "ipa.convert(\"studying\")"
   ]
  },
  {
   "cell_type": "code",
   "execution_count": 765,
   "metadata": {},
   "outputs": [
    {
     "data": {
      "text/plain": [
       "['m',\n",
       " 'lv3',\n",
       " 'th',\n",
       " 's',\n",
       " ' ',\n",
       " 'm',\n",
       " 'mv2',\n",
       " 'n',\n",
       " 'th',\n",
       " 's',\n",
       " ' ',\n",
       " 's',\n",
       " 't',\n",
       " 'mv2',\n",
       " 'd',\n",
       " 'uv1',\n",
       " 'uv1',\n",
       " 'ng']"
      ]
     },
     "execution_count": 765,
     "metadata": {},
     "output_type": "execute_result"
    }
   ],
   "source": [
    "grafoni_spell(\"moths months studying\")"
   ]
  },
  {
   "cell_type": "code",
   "execution_count": 766,
   "metadata": {},
   "outputs": [],
   "source": [
    "import drawsvg as draw\n",
    "\n",
    "def bounding_box(strokes):\n",
    "    min_x = 0\n",
    "    min_y = 0\n",
    "    max_x = 0\n",
    "    max_y = 0\n",
    "    for stroke in strokes:\n",
    "        if stroke[0] == 'move':\n",
    "            min_x = min(min_x,stroke[1])\n",
    "            min_y = min(min_y,stroke[2])\n",
    "            max_x = max(max_x,stroke[1])\n",
    "            max_y = max(max_y,stroke[2])\n",
    "        if stroke[0] == 'line':\n",
    "            min_x = min(min_x,stroke[1])\n",
    "            min_y = min(min_y,stroke[2])\n",
    "            max_x = max(max_x,stroke[1])\n",
    "            max_y = max(max_y,stroke[2])\n",
    "        if stroke[0] == 'quadratic':\n",
    "            min_x = min(min_x,stroke[1],stroke[3])\n",
    "            min_y = min(min_y,stroke[2],stroke[4])\n",
    "            max_x = max(max_x,stroke[1],stroke[3])\n",
    "            max_y = max(max_y,stroke[2],stroke[4])\n",
    "        if stroke[0] == 'cubic':\n",
    "            min_x = min(min_x,stroke[1],stroke[3],stroke[5])\n",
    "            min_y = min(min_y,stroke[2],stroke[4],stroke[6])\n",
    "            max_x = max(max_x,stroke[1],stroke[3],stroke[5])\n",
    "            max_y = max(max_y,stroke[2],stroke[4],stroke[6])\n",
    "    return min_x, min_y, max_x, max_y\n",
    "\n",
    "def svgStrokes(strokes, scale = 4,padding = 1, stroke_width = 1.0/3):\n",
    "    path = draw.Path(stroke='black', fill='none', stroke_width = stroke_width*scale, stroke_linecap='round', stroke_linejoin='round')\n",
    "    min_x,min_y,max_x,max_y = bounding_box(strokes)\n",
    "    for stroke in strokes:\n",
    "        if stroke[0] == 'move':\n",
    "            path.M(scale*(stroke[1]-min_x)+scale*padding,scale*(stroke[2]-min_y)+scale*padding)\n",
    "        if stroke[0] == 'line':\n",
    "            path.L(scale*(stroke[1]-min_x)+scale*padding,scale*(stroke[2]-min_y)+scale*padding)\n",
    "        if stroke[0] == 'quadratic':\n",
    "            path.Q(scale*(stroke[1]-min_x)+scale*padding,scale*(stroke[2]-min_y)+scale*padding,scale*(stroke[3]-min_x)+scale*padding,scale*(stroke[4]-min_y)+scale*padding)\n",
    "        if stroke[0] == 'cubic':\n",
    "            path.C(scale*(stroke[1]-min_x)+scale*padding,scale*(stroke[2]-min_y)+scale*padding,scale*(stroke[3]-min_x)+scale*padding,scale*(stroke[4]-min_y)+scale*padding,scale*(stroke[5]-min_x)+scale*padding,scale*(stroke[6]-min_y)+scale*padding)\n",
    "    \n",
    "    d = draw.Drawing(scale*(max_x-min_x)+2*scale*padding,scale*(max_y-min_y)+2*scale*padding)\n",
    "    d.append(draw.Use(path,0,0))\n",
    "    return d\n",
    "\n",
    "def translate(strokes,dx,dy):\n",
    "    out = []\n",
    "    for s in strokes:\n",
    "        if s[0] == 'move':\n",
    "            out.append(('move',s[1]+dx,s[2]+dy))\n",
    "        if s[0] == 'line':\n",
    "            out.append(('line',s[1]+dx,s[2]+dy))\n",
    "        if s[0] == 'quadratic':\n",
    "            out.append(('quadratic',s[1]+dx,s[2]+dy,s[3]+dx,s[4]+dy))\n",
    "        if s[0] == 'cubic':\n",
    "            out.append(('cubic',s[1]+dx,s[2]+dy,s[3]+dx,s[4]+dy,s[5]+dx,s[6]+dy))\n",
    "    return out\n",
    "\n",
    "def scale(strokes,dx,dy):\n",
    "    out = []\n",
    "    for s in strokes:\n",
    "        if s[0] == 'move':\n",
    "            out.append(('move',s[1]*dx,s[2]*dy))\n",
    "        if s[0] == 'line':\n",
    "            out.append(('line',s[1]*dx,s[2]*dy))\n",
    "        if s[0] == 'quadratic':\n",
    "            out.append(('quadratic',s[1]*dx,s[2]*dy,s[3]*dx,s[4]*dy))\n",
    "        if s[0] == 'cubic':\n",
    "            out.append(('cubic',s[1]*dx,s[2]*dy,s[3]*dx,s[4]*dy,s[5]*dx,s[6]*dy))\n",
    "    return out\n",
    "\n",
    "def concat(strokes, new):\n",
    "    last_x, last_y = strokes[-1][-2:]\n",
    "    return strokes + translate(new,last_x,last_y)"
   ]
  },
  {
   "cell_type": "code",
   "execution_count": 767,
   "metadata": {},
   "outputs": [],
   "source": [
    "from IPython.display import display"
   ]
  },
  {
   "cell_type": "code",
   "execution_count": 768,
   "metadata": {},
   "outputs": [],
   "source": [
    "vowel_scale = 1.5\n",
    "\n",
    "letter_forms_type = {\n",
    "    \" \": [('move',4,0)],\n",
    "\n",
    "    \"uv1\": [('quadratic',1*vowel_scale,-1*vowel_scale,2*vowel_scale,0)],\n",
    "    \"uv2\": [('quadratic',2*vowel_scale,-1*vowel_scale,4*vowel_scale,0)],\n",
    "    \"uv3\": [('quadratic',4*vowel_scale,-1*vowel_scale,8*vowel_scale,0)],\n",
    "    \"mv1\": [('line',2*vowel_scale,0)],\n",
    "    \"mv2\": [('line',4*vowel_scale,0)],\n",
    "    \"mv3\": [('line',8*vowel_scale,0)],\n",
    "    \"lv1\": [('quadratic',1*vowel_scale,1*vowel_scale,2*vowel_scale,0)],\n",
    "    \"lv2\": [('quadratic',2*vowel_scale,1*vowel_scale,4*vowel_scale,0)],\n",
    "    \"lv3\": [('quadratic',4*vowel_scale,1*vowel_scale,8*vowel_scale,0)],\n",
    "\n",
    "    \"r\": [('cubic',2,-2,2,-4,1,-4),('cubic',0,-4,0,-2,2,0)],\n",
    "    \"l\": [('cubic',2,-2,2,-8,1,-8),('cubic',0,-8,0,-4,2,0)],\n",
    "    \"m\": [('cubic',2,0,2,2,1,2),('cubic',0,2,0,0,2,0)],\n",
    "    \"n\": [('cubic',2,2,2,4,1,4),('cubic',0,4,0,2,2,0)],\n",
    "    \"ng\":[('cubic',2,2,2,8,1,8),('cubic',0,8,0,4,2,0)],\n",
    "\n",
    "    \"k\": [('cubic',2,-2,0,-2,2,-4),('quadratic',0,-2,2,0)],\n",
    "    \"g\": [('cubic',2,-2,0,-4,2,-8),('quadratic',0,-4,2,0)],\n",
    "    \"h\": [('cubic',2,2,0,2,2,4),('quadratic',0,2,2,0)],\n",
    "    \"x\": [('cubic',2,2,0,4,2,8),('quadratic',0,4,2,0)],\n",
    "\n",
    "    \"t\": [('quadratic',2,0,2,-2),('move',2,-4),('line',2,0)],\n",
    "    \"d\": [('quadratic',2,0,2,-2),('move',2,-8),('line',2,0)],\n",
    "    \"th\": [('line',0,4),('move',0,2),('quadratic',0,0,2,0)],\n",
    "    \"dh\": [('line',0,8),('move',0,2),('quadratic',0,0,2,0)],\n",
    "\n",
    "    \"p\": [('quadratic',2,-2,0,-4),('cubic',2,-2,0,-2,2,0)],\n",
    "    \"b\": [('quadratic',2,-4,0,-8),('cubic',2,-4,0,-2,2,0)],\n",
    "    \"f\": [('quadratic',2,2,0,4),('cubic',2,2,0,2,2,0)],\n",
    "    \"v\": [('quadratic',2,4,0,8),('cubic',2,4,0,2,2,0)],\n",
    "\n",
    "    \"s\": [('quadratic',0,-4,1,-4),('quadratic',2,-4,2,0)],\n",
    "    \"z\": [('quadratic',0,-8,1,-8),('quadratic',2,-8,2,0)],\n",
    "    \"sh\": [('quadratic',0,4,1,4),('quadratic',2,4,2,0)],\n",
    "    \"zh\": [('quadratic',0,8,1,8),('quadratic',2,8,2,0)],\n",
    "}"
   ]
  },
  {
   "cell_type": "code",
   "execution_count": 769,
   "metadata": {},
   "outputs": [],
   "source": [
    "from math import sqrt\n",
    "\n",
    "def show_grafoni_type(in_string):\n",
    "    chars = grafoni_spell(in_string)\n",
    "    out = [('move',0,0)]\n",
    "    for l in chars:\n",
    "        if l in letter_forms_type:\n",
    "            out = concat(out,letter_forms_type[l])\n",
    "        else:\n",
    "            print(\"error: \" + l)\n",
    "    return display(svgStrokes(out))"
   ]
  },
  {
   "cell_type": "code",
   "execution_count": 770,
   "metadata": {},
   "outputs": [
    {
     "data": {
      "image/svg+xml": [
       "<?xml version=\"1.0\" encoding=\"UTF-8\"?>\n",
       "<svg xmlns=\"http://www.w3.org/2000/svg\" xmlns:xlink=\"http://www.w3.org/1999/xlink\"\n",
       "     width=\"388.0\" height=\"72\" viewBox=\"0 0 388.0 72\">\n",
       "<defs>\n",
       "<path d=\"M4,36 C12,44,4,44,12,52 Q4,44,12,36 Q24.0,30.0,36.0,36 C44.0,28,44.0,4,40.0,4 C36.0,4,36.0,20,44.0,36 Q56.0,42.0,68.0,36 L80.0,36 M96.0,36 Q102.0,42.0,108.0,36 L132.0,36 C140.0,28,140.0,20,136.0,20 C132.0,20,132.0,28,140.0,36 C148.0,28,148.0,4,144.0,4 C140.0,4,140.0,20,148.0,36 Q156.0,36,156.0,28 M156.0,4 L156.0,36 M172.0,36 C180.0,44,172.0,44,180.0,52 Q172.0,44,180.0,36 L228.0,36 L240.0,36 M256.0,36 L280.0,36 C288.0,28,288.0,20,284.0,20 C280.0,20,280.0,28,288.0,36 M304.0,36 Q310.0,30.0,316.0,36 Q322.0,42.0,328.0,36 M344.0,36 Q352.0,36,352.0,28 M352.0,4 L352.0,36 Q358.0,42.0,364.0,36 Q370.0,30.0,376.0,36 C384.0,44,384.0,68,380.0,68 C376.0,68,376.0,52,384.0,36\" stroke=\"black\" fill=\"none\" stroke-width=\"1.3333333333333333\" stroke-linecap=\"round\" stroke-linejoin=\"round\" id=\"OjBAnF9z0\" />\n",
       "</defs>\n",
       "<use xlink:href=\"#OjBAnF9z0\" x=\"0\" y=\"0\" />\n",
       "</svg>"
      ],
      "text/plain": [
       "<drawsvg.drawing.Drawing at 0x1172b0220>"
      ]
     },
     "metadata": {},
     "output_type": "display_data"
    }
   ],
   "source": [
    "show_grafoni_type(\"hello world how are you doing\")"
   ]
  },
  {
   "cell_type": "code",
   "execution_count": 771,
   "metadata": {},
   "outputs": [],
   "source": [
    "# letter_forms = {\n",
    "#     \" \": [('move',4,0)],\n",
    "\n",
    "#     \"uv1\": [('quadratic',1*vowel_scale,-1*vowel_scale,2*vowel_scale,0)],\n",
    "#     \"uv2\": [('quadratic',2*vowel_scale,-2*vowel_scale,4*vowel_scale,0)],\n",
    "#     \"uv3\": [('quadratic',4*vowel_scale,-4*vowel_scale,8*vowel_scale,0)],\n",
    "#     \"mv1\": [('line',2*vowel_scale,0)],\n",
    "#     \"mv2\": [('line',4*vowel_scale,0)],\n",
    "#     \"mv3\": [('line',8*vowel_scale,0)],\n",
    "#     \"lv1\": [('quadratic',1*vowel_scale,1*vowel_scale,2*vowel_scale,0)],\n",
    "#     \"lv2\": [('quadratic',2*vowel_scale,2*vowel_scale,4*vowel_scale,0)],\n",
    "#     \"lv3\": [('quadratic',4*vowel_scale,4*vowel_scale,8*vowel_scale,0)],\n",
    "\n",
    "#     \"r\": [('cubic',1,-2,1,-4,0,-4),('cubic',-1,-4,-1,-2,0,0)],\n",
    "#     \"l\": [('cubic',1,-2,1,-8,0,-8),('cubic',-1,-8,-1,-4,0,0)],\n",
    "#     \"m\": [('cubic',1,0,1,2,0,2),('cubic',-1,2,-1,0,0,0)],\n",
    "#     \"n\": [('cubic',1,2,1,4,0,4),('cubic',-1,4,-1,2,0,0)],\n",
    "#     \"ng\":[('cubic',1,2,1,8,0,8),('cubic',-1,8,-1,4,0,0)],\n",
    "\n",
    "#     \"k\": [('cubic',2,-2,0,-2,2,-4),('quadratic',0,-2,2,0)],\n",
    "#     \"g\": [('cubic',2,-2,0,-4,2,-8),('quadratic',0,-4,2,0)],\n",
    "#     \"h\": [('cubic',2,2,0,2,2,4),('quadratic',0,2,2,0)],\n",
    "#     \"x\": [('cubic',2,2,0,4,2,8),('quadratic',0,4,2,0)],\n",
    "\n",
    "#     \"t\": [('quadratic',2,0,2,-2),('line',2,-4),('line',2,0)],\n",
    "#     \"d\": [('quadratic',2,0,2,-2),('line',2,-8),('line',2,0)],\n",
    "#     \"th\": [('line',0,4),('line',0,2),('quadratic',0,0,2,0)],\n",
    "#     \"dh\": [('line',0,8),('line',0,2),('quadratic',0,0,2,0)],\n",
    "\n",
    "#     \"p\": [('quadratic',2,-2,0,-4),('cubic',2,-2,0,-2,2,0)],\n",
    "#     \"b\": [('quadratic',2,-4,0,-8),('cubic',2,-4,0,-2,2,0)],\n",
    "#     \"f\": [('quadratic',2,2,0,4),('cubic',2,2,0,2,2,0)],\n",
    "#     \"v\": [('quadratic',2,4,0,8),('cubic',2,4,0,2,2,0)],\n",
    "\n",
    "#     \"s\": [('quadratic',0,-4,1,-4),('quadratic',2,-4,2,0)],\n",
    "#     \"z\": [('quadratic',0,-8,1,-8),('quadratic',2,-8,2,0)],\n",
    "#     \"sh\": [('quadratic',0,4,1,4),('quadratic',2,4,2,0)],\n",
    "#     \"zh\": [('quadratic',0,8,1,8),('quadratic',2,8,2,0)],\n",
    "\n",
    "#     \"k-beg\": [('move',0,-4),('quadratic',-2,-2,0,0)],\n",
    "#     \"g-beg\": [('move',0,-8),('quadratic',-2,-4,0,0)],\n",
    "#     \"h-beg\": [('move',-1,4),('quadratic',-3,2,0,0)],\n",
    "#     \"x-beg\": [('move',-2,8),('quadratic',-4,4,0,0)],\n",
    "\n",
    "#     \"t-beg\": [('move',0,-4),('line',0,0)],\n",
    "#     \"d-beg\": [('move',0,-8),('line',0,0)],\n",
    "#     \"th-beg\": [('move',-1,4),('line',0,0)],\n",
    "#     \"dh-beg\": [('move',-2,8),('line',0,0)],\n",
    "\n",
    "#     \"p-beg\": [('move',0,-4),('quadratic',2,-2,0,0)],\n",
    "#     \"b-beg\": [('move',0,-8),('quadratic',2,-4,0,0)],\n",
    "#     \"f-beg\": [('move',-1,4),('quadratic',1,2,0,0)],\n",
    "#     \"v-beg\": [('move',-2,8),('quadratic',0,4,0,0)],\n",
    "\n",
    "#     \"k-end\": [('quadratic',-1,-2,1,-4),('move',0,0)],\n",
    "#     \"g-end\": [('quadratic',0,-4,2,-8),('move',0,0)],\n",
    "#     \"h-end\": [('quadratic',-2,2,0,4),('move',0,0)],\n",
    "#     \"x-end\": [('quadratic',-2,4,0,8),('move',0,0)],\n",
    "\n",
    "#     \"t-end\": [('line',1,-4),('move',0,0)],\n",
    "#     \"d-end\": [('line',2,-8),('move',0,0)],\n",
    "#     \"th-end\": [('line',0,4),('move',0,0)],\n",
    "#     \"dh-end\": [('line',0,8),('move',0,0)],\n",
    "\n",
    "#     \"p-end\": [('quadratic',3,-2,1,-4),('move',0,0)],\n",
    "#     \"b-end\": [('quadratic',4,-4,2,-8),('move',0,0)],\n",
    "#     \"f-end\": [('quadratic',2,2,0,4),('move',0,0)],\n",
    "#     \"v-end\": [('quadratic',2,4,0,8),('move',0,0)],\n",
    "# }"
   ]
  },
  {
   "cell_type": "code",
   "execution_count": 798,
   "metadata": {},
   "outputs": [],
   "source": [
    "# don't like the random slopes\n",
    "\n",
    "letter_forms = {\n",
    "    \" \": [('move',4,0)],\n",
    "\n",
    "    \"uv1\": [('quadratic',1*vowel_scale,-1*vowel_scale,2*vowel_scale,0)],\n",
    "    \"uv2\": [('quadratic',2*vowel_scale,-2*vowel_scale,4*vowel_scale,0)],\n",
    "    \"uv3\": [('quadratic',4*vowel_scale,-4*vowel_scale,8*vowel_scale,0)],\n",
    "    \"mv1\": [('line',2*vowel_scale,0)],\n",
    "    \"mv2\": [('line',4*vowel_scale,0)],\n",
    "    \"mv3\": [('line',8*vowel_scale,0)],\n",
    "    \"lv1\": [('quadratic',1*vowel_scale,1*vowel_scale,2*vowel_scale,0)],\n",
    "    \"lv2\": [('quadratic',2*vowel_scale,2*vowel_scale,4*vowel_scale,0)],\n",
    "    \"lv3\": [('quadratic',4*vowel_scale,4*vowel_scale,8*vowel_scale,0)],\n",
    "\n",
    "    \"r\": [('cubic',1,-2,1,-4,0,-4),('cubic',-1,-4,-1,-2,0,0)],\n",
    "    \"l\": [('cubic',1,-2,1,-8,0,-8),('cubic',-1,-8,-1,-4,0,0)],\n",
    "    \"m\": [('cubic',1,0,1,2,0,2),('cubic',-1,2,-1,0,0,0)],\n",
    "    \"n\": [('cubic',1,2,1,4,0,4),('cubic',-1,4,-1,2,0,0)],\n",
    "    \"ng\":[('cubic',1,2,1,8,0,8),('cubic',-1,8,-1,4,0,0)],\n",
    "\n",
    "    \"k\": [('cubic',2,-2,0,-2,2,-4),('quadratic',0,-2,2,0)],\n",
    "    \"g\": [('cubic',2,-2,0,-4,2,-8),('quadratic',0,-4,2,0)],\n",
    "    \"h\": [('cubic',2,2,0,2,2,4),('quadratic',0,2,2,0)],\n",
    "    \"x\": [('cubic',2,2,0,4,2,8),('quadratic',0,4,2,0)],\n",
    "\n",
    "    \"t\": [('quadratic',2,0,2,-2),('line',2,-4),('line',2,0)],\n",
    "    \"d\": [('quadratic',2,0,2,-2),('line',2,-8),('line',2,0)],\n",
    "    \"th\": [('line',0,4),('line',0,2),('quadratic',0,0,2,0)],\n",
    "    \"dh\": [('line',0,8),('line',0,2),('quadratic',0,0,2,0)],\n",
    "\n",
    "    \"p\": [('quadratic',2,-2,0,-4),('cubic',2,-2,0,-2,2,0)],\n",
    "    \"b\": [('quadratic',2,-4,0,-8),('cubic',2,-4,0,-2,2,0)],\n",
    "    \"f\": [('quadratic',2,2,0,4),('cubic',2,2,0,2,2,0)],\n",
    "    \"v\": [('quadratic',2,4,0,8),('cubic',2,4,0,2,2,0)],\n",
    "\n",
    "    \"s\": [('quadratic',0,-4,1,-4),('quadratic',2,-4,2,0)],\n",
    "    \"z\": [('quadratic',0,-8,1,-8),('quadratic',2,-8,2,0)],\n",
    "    \"sh\": [('quadratic',0,4,1,4),('quadratic',2,4,2,0)],\n",
    "    \"zh\": [('quadratic',0,8,1,8),('quadratic',2,8,2,0)],\n",
    "\n",
    "    \"k-beg\": [('move',0,-4),('quadratic',-2,-2,0,0)],\n",
    "    \"g-beg\": [('move',0,-8),('quadratic',-2,-4,0,0)],\n",
    "    \"h-beg\": [('move',0,4),('quadratic',-2,2,0,0)],\n",
    "    \"x-beg\": [('move',0,8),('quadratic',-2,4,0,0)],\n",
    "\n",
    "    \"t-beg\": [('move',0,-4),('line',0,0)],\n",
    "    \"d-beg\": [('move',0,-8),('line',0,0)],\n",
    "    \"th-beg\": [('move',0,4),('line',0,0)],\n",
    "    \"dh-beg\": [('move',0,8),('line',0,0)],\n",
    "\n",
    "    \"p-beg\": [('move',0,-4),('quadratic',2,-2,0,0)],\n",
    "    \"b-beg\": [('move',0,-8),('quadratic',2,-4,0,0)],\n",
    "    \"f-beg\": [('move',0,4),('quadratic',2,2,0,0)],\n",
    "    \"v-beg\": [('move',0,8),('quadratic',2,4,0,0)],\n",
    "\n",
    "    \"k-end\": [('quadratic',-2,-2,0,-4),('move',0,0)],\n",
    "    \"g-end\": [('quadratic',-2,-4,0,-8),('move',0,0)],\n",
    "    \"h-end\": [('quadratic',-2,2,0,4),('move',0,0)],\n",
    "    \"x-end\": [('quadratic',-2,4,0,8),('move',0,0)],\n",
    "\n",
    "    \"t-end\": [('line',0,-4),('move',0,0)],\n",
    "    \"d-end\": [('line',0,-8),('move',0,0)],\n",
    "    \"th-end\": [('line',0,4),('move',0,0)],\n",
    "    \"dh-end\": [('line',0,8),('move',0,0)],\n",
    "\n",
    "    \"p-end\": [('quadratic',2,-2,0,-4),('move',0,0)],\n",
    "    \"b-end\": [('quadratic',2,-4,0,-8),('move',0,0)],\n",
    "    \"f-end\": [('quadratic',2,2,0,4),('move',0,0)],\n",
    "    \"v-end\": [('quadratic',2,4,0,8),('move',0,0)],\n",
    "}"
   ]
  },
  {
   "cell_type": "code",
   "execution_count": 799,
   "metadata": {},
   "outputs": [],
   "source": [
    "def process_ends(in_grafoni):\n",
    "    in_grafoni = [\" \"] + in_grafoni + [\" \"]\n",
    "    out_grafoni = []\n",
    "    for i in range(len(in_grafoni)-2):\n",
    "        # beginning\n",
    "        l, m, r = in_grafoni[i:i+3]\n",
    "        if l == \" \" and (m in [\"k\",\"g\",\"t\",\"d\",\"p\",\"b\",\"h\",\"x\"]):\n",
    "            m += \"-beg\"\n",
    "        if l == \" \" and m in [\"th\",\"dh\"] and not r in [\"uv1\",\"uv2\",\"uv3\",\"mv1\",\"mv2\",\"mv3\"]:\n",
    "            m += \"-beg\"\n",
    "        if l == \" \" and m in [\"f\",\"v\"] and not r in [\"uv1\",\"uv2\",\"uv3\"]:\n",
    "            m += \"-beg\"\n",
    "        # ending\n",
    "        if r == \" \" and m in [\"p\",\"b\",\"h\",\"x\",\"th\",\"dh\",\"f\",\"v\"]:\n",
    "            m += \"-end\"\n",
    "        if r == \" \" and m in [\"t\",\"d\"] and not l in [\"lv1\",\"lv2\",\"lv3\",\"mv1\",\"mv2\",\"mv3\"]:\n",
    "            m += \"-end\"\n",
    "        if r == \" \" and m in [\"k\",\"g\"] and not l in [\"lv1\",\"lv2\",\"lv3\"]:\n",
    "            m += \"-end\"\n",
    "        out_grafoni.append(m)\n",
    "    return out_grafoni"
   ]
  },
  {
   "cell_type": "code",
   "execution_count": 800,
   "metadata": {},
   "outputs": [],
   "source": [
    "def shear(strokes,by=-1):\n",
    "    out = []\n",
    "    for s in strokes:\n",
    "        if s[0] == 'move':\n",
    "            out.append(('move',s[1]+by*s[2],s[2]))\n",
    "        if s[0] == 'line':\n",
    "            out.append(('line',s[1]+by*s[2],s[2]))\n",
    "        if s[0] == 'quadratic':\n",
    "            out.append(('quadratic',s[1]+by*s[2],s[2],s[3]+by*s[4],s[4]))\n",
    "        if s[0] == 'cubic':\n",
    "            out.append(('cubic',s[1]+by*s[2],s[2],s[3]+by*s[4],s[4],s[5]+by*s[6],s[6]))\n",
    "    return out"
   ]
  },
  {
   "cell_type": "code",
   "execution_count": 801,
   "metadata": {},
   "outputs": [],
   "source": [
    "from math import sqrt\n",
    "\n",
    "def show_grafoni(in_string,bend = True):\n",
    "    chars = in_string\n",
    "    if isinstance(chars, str):\n",
    "        chars = process_ends(grafoni_spell(in_string))\n",
    "    print(\" \".join(chars))\n",
    "    out = [('move',0,0)]\n",
    "    for l in chars:\n",
    "        if l in letter_forms:\n",
    "            out = concat(out,letter_forms[l])\n",
    "        else:\n",
    "            print(\"error: \" + l)\n",
    "    if bend:\n",
    "        #return display(svgStrokes(shear(scale(out,1,0.5),by=-1/sqrt(3))))\n",
    "        return display(svgStrokes(shear(scale(out,1,0.5),by=-1)))\n",
    "    else:\n",
    "        return display(svgStrokes(out))"
   ]
  },
  {
   "cell_type": "code",
   "execution_count": 802,
   "metadata": {},
   "outputs": [
    {
     "data": {
      "image/svg+xml": [
       "<?xml version=\"1.0\" encoding=\"UTF-8\"?>\n",
       "<svg xmlns=\"http://www.w3.org/2000/svg\" xmlns:xlink=\"http://www.w3.org/1999/xlink\"\n",
       "     width=\"912.0\" height=\"72\" viewBox=\"0 0 912.0 72\">\n",
       "<defs>\n",
       "<path d=\"M4,36 L4,68 M4,44 Q4,36,12,36 Q24.0,30.0,36.0,36 C44.0,28,44.0,20,40.0,20 C36.0,20,36.0,28,44.0,36 M60.0,36 Q66.0,42.0,72.0,36 Q78.0,30.0,84.0,36 C92.0,28,92.0,4,88.0,4 C84.0,4,84.0,20,92.0,36 M108.0,36 C116.0,28,108.0,28,116.0,20 Q108.0,28,116.0,36 L140.0,36 C148.0,36,148.0,44,144.0,44 C140.0,44,140.0,36,148.0,36 M164.0,36 L188.0,36 M204.0,36 Q212.0,36,212.0,28 M212.0,20 L212.0,36 L260.0,36 Q266.0,30.0,272.0,36 C280.0,36,280.0,44,276.0,44 C272.0,44,272.0,36,280.0,36 M296.0,36 Q302.0,42.0,308.0,36 Q314.0,30.0,320.0,36 C328.0,44,328.0,52,324.0,52 C320.0,52,320.0,44,328.0,36 M344.0,36 Q350.0,30.0,356.0,36 Q362.0,42.0,368.0,36 M384.0,36 Q392.0,20,384.0,4 C392.0,20,384.0,28,392.0,36 Q398.0,30.0,404.0,36 C412.0,28,412.0,4,408.0,4 C404.0,4,404.0,20,412.0,36 Q418.0,30.0,424.0,36 Q432.0,52,424.0,68 C432.0,52,424.0,44,432.0,36 M448.0,36 Q460.0,30.0,472.0,36 Q480.0,52,472.0,68 C480.0,52,472.0,44,480.0,36 C488.0,28,488.0,20,484.0,20 C480.0,20,480.0,28,488.0,36 Q494.0,30.0,500.0,36 L500.0,52 M500.0,44 Q500.0,36,508.0,36 Q514.0,30.0,520.0,36 C528.0,44,528.0,68,524.0,68 C520.0,68,520.0,52,528.0,36 M544.0,36 Q550.0,30.0,556.0,36 Q556.0,4,560.0,4 Q564.0,4,564.0,36 M580.0,36 Q588.0,44,580.0,52 C588.0,44,580.0,44,588.0,36 Q594.0,30.0,600.0,36 C608.0,44,608.0,52,604.0,52 C600.0,52,600.0,44,608.0,36 Q614.0,30.0,620.0,36 Q620.0,52,624.0,52 Q628.0,52,628.0,36 Q636.0,36,636.0,28 M636.0,20 L636.0,36 M652.0,36 L652.0,68 M652.0,44 Q652.0,36,660.0,36 L684.0,36 Q692.0,36,692.0,28 M692.0,20 L692.0,36 M708.0,36 Q714.0,42.0,720.0,36 Q726.0,30.0,732.0,36 C740.0,28,740.0,4,736.0,4 C732.0,4,732.0,20,740.0,36 M756.0,36 Q764.0,20,756.0,4 C764.0,20,756.0,28,764.0,36 Q770.0,30.0,776.0,36 M792.0,36 L792.0,68 M792.0,44 Q792.0,36,800.0,36 L824.0,36 M840.0,36 Q848.0,20,840.0,4 C848.0,20,840.0,28,848.0,36 Q854.0,30.0,860.0,36 C868.0,28,860.0,20,868.0,4 Q860.0,20,868.0,36 Q874.0,30.0,880.0,36 C888.0,44,888.0,52,884.0,52 C880.0,52,880.0,44,888.0,36 Q894.0,30.0,900.0,36 C908.0,44,908.0,68,904.0,68 C900.0,68,900.0,52,908.0,36\" stroke=\"black\" fill=\"none\" stroke-width=\"1.3333333333333333\" stroke-linecap=\"round\" stroke-linejoin=\"round\" id=\"asoYxuFo0\" />\n",
       "</defs>\n",
       "<use xlink:href=\"#asoYxuFo0\" x=\"0\" y=\"0\" />\n",
       "</svg>"
      ],
      "text/plain": [
       "<drawsvg.drawing.Drawing at 0x1176fa730>"
      ]
     },
     "metadata": {},
     "output_type": "display_data"
    }
   ],
   "source": [
    "show_grafoni_type(\"there will come a time when you believe everything is finished that will be the beginning\")"
   ]
  },
  {
   "cell_type": "code",
   "execution_count": 803,
   "metadata": {},
   "outputs": [
    {
     "name": "stdout",
     "output_type": "stream",
     "text": [
      "dh uv2 r   lv1 uv1 l   k-beg mv2 m   mv2   t-beg mv3 uv1 m   lv1 uv1 n   uv1 lv1   b-beg uv1 l uv1 v-end   uv2 v r uv1 th uv1 ng   uv1 z   f uv1 n uv1 sh t-end   dh mv2 t   lv1 uv1 l   b-beg uv1   dh mv2   b-beg uv1 g uv1 n uv1 ng\n"
     ]
    },
    {
     "data": {
      "image/svg+xml": [
       "<?xml version=\"1.0\" encoding=\"UTF-8\"?>\n",
       "<svg xmlns=\"http://www.w3.org/2000/svg\" xmlns:xlink=\"http://www.w3.org/1999/xlink\"\n",
       "     width=\"776.0\" height=\"40.0\" viewBox=\"0 0 776.0 40.0\">\n",
       "<defs>\n",
       "<path d=\"M20.0,20.0 L4.0,36.0 L16.0,24.0 Q20.0,20.0,28.0,20.0 Q46.0,14.0,52.0,20.0 C60.0,16.0,64.0,12.0,60.0,12.0 C56.0,12.0,52.0,16.0,52.0,20.0 M68.0,20.0 Q71.0,23.0,80.0,20.0 Q89.0,17.0,92.0,20.0 C100.0,16.0,112.0,4.0,108.0,4.0 C104.0,4.0,96.0,12.0,92.0,20.0 M108.0,20.0 M116.0,12.0 Q104.0,16.0,108.0,20.0 L132.0,20.0 C136.0,20.0,132.0,24.0,128.0,24.0 C124.0,24.0,128.0,20.0,132.0,20.0 M148.0,20.0 L172.0,20.0 M188.0,20.0 M196.0,12.0 L188.0,20.0 L236.0,20.0 Q245.0,17.0,248.0,20.0 C252.0,20.0,248.0,24.0,244.0,24.0 C240.0,24.0,244.0,20.0,248.0,20.0 M264.0,20.0 Q267.0,23.0,276.0,20.0 Q285.0,17.0,288.0,20.0 C288.0,24.0,284.0,28.0,280.0,28.0 C276.0,28.0,280.0,24.0,288.0,20.0 M304.0,20.0 Q313.0,17.0,316.0,20.0 Q319.0,23.0,328.0,20.0 M344.0,20.0 M360.0,4.0 Q360.0,12.0,344.0,20.0 Q353.0,17.0,356.0,20.0 C364.0,16.0,376.0,4.0,372.0,4.0 C368.0,4.0,360.0,12.0,356.0,20.0 Q365.0,17.0,368.0,20.0 Q368.0,28.0,352.0,36.0 M368.0,20.0 M384.0,20.0 Q402.0,14.0,408.0,20.0 Q408.0,28.0,392.0,36.0 C408.0,28.0,404.0,24.0,416.0,20.0 C424.0,16.0,428.0,12.0,424.0,12.0 C420.0,12.0,416.0,16.0,416.0,20.0 Q425.0,17.0,428.0,20.0 L420.0,28.0 L424.0,24.0 Q428.0,20.0,436.0,20.0 Q445.0,17.0,448.0,20.0 C448.0,24.0,436.0,36.0,432.0,36.0 C428.0,36.0,436.0,28.0,448.0,20.0 M464.0,20.0 Q473.0,17.0,476.0,20.0 Q492.0,4.0,496.0,4.0 Q500.0,4.0,484.0,20.0 M500.0,20.0 Q504.0,24.0,492.0,28.0 C504.0,24.0,496.0,24.0,508.0,20.0 Q517.0,17.0,520.0,20.0 C520.0,24.0,516.0,28.0,512.0,28.0 C508.0,28.0,512.0,24.0,520.0,20.0 Q529.0,17.0,532.0,20.0 Q524.0,28.0,528.0,28.0 Q532.0,28.0,540.0,20.0 L548.0,12.0 M540.0,20.0 M556.0,20.0 L540.0,36.0 L552.0,24.0 Q556.0,20.0,564.0,20.0 L588.0,20.0 Q596.0,20.0,600.0,16.0 L604.0,12.0 L596.0,20.0 M612.0,20.0 Q615.0,23.0,624.0,20.0 Q633.0,17.0,636.0,20.0 C644.0,16.0,656.0,4.0,652.0,4.0 C648.0,4.0,640.0,12.0,636.0,20.0 M652.0,20.0 M668.0,4.0 Q668.0,12.0,652.0,20.0 Q661.0,17.0,664.0,20.0 M680.0,20.0 L664.0,36.0 L676.0,24.0 Q680.0,20.0,688.0,20.0 L712.0,20.0 M728.0,20.0 M744.0,4.0 Q744.0,12.0,728.0,20.0 Q737.0,17.0,740.0,20.0 C752.0,16.0,748.0,12.0,764.0,4.0 Q748.0,12.0,748.0,20.0 Q757.0,17.0,760.0,20.0 C760.0,24.0,756.0,28.0,752.0,28.0 C748.0,28.0,752.0,24.0,760.0,20.0 Q769.0,17.0,772.0,20.0 C772.0,24.0,760.0,36.0,756.0,36.0 C752.0,36.0,760.0,28.0,772.0,20.0\" stroke=\"black\" fill=\"none\" stroke-width=\"1.3333333333333333\" stroke-linecap=\"round\" stroke-linejoin=\"round\" id=\"z9mmuDlG0\" />\n",
       "</defs>\n",
       "<use xlink:href=\"#z9mmuDlG0\" x=\"0\" y=\"0\" />\n",
       "</svg>"
      ],
      "text/plain": [
       "<drawsvg.drawing.Drawing at 0x1176fa9d0>"
      ]
     },
     "metadata": {},
     "output_type": "display_data"
    }
   ],
   "source": [
    "show_grafoni(\"there will come a time when you believe everything is finished that will be the beginning\",bend=True)"
   ]
  },
  {
   "cell_type": "markdown",
   "metadata": {},
   "source": []
  },
  {
   "cell_type": "code",
   "execution_count": 804,
   "metadata": {},
   "outputs": [
    {
     "name": "stdout",
     "output_type": "stream",
     "text": [
      "mv2   g-beg r uv2 uv1 t-end   d-beg uv1 l   mv2 v-end   t-beg mv3 uv1 m   uv1 z   l lv3 s t-end   b-beg mv3 uv1   dh mv2   p-beg r uv2 z mv2 n t-end   uv1 n d mv2 r uv2 k t-end   m uv2 th mv2 d   mv2 v-end   r uv1 k lv3 r d uv1 ng   b-beg uv1 z n uv1 s   k-beg lv3 r mv2 s p mv3 n d mv2 n s\n"
     ]
    },
    {
     "data": {
      "image/svg+xml": [
       "<?xml version=\"1.0\" encoding=\"UTF-8\"?>\n",
       "<svg xmlns=\"http://www.w3.org/2000/svg\" xmlns:xlink=\"http://www.w3.org/1999/xlink\"\n",
       "     width=\"1104.0\" height=\"40.0\" viewBox=\"0 0 1104.0 40.0\">\n",
       "<defs>\n",
       "<path d=\"M4.0,20.0 L28.0,20.0 M44.0,20.0 M60.0,4.0 Q44.0,12.0,44.0,20.0 C52.0,16.0,56.0,12.0,52.0,12.0 C48.0,12.0,44.0,16.0,44.0,20.0 Q62.0,14.0,68.0,20.0 Q77.0,17.0,80.0,20.0 L88.0,12.0 M80.0,20.0 M96.0,20.0 M112.0,4.0 L96.0,20.0 Q105.0,17.0,108.0,20.0 C116.0,16.0,128.0,4.0,124.0,4.0 C120.0,4.0,112.0,12.0,108.0,20.0 M124.0,20.0 L148.0,20.0 Q148.0,28.0,132.0,36.0 M148.0,20.0 M164.0,20.0 M172.0,12.0 L164.0,20.0 L212.0,20.0 Q221.0,17.0,224.0,20.0 C228.0,20.0,224.0,24.0,220.0,24.0 C216.0,24.0,220.0,20.0,224.0,20.0 M240.0,20.0 Q249.0,17.0,252.0,20.0 Q268.0,4.0,272.0,4.0 Q276.0,4.0,260.0,20.0 M276.0,20.0 C284.0,16.0,296.0,4.0,292.0,4.0 C288.0,4.0,280.0,12.0,276.0,20.0 Q288.0,32.0,324.0,20.0 Q332.0,12.0,336.0,12.0 Q340.0,12.0,332.0,20.0 L340.0,12.0 M332.0,20.0 M348.0,20.0 M364.0,4.0 Q364.0,12.0,348.0,20.0 L396.0,20.0 Q405.0,17.0,408.0,20.0 M424.0,20.0 L408.0,36.0 L420.0,24.0 Q424.0,20.0,432.0,20.0 L456.0,20.0 M472.0,20.0 M480.0,12.0 Q484.0,16.0,472.0,20.0 C480.0,16.0,484.0,12.0,480.0,12.0 C476.0,12.0,472.0,16.0,472.0,20.0 Q490.0,14.0,496.0,20.0 Q512.0,4.0,516.0,4.0 Q520.0,4.0,504.0,20.0 L528.0,20.0 C528.0,24.0,524.0,28.0,520.0,28.0 C516.0,28.0,520.0,24.0,528.0,20.0 L536.0,12.0 M528.0,20.0 M544.0,20.0 Q553.0,17.0,556.0,20.0 C556.0,24.0,552.0,28.0,548.0,28.0 C544.0,28.0,548.0,24.0,556.0,20.0 Q564.0,20.0,568.0,16.0 L580.0,4.0 L564.0,20.0 L588.0,20.0 C596.0,16.0,600.0,12.0,596.0,12.0 C592.0,12.0,588.0,16.0,588.0,20.0 Q606.0,14.0,612.0,20.0 C624.0,16.0,616.0,16.0,628.0,12.0 Q616.0,16.0,620.0,20.0 L628.0,12.0 M620.0,20.0 M636.0,20.0 C640.0,20.0,636.0,24.0,632.0,24.0 C628.0,24.0,632.0,20.0,636.0,20.0 Q654.0,14.0,660.0,20.0 L652.0,28.0 L656.0,24.0 Q660.0,20.0,668.0,20.0 L692.0,20.0 Q700.0,20.0,704.0,16.0 L716.0,4.0 L700.0,20.0 M716.0,20.0 L740.0,20.0 Q740.0,28.0,724.0,36.0 M740.0,20.0 M756.0,20.0 C764.0,16.0,768.0,12.0,764.0,12.0 C760.0,12.0,756.0,16.0,756.0,20.0 Q765.0,17.0,768.0,20.0 C780.0,16.0,772.0,16.0,784.0,12.0 Q772.0,16.0,776.0,20.0 Q788.0,32.0,824.0,20.0 C832.0,16.0,836.0,12.0,832.0,12.0 C828.0,12.0,824.0,16.0,824.0,20.0 Q832.0,20.0,836.0,16.0 L848.0,4.0 L832.0,20.0 Q841.0,17.0,844.0,20.0 C844.0,24.0,832.0,36.0,828.0,36.0 C824.0,36.0,832.0,28.0,844.0,20.0 M860.0,20.0 M876.0,4.0 Q876.0,12.0,860.0,20.0 Q869.0,17.0,872.0,20.0 Q888.0,4.0,892.0,4.0 Q896.0,4.0,880.0,20.0 C880.0,24.0,876.0,28.0,872.0,28.0 C868.0,28.0,872.0,24.0,880.0,20.0 Q889.0,17.0,892.0,20.0 Q900.0,12.0,904.0,12.0 Q908.0,12.0,900.0,20.0 M916.0,20.0 M924.0,12.0 Q912.0,16.0,916.0,20.0 Q928.0,32.0,964.0,20.0 C972.0,16.0,976.0,12.0,972.0,12.0 C968.0,12.0,964.0,16.0,964.0,20.0 L988.0,20.0 Q996.0,12.0,1000.0,12.0 Q1004.0,12.0,996.0,20.0 Q1008.0,16.0,1004.0,12.0 C1008.0,16.0,1000.0,16.0,1004.0,20.0 L1052.0,20.0 C1052.0,24.0,1048.0,28.0,1044.0,28.0 C1040.0,28.0,1044.0,24.0,1052.0,20.0 Q1060.0,20.0,1064.0,16.0 L1076.0,4.0 L1060.0,20.0 L1084.0,20.0 C1084.0,24.0,1080.0,28.0,1076.0,28.0 C1072.0,28.0,1076.0,24.0,1084.0,20.0 Q1092.0,12.0,1096.0,12.0 Q1100.0,12.0,1092.0,20.0\" stroke=\"black\" fill=\"none\" stroke-width=\"1.3333333333333333\" stroke-linecap=\"round\" stroke-linejoin=\"round\" id=\"cOIj0a9J0\" />\n",
       "</defs>\n",
       "<use xlink:href=\"#cOIj0a9J0\" x=\"0\" y=\"0\" />\n",
       "</svg>"
      ],
      "text/plain": [
       "<drawsvg.drawing.Drawing at 0x1172b6f40>"
      ]
     },
     "metadata": {},
     "output_type": "display_data"
    }
   ],
   "source": [
    "show_grafoni(\"a great deal of time is lost by the present indirect method of recording business correspondence\")"
   ]
  },
  {
   "cell_type": "code",
   "execution_count": 805,
   "metadata": {},
   "outputs": [
    {
     "name": "stdout",
     "output_type": "stream",
     "text": [
      "lv1 mv2 r l d-end\n"
     ]
    },
    {
     "data": {
      "image/svg+xml": [
       "<?xml version=\"1.0\" encoding=\"UTF-8\"?>\n",
       "<svg xmlns=\"http://www.w3.org/2000/svg\" xmlns:xlink=\"http://www.w3.org/1999/xlink\"\n",
       "     width=\"64.0\" height=\"27.0\" viewBox=\"0 0 64.0 27.0\">\n",
       "<defs>\n",
       "<path d=\"M4.0,20.0 Q7.0,23.0,16.0,20.0 L40.0,20.0 C48.0,16.0,52.0,12.0,48.0,12.0 C44.0,12.0,40.0,16.0,40.0,20.0 C48.0,16.0,60.0,4.0,56.0,4.0 C52.0,4.0,44.0,12.0,40.0,20.0 L56.0,4.0 M40.0,20.0\" stroke=\"black\" fill=\"none\" stroke-width=\"1.3333333333333333\" stroke-linecap=\"round\" stroke-linejoin=\"round\" id=\"sPcSUx790\" />\n",
       "</defs>\n",
       "<use xlink:href=\"#sPcSUx790\" x=\"0\" y=\"0\" />\n",
       "</svg>"
      ],
      "text/plain": [
       "<drawsvg.drawing.Drawing at 0x1172143a0>"
      ]
     },
     "metadata": {},
     "output_type": "display_data"
    }
   ],
   "source": [
    "show_grafoni(\"world\")"
   ]
  },
  {
   "cell_type": "code",
   "execution_count": 806,
   "metadata": {},
   "outputs": [
    {
     "name": "stdout",
     "output_type": "stream",
     "text": [
      "k s\n"
     ]
    },
    {
     "data": {
      "image/svg+xml": [
       "<?xml version=\"1.0\" encoding=\"UTF-8\"?>\n",
       "<svg xmlns=\"http://www.w3.org/2000/svg\" xmlns:xlink=\"http://www.w3.org/1999/xlink\"\n",
       "     width=\"32.0\" height=\"16.0\" viewBox=\"0 0 32.0 16.0\">\n",
       "<defs>\n",
       "<path d=\"M4.0,12.0 C16.0,8.0,8.0,8.0,20.0,4.0 Q8.0,8.0,12.0,12.0 Q20.0,4.0,24.0,4.0 Q28.0,4.0,20.0,12.0\" stroke=\"black\" fill=\"none\" stroke-width=\"1.3333333333333333\" stroke-linecap=\"round\" stroke-linejoin=\"round\" id=\"qQJWJDVc0\" />\n",
       "</defs>\n",
       "<use xlink:href=\"#qQJWJDVc0\" x=\"0\" y=\"0\" />\n",
       "</svg>"
      ],
      "text/plain": [
       "<drawsvg.drawing.Drawing at 0x1176fab50>"
      ]
     },
     "metadata": {},
     "output_type": "display_data"
    }
   ],
   "source": [
    "show_grafoni([\"k\", \"s\"])"
   ]
  },
  {
   "cell_type": "code",
   "execution_count": 807,
   "metadata": {},
   "outputs": [],
   "source": [
    "# change last curve to be a little longer, and flat.  do nothing with negatives, but do something with non-negatives, including zero\n",
    "def r_extend(strokes,length=1):\n",
    "    strokes = strokes.copy()\n",
    "    if length < 0:\n",
    "        return strokes\n",
    "    s = strokes[-1]\n",
    "    if s[0] == 'move':\n",
    "        strokes[-1] = ('move',s[1]+length,s[2])\n",
    "    if s[0] == 'line':\n",
    "        strokes[-1] = ('quadratic',s[1],s[2],s[1]+length,s[2])\n",
    "    if s[0] == 'quadratic':\n",
    "        strokes[-1] = ('cubic',s[1],s[2],s[3],s[4],s[3]+length,s[4])\n",
    "    if s[0] == 'cubic':\n",
    "        strokes[-1] = ('cubic',s[1],s[2],s[3],s[6],s[5]+length,s[6]) #note I kinda just flatten the end\n",
    "    return strokes\n",
    "\n",
    "# change first curve to be a little longer and flat, translate the rest\n",
    "# assumes you start at 0,0 (as all should)\n",
    "def l_extend(strokes,length = 1):\n",
    "    strokes = strokes.copy()\n",
    "    if length < 0:\n",
    "        return strokes\n",
    "    s = strokes[0]\n",
    "    if s[0] == 'move':\n",
    "        strokes[0] = ('move',s[1]+length,s[2])\n",
    "    if s[0] == 'line':\n",
    "        strokes[0] = ('quadratic',length,0,s[1]+length,s[2])\n",
    "    if s[0] == 'quadratic':\n",
    "        strokes[0] = ('cubic',length,0,s[1]+length,s[2],s[3]+length,s[4])\n",
    "    if s[0] == 'cubic':\n",
    "        strokes[0] = ('cubic',s[1]+length,0,s[3]+length,s[4],s[5]+length,s[6]) #note I kinda just flatten the end\n",
    "    return [strokes[0]] + translate(strokes[1:],length,0)\n",
    "    "
   ]
  },
  {
   "cell_type": "code",
   "execution_count": 808,
   "metadata": {},
   "outputs": [],
   "source": [
    "def show_extended(letter,l_length,r_length):\n",
    "    out = [('move',0,0)]\n",
    "    out += r_extend(l_extend(letter_forms[letter],l_length),r_length)\n",
    "    print(out)\n",
    "    display(svgStrokes(out))"
   ]
  },
  {
   "cell_type": "code",
   "execution_count": 809,
   "metadata": {},
   "outputs": [
    {
     "name": "stdout",
     "output_type": "stream",
     "text": [
      "[('move', 0, 0), ('quadratic', 2, 0, 2, -2), ('line', 2, -4), ('quadratic', 2, 0, 3, 0)]\n"
     ]
    },
    {
     "data": {
      "image/svg+xml": [
       "<?xml version=\"1.0\" encoding=\"UTF-8\"?>\n",
       "<svg xmlns=\"http://www.w3.org/2000/svg\" xmlns:xlink=\"http://www.w3.org/1999/xlink\"\n",
       "     width=\"20\" height=\"24\" viewBox=\"0 0 20 24\">\n",
       "<defs>\n",
       "<path d=\"M4,20 Q12,20,12,12 L12,4 Q12,20,16,20\" stroke=\"black\" fill=\"none\" stroke-width=\"1.3333333333333333\" stroke-linecap=\"round\" stroke-linejoin=\"round\" id=\"jSkk68bx0\" />\n",
       "</defs>\n",
       "<use xlink:href=\"#jSkk68bx0\" x=\"0\" y=\"0\" />\n",
       "</svg>"
      ],
      "text/plain": [
       "<drawsvg.drawing.Drawing at 0x117615a60>"
      ]
     },
     "metadata": {},
     "output_type": "display_data"
    }
   ],
   "source": [
    "show_extended(\"t\",-1,1)"
   ]
  },
  {
   "cell_type": "code",
   "execution_count": 810,
   "metadata": {},
   "outputs": [],
   "source": [
    "def show_kern(l_letter,r_letter,l_length,r_length):\n",
    "    out = [('move',0,0)]\n",
    "    out += r_extend(letter_forms[l_letter],l_length)\n",
    "    out = concat(out,l_extend(letter_forms[r_letter],r_length))\n",
    "    display(svgStrokes(out))"
   ]
  },
  {
   "cell_type": "code",
   "execution_count": 892,
   "metadata": {},
   "outputs": [
    {
     "data": {
      "image/svg+xml": [
       "<?xml version=\"1.0\" encoding=\"UTF-8\"?>\n",
       "<svg xmlns=\"http://www.w3.org/2000/svg\" xmlns:xlink=\"http://www.w3.org/1999/xlink\"\n",
       "     width=\"32\" height=\"40\" viewBox=\"0 0 32 40\">\n",
       "<defs>\n",
       "<path d=\"M4,36 Q12,36,12,28 L12,4 Q12,36,16,36 C20,36,20,20,24,20 Q28,20,28,36\" stroke=\"black\" fill=\"none\" stroke-width=\"1.3333333333333333\" stroke-linecap=\"round\" stroke-linejoin=\"round\" id=\"cP80DqhC0\" />\n",
       "</defs>\n",
       "<use xlink:href=\"#cP80DqhC0\" x=\"0\" y=\"0\" />\n",
       "</svg>"
      ],
      "text/plain": [
       "<drawsvg.drawing.Drawing at 0x117714940>"
      ]
     },
     "metadata": {},
     "output_type": "display_data"
    }
   ],
   "source": [
    "show_kern(\"d\",\"s\",1,1)"
   ]
  },
  {
   "cell_type": "markdown",
   "metadata": {},
   "source": [
    "#potential ligatures\n",
    "* k lv1\n",
    "* th r\n",
    "* f r\n",
    "* f l\n",
    "* s m\n",
    "* s n\n",
    "* s f\n",
    "* k sh\n",
    "* sh r\n",
    "* m p\n",
    "* m p\n",
    "* n t\n",
    "* n d"
   ]
  },
  {
   "cell_type": "code",
   "execution_count": 893,
   "metadata": {},
   "outputs": [],
   "source": [
    "from collections import defaultdict\n",
    "\n",
    "# this dictionary will hold kerning instructions for pairs of letters, it says how much to kern the left letter on the right and the right letter on the left\n",
    "kerning = defaultdict(lambda: (-1,-1))\n",
    "kerning[(\"t-beg\",\"r\")] = (0.5,1.5)\n",
    "kerning[(\"t-beg\",\"l\")] = (0.5,1.5)\n",
    "kerning[(\"d-beg\",\"r\")] = (0.5,1.5)\n",
    "kerning[(\"d-beg\",\"l\")] = (0.5,1.5)\n",
    "kerning[(\"t\",\"r\")] = (0.5,1.5)\n",
    "kerning[(\"t\",\"l\")] = (0.5,1.5)\n",
    "kerning[(\"d\",\"r\")] = (0.5,1.5)\n",
    "kerning[(\"d\",\"l\")] = (0.5,1.5)\n",
    "kerning[(\"t\",\"s\")] = (1,1)\n",
    "kerning[(\"t\",\"z\")] = (1,1)\n",
    "kerning[(\"d\",\"s\")] = (1,1)\n",
    "kerning[(\"d\",\"z\")] = (1,1)\n",
    "kerning[(\"g-beg\",\"r\")] = (1,1)\n",
    "kerning[(\"g-beg\",\"l\")] = (1,1)\n",
    "kerning[(\"k-beg\",\"r\")] = (1,1)\n",
    "kerning[(\"k-beg\",\"l\")] = (1,1)\n",
    "kerning[(\"g\",\"r\")] = (0.5,1)\n",
    "kerning[(\"g\",\"l\")] = (0.5,1)\n",
    "kerning[(\"k\",\"r\")] = (0.5,1)\n",
    "kerning[(\"k\",\"l\")] = (0.5,1)\n",
    "kerning[(\"r\",\"p\")] = (1,0.5)\n",
    "kerning[(\"r\",\"b\")] = (1,0.5)\n",
    "kerning[(\"l\",\"p\")] = (1,0.5)\n",
    "kerning[(\"l\",\"b\")] = (1,0.5)\n",
    "kerning[(\"p-beg\",\"r\")] = (1.5,1)\n",
    "kerning[(\"p-beg\",\"l\")] = (1.5,1)\n",
    "kerning[(\"b-beg\",\"r\")] = (1.5,0.5)\n",
    "kerning[(\"b-beg\",\"l\")] = (1.5,0.5)\n",
    "kerning[(\"p\",\"r\")] = (0.5,1)\n",
    "kerning[(\"p\",\"l\")] = (0.5,1)\n",
    "kerning[(\"b\",\"r\")] = (0.5,0.5)\n",
    "kerning[(\"b\",\"l\")] = (0.5,0.5)\n",
    "kerning[(\"r\",\"l\")] = (1,1)\n",
    "kerning[(\"r\",\"k\")] = (0.5,0.5)\n",
    "kerning[(\"r\",\"g\")] = (0.5,0.5)\n",
    "kerning[(\"r\",\"s\")] = (1.5,0.5)\n",
    "kerning[(\"r\",\"z\")] = (1.5,0.5)\n",
    "kerning[(\"l\",\"r\")] = (1,1)\n",
    "kerning[(\"l\",\"k\")] = (0.5,0.5)\n",
    "kerning[(\"l\",\"g\")] = (0.5,0.5)\n",
    "kerning[(\"l\",\"s\")] = (1.5,0.5)\n",
    "kerning[(\"l\",\"z\")] = (1.5,0.5)\n",
    "kerning[(\"s\",\"t-end\")] = (1,0.5)\n",
    "kerning[(\"s\",\"d-end\")] = (1,0.5)\n",
    "kerning[(\"z\",\"t-end\")] = (1,0.5)\n",
    "kerning[(\"z\",\"d-end\")] = (1,0.5)\n",
    "kerning[(\"r\",\"t-end\")] = (1,0.5)\n",
    "kerning[(\"r\",\"d-end\")] = (1,0.5)\n",
    "kerning[(\"l\",\"t-end\")] = (1,0.5)\n",
    "kerning[(\"l\",\"d-end\")] = (1,0.5)\n",
    "kerning[(\"k\",\"t-end\")] = (0.5,0.5)\n",
    "kerning[(\"k\",\"d-end\")] = (0.5,0.5)\n",
    "kerning[(\"g\",\"t-end\")] = (0.5,0.5)\n",
    "kerning[(\"g\",\"d-end\")] = (0.5,0.5)\n",
    "kerning[(\"s\",\"p\")] = (0.5,0.5)\n",
    "kerning[(\"s\",\"b\")] = (0.5,0.5)\n",
    "kerning[(\"z\",\"p\")] = (0.5,0.5)\n",
    "kerning[(\"z\",\"b\")] = (0.5,0.5)\n",
    "kerning[(\"s\",\"k\")] = (0.5,0.5)\n",
    "kerning[(\"s\",\"g\")] = (0.5,0.5)\n",
    "kerning[(\"z\",\"k\")] = (0.5,0.5)\n",
    "kerning[(\"z\",\"g\")] = (0.5,0.5)\n",
    "kerning[(\"s\",\"r\")] = (0.5,1.5)\n",
    "kerning[(\"s\",\"l\")] = (0.5,1.5)\n",
    "kerning[(\"z\",\"r\")] = (0.5,1.5)\n",
    "kerning[(\"z\",\"l\")] = (0.5,1.5)\n",
    "kerning[(\"k\",\"s\")] = (0.5,0.5)\n",
    "kerning[(\"k\",\"z\")] = (0.5,0.5)\n",
    "kerning[(\"g\",\"s\")] = (0.5,0.5)\n",
    "kerning[(\"g\",\"z\")] = (0.5,0.5)\n",
    "kerning[(\"k-beg\",\"s\")] = (0.5,0.5)\n",
    "kerning[(\"k-beg\",\"z\")] = (0.5,0.5)\n",
    "kerning[(\"g-beg\",\"s\")] = (0.5,0.5)\n",
    "kerning[(\"g-beg\",\"z\")] = (0.5,0.5)\n",
    "kerning[(\"t\",\"r\")] = (0.5,1.5)\n",
    "kerning[(\"t\",\"l\")] = (0.5,1.5)\n",
    "kerning[(\"d\",\"r\")] = (0.5,1.5)\n",
    "kerning[(\"d\",\"l\")] = (0.5,1.5)\n",
    "kerning[(\"r\",\"mv1\")] = (1,-1)\n",
    "kerning[(\"r\",\"mv2\")] = (1,-1)\n",
    "kerning[(\"r\",\"mv3\")] = (1,-1)\n",
    "kerning[(\"l\",\"mv1\")] = (1,-1)\n",
    "kerning[(\"l\",\"mv2\")] = (1,-1)\n",
    "kerning[(\"l\",\"mv3\")] = (1,-1)\n",
    "kerning[(\"mv1\",\"r\")] = (-1,1)\n",
    "kerning[(\"mv2\",\"r\")] = (-1,1)\n",
    "kerning[(\"mv3\",\"r\")] = (-1,1)\n",
    "kerning[(\"mv1\",\"l\")] = (-1,1)\n",
    "kerning[(\"mv2\",\"l\")] = (-1,1)\n",
    "kerning[(\"mv3\",\"l\")] = (-1,1)\n",
    "kerning[(\"n\",\"mv1\")] = (1,-1)\n",
    "kerning[(\"n\",\"mv2\")] = (1,-1)\n",
    "kerning[(\"n\",\"mv3\")] = (1,-1)\n",
    "kerning[(\"ng\",\"mv1\")] = (1,-1)\n",
    "kerning[(\"ng\",\"mv2\")] = (1,-1)\n",
    "kerning[(\"ng\",\"mv3\")] = (1,-1)\n",
    "kerning[(\"mv1\",\"n\")] = (-1,1)\n",
    "kerning[(\"mv2\",\"n\")] = (-1,1)\n",
    "kerning[(\"mv3\",\"n\")] = (-1,1)\n",
    "kerning[(\"mv1\",\"ng\")] = (-1,1)\n",
    "kerning[(\"mv2\",\"ng\")] = (-1,1)\n",
    "kerning[(\"mv3\",\"ng\")] = (-1,1)\n",
    "kerning[(\"n\",\"sh\")] = (1,1)\n",
    "kerning[(\"n\",\"zh\")] = (1,1)\n",
    "kerning[(\"ng\",\"sh\")] = (1,1)\n",
    "kerning[(\"ng\",\"zh\")] = (1,1)"
   ]
  },
  {
   "cell_type": "code",
   "execution_count": 827,
   "metadata": {},
   "outputs": [],
   "source": [
    "def show_grafoni_kerned(in_string,bend = True):\n",
    "    chars = in_string\n",
    "    if isinstance(chars, str):\n",
    "        chars = process_ends(grafoni_spell(in_string))\n",
    "    print(\" \".join(chars))\n",
    "    out = [('move',0,0)]\n",
    "    last_char = \" \"\n",
    "    for l in chars:\n",
    "        if l in letter_forms:\n",
    "            l_kern,r_kern = kerning[(last_char,l)]\n",
    "            last_char = l\n",
    "            out = concat(r_extend(out,l_kern),l_extend(letter_forms[l],r_kern))\n",
    "        else:\n",
    "            print(\"error: \" + l)\n",
    "    if bend:\n",
    "        #return display(svgStrokes(shear(scale(out,1,0.5),by=-1/sqrt(3))))\n",
    "        return display(svgStrokes(shear(scale(out,1,0.5),by=-1)))\n",
    "    else:\n",
    "        return display(svgStrokes(out))"
   ]
  },
  {
   "cell_type": "code",
   "execution_count": 828,
   "metadata": {},
   "outputs": [
    {
     "name": "stdout",
     "output_type": "stream",
     "text": [
      "s p l uv3 sh   lv1 mv2 r l d-end\n"
     ]
    },
    {
     "data": {
      "image/svg+xml": [
       "<?xml version=\"1.0\" encoding=\"UTF-8\"?>\n",
       "<svg xmlns=\"http://www.w3.org/2000/svg\" xmlns:xlink=\"http://www.w3.org/1999/xlink\"\n",
       "     width=\"176.0\" height=\"32.0\" viewBox=\"0 0 176.0 32.0\">\n",
       "<defs>\n",
       "<path d=\"M4.0,20.0 Q12.0,12.0,16.0,12.0 C20.0,12.0,12.0,20.0,14.0,20.0 C16.0,20.0,28.0,16.0,24.0,12.0 C28.0,16.0,16.0,20.0,26.0,20.0 C34.0,20.0,50.0,4.0,46.0,4.0 C42.0,4.0,34.0,12.0,30.0,20.0 Q66.0,8.0,78.0,20.0 Q70.0,28.0,74.0,28.0 Q78.0,28.0,86.0,20.0 M102.0,20.0 Q105.0,23.0,114.0,20.0 L138.0,20.0 C146.0,20.0,154.0,12.0,150.0,12.0 C146.0,12.0,138.0,20.0,146.0,20.0 C154.0,20.0,170.0,4.0,166.0,4.0 C162.0,4.0,146.0,20.0,154.0,20.0 Q156.0,20.0,172.0,4.0 M156.0,20.0\" stroke=\"black\" fill=\"none\" stroke-width=\"1.3333333333333333\" stroke-linecap=\"round\" stroke-linejoin=\"round\" id=\"B04Nx0IX0\" />\n",
       "</defs>\n",
       "<use xlink:href=\"#B04Nx0IX0\" x=\"0\" y=\"0\" />\n",
       "</svg>"
      ],
      "text/plain": [
       "<drawsvg.drawing.Drawing at 0x11723ea00>"
      ]
     },
     "metadata": {},
     "output_type": "display_data"
    }
   ],
   "source": [
    "show_grafoni_kerned(\"splash world\")"
   ]
  },
  {
   "cell_type": "code",
   "execution_count": 829,
   "metadata": {},
   "outputs": [
    {
     "name": "stdout",
     "output_type": "stream",
     "text": [
      "mv2   g-beg r uv2 uv1 t-end   d-beg uv1 l   mv2 v-end   t-beg mv3 uv1 m   uv1 z   l lv3 s t-end   b-beg mv3 uv1   dh mv2   p-beg r uv2 z mv2 n t-end   uv1 n d mv2 r uv2 k t-end   m uv2 th mv2 d   mv2 v-end   r uv1 k lv3 r d uv1 ng   b-beg uv1 z n uv1 s   k-beg lv3 r mv2 s p mv3 n d mv2 n s\n"
     ]
    },
    {
     "data": {
      "image/svg+xml": [
       "<?xml version=\"1.0\" encoding=\"UTF-8\"?>\n",
       "<svg xmlns=\"http://www.w3.org/2000/svg\" xmlns:xlink=\"http://www.w3.org/1999/xlink\"\n",
       "     width=\"1156.0\" height=\"40.0\" viewBox=\"0 0 1156.0 40.0\">\n",
       "<defs>\n",
       "<path d=\"M4.0,20.0 L28.0,20.0 M44.0,20.0 M60.0,4.0 C44.0,12.0,44.0,20.0,48.0,20.0 C56.0,20.0,64.0,12.0,60.0,12.0 C56.0,12.0,52.0,16.0,52.0,20.0 Q70.0,14.0,76.0,20.0 Q85.0,17.0,88.0,20.0 L96.0,12.0 M88.0,20.0 M104.0,20.0 M120.0,4.0 L104.0,20.0 Q113.0,17.0,116.0,20.0 C124.0,16.0,136.0,4.0,132.0,4.0 C128.0,4.0,120.0,12.0,116.0,20.0 M132.0,20.0 L156.0,20.0 Q156.0,28.0,140.0,36.0 M156.0,20.0 M172.0,20.0 M180.0,12.0 L172.0,20.0 L220.0,20.0 Q229.0,17.0,232.0,20.0 C236.0,20.0,232.0,24.0,228.0,24.0 C224.0,24.0,228.0,20.0,232.0,20.0 M248.0,20.0 Q257.0,17.0,260.0,20.0 Q276.0,4.0,280.0,4.0 Q284.0,4.0,268.0,20.0 M284.0,20.0 C292.0,16.0,304.0,4.0,300.0,4.0 C296.0,4.0,288.0,12.0,284.0,20.0 Q296.0,32.0,332.0,20.0 Q340.0,12.0,344.0,12.0 C348.0,12.0,340.0,20.0,344.0,20.0 Q346.0,20.0,354.0,12.0 M346.0,20.0 M362.0,20.0 M378.0,4.0 Q378.0,12.0,362.0,20.0 L410.0,20.0 Q419.0,17.0,422.0,20.0 M438.0,20.0 L422.0,36.0 L434.0,24.0 Q438.0,20.0,446.0,20.0 L470.0,20.0 M486.0,20.0 M494.0,12.0 C498.0,16.0,486.0,20.0,492.0,20.0 C500.0,20.0,508.0,12.0,504.0,12.0 C500.0,12.0,496.0,16.0,496.0,20.0 Q514.0,14.0,520.0,20.0 Q536.0,4.0,540.0,4.0 Q544.0,4.0,528.0,20.0 L552.0,20.0 C560.0,20.0,552.0,28.0,548.0,28.0 C544.0,28.0,548.0,24.0,556.0,20.0 L564.0,12.0 M556.0,20.0 M572.0,20.0 Q581.0,17.0,584.0,20.0 C584.0,24.0,580.0,28.0,576.0,28.0 C572.0,28.0,576.0,24.0,584.0,20.0 Q592.0,20.0,596.0,16.0 L608.0,4.0 L592.0,20.0 L616.0,20.0 C624.0,20.0,632.0,12.0,628.0,12.0 C624.0,12.0,620.0,16.0,620.0,20.0 Q638.0,14.0,644.0,20.0 C656.0,16.0,648.0,16.0,660.0,12.0 C648.0,16.0,652.0,20.0,654.0,20.0 Q656.0,20.0,664.0,12.0 M656.0,20.0 M672.0,20.0 C676.0,20.0,672.0,24.0,668.0,24.0 C664.0,24.0,668.0,20.0,672.0,20.0 Q690.0,14.0,696.0,20.0 L688.0,28.0 L692.0,24.0 Q696.0,20.0,704.0,20.0 L728.0,20.0 Q736.0,20.0,740.0,16.0 L752.0,4.0 L736.0,20.0 M752.0,20.0 L776.0,20.0 Q776.0,28.0,760.0,36.0 M776.0,20.0 M792.0,20.0 C800.0,16.0,804.0,12.0,800.0,12.0 C796.0,12.0,792.0,16.0,792.0,20.0 Q801.0,17.0,804.0,20.0 C816.0,16.0,808.0,16.0,820.0,12.0 Q808.0,16.0,812.0,20.0 Q824.0,32.0,860.0,20.0 C868.0,16.0,872.0,12.0,868.0,12.0 C864.0,12.0,860.0,16.0,860.0,20.0 Q868.0,20.0,872.0,16.0 L884.0,4.0 L868.0,20.0 Q877.0,17.0,880.0,20.0 C880.0,24.0,868.0,36.0,864.0,36.0 C860.0,36.0,868.0,28.0,880.0,20.0 M896.0,20.0 M912.0,4.0 Q912.0,12.0,896.0,20.0 Q905.0,17.0,908.0,20.0 Q924.0,4.0,928.0,4.0 Q932.0,4.0,916.0,20.0 C916.0,24.0,912.0,28.0,908.0,28.0 C904.0,28.0,908.0,24.0,916.0,20.0 Q925.0,17.0,928.0,20.0 Q936.0,12.0,940.0,12.0 Q944.0,12.0,936.0,20.0 M952.0,20.0 M960.0,12.0 Q948.0,16.0,952.0,20.0 Q964.0,32.0,1000.0,20.0 C1008.0,16.0,1012.0,12.0,1008.0,12.0 C1004.0,12.0,996.0,20.0,1004.0,20.0 L1028.0,20.0 Q1036.0,12.0,1040.0,12.0 C1044.0,12.0,1036.0,20.0,1038.0,20.0 C1040.0,20.0,1052.0,16.0,1048.0,12.0 C1052.0,16.0,1044.0,16.0,1048.0,20.0 L1096.0,20.0 C1104.0,20.0,1096.0,28.0,1092.0,28.0 C1088.0,28.0,1092.0,24.0,1100.0,20.0 Q1108.0,20.0,1112.0,16.0 L1124.0,4.0 L1108.0,20.0 L1132.0,20.0 C1140.0,20.0,1132.0,28.0,1128.0,28.0 C1124.0,28.0,1128.0,24.0,1136.0,20.0 Q1144.0,12.0,1148.0,12.0 Q1152.0,12.0,1144.0,20.0\" stroke=\"black\" fill=\"none\" stroke-width=\"1.3333333333333333\" stroke-linecap=\"round\" stroke-linejoin=\"round\" id=\"vHLVpZ800\" />\n",
       "</defs>\n",
       "<use xlink:href=\"#vHLVpZ800\" x=\"0\" y=\"0\" />\n",
       "</svg>"
      ],
      "text/plain": [
       "<drawsvg.drawing.Drawing at 0x11758db80>"
      ]
     },
     "metadata": {},
     "output_type": "display_data"
    }
   ],
   "source": [
    "show_grafoni_kerned(\"a great deal of time is lost by the present indirect method of recording business correspondence\")"
   ]
  },
  {
   "cell_type": "code",
   "execution_count": 830,
   "metadata": {},
   "outputs": [
    {
     "name": "stdout",
     "output_type": "stream",
     "text": [
      "s p uv2 uv1 s   dh mv2   f-beg mv3 uv1 n mv2 l   f-beg r mv2 n t uv1 r   dh uv1 z   mv2 r   dh mv2   v-beg lv3 uv1 uv1 d zh uv1 z   mv2 v-end   dh mv2   s t mv3 r sh uv1 p-end   uv2 n mv2 r p r mv3 uv1 z\n"
     ]
    },
    {
     "data": {
      "image/svg+xml": [
       "<?xml version=\"1.0\" encoding=\"UTF-8\"?>\n",
       "<svg xmlns=\"http://www.w3.org/2000/svg\" xmlns:xlink=\"http://www.w3.org/1999/xlink\"\n",
       "     width=\"928.0\" height=\"40.0\" viewBox=\"0 0 928.0 40.0\">\n",
       "<defs>\n",
       "<path d=\"M4.0,20.0 Q12.0,12.0,16.0,12.0 C20.0,12.0,12.0,20.0,14.0,20.0 C16.0,20.0,28.0,16.0,24.0,12.0 C28.0,16.0,20.0,16.0,24.0,20.0 Q42.0,14.0,48.0,20.0 Q57.0,17.0,60.0,20.0 Q68.0,12.0,72.0,12.0 Q76.0,12.0,68.0,20.0 M84.0,20.0 L68.0,36.0 L80.0,24.0 Q84.0,20.0,92.0,20.0 L116.0,20.0 M132.0,20.0 M124.0,28.0 Q136.0,24.0,132.0,20.0 L180.0,20.0 Q189.0,17.0,192.0,20.0 C192.0,24.0,188.0,28.0,184.0,28.0 C180.0,28.0,188.0,20.0,196.0,20.0 L220.0,20.0 C228.0,20.0,244.0,4.0,240.0,4.0 C236.0,4.0,228.0,12.0,224.0,20.0 M240.0,20.0 M232.0,28.0 Q244.0,24.0,240.0,20.0 C248.0,16.0,252.0,12.0,248.0,12.0 C244.0,12.0,236.0,20.0,244.0,20.0 L268.0,20.0 C276.0,20.0,268.0,28.0,264.0,28.0 C260.0,28.0,264.0,24.0,272.0,20.0 Q280.0,20.0,284.0,16.0 L288.0,12.0 L280.0,20.0 Q289.0,17.0,292.0,20.0 C300.0,16.0,304.0,12.0,300.0,12.0 C296.0,12.0,292.0,16.0,292.0,20.0 M308.0,20.0 L292.0,36.0 L304.0,24.0 Q308.0,20.0,316.0,20.0 Q325.0,17.0,328.0,20.0 Q344.0,4.0,348.0,4.0 Q352.0,4.0,336.0,20.0 M352.0,20.0 L376.0,20.0 C384.0,20.0,392.0,12.0,388.0,12.0 C384.0,12.0,380.0,16.0,380.0,20.0 M396.0,20.0 L380.0,36.0 L392.0,24.0 Q396.0,20.0,404.0,20.0 L428.0,20.0 M444.0,20.0 M428.0,36.0 Q444.0,28.0,444.0,20.0 Q456.0,32.0,492.0,20.0 Q501.0,17.0,504.0,20.0 Q513.0,17.0,516.0,20.0 Q524.0,20.0,528.0,16.0 L540.0,4.0 L524.0,20.0 Q508.0,36.0,512.0,36.0 Q516.0,36.0,532.0,20.0 Q541.0,17.0,544.0,20.0 Q560.0,4.0,564.0,4.0 Q568.0,4.0,552.0,20.0 M568.0,20.0 L592.0,20.0 Q592.0,28.0,576.0,36.0 M592.0,20.0 M608.0,20.0 L592.0,36.0 L604.0,24.0 Q608.0,20.0,616.0,20.0 L640.0,20.0 M656.0,20.0 Q664.0,12.0,668.0,12.0 Q672.0,12.0,664.0,20.0 Q672.0,20.0,676.0,16.0 L680.0,12.0 L672.0,20.0 L720.0,20.0 C728.0,20.0,736.0,12.0,732.0,12.0 C728.0,12.0,724.0,16.0,724.0,20.0 Q716.0,28.0,720.0,28.0 Q724.0,28.0,732.0,20.0 Q741.0,17.0,744.0,20.0 Q756.0,16.0,752.0,12.0 M744.0,20.0 M760.0,20.0 Q778.0,14.0,784.0,20.0 C784.0,24.0,780.0,28.0,776.0,28.0 C772.0,28.0,780.0,20.0,788.0,20.0 L812.0,20.0 C820.0,20.0,828.0,12.0,824.0,12.0 C820.0,12.0,812.0,20.0,820.0,20.0 C822.0,20.0,834.0,16.0,830.0,12.0 C834.0,16.0,822.0,20.0,832.0,20.0 C840.0,20.0,848.0,12.0,844.0,12.0 C840.0,12.0,832.0,20.0,840.0,20.0 L888.0,20.0 Q897.0,17.0,900.0,20.0 Q916.0,4.0,920.0,4.0 Q924.0,4.0,908.0,20.0\" stroke=\"black\" fill=\"none\" stroke-width=\"1.3333333333333333\" stroke-linecap=\"round\" stroke-linejoin=\"round\" id=\"nWUVUYmk0\" />\n",
       "</defs>\n",
       "<use xlink:href=\"#nWUVUYmk0\" x=\"0\" y=\"0\" />\n",
       "</svg>"
      ],
      "text/plain": [
       "<drawsvg.drawing.Drawing at 0x11719e0a0>"
      ]
     },
     "metadata": {},
     "output_type": "display_data"
    }
   ],
   "source": [
    "show_grafoni_kerned(\"space the final frontier these are the voyages of the starship enterprise\")"
   ]
  },
  {
   "cell_type": "code",
   "execution_count": 831,
   "metadata": {},
   "outputs": [
    {
     "name": "stdout",
     "output_type": "stream",
     "text": [
      "h-beg uv2 l lv2 mv1   h-beg mv3 mv1   mv2 r   uv1 lv1   f uv1 l uv1 ng   t-beg mv2 d uv2 uv1\n"
     ]
    },
    {
     "data": {
      "image/svg+xml": [
       "<?xml version=\"1.0\" encoding=\"UTF-8\"?>\n",
       "<svg xmlns=\"http://www.w3.org/2000/svg\" xmlns:xlink=\"http://www.w3.org/1999/xlink\"\n",
       "     width=\"372.0\" height=\"40.0\" viewBox=\"0 0 372.0 40.0\">\n",
       "<defs>\n",
       "<path d=\"M16.0,20.0 M8.0,28.0 Q4.0,24.0,16.0,20.0 Q34.0,14.0,40.0,20.0 C48.0,16.0,60.0,4.0,56.0,4.0 C52.0,4.0,44.0,12.0,40.0,20.0 Q46.0,26.0,64.0,20.0 L76.0,20.0 M92.0,20.0 M84.0,28.0 Q80.0,24.0,92.0,20.0 L140.0,20.0 L152.0,20.0 M168.0,20.0 L192.0,20.0 C200.0,20.0,208.0,12.0,204.0,12.0 C200.0,12.0,196.0,16.0,196.0,20.0 M212.0,20.0 Q221.0,17.0,224.0,20.0 Q227.0,23.0,236.0,20.0 M252.0,20.0 Q256.0,24.0,244.0,28.0 C256.0,24.0,248.0,24.0,260.0,20.0 Q269.0,17.0,272.0,20.0 C280.0,16.0,292.0,4.0,288.0,4.0 C284.0,4.0,276.0,12.0,272.0,20.0 Q281.0,17.0,284.0,20.0 C284.0,24.0,272.0,36.0,268.0,36.0 C264.0,36.0,272.0,28.0,284.0,20.0 M300.0,20.0 M308.0,12.0 L300.0,20.0 L324.0,20.0 Q332.0,20.0,336.0,16.0 L348.0,4.0 L332.0,20.0 Q350.0,14.0,356.0,20.0 Q365.0,17.0,368.0,20.0\" stroke=\"black\" fill=\"none\" stroke-width=\"1.3333333333333333\" stroke-linecap=\"round\" stroke-linejoin=\"round\" id=\"YfAUu3xj0\" />\n",
       "</defs>\n",
       "<use xlink:href=\"#YfAUu3xj0\" x=\"0\" y=\"0\" />\n",
       "</svg>"
      ],
      "text/plain": [
       "<drawsvg.drawing.Drawing at 0x11711e580>"
      ]
     },
     "metadata": {},
     "output_type": "display_data"
    }
   ],
   "source": [
    "show_grafoni_kerned(\"hello how are you feeling today\")"
   ]
  },
  {
   "cell_type": "code",
   "execution_count": 832,
   "metadata": {},
   "outputs": [
    {
     "name": "stdout",
     "output_type": "stream",
     "text": [
      "mv3 uv1   n lv1   dh mv2   m lv2 mv1 m mv2 n t-end   dh mv2 t   mv3 uv1   f uv2 l   uv1 n t lv1   dh mv2   f uv1 sh mv2 r   dh mv2 t   m mv3 uv1   b-beg mv1 k-end   lv1 mv1 d   n mv3 t   b-beg uv1   d-beg uv1 s t r lv3 uv1 d-end   uv2 z   mv3 uv1   h-beg uv3 d-end   p-beg l uv3 n d-end\n"
     ]
    },
    {
     "data": {
      "image/svg+xml": [
       "<?xml version=\"1.0\" encoding=\"UTF-8\"?>\n",
       "<svg xmlns=\"http://www.w3.org/2000/svg\" xmlns:xlink=\"http://www.w3.org/1999/xlink\"\n",
       "     width=\"1274.0\" height=\"40.0\" viewBox=\"0 0 1274.0 40.0\">\n",
       "<defs>\n",
       "<path d=\"M4.0,20.0 L52.0,20.0 Q61.0,17.0,64.0,20.0 M80.0,20.0 C80.0,24.0,76.0,28.0,72.0,28.0 C68.0,28.0,72.0,24.0,80.0,20.0 Q83.0,23.0,92.0,20.0 M108.0,20.0 L92.0,36.0 L104.0,24.0 Q108.0,20.0,116.0,20.0 L140.0,20.0 M156.0,20.0 C160.0,20.0,156.0,24.0,152.0,24.0 C148.0,24.0,152.0,20.0,156.0,20.0 Q162.0,26.0,180.0,20.0 L192.0,20.0 C196.0,20.0,192.0,24.0,188.0,24.0 C184.0,24.0,188.0,20.0,192.0,20.0 L216.0,20.0 C224.0,20.0,216.0,28.0,212.0,28.0 C208.0,28.0,212.0,24.0,220.0,20.0 L228.0,12.0 M220.0,20.0 M236.0,20.0 L220.0,36.0 L232.0,24.0 Q236.0,20.0,244.0,20.0 L268.0,20.0 Q276.0,20.0,280.0,16.0 L284.0,12.0 L276.0,20.0 M292.0,20.0 L340.0,20.0 Q349.0,17.0,352.0,20.0 M368.0,20.0 Q372.0,24.0,360.0,28.0 C372.0,24.0,364.0,24.0,376.0,20.0 Q394.0,14.0,400.0,20.0 C408.0,16.0,420.0,4.0,416.0,4.0 C412.0,4.0,404.0,12.0,400.0,20.0 M416.0,20.0 Q425.0,17.0,428.0,20.0 C428.0,24.0,424.0,28.0,420.0,28.0 C416.0,28.0,420.0,24.0,428.0,20.0 Q436.0,20.0,440.0,16.0 L444.0,12.0 L436.0,20.0 Q439.0,23.0,448.0,20.0 M464.0,20.0 L448.0,36.0 L460.0,24.0 Q464.0,20.0,472.0,20.0 L496.0,20.0 M512.0,20.0 Q516.0,24.0,504.0,28.0 C516.0,24.0,508.0,24.0,520.0,20.0 Q529.0,17.0,532.0,20.0 Q524.0,28.0,528.0,28.0 Q532.0,28.0,540.0,20.0 L564.0,20.0 C572.0,20.0,580.0,12.0,576.0,12.0 C572.0,12.0,568.0,16.0,568.0,20.0 M584.0,20.0 L568.0,36.0 L580.0,24.0 Q584.0,20.0,592.0,20.0 L616.0,20.0 Q624.0,20.0,628.0,16.0 L632.0,12.0 L624.0,20.0 M640.0,20.0 C644.0,20.0,640.0,24.0,636.0,24.0 C632.0,24.0,636.0,20.0,640.0,20.0 L688.0,20.0 Q697.0,17.0,700.0,20.0 M716.0,20.0 M732.0,4.0 Q732.0,12.0,716.0,20.0 L728.0,20.0 Q724.0,16.0,736.0,12.0 M728.0,20.0 M744.0,20.0 Q747.0,23.0,756.0,20.0 L768.0,20.0 Q776.0,20.0,780.0,16.0 L792.0,4.0 L776.0,20.0 M792.0,20.0 C792.0,24.0,788.0,28.0,784.0,28.0 C780.0,28.0,788.0,20.0,796.0,20.0 L844.0,20.0 Q852.0,20.0,856.0,16.0 L860.0,12.0 L852.0,20.0 M868.0,20.0 M884.0,4.0 Q884.0,12.0,868.0,20.0 Q877.0,17.0,880.0,20.0 M896.0,20.0 M912.0,4.0 L896.0,20.0 Q905.0,17.0,908.0,20.0 Q916.0,12.0,920.0,12.0 Q924.0,12.0,916.0,20.0 Q924.0,20.0,928.0,16.0 L932.0,12.0 Q924.0,20.0,926.0,20.0 C936.0,20.0,944.0,12.0,940.0,12.0 C936.0,12.0,932.0,16.0,932.0,20.0 Q944.0,32.0,980.0,20.0 Q989.0,17.0,992.0,20.0 L1008.0,4.0 M992.0,20.0 M1008.0,20.0 Q1026.0,14.0,1032.0,20.0 Q1048.0,4.0,1052.0,4.0 Q1056.0,4.0,1040.0,20.0 M1056.0,20.0 L1104.0,20.0 Q1113.0,17.0,1116.0,20.0 M1132.0,20.0 M1124.0,28.0 Q1120.0,24.0,1132.0,20.0 Q1168.0,8.0,1180.0,20.0 L1196.0,4.0 M1180.0,20.0 M1196.0,20.0 M1204.0,12.0 C1208.0,16.0,1196.0,20.0,1202.0,20.0 C1210.0,20.0,1226.0,4.0,1222.0,4.0 C1218.0,4.0,1210.0,12.0,1206.0,20.0 Q1242.0,8.0,1254.0,20.0 C1254.0,24.0,1250.0,28.0,1246.0,28.0 C1242.0,28.0,1246.0,24.0,1254.0,20.0 L1270.0,4.0 M1254.0,20.0\" stroke=\"black\" fill=\"none\" stroke-width=\"1.3333333333333333\" stroke-linecap=\"round\" stroke-linejoin=\"round\" id=\"JAovsrsk0\" />\n",
       "</defs>\n",
       "<use xlink:href=\"#JAovsrsk0\" x=\"0\" y=\"0\" />\n",
       "</svg>"
      ],
      "text/plain": [
       "<drawsvg.drawing.Drawing at 0x11710dc70>"
      ]
     },
     "metadata": {},
     "output_type": "display_data"
    }
   ],
   "source": [
    "show_grafoni_kerned(\"I knew the moment that I fell into the fissure that my book would not be destroyed as I had planned\")"
   ]
  },
  {
   "cell_type": "code",
   "execution_count": 908,
   "metadata": {},
   "outputs": [],
   "source": [
    "def show_grafoni_kerned_wrapped(in_string,wrap = 100,shear_val=-1,line_space=20,v_scale=0.5):\n",
    "    chars = in_string\n",
    "    if isinstance(chars, str):\n",
    "        chars = process_ends(grafoni_spell(in_string))\n",
    "    print(\" \".join(chars))\n",
    "    out = [('move',0,0)]\n",
    "    last_char = \" \"\n",
    "    for l in chars:\n",
    "        if l in letter_forms:\n",
    "            l_kern,r_kern = kerning[(last_char,l)]\n",
    "            last_char = l\n",
    "            out = concat(r_extend(out,l_kern),l_extend(letter_forms[l],r_kern))\n",
    "        else:\n",
    "            print(\"error: \" + l)\n",
    "        if last_char == \" \"  and out[-1][-2] + shear_val*v_scale*out[-1][-1] > wrap:\n",
    "            out.append(('move',-shear_val*v_scale*(out[-1][-1]+line_space),out[-1][-1]+line_space))\n",
    "    return display(svgStrokes(shear(scale(out,1,v_scale),by=shear_val)))"
   ]
  },
  {
   "cell_type": "code",
   "execution_count": 847,
   "metadata": {},
   "outputs": [
    {
     "name": "stdout",
     "output_type": "stream",
     "text": [
      "mv3 uv1   n lv1   dh mv2   m lv2 mv1 m mv2 n t-end   dh mv2 t   mv3 uv1   f uv2 l   uv1 n t lv1   dh mv2   f uv1 sh mv2 r   dh mv2 t   m mv3 uv1   b-beg mv1 k-end   lv1 mv1 d   n mv3 t   b-beg uv1   d-beg uv1 s t r lv3 uv1 d-end   uv2 z   mv3 uv1   h-beg uv3 d-end   p-beg l uv3 n d .   uv2 z   mv3 uv1   f uv2 l   uv1 n t lv1   dh mv2 t   s t mv3 r uv1   uv1 k s p uv3 n s\n",
      "error: .\n"
     ]
    },
    {
     "data": {
      "image/svg+xml": [
       "<?xml version=\"1.0\" encoding=\"UTF-8\"?>\n",
       "<svg xmlns=\"http://www.w3.org/2000/svg\" xmlns:xlink=\"http://www.w3.org/1999/xlink\"\n",
       "     width=\"488.0\" height=\"160.0\" viewBox=\"0 0 488.0 160.0\">\n",
       "<defs>\n",
       "<path d=\"M4.0,20.0 L52.0,20.0 Q61.0,17.0,64.0,20.0 M80.0,20.0 C80.0,24.0,76.0,28.0,72.0,28.0 C68.0,28.0,72.0,24.0,80.0,20.0 Q83.0,23.0,92.0,20.0 M108.0,20.0 L92.0,36.0 L104.0,24.0 Q108.0,20.0,116.0,20.0 L140.0,20.0 M156.0,20.0 C160.0,20.0,156.0,24.0,152.0,24.0 C148.0,24.0,152.0,20.0,156.0,20.0 Q162.0,26.0,180.0,20.0 L192.0,20.0 C196.0,20.0,192.0,24.0,188.0,24.0 C184.0,24.0,188.0,20.0,192.0,20.0 L216.0,20.0 C224.0,20.0,216.0,28.0,212.0,28.0 C208.0,28.0,212.0,24.0,220.0,20.0 L228.0,12.0 M220.0,20.0 M236.0,20.0 L220.0,36.0 L232.0,24.0 Q236.0,20.0,244.0,20.0 L268.0,20.0 Q276.0,20.0,280.0,16.0 L284.0,12.0 L276.0,20.0 M292.0,20.0 L340.0,20.0 Q349.0,17.0,352.0,20.0 M368.0,20.0 Q372.0,24.0,360.0,28.0 C372.0,24.0,364.0,24.0,376.0,20.0 Q394.0,14.0,400.0,20.0 C408.0,16.0,420.0,4.0,416.0,4.0 C412.0,4.0,404.0,12.0,400.0,20.0 M416.0,20.0 M4.0,60.0 Q13.0,57.0,16.0,60.0 C16.0,64.0,12.0,68.0,8.0,68.0 C4.0,68.0,8.0,64.0,16.0,60.0 Q24.0,60.0,28.0,56.0 L32.0,52.0 L24.0,60.0 Q27.0,63.0,36.0,60.0 M52.0,60.0 L36.0,76.0 L48.0,64.0 Q52.0,60.0,60.0,60.0 L84.0,60.0 M100.0,60.0 Q104.0,64.0,92.0,68.0 C104.0,64.0,96.0,64.0,108.0,60.0 Q117.0,57.0,120.0,60.0 Q112.0,68.0,116.0,68.0 Q120.0,68.0,128.0,60.0 L152.0,60.0 C160.0,60.0,168.0,52.0,164.0,52.0 C160.0,52.0,156.0,56.0,156.0,60.0 M172.0,60.0 L156.0,76.0 L168.0,64.0 Q172.0,60.0,180.0,60.0 L204.0,60.0 Q212.0,60.0,216.0,56.0 L220.0,52.0 L212.0,60.0 M228.0,60.0 C232.0,60.0,228.0,64.0,224.0,64.0 C220.0,64.0,224.0,60.0,228.0,60.0 L276.0,60.0 Q285.0,57.0,288.0,60.0 M304.0,60.0 M320.0,44.0 Q320.0,52.0,304.0,60.0 L316.0,60.0 Q312.0,56.0,324.0,52.0 M316.0,60.0 M332.0,60.0 Q335.0,63.0,344.0,60.0 L356.0,60.0 Q364.0,60.0,368.0,56.0 L380.0,44.0 L364.0,60.0 M380.0,60.0 C380.0,64.0,376.0,68.0,372.0,68.0 C368.0,68.0,376.0,60.0,384.0,60.0 L432.0,60.0 Q440.0,60.0,444.0,56.0 L448.0,52.0 L440.0,60.0 M456.0,60.0 M4.0,100.0 M20.0,84.0 Q20.0,92.0,4.0,100.0 Q13.0,97.0,16.0,100.0 M32.0,100.0 M48.0,84.0 L32.0,100.0 Q41.0,97.0,44.0,100.0 Q52.0,92.0,56.0,92.0 Q60.0,92.0,52.0,100.0 Q60.0,100.0,64.0,96.0 L68.0,92.0 Q60.0,100.0,62.0,100.0 C72.0,100.0,80.0,92.0,76.0,92.0 C72.0,92.0,68.0,96.0,68.0,100.0 Q80.0,112.0,116.0,100.0 Q125.0,97.0,128.0,100.0 L144.0,84.0 M128.0,100.0 M144.0,100.0 Q162.0,94.0,168.0,100.0 Q184.0,84.0,188.0,84.0 Q192.0,84.0,176.0,100.0 M192.0,100.0 L240.0,100.0 Q249.0,97.0,252.0,100.0 M268.0,100.0 M260.0,108.0 Q256.0,104.0,268.0,100.0 Q304.0,88.0,316.0,100.0 L332.0,84.0 M316.0,100.0 M332.0,100.0 M340.0,92.0 C344.0,96.0,332.0,100.0,338.0,100.0 C346.0,100.0,362.0,84.0,358.0,84.0 C354.0,84.0,346.0,92.0,342.0,100.0 Q378.0,88.0,390.0,100.0 C390.0,104.0,386.0,108.0,382.0,108.0 C378.0,108.0,382.0,104.0,390.0,100.0 Q398.0,100.0,402.0,96.0 L414.0,84.0 L398.0,100.0 M414.0,100.0 M4.0,140.0 Q22.0,134.0,28.0,140.0 Q44.0,124.0,48.0,124.0 Q52.0,124.0,36.0,140.0 M52.0,140.0 L100.0,140.0 Q109.0,137.0,112.0,140.0 M128.0,140.0 Q132.0,144.0,120.0,148.0 C132.0,144.0,124.0,144.0,136.0,140.0 Q154.0,134.0,160.0,140.0 C168.0,136.0,180.0,124.0,176.0,124.0 C172.0,124.0,164.0,132.0,160.0,140.0 M176.0,140.0 Q185.0,137.0,188.0,140.0 C188.0,144.0,184.0,148.0,180.0,148.0 C176.0,148.0,180.0,144.0,188.0,140.0 Q196.0,140.0,200.0,136.0 L204.0,132.0 L196.0,140.0 Q199.0,143.0,208.0,140.0 M224.0,140.0 L208.0,156.0 L220.0,144.0 Q224.0,140.0,232.0,140.0 L256.0,140.0 Q264.0,140.0,268.0,136.0 L272.0,132.0 L264.0,140.0 M280.0,140.0 Q288.0,132.0,292.0,132.0 Q296.0,132.0,288.0,140.0 Q296.0,140.0,300.0,136.0 L304.0,132.0 L296.0,140.0 L344.0,140.0 C352.0,140.0,360.0,132.0,356.0,132.0 C352.0,132.0,348.0,136.0,348.0,140.0 Q357.0,137.0,360.0,140.0 M376.0,140.0 Q385.0,137.0,388.0,140.0 C400.0,136.0,392.0,136.0,404.0,132.0 C392.0,136.0,396.0,140.0,398.0,140.0 C400.0,140.0,408.0,132.0,412.0,132.0 C416.0,132.0,408.0,140.0,410.0,140.0 C412.0,140.0,424.0,136.0,420.0,132.0 C424.0,136.0,416.0,136.0,420.0,140.0 Q456.0,128.0,468.0,140.0 C468.0,144.0,464.0,148.0,460.0,148.0 C456.0,148.0,460.0,144.0,468.0,140.0 Q476.0,132.0,480.0,132.0 Q484.0,132.0,476.0,140.0\" stroke=\"black\" fill=\"none\" stroke-width=\"1.3333333333333333\" stroke-linecap=\"round\" stroke-linejoin=\"round\" id=\"k8DURDt00\" />\n",
       "</defs>\n",
       "<use xlink:href=\"#k8DURDt00\" x=\"0\" y=\"0\" />\n",
       "</svg>"
      ],
      "text/plain": [
       "<drawsvg.drawing.Drawing at 0x1176cf6d0>"
      ]
     },
     "metadata": {},
     "output_type": "display_data"
    }
   ],
   "source": [
    "show_grafoni_kerned_wrapped(\"I knew the moment that I fell into the fissure that my book would not be destroyed as I had planned. as I fell into that starry expanse\")"
   ]
  },
  {
   "cell_type": "code",
   "execution_count": 848,
   "metadata": {},
   "outputs": [
    {
     "name": "stdout",
     "output_type": "stream",
     "text": [
      "dh uv2 r   lv1 uv1 l   k-beg mv2 m   mv2   t-beg mv3 uv1 m   lv1 uv1 n   uv1 lv1   b-beg uv1 l uv1 v-end   uv2 v r uv1 th uv1 ng   uv1 z   f uv1 n uv1 sh t-end   dh mv2 t   lv1 uv1 l   b-beg uv1   dh mv2   b-beg uv1 g uv1 n uv1 ng\n"
     ]
    },
    {
     "data": {
      "image/svg+xml": [
       "<?xml version=\"1.0\" encoding=\"UTF-8\"?>\n",
       "<svg xmlns=\"http://www.w3.org/2000/svg\" xmlns:xlink=\"http://www.w3.org/1999/xlink\"\n",
       "     width=\"468.0\" height=\"80.0\" viewBox=\"0 0 468.0 80.0\">\n",
       "<defs>\n",
       "<path d=\"M20.0,20.0 L4.0,36.0 L16.0,24.0 Q20.0,20.0,28.0,20.0 Q46.0,14.0,52.0,20.0 C60.0,16.0,64.0,12.0,60.0,12.0 C56.0,12.0,52.0,16.0,52.0,20.0 M68.0,20.0 Q71.0,23.0,80.0,20.0 Q89.0,17.0,92.0,20.0 C100.0,16.0,112.0,4.0,108.0,4.0 C104.0,4.0,96.0,12.0,92.0,20.0 M108.0,20.0 M116.0,12.0 Q104.0,16.0,108.0,20.0 L132.0,20.0 C136.0,20.0,132.0,24.0,128.0,24.0 C124.0,24.0,128.0,20.0,132.0,20.0 M148.0,20.0 L172.0,20.0 M188.0,20.0 M196.0,12.0 L188.0,20.0 L236.0,20.0 Q245.0,17.0,248.0,20.0 C252.0,20.0,248.0,24.0,244.0,24.0 C240.0,24.0,244.0,20.0,248.0,20.0 M264.0,20.0 Q267.0,23.0,276.0,20.0 Q285.0,17.0,288.0,20.0 C288.0,24.0,284.0,28.0,280.0,28.0 C276.0,28.0,280.0,24.0,288.0,20.0 M304.0,20.0 Q313.0,17.0,316.0,20.0 Q319.0,23.0,328.0,20.0 M344.0,20.0 M360.0,4.0 Q360.0,12.0,344.0,20.0 Q353.0,17.0,356.0,20.0 C364.0,16.0,376.0,4.0,372.0,4.0 C368.0,4.0,360.0,12.0,356.0,20.0 Q365.0,17.0,368.0,20.0 Q368.0,28.0,352.0,36.0 M368.0,20.0 M384.0,20.0 Q402.0,14.0,408.0,20.0 Q408.0,28.0,392.0,36.0 C408.0,28.0,404.0,24.0,416.0,20.0 C424.0,16.0,428.0,12.0,424.0,12.0 C420.0,12.0,416.0,16.0,416.0,20.0 Q425.0,17.0,428.0,20.0 L420.0,28.0 L424.0,24.0 Q428.0,20.0,436.0,20.0 Q445.0,17.0,448.0,20.0 C448.0,24.0,436.0,36.0,432.0,36.0 C428.0,36.0,436.0,28.0,448.0,20.0 M464.0,20.0 M20.0,60.0 Q29.0,57.0,32.0,60.0 Q48.0,44.0,52.0,44.0 Q56.0,44.0,40.0,60.0 M56.0,60.0 Q60.0,64.0,48.0,68.0 C60.0,64.0,52.0,64.0,64.0,60.0 Q73.0,57.0,76.0,60.0 C76.0,64.0,72.0,68.0,68.0,68.0 C64.0,68.0,68.0,64.0,76.0,60.0 Q85.0,57.0,88.0,60.0 Q80.0,68.0,84.0,68.0 Q88.0,68.0,96.0,60.0 L104.0,52.0 M96.0,60.0 M112.0,60.0 L96.0,76.0 L108.0,64.0 Q112.0,60.0,120.0,60.0 L144.0,60.0 Q152.0,60.0,156.0,56.0 L160.0,52.0 L152.0,60.0 M168.0,60.0 Q171.0,63.0,180.0,60.0 Q189.0,57.0,192.0,60.0 C200.0,56.0,212.0,44.0,208.0,44.0 C204.0,44.0,196.0,52.0,192.0,60.0 M208.0,60.0 M224.0,44.0 Q224.0,52.0,208.0,60.0 Q217.0,57.0,220.0,60.0 M236.0,60.0 L220.0,76.0 L232.0,64.0 Q236.0,60.0,244.0,60.0 L268.0,60.0 M284.0,60.0 M300.0,44.0 Q300.0,52.0,284.0,60.0 Q293.0,57.0,296.0,60.0 C308.0,56.0,304.0,52.0,320.0,44.0 Q304.0,52.0,304.0,60.0 Q313.0,57.0,316.0,60.0 C316.0,64.0,312.0,68.0,308.0,68.0 C304.0,68.0,308.0,64.0,316.0,60.0 Q325.0,57.0,328.0,60.0 C328.0,64.0,316.0,76.0,312.0,76.0 C308.0,76.0,316.0,68.0,328.0,60.0\" stroke=\"black\" fill=\"none\" stroke-width=\"1.3333333333333333\" stroke-linecap=\"round\" stroke-linejoin=\"round\" id=\"nLFtuQBj0\" />\n",
       "</defs>\n",
       "<use xlink:href=\"#nLFtuQBj0\" x=\"0\" y=\"0\" />\n",
       "</svg>"
      ],
      "text/plain": [
       "<drawsvg.drawing.Drawing at 0x11719e0a0>"
      ]
     },
     "metadata": {},
     "output_type": "display_data"
    }
   ],
   "source": [
    "show_grafoni_kerned_wrapped(\"there will come a time when you believe everything is finished that will be the beginning\")"
   ]
  },
  {
   "cell_type": "code",
   "execution_count": 849,
   "metadata": {},
   "outputs": [
    {
     "data": {
      "image/svg+xml": [
       "<?xml version=\"1.0\" encoding=\"UTF-8\"?>\n",
       "<svg xmlns=\"http://www.w3.org/2000/svg\" xmlns:xlink=\"http://www.w3.org/1999/xlink\"\n",
       "     width=\"912.0\" height=\"72\" viewBox=\"0 0 912.0 72\">\n",
       "<defs>\n",
       "<path d=\"M4,36 L4,68 M4,44 Q4,36,12,36 Q24.0,30.0,36.0,36 C44.0,28,44.0,20,40.0,20 C36.0,20,36.0,28,44.0,36 M60.0,36 Q66.0,42.0,72.0,36 Q78.0,30.0,84.0,36 C92.0,28,92.0,4,88.0,4 C84.0,4,84.0,20,92.0,36 M108.0,36 C116.0,28,108.0,28,116.0,20 Q108.0,28,116.0,36 L140.0,36 C148.0,36,148.0,44,144.0,44 C140.0,44,140.0,36,148.0,36 M164.0,36 L188.0,36 M204.0,36 Q212.0,36,212.0,28 M212.0,20 L212.0,36 L260.0,36 Q266.0,30.0,272.0,36 C280.0,36,280.0,44,276.0,44 C272.0,44,272.0,36,280.0,36 M296.0,36 Q302.0,42.0,308.0,36 Q314.0,30.0,320.0,36 C328.0,44,328.0,52,324.0,52 C320.0,52,320.0,44,328.0,36 M344.0,36 Q350.0,30.0,356.0,36 Q362.0,42.0,368.0,36 M384.0,36 Q392.0,20,384.0,4 C392.0,20,384.0,28,392.0,36 Q398.0,30.0,404.0,36 C412.0,28,412.0,4,408.0,4 C404.0,4,404.0,20,412.0,36 Q418.0,30.0,424.0,36 Q432.0,52,424.0,68 C432.0,52,424.0,44,432.0,36 M448.0,36 Q460.0,30.0,472.0,36 Q480.0,52,472.0,68 C480.0,52,472.0,44,480.0,36 C488.0,28,488.0,20,484.0,20 C480.0,20,480.0,28,488.0,36 Q494.0,30.0,500.0,36 L500.0,52 M500.0,44 Q500.0,36,508.0,36 Q514.0,30.0,520.0,36 C528.0,44,528.0,68,524.0,68 C520.0,68,520.0,52,528.0,36 M544.0,36 Q550.0,30.0,556.0,36 Q556.0,4,560.0,4 Q564.0,4,564.0,36 M580.0,36 Q588.0,44,580.0,52 C588.0,44,580.0,44,588.0,36 Q594.0,30.0,600.0,36 C608.0,44,608.0,52,604.0,52 C600.0,52,600.0,44,608.0,36 Q614.0,30.0,620.0,36 Q620.0,52,624.0,52 Q628.0,52,628.0,36 Q636.0,36,636.0,28 M636.0,20 L636.0,36 M652.0,36 L652.0,68 M652.0,44 Q652.0,36,660.0,36 L684.0,36 Q692.0,36,692.0,28 M692.0,20 L692.0,36 M708.0,36 Q714.0,42.0,720.0,36 Q726.0,30.0,732.0,36 C740.0,28,740.0,4,736.0,4 C732.0,4,732.0,20,740.0,36 M756.0,36 Q764.0,20,756.0,4 C764.0,20,756.0,28,764.0,36 Q770.0,30.0,776.0,36 M792.0,36 L792.0,68 M792.0,44 Q792.0,36,800.0,36 L824.0,36 M840.0,36 Q848.0,20,840.0,4 C848.0,20,840.0,28,848.0,36 Q854.0,30.0,860.0,36 C868.0,28,860.0,20,868.0,4 Q860.0,20,868.0,36 Q874.0,30.0,880.0,36 C888.0,44,888.0,52,884.0,52 C880.0,52,880.0,44,888.0,36 Q894.0,30.0,900.0,36 C908.0,44,908.0,68,904.0,68 C900.0,68,900.0,52,908.0,36\" stroke=\"black\" fill=\"none\" stroke-width=\"1.3333333333333333\" stroke-linecap=\"round\" stroke-linejoin=\"round\" id=\"bYxhxm5J0\" />\n",
       "</defs>\n",
       "<use xlink:href=\"#bYxhxm5J0\" x=\"0\" y=\"0\" />\n",
       "</svg>"
      ],
      "text/plain": [
       "<drawsvg.drawing.Drawing at 0x1176e1f10>"
      ]
     },
     "metadata": {},
     "output_type": "display_data"
    }
   ],
   "source": [
    "show_grafoni_type(\"there will come a time when you believe everything is finished that will be the beginning\")"
   ]
  },
  {
   "cell_type": "code",
   "execution_count": 853,
   "metadata": {},
   "outputs": [
    {
     "name": "stdout",
     "output_type": "stream",
     "text": [
      "mv3 uv1   r uv1 mv2 l mv3 uv1 z d ,   dh mv2   m lv2 mv1 m mv2 n t-end   mv3 uv1   f uv2 l   uv1 n t lv1   dh mv2   f uv1 sh mv2 r ,   dh mv2 t   dh mv2   b-beg mv1 k-end   lv1 mv1 d   n mv3 t   b-beg uv1   d-beg uv1 s t r lv3 uv1 d-end   uv2 z   mv3 uv1   h-beg uv3 d-end   p-beg l uv3 n d .   uv1 t-end   k-beg mv2 n t uv1 n uv1 lv1 d   f-beg mv3 l uv1 ng   uv1 n t lv1   dh mv2 t   s t mv3 r uv1   uv1 k s p uv3 n s   mv2 v-end   lv1 uv1 t sh   mv3 uv1   h-beg uv3 d-end   lv2 mv1 n l uv1   mv2   f-beg l uv1 t uv1 ng   g-beg l uv1 m p s .   mv3 uv1   h-beg uv3 v-end   t-beg r mv3 uv1 d-end   t-beg uv1   s p uv2 k uv1 mv2 l uv2 uv1 t-end   lv1 uv2 r   uv1 t-end   m mv3 uv1 t-end   h-beg uv3 v-end   l uv3 n d uv1 d ,   b-beg mv2 t   mv3 uv1   m mv2 s t-end   mv2 d m uv1 t ,   h-beg lv2 lv1 uv2 v uv2 r — —   s mv2 t sh   k-beg mv2 n d zh uv2 k t sh mv2 r   uv1 z   f uv1 lv1 t mv2 l .   s t uv1 l ,   dh mv2   k-beg lv1 uv2 sh mv2 n   mv2 v-end   h-beg lv1 z   h-beg uv3 n z   m mv3 uv1 t-end   s mv2 m d uv2 uv1   h-beg lv2 mv1 l d-end   m mv3 uv1   m uv1 s t-end   b-beg mv1 k-end   mv2 r   mv2 n s uv2 t mv2 l uv1 ng   t-beg uv1   m uv1 .   mv3 uv1   n lv2 mv1   dh mv2 t   m mv3 uv1   uv3 p r uv1 h uv2 n sh mv2 n z   m mv3 uv1 t-end   n uv2 v mv2 r   b-beg uv1   mv2 l uv2 uv1 d ,   mv2 n d-end   s lv2 mv1   mv3 uv1   k-beg l lv2 mv1 z ,   r uv1 mv2 l mv3 uv1 z uv1 ng   dh mv2 t   p-beg mv2 r h uv3 p s ,   dh mv2   uv2 n d uv1 ng   h-beg mv2 z   n mv3 t   uv1 uv2 t-end   b-beg uv1 n   r uv1 t mv2 n .\n",
      "error: ,\n",
      "error: ,\n",
      "error: .\n",
      "error: .\n",
      "error: ,\n",
      "error: ,\n",
      "error: —\n",
      "error: —\n",
      "error: .\n",
      "error: ,\n",
      "error: .\n",
      "error: ,\n",
      "error: ,\n",
      "error: ,\n",
      "error: .\n"
     ]
    },
    {
     "data": {
      "image/svg+xml": [
       "<?xml version=\"1.0\" encoding=\"UTF-8\"?>\n",
       "<svg xmlns=\"http://www.w3.org/2000/svg\" xmlns:xlink=\"http://www.w3.org/1999/xlink\"\n",
       "     width=\"554.3094010767585\" height=\"592.0\" viewBox=\"0 0 554.3094010767585 592.0\">\n",
       "<defs>\n",
       "<path d=\"M10.30940107675849,20.0 L58.30940107675849,20.0 Q66.04145188432736,17.0,70.30940107675849,20.0 M86.30940107675849,20.0 C92.618802153517,16.0,94.9282032302755,12.0,90.9282032302755,12.0 C86.9282032302755,12.0,84.618802153517,16.0,86.30940107675849,20.0 Q94.04145188432737,17.0,98.30940107675849,20.0 L122.30940107675849,20.0 C130.3094010767585,20.0,139.5470053837925,4.0,135.5470053837925,4.0 C131.5470053837925,4.0,122.30940107675849,20.0,130.3094010767585,20.0 L178.3094010767585,20.0 Q186.04145188432736,17.0,190.3094010767585,20.0 Q199.5470053837925,4.0,203.5470053837925,4.0 Q207.5470053837925,4.0,198.3094010767585,20.0 Q206.3094010767585,20.0,208.61880215351698,16.0 L215.5470053837925,4.0 L206.3094010767585,20.0 M222.3094010767585,20.0 L213.07179676972447,36.0 L220.0,24.0 Q222.3094010767585,20.0,230.3094010767585,20.0 L254.3094010767585,20.0 M270.3094010767585,20.0 C274.3094010767585,20.0,272.0,24.0,268.0,24.0 C264.0,24.0,266.3094010767585,20.0,270.3094010767585,20.0 Q278.84529946162075,26.0,294.3094010767585,20.0 L306.3094010767585,20.0 C310.3094010767585,20.0,308.0,24.0,304.0,24.0 C300.0,24.0,302.3094010767585,20.0,306.3094010767585,20.0 L330.3094010767585,20.0 C338.3094010767585,20.0,333.6905989232415,28.0,329.6905989232415,28.0 C325.6905989232415,28.0,328.0,24.0,334.3094010767585,20.0 L338.92820323027547,12.0 M334.3094010767585,20.0 M350.3094010767585,20.0 L398.3094010767585,20.0 Q406.0414518843274,17.0,410.3094010767585,20.0 M426.3094010767585,20.0 M10.30940107675849,60.0 Q15.999999999999986,64.0,5.690598923241481,68.0 C15.999999999999986,64.0,7.999999999999986,64.0,18.30940107675849,60.0 Q33.77350269189624,54.0,42.30940107675849,60.0 C48.618802153516995,56.0,55.5470053837925,44.0,51.5470053837925,44.0 C47.5470053837925,44.0,42.9282032302755,52.0,42.30940107675849,60.0 M58.30940107675849,60.0 Q66.04145188432736,57.0,70.30940107675849,60.0 C71.99999999999999,64.0,69.69059892324148,68.0,65.69059892324148,68.0 C61.69059892324148,68.0,63.999999999999986,64.0,70.30940107675849,60.0 Q78.30940107675849,60.0,80.618802153517,56.0 L82.9282032302755,52.0 L78.30940107675849,60.0 Q82.57735026918961,63.0,90.30940107675849,60.0 M106.30940107675849,60.0 L97.07179676972447,76.0 L103.99999999999999,64.0 Q106.30940107675849,60.0,114.30940107675849,60.0 L138.3094010767585,60.0 M154.3094010767585,60.0 Q159.99999999999997,64.0,149.69059892324145,68.0 C159.99999999999997,64.0,151.99999999999997,64.0,162.3094010767585,60.0 Q170.04145188432736,57.0,174.3094010767585,60.0 Q169.69059892324145,68.0,173.69059892324145,68.0 Q177.69059892324145,68.0,182.3094010767585,60.0 L206.3094010767585,60.0 C214.3094010767585,60.0,218.92820323027547,52.0,214.92820323027547,52.0 C210.92820323027547,52.0,208.61880215351698,56.0,210.3094010767585,60.0 M226.3094010767585,60.0 L217.07179676972447,76.0 L223.99999999999997,64.0 Q226.3094010767585,60.0,234.3094010767585,60.0 L258.3094010767585,60.0 Q266.3094010767585,60.0,268.618802153517,56.0 L270.92820323027547,52.0 L266.3094010767585,60.0 M282.3094010767585,60.0 L273.0717967697245,76.0 L280.0,64.0 Q282.3094010767585,60.0,290.3094010767585,60.0 L314.3094010767585,60.0 M330.3094010767585,60.0 M339.5470053837925,44.0 Q342.92820323027547,52.0,330.3094010767585,60.0 L342.3094010767585,60.0 Q336.618802153517,56.0,346.92820323027547,52.0 M342.3094010767585,60.0 M358.3094010767585,60.0 Q362.5773502691896,63.0,370.3094010767585,60.0 L382.3094010767585,60.0 Q390.3094010767585,60.0,392.618802153517,56.0 L399.5470053837925,44.0 L390.3094010767585,60.0 M406.3094010767585,60.0 C408.0,64.0,405.69059892324145,68.0,401.69059892324145,68.0 C397.69059892324145,68.0,402.3094010767585,60.0,410.3094010767585,60.0 L458.3094010767585,60.0 Q466.3094010767585,60.0,468.618802153517,56.0 L470.92820323027547,52.0 L466.3094010767585,60.0 M482.3094010767585,60.0 M10.30940107675849,100.0 M19.547005383792502,84.0 Q22.928203230275493,92.0,10.30940107675849,100.0 Q18.041451884327365,97.0,22.30940107675849,100.0 M38.30940107675849,100.0 M47.5470053837925,84.0 L38.30940107675849,100.0 Q46.041451884327365,97.0,50.30940107675849,100.0 Q54.92820323027549,92.0,58.92820323027549,92.0 Q62.92820323027549,92.0,58.30940107675849,100.0 Q66.30940107675849,100.0,68.618802153517,96.0 L70.9282032302755,92.0 Q66.30940107675849,100.0,68.30940107675849,100.0 C78.30940107675849,100.0,82.9282032302755,92.0,78.9282032302755,92.0 C74.9282032302755,92.0,72.618802153517,96.0,74.30940107675849,100.0 Q91.38119784648298,112.0,122.30940107675849,100.0 Q130.04145188432736,97.0,134.3094010767585,100.0 L143.5470053837925,84.0 M134.3094010767585,100.0 M150.3094010767585,100.0 Q165.77350269189623,94.0,174.3094010767585,100.0 Q183.5470053837925,84.0,187.5470053837925,84.0 Q191.5470053837925,84.0,182.3094010767585,100.0 M198.3094010767585,100.0 L246.30940107675846,100.0 Q254.04145188432733,97.0,258.3094010767585,100.0 M274.3094010767585,100.0 M269.69059892324145,108.0 Q263.99999999999994,104.0,274.3094010767585,100.0 Q305.23760430703396,88.0,322.3094010767585,100.0 L331.54700538379245,84.0 M322.3094010767585,100.0 M338.3094010767585,100.0 M342.92820323027547,92.0 C348.618802153517,96.0,338.3094010767585,100.0,344.3094010767585,100.0 C352.3094010767585,100.0,361.54700538379245,84.0,357.54700538379245,84.0 C353.54700538379245,84.0,348.92820323027547,92.0,348.3094010767585,100.0 Q379.23760430703396,88.0,396.3094010767585,100.0 C397.99999999999994,104.0,395.69059892324145,108.0,391.69059892324145,108.0 C387.69059892324145,108.0,389.99999999999994,104.0,396.3094010767585,100.0 Q404.3094010767585,100.0,406.618802153517,96.0 L413.54700538379245,84.0 L404.3094010767585,100.0 M420.3094010767585,100.0 M10.30940107675849,140.0 Q18.04145188432736,137.0,22.30940107675849,140.0 L26.9282032302755,132.0 M22.30940107675849,140.0 M38.30940107675849,140.0 M42.9282032302755,132.0 Q32.618802153516995,136.0,38.30940107675849,140.0 L62.30940107675849,140.0 C70.3094010767585,140.0,65.6905989232415,148.0,61.69059892324148,148.0 C57.69059892324148,148.0,59.999999999999986,144.0,66.30940107675849,140.0 Q74.3094010767585,140.0,76.61880215351701,136.0 L78.92820323027551,132.0 L74.3094010767585,140.0 Q82.04145188432737,137.0,86.3094010767585,140.0 C88.0,144.0,85.6905989232415,148.0,81.6905989232415,148.0 C77.6905989232415,148.0,80.0,144.0,86.3094010767585,140.0 Q94.04145188432737,137.0,98.3094010767585,140.0 Q102.57735026918962,143.0,110.3094010767585,140.0 Q118.3094010767585,140.0,120.61880215351701,136.0 L127.54700538379251,124.0 L118.3094010767585,140.0 M134.3094010767585,140.0 M129.6905989232415,148.0 Q140.0,144.0,134.3094010767585,140.0 L182.3094010767585,140.0 C190.3094010767585,140.0,199.5470053837925,124.0,195.5470053837925,124.0 C191.5470053837925,124.0,186.92820323027553,132.0,186.3094010767585,140.0 Q194.0414518843274,137.0,198.3094010767585,140.0 C200.0,144.0,193.07179676972447,156.0,189.07179676972447,156.0 C185.07179676972447,156.0,189.6905989232415,148.0,198.3094010767585,140.0 M214.3094010767585,140.0 Q222.0414518843274,137.0,226.3094010767585,140.0 C228.0,144.0,225.6905989232415,148.0,221.6905989232415,148.0 C217.6905989232415,148.0,220.0,144.0,226.3094010767585,140.0 Q234.3094010767585,140.0,236.618802153517,136.0 L238.92820323027553,132.0 L234.3094010767585,140.0 Q238.57735026918962,143.0,246.3094010767585,140.0 M262.3094010767585,140.0 L253.07179676972447,156.0 L260.0,144.0 Q262.3094010767585,140.0,270.3094010767585,140.0 L294.3094010767585,140.0 Q302.3094010767585,140.0,304.618802153517,136.0 L306.9282032302755,132.0 L302.3094010767585,140.0 M318.3094010767585,140.0 Q322.9282032302755,132.0,326.9282032302755,132.0 Q330.9282032302755,132.0,326.3094010767585,140.0 Q334.3094010767585,140.0,336.618802153517,136.0 L338.9282032302755,132.0 L334.3094010767585,140.0 L382.3094010767585,140.0 C390.3094010767585,140.0,394.9282032302755,132.0,390.9282032302755,132.0 C386.9282032302755,132.0,384.618802153517,136.0,386.3094010767585,140.0 Q394.0414518843274,137.0,398.3094010767585,140.0 M414.3094010767585,140.0 M10.30940107675849,180.0 Q18.04145188432736,177.0,22.30940107675849,180.0 C32.618802153516995,176.0,24.618802153516995,176.0,34.9282032302755,172.0 C24.618802153516995,176.0,30.30940107675849,180.0,32.30940107675849,180.0 C34.30940107675849,180.0,38.9282032302755,172.0,42.9282032302755,172.0 C46.9282032302755,172.0,42.30940107675849,180.0,44.30940107675849,180.0 C46.30940107675849,180.0,56.618802153516995,176.0,50.9282032302755,172.0 C56.618802153516995,176.0,48.618802153516995,176.0,54.30940107675849,180.0 Q85.23760430703399,168.0,102.30940107675849,180.0 C103.99999999999999,184.0,101.69059892324148,188.0,97.69059892324148,188.0 C93.69059892324148,188.0,95.99999999999999,184.0,102.30940107675849,180.0 Q106.9282032302755,172.0,110.9282032302755,172.0 Q114.9282032302755,172.0,110.30940107675849,180.0 M126.30940107675849,180.0 L150.3094010767585,180.0 Q153.69059892324148,188.0,141.07179676972447,196.0 M150.3094010767585,180.0 M166.3094010767585,180.0 Q170.5773502691896,183.0,178.3094010767585,180.0 Q186.04145188432736,177.0,190.3094010767585,180.0 Q198.3094010767585,180.0,200.61880215351698,176.0 L202.9282032302755,172.0 L198.3094010767585,180.0 Q193.69059892324148,188.0,197.69059892324148,188.0 Q201.69059892324148,188.0,206.3094010767585,180.0 M222.3094010767585,180.0 L270.3094010767585,180.0 Q278.04145188432733,177.0,282.3094010767585,180.0 M298.3094010767585,180.0 M293.6905989232415,188.0 Q288.0,184.0,298.3094010767585,180.0 Q329.23760430703396,168.0,346.3094010767585,180.0 L355.5470053837925,164.0 M346.3094010767585,180.0 M362.3094010767585,180.0 Q370.8452994616207,186.0,386.3094010767585,180.0 L398.3094010767585,180.0 C406.3094010767585,180.0,401.6905989232415,188.0,397.6905989232415,188.0 C393.6905989232415,188.0,396.0,184.0,402.3094010767585,180.0 C408.618802153517,176.0,415.5470053837925,164.0,411.5470053837925,164.0 C407.5470053837925,164.0,402.92820323027547,172.0,402.3094010767585,180.0 Q410.04145188432733,177.0,414.3094010767585,180.0 M430.30940107675843,180.0 M10.30940107675849,220.0 L34.309401076758476,220.0 M50.309401076758476,220.0 M45.69059892324147,228.0 Q55.99999999999997,224.0,50.309401076758476,220.0 C56.61880215351698,216.0,63.54700538379248,204.0,59.54700538379248,204.0 C55.54700538379248,204.0,50.92820323027547,212.0,50.309401076758476,220.0 Q58.041451884327344,217.0,62.309401076758476,220.0 Q70.30940107675848,220.0,72.61880215351698,216.0 L74.92820323027547,212.0 L70.30940107675848,220.0 Q78.04145188432734,217.0,82.30940107675848,220.0 C83.99999999999997,224.0,77.07179676972446,236.0,73.07179676972446,236.0 C69.07179676972446,236.0,73.69059892324147,228.0,82.30940107675848,220.0 M98.30940107675848,220.0 M107.54700538379248,204.0 C94.92820323027547,212.0,98.30940107675848,220.0,102.30940107675848,220.0 C110.30940107675848,220.0,119.54700538379248,204.0,115.54700538379248,204.0 C111.54700538379248,204.0,106.92820323027547,212.0,106.30940107675848,220.0 Q114.04145188432734,217.0,118.30940107675848,220.0 C122.30940107675848,220.0,119.99999999999997,224.0,115.99999999999997,224.0 C111.99999999999997,224.0,114.30940107675848,220.0,118.30940107675848,220.0 Q128.61880215351698,216.0,122.92820323027547,212.0 C128.61880215351698,216.0,120.61880215351698,216.0,126.30940107675848,220.0 Q130.92820323027547,212.0,134.92820323027547,212.0 Q138.92820323027547,212.0,134.3094010767585,220.0 M150.3094010767585,220.0 L198.3094010767585,220.0 Q206.04145188432733,217.0,210.3094010767585,220.0 M226.3094010767585,220.0 M221.69059892324145,228.0 Q215.99999999999997,224.0,226.3094010767585,220.0 Q257.23760430703396,208.0,274.3094010767585,220.0 Q277.69059892324145,228.0,265.0717967697245,236.0 M274.3094010767585,220.0 M290.3094010767585,220.0 M294.92820323027547,212.0 Q290.3094010767585,220.0,292.3094010767585,220.0 C302.3094010767585,220.0,306.92820323027547,212.0,302.92820323027547,212.0 C298.92820323027547,212.0,294.3094010767585,220.0,302.3094010767585,220.0 L350.3094010767585,220.0 Q358.04145188432733,217.0,362.3094010767585,220.0 L371.54700538379245,204.0 M362.3094010767585,220.0 M378.3094010767585,220.0 M382.92820323027547,212.0 L378.3094010767585,220.0 Q386.04145188432733,217.0,390.3094010767585,220.0 M406.3094010767585,220.0 Q410.92820323027547,212.0,414.9282032302755,212.0 C418.9282032302755,212.0,414.30940107675855,220.0,416.30940107675855,220.0 C418.30940107675855,220.0,428.61880215351704,216.0,422.9282032302755,212.0 C428.61880215351704,216.0,420.61880215351704,216.0,426.30940107675855,220.0 Q441.7735026918963,214.0,450.30940107675855,220.0 C460.61880215351704,216.0,452.61880215351704,216.0,462.9282032302755,212.0 Q452.61880215351704,216.0,458.30940107675855,220.0 Q466.0414518843274,217.0,470.30940107675855,220.0 L494.30940107675855,220.0 C502.30940107675855,220.0,511.54700538379257,204.0,507.54700538379257,204.0 C503.54700538379257,204.0,498.9282032302755,212.0,498.30940107675855,220.0 Q513.7735026918963,214.0,522.3094010767585,220.0 Q530.0414518843274,217.0,534.3094010767585,220.0 L538.9282032302755,212.0 M534.3094010767585,220.0 M550.3094010767585,220.0 M10.30940107675849,260.0 Q14.577350269189594,263.0,22.30940107675849,260.0 Q37.773502691896226,254.0,46.30940107675849,260.0 C52.61880215351698,256.0,54.9282032302755,252.0,50.9282032302755,252.0 C46.9282032302755,252.0,44.61880215351698,256.0,46.30940107675849,260.0 M62.30940107675849,260.0 Q70.04145188432736,257.0,74.30940107675849,260.0 L78.9282032302755,252.0 M74.30940107675849,260.0 M90.30940107675849,260.0 C94.30940107675849,260.0,91.99999999999997,264.0,87.99999999999997,264.0 C83.99999999999997,264.0,86.30940107675849,260.0,90.30940107675849,260.0 L138.30940107675852,260.0 Q146.0414518843274,257.0,150.30940107675852,260.0 L154.92820323027553,252.0 M150.30940107675852,260.0 M166.30940107675852,260.0 M161.6905989232415,268.0 Q156.0,264.0,166.30940107675852,260.0 Q197.23760430703402,248.0,214.30940107675852,260.0 Q217.6905989232415,268.0,205.0717967697245,276.0 M214.30940107675852,260.0 M230.30940107675852,260.0 C236.618802153517,256.0,243.54700538379254,244.0,239.54700538379254,244.0 C235.54700538379254,244.0,230.92820323027553,252.0,230.30940107675852,260.0 Q261.237604307034,248.0,278.3094010767585,260.0 C280.0,264.0,277.6905989232415,268.0,273.6905989232415,268.0 C269.6905989232415,268.0,272.0,264.0,278.3094010767585,260.0 Q286.3094010767585,260.0,288.618802153517,256.0 L295.54700538379257,244.0 L286.3094010767585,260.0 Q294.0414518843274,257.0,298.3094010767585,260.0 Q306.3094010767585,260.0,308.618802153517,256.0 L315.54700538379257,244.0 L306.3094010767585,260.0 M322.3094010767585,260.0 M331.54700538379257,244.0 Q334.9282032302755,252.0,322.3094010767585,260.0 L346.3094010767585,260.0 Q354.3094010767585,260.0,356.618802153517,256.0 L358.9282032302755,252.0 L354.3094010767585,260.0 M370.3094010767585,260.0 L418.3094010767585,260.0 Q426.0414518843274,257.0,430.3094010767585,260.0 M446.3094010767585,260.0 M10.30940107675849,300.0 C14.30940107675849,300.0,12.0,304.0,8.0,304.0 C4.0,304.0,6.3094010767584905,300.0,10.30940107675849,300.0 L34.30940107675849,300.0 Q38.9282032302755,292.0,42.9282032302755,292.0 C46.9282032302755,292.0,42.30940107675849,300.0,46.30940107675849,300.0 Q48.30940107675849,300.0,52.9282032302755,292.0 M48.30940107675849,300.0 M64.30940107675849,300.0 L88.30940107675849,300.0 Q96.30940107675849,300.0,98.61880215351701,296.0 L105.54700538379251,284.0 L96.30940107675849,300.0 C100.30940107675849,300.0,98.0,304.0,94.0,304.0 C90.0,304.0,92.30940107675849,300.0,96.30940107675849,300.0 Q104.04145188432739,297.0,108.30940107675849,300.0 Q116.30940107675849,300.0,118.61880215351701,296.0 L120.9282032302755,292.0 L116.30940107675849,300.0 M132.3094010767585,300.0 M127.69059892324148,308.0 Q122.0,304.0,132.3094010767585,300.0 Q140.84529946162075,306.0,156.3094010767585,300.0 Q160.57735026918962,303.0,168.3094010767585,300.0 Q183.77350269189625,294.0,192.3094010767585,300.0 Q195.69059892324148,308.0,183.07179676972447,316.0 C195.69059892324148,308.0,190.0,304.0,200.3094010767585,300.0 Q215.77350269189625,294.0,224.3094010767585,300.0 C230.618802153517,296.0,232.9282032302755,292.0,228.9282032302755,292.0 C224.9282032302755,292.0,222.618802153517,296.0,224.3094010767585,300.0 M240.3094010767585,300.0 Q244.9282032302755,292.0,248.9282032302755,292.0 Q252.9282032302755,292.0,248.3094010767585,300.0 L272.3094010767585,300.0 Q280.3094010767585,300.0,282.618802153517,296.0 L284.92820323027547,292.0 L280.3094010767585,300.0 Q275.6905989232415,308.0,279.6905989232415,308.0 Q283.6905989232415,308.0,288.3094010767585,300.0 M304.3094010767585,300.0 M308.92820323027547,292.0 Q298.618802153517,296.0,304.3094010767585,300.0 L328.3094010767585,300.0 C336.3094010767585,300.0,331.6905989232415,308.0,327.6905989232415,308.0 C323.6905989232415,308.0,326.0,304.0,332.3094010767585,300.0 Q340.3094010767585,300.0,342.618802153517,296.0 L349.5470053837925,284.0 L340.3094010767585,300.0 Q331.0717967697245,316.0,335.0717967697245,316.0 Q339.0717967697245,316.0,348.3094010767585,300.0 Q363.7735026918963,294.0,372.3094010767585,300.0 C382.618802153517,296.0,374.618802153517,296.0,384.92820323027547,292.0 Q374.618802153517,296.0,380.3094010767585,300.0 Q388.3094010767585,300.0,390.618802153517,296.0 L392.92820323027547,292.0 L388.3094010767585,300.0 Q383.6905989232415,308.0,387.6905989232415,308.0 Q391.6905989232415,308.0,396.3094010767585,300.0 L420.3094010767585,300.0 C428.3094010767585,300.0,432.92820323027547,292.0,428.92820323027547,292.0 C424.92820323027547,292.0,422.618802153517,296.0,424.3094010767585,300.0 M440.3094010767585,300.0 M10.30940107675849,340.0 Q18.04145188432736,337.0,22.30940107675849,340.0 Q31.54700538379251,324.0,35.54700538379251,324.0 Q39.54700538379251,324.0,30.30940107675849,340.0 M46.30940107675849,340.0 Q51.99999999999997,344.0,41.69059892324148,348.0 C51.99999999999997,344.0,43.99999999999997,344.0,54.30940107675849,340.0 Q62.04145188432736,337.0,66.30940107675849,340.0 Q70.5773502691896,343.0,78.30940107675849,340.0 Q86.30940107675849,340.0,88.61880215351698,336.0 L90.9282032302755,332.0 L86.30940107675849,340.0 L110.30940107675849,340.0 C118.30940107675849,340.0,127.54700538379251,324.0,123.54700538379251,324.0 C119.54700538379251,324.0,114.9282032302755,332.0,114.30940107675849,340.0 M130.3094010767585,340.0 Q134.9282032302755,332.0,138.9282032302755,332.0 Q142.9282032302755,332.0,138.3094010767585,340.0 Q146.3094010767585,340.0,148.61880215351698,336.0 L150.9282032302755,332.0 L146.3094010767585,340.0 Q154.04145188432736,337.0,158.3094010767585,340.0 C164.61880215351698,336.0,171.5470053837925,324.0,167.5470053837925,324.0 C163.5470053837925,324.0,158.9282032302755,332.0,158.3094010767585,340.0 M174.3094010767585,340.0 L165.07179676972447,356.0 L171.99999999999997,344.0 Q174.3094010767585,340.0,182.3094010767585,340.0 L206.3094010767585,340.0 M222.3094010767585,340.0 M226.9282032302755,332.0 Q216.61880215351698,336.0,222.3094010767585,340.0 Q226.5773502691896,343.0,234.3094010767585,340.0 Q249.77350269189623,334.0,258.3094010767585,340.0 Q253.69059892324148,348.0,257.6905989232415,348.0 Q261.6905989232415,348.0,266.3094010767585,340.0 L290.3094010767585,340.0 C298.3094010767585,340.0,293.6905989232415,348.0,289.6905989232415,348.0 C285.6905989232415,348.0,288.0,344.0,294.3094010767585,340.0 M310.3094010767585,340.0 L334.3094010767585,340.0 Q337.6905989232415,348.0,325.0717967697245,356.0 M334.3094010767585,340.0 M350.3094010767585,340.0 M345.6905989232415,348.0 Q340.0,344.0,350.3094010767585,340.0 Q354.5773502691896,343.0,362.3094010767585,340.0 Q371.5470053837925,324.0,375.5470053837925,324.0 Q379.5470053837925,324.0,370.3094010767585,340.0 M386.3094010767585,340.0 M381.6905989232415,348.0 Q376.0,344.0,386.3094010767585,340.0 Q417.23760430703396,328.0,434.3094010767585,340.0 C436.0,344.0,433.6905989232415,348.0,429.6905989232415,348.0 C425.6905989232415,348.0,428.0,344.0,434.3094010767585,340.0 Q443.5470053837925,324.0,447.5470053837925,324.0 Q451.5470053837925,324.0,442.3094010767585,340.0 M458.3094010767585,340.0 M10.30940107675849,380.0 C14.30940107675849,380.0,12.0,384.0,8.0,384.0 C4.0,384.0,6.3094010767584905,380.0,10.30940107675849,380.0 L58.30940107675849,380.0 Q66.04145188432736,377.0,70.30940107675846,380.0 L74.92820323027547,372.0 M70.30940107675846,380.0 M86.30940107675846,380.0 Q90.92820323027547,372.0,94.92820323027547,372.0 Q98.92820323027547,372.0,94.30940107675846,380.0 L118.30940107675846,380.0 C122.30940107675846,380.0,119.99999999999997,384.0,115.99999999999997,384.0 C111.99999999999997,384.0,114.30940107675846,380.0,118.30940107675846,380.0 Q126.30940107675846,380.0,128.61880215351698,376.0 L135.54700538379248,364.0 L126.30940107675846,380.0 Q141.77350269189623,374.0,150.30940107675846,380.0 Q158.04145188432736,377.0,162.30940107675846,380.0 M178.30940107675846,380.0 M173.69059892324145,388.0 Q167.99999999999997,384.0,178.30940107675846,380.0 Q186.84529946162073,386.0,202.30940107675846,380.0 L214.30940107675846,380.0 C222.30940107675846,380.0,231.54700538379248,364.0,227.54700538379248,364.0 C223.54700538379248,364.0,214.30940107675846,380.0,222.30940107675846,380.0 Q224.30940107675846,380.0,233.54700538379248,364.0 M224.30940107675846,380.0 M240.30940107675846,380.0 C244.30940107675846,380.0,241.99999999999997,384.0,237.99999999999997,384.0 C233.99999999999997,384.0,236.30940107675846,380.0,240.30940107675846,380.0 L288.3094010767585,380.0 Q296.04145188432733,377.0,300.3094010767585,380.0 M316.3094010767585,380.0 C320.3094010767585,380.0,318.0,384.0,314.0,384.0 C310.0,384.0,312.3094010767585,380.0,316.3094010767585,380.0 Q324.04145188432733,377.0,328.3094010767585,380.0 Q332.92820323027547,372.0,336.92820323027547,372.0 C340.92820323027547,372.0,336.3094010767585,380.0,340.3094010767585,380.0 Q342.3094010767585,380.0,346.92820323027547,372.0 M342.3094010767585,380.0 M358.3094010767585,380.0 M367.54700538379245,364.0 Q370.92820323027547,372.0,358.3094010767585,380.0 L370.3094010767585,380.0 Q364.618802153517,376.0,374.92820323027547,372.0 M370.3094010767585,380.0 M386.3094010767585,380.0 L410.3094010767585,380.0 C418.3094010767585,380.0,422.92820323027547,372.0,418.92820323027547,372.0 C414.92820323027547,372.0,412.618802153517,376.0,414.3094010767585,380.0 M430.3094010767585,380.0 M10.30940107675849,420.0 L34.30940107675849,420.0 C42.30940107675846,420.0,37.69059892324145,428.0,33.69059892324145,428.0 C29.69059892324148,428.0,31.99999999999997,424.0,38.30940107675846,420.0 Q42.92820323027547,412.0,46.92820323027547,412.0 Q50.92820323027547,412.0,46.30940107675846,420.0 Q61.7735026918962,414.0,70.30940107675846,420.0 Q78.30940107675846,420.0,80.61880215351695,416.0 L82.92820323027547,412.0 L78.30940107675846,420.0 L102.30940107675846,420.0 C110.30940107675846,420.0,119.54700538379245,404.0,115.54700538379245,404.0 C111.54700538379245,404.0,106.92820323027547,412.0,106.30940107675846,420.0 Q114.04145188432733,417.0,118.30940107675846,420.0 C119.99999999999994,424.0,113.07179676972444,436.0,109.07179676972444,436.0 C105.07179676972444,436.0,109.69059892324145,428.0,118.30940107675846,420.0 M134.30940107675846,420.0 M138.92820323027547,412.0 L134.30940107675846,420.0 Q142.04145188432733,417.0,146.30940107675846,420.0 M162.30940107675846,420.0 C166.30940107675846,420.0,163.99999999999994,424.0,159.99999999999994,424.0 C155.99999999999994,424.0,158.30940107675846,420.0,162.30940107675846,420.0 Q170.04145188432733,417.0,174.30940107675846,420.0 M190.30940107675846,420.0 L238.30940107675846,420.0 Q246.04145188432733,417.0,250.30940107675846,420.0 M266.3094010767585,420.0 C267.99999999999994,424.0,265.69059892324145,428.0,261.69059892324145,428.0 C257.69059892324145,428.0,259.99999999999994,424.0,266.3094010767585,420.0 Q274.8452994616207,426.0,290.3094010767585,420.0 L302.3094010767585,420.0 M318.3094010767585,420.0 L309.0717967697244,436.0 L315.99999999999994,424.0 Q318.3094010767585,420.0,326.3094010767585,420.0 L350.3094010767585,420.0 Q358.3094010767585,420.0,360.618802153517,416.0 L362.92820323027547,412.0 L358.3094010767585,420.0 M374.3094010767585,420.0 C378.3094010767585,420.0,375.99999999999994,424.0,371.99999999999994,424.0 C367.99999999999994,424.0,370.3094010767585,420.0,374.3094010767585,420.0 L422.3094010767585,420.0 Q430.04145188432733,417.0,434.3094010767585,420.0 M450.3094010767585,420.0 M10.30940107675849,460.0 Q41.23760430703402,448.0,58.30940107675849,460.0 Q68.61880215351701,456.0,62.9282032302755,452.0 C68.61880215351701,456.0,58.30940107675849,460.0,68.30940107675849,460.0 C76.30940107675849,460.0,80.9282032302755,452.0,76.9282032302755,452.0 C72.9282032302755,452.0,70.61880215351701,456.0,72.30940107675849,460.0 Q80.04145188432736,457.0,84.30940107675849,460.0 C90.0,464.0,82.0,464.0,87.69059892324151,468.0 Q82.0,464.0,92.30940107675849,460.0 Q107.77350269189625,454.0,116.30940107675849,460.0 C118.0,464.0,115.69059892324151,468.0,111.69059892324151,468.0 C107.69059892324151,468.0,112.30940107675849,460.0,120.30940107675849,460.0 C124.30940107675849,460.0,119.69059892324151,468.0,123.69059892324151,468.0 Q127.69059892324151,468.0,132.3094010767585,460.0 L156.3094010767585,460.0 C164.3094010767585,460.0,159.6905989232415,468.0,155.6905989232415,468.0 C151.6905989232415,468.0,154.0,464.0,160.3094010767585,460.0 Q169.5470053837925,444.0,173.5470053837925,444.0 Q177.5470053837925,444.0,168.3094010767585,460.0 M184.3094010767585,460.0 C188.3094010767585,460.0,186.0,464.0,182.0,464.0 C178.0,464.0,180.3094010767585,460.0,184.3094010767585,460.0 L232.3094010767585,460.0 Q240.04145188432736,457.0,244.3094010767585,460.0 L248.9282032302755,452.0 M244.3094010767585,460.0 M260.3094010767585,460.0 C262.0,464.0,259.6905989232415,468.0,255.6905989232415,468.0 C251.6905989232415,468.0,254.0,464.0,260.3094010767585,460.0 Q275.77350269189617,454.0,284.30940107675843,460.0 Q287.69059892324145,468.0,275.0717967697244,476.0 C287.69059892324145,468.0,281.99999999999994,464.0,292.30940107675843,460.0 L316.30940107675843,460.0 C324.30940107675843,460.0,328.92820323027547,452.0,324.92820323027547,452.0 C320.92820323027547,452.0,318.618802153517,456.0,320.30940107675843,460.0 M336.30940107675843,460.0 M345.54700538379245,444.0 Q348.92820323027547,452.0,336.30940107675843,460.0 Q344.04145188432733,457.0,348.30940107675843,460.0 M364.30940107675843,460.0 L388.30940107675843,460.0 C396.30940107675843,460.0,405.54700538379245,444.0,401.54700538379245,444.0 C397.54700538379245,444.0,392.92820323027547,452.0,392.30940107675843,460.0 Q407.77350269189617,454.0,416.30940107675843,460.0 Q424.04145188432733,457.0,428.30940107675843,460.0 Q436.30940107675843,460.0,438.618802153517,456.0 L445.54700538379245,444.0 L436.30940107675843,460.0 M452.30940107675843,460.0 M10.30940107675849,500.0 L34.30940107675849,500.0 C42.30940107675849,500.0,37.69059892324145,508.0,33.69059892324145,508.0 C29.690598923241453,508.0,32.0,504.0,38.30940107675849,500.0 L47.54700538379251,484.0 M38.30940107675849,500.0 M54.30940107675849,500.0 Q58.92820323027547,492.0,62.92820323027547,492.0 Q66.92820323027547,492.0,62.30940107675849,500.0 Q70.8452994616207,506.0,86.30940107675849,500.0 L98.30940107675849,500.0 M114.30940107675849,500.0 L162.3094010767585,500.0 Q170.04145188432733,497.0,174.3094010767585,500.0 M190.3094010767585,500.0 M194.92820323027547,492.0 C184.61880215351698,496.0,190.3094010767585,500.0,194.3094010767585,500.0 C202.3094010767585,500.0,211.5470053837925,484.0,207.5470053837925,484.0 C203.5470053837925,484.0,198.92820323027547,492.0,198.3094010767585,500.0 Q206.8452994616207,506.0,222.3094010767585,500.0 L234.3094010767585,500.0 Q243.5470053837925,484.0,247.5470053837925,484.0 Q251.5470053837925,484.0,242.3094010767585,500.0 M258.30940107675855,500.0 C264.61880215351704,496.0,266.9282032302755,492.0,262.9282032302755,492.0 C258.9282032302755,492.0,256.61880215351704,496.0,258.30940107675855,500.0 Q266.0414518843274,497.0,270.30940107675855,500.0 L294.30940107675855,500.0 C302.30940107675855,500.0,311.54700538379257,484.0,307.54700538379257,484.0 C303.54700538379257,484.0,294.30940107675855,500.0,302.30940107675855,500.0 L350.30940107675855,500.0 Q358.0414518843274,497.0,362.30940107675855,500.0 Q371.54700538379257,484.0,375.54700538379257,484.0 Q379.54700538379257,484.0,370.30940107675855,500.0 Q378.0414518843274,497.0,382.30940107675855,500.0 C384.00000000000006,504.0,377.07179676972453,516.0,373.07179676972453,516.0 C369.07179676972453,516.0,373.6905989232415,508.0,382.30940107675855,500.0 M398.30940107675855,500.0 L389.07179676972453,516.0 L396.00000000000006,504.0 Q398.30940107675855,500.0,406.30940107675855,500.0 L430.30940107675855,500.0 Q438.30940107675855,500.0,440.61880215351704,496.0 L442.9282032302755,492.0 L438.30940107675855,500.0 M454.30940107675855,500.0 M10.30940107675849,540.0 M14.928203230275471,532.0 Q20.61880215351698,536.0,10.30940107675849,540.0 L34.30940107675849,540.0 C42.30940107675849,540.0,46.92820323027547,532.0,42.92820323027547,532.0 C38.92820323027547,532.0,36.61880215351698,536.0,38.30940107675849,540.0 C43.99999999999994,544.0,35.99999999999994,544.0,41.69059892324145,548.0 Q35.99999999999994,544.0,46.30940107675849,540.0 Q77.23760430703396,528.0,94.30940107675849,540.0 Q104.61880215351698,536.0,98.92820323027547,532.0 C104.61880215351698,536.0,96.61880215351698,536.0,102.30940107675849,540.0 Q106.92820323027547,532.0,110.92820323027547,532.0 Q114.92820323027547,532.0,110.30940107675849,540.0 M126.30940107675849,540.0 L117.07179676972447,556.0 L123.99999999999994,544.0 Q126.30940107675849,540.0,134.3094010767585,540.0 L158.3094010767585,540.0 M174.3094010767585,540.0 Q189.77350269189623,534.0,198.3094010767585,540.0 C199.99999999999994,544.0,197.69059892324145,548.0,193.69059892324145,548.0 C189.69059892324145,548.0,191.99999999999994,544.0,198.3094010767585,540.0 Q206.3094010767585,540.0,208.61880215351698,536.0 L215.54700538379245,524.0 L206.3094010767585,540.0 Q214.04145188432733,537.0,218.3094010767585,540.0 C219.9999999999999,544.0,213.07179676972441,556.0,209.07179676972447,556.0 C205.07179676972447,556.0,209.69059892324145,548.0,218.3094010767585,540.0 M234.30940107675843,540.0 M229.6905989232414,548.0 Q223.9999999999999,544.0,234.30940107675843,540.0 L258.30940107675843,540.0 Q267.5470053837924,524.0,271.5470053837924,524.0 Q275.5470053837924,524.0,266.30940107675843,540.0 M282.30940107675843,540.0 C283.9999999999999,544.0,281.6905989232414,548.0,277.6905989232414,548.0 C273.6905989232414,548.0,278.30940107675843,540.0,286.30940107675843,540.0 L334.30940107675843,540.0 Q342.30940107675843,540.0,344.6188021535169,536.0 L346.9282032302754,532.0 L342.30940107675843,540.0 M358.30940107675843,540.0 Q366.0414518843273,537.0,370.30940107675843,540.0 Q385.77350269189617,534.0,394.30940107675843,540.0 L398.9282032302754,532.0 M394.30940107675843,540.0 M410.30940107675843,540.0 M419.5470053837924,524.0 Q422.9282032302754,532.0,410.30940107675843,540.0 Q418.0414518843273,537.0,422.30940107675843,540.0 C423.9999999999999,544.0,421.6905989232414,548.0,417.6905989232414,548.0 C413.6905989232414,548.0,415.9999999999999,544.0,422.30940107675843,540.0 M438.30940107675843,540.0 M10.30940107675849,580.0 C16.618802153517038,576.0,18.92820323027553,572.0,14.928203230275528,572.0 C10.928203230275528,572.0,8.618802153517038,576.0,10.30940107675849,580.0 Q18.041451884327387,577.0,22.30940107675849,580.0 Q30.30940107675849,580.0,32.61880215351704,576.0 L34.92820323027553,572.0 L30.30940107675849,580.0 L54.30940107675849,580.0 C62.30940107675849,580.0,57.69059892324151,588.0,53.69059892324151,588.0 C49.69059892324151,588.0,52.0,584.0,58.30940107675849,580.0\" stroke=\"black\" fill=\"none\" stroke-width=\"1.3333333333333333\" stroke-linecap=\"round\" stroke-linejoin=\"round\" id=\"B86lPzm90\" />\n",
       "</defs>\n",
       "<use xlink:href=\"#B86lPzm90\" x=\"0\" y=\"0\" />\n",
       "</svg>"
      ],
      "text/plain": [
       "<drawsvg.drawing.Drawing at 0x11764e130>"
      ]
     },
     "metadata": {},
     "output_type": "display_data"
    }
   ],
   "source": [
    "show_grafoni_kerned_wrapped(\"I realized, the moment I fell into the fissure, that the book would not be destroyed as I had planned. It continued falling into that starry expanse of which I had only a fleeting glimpse. I have tried to speculate where it might have landed, but I must admit, however— such conjecture is futile. Still, the question of whose hands might someday hold my mist book are unsettling to me. I know that my apprehensions might never be allayed, and so I close, realizing that perhaps, the ending has not yet been written.\",shear_val=-1/sqrt(3))"
   ]
  },
  {
   "cell_type": "code",
   "execution_count": 856,
   "metadata": {},
   "outputs": [
    {
     "name": "stdout",
     "output_type": "stream",
     "text": [
      "dh uv2 r   lv1 uv1 l   k-beg mv2 m   mv2   t-beg mv3 uv1 m   lv1 uv1 n   uv1 lv1   b-beg uv1 l uv1 v-end   uv2 v r uv1 th uv1 ng   uv1 z   f uv1 n uv1 sh t-end   dh mv2 t   lv1 uv1 l   b-beg uv1   dh mv2   b-beg uv1 g uv1 n uv1 ng\n"
     ]
    },
    {
     "data": {
      "image/svg+xml": [
       "<?xml version=\"1.0\" encoding=\"UTF-8\"?>\n",
       "<svg xmlns=\"http://www.w3.org/2000/svg\" xmlns:xlink=\"http://www.w3.org/1999/xlink\"\n",
       "     width=\"213.23760430703402\" height=\"200.0\" viewBox=\"0 0 213.23760430703402 200.0\">\n",
       "<defs>\n",
       "<path d=\"M13.237604307034019,20.0 L4.000000000000005,36.0 L10.928203230275516,24.0 Q13.237604307034019,20.0,21.23760430703402,20.0 Q36.701705922171776,14.0,45.23760430703402,20.0 C51.54700538379252,16.0,53.85640646055103,12.0,49.85640646055103,12.0 C45.85640646055103,12.0,43.54700538379252,16.0,45.23760430703402,20.0 M61.23760430703402,20.0 Q65.50555349946515,23.0,73.23760430703402,20.0 Q80.9696551146029,17.0,85.23760430703402,20.0 C91.54700538379252,16.0,98.47520861406804,4.0,94.47520861406804,4.0 C90.47520861406804,4.0,85.85640646055103,12.0,85.23760430703402,20.0 M101.23760430703402,20.0 M105.85640646055103,12.0 Q95.54700538379252,16.0,101.23760430703402,20.0 L125.23760430703402,20.0 C129.23760430703402,20.0,126.92820323027551,24.0,122.92820323027551,24.0 C118.92820323027551,24.0,121.23760430703402,20.0,125.23760430703402,20.0 M141.23760430703402,20.0 L165.23760430703402,20.0 M181.23760430703402,20.0 M13.237604307034019,60.0 M17.856406460551025,52.0 L13.237604307034019,60.0 L61.23760430703402,60.0 Q68.96965511460289,57.0,73.23760430703402,60.0 C77.23760430703402,60.0,74.92820323027551,64.0,70.92820323027551,64.0 C66.92820323027551,64.0,69.23760430703402,60.0,73.23760430703402,60.0 M89.23760430703402,60.0 Q93.50555349946514,63.0,101.23760430703402,60.0 Q108.96965511460289,57.0,113.23760430703402,60.0 C114.92820323027551,64.0,112.61880215351701,68.0,108.61880215351701,68.0 C104.61880215351701,68.0,106.92820323027551,64.0,113.23760430703402,60.0 M129.23760430703402,60.0 Q136.9696551146029,57.0,141.23760430703402,60.0 Q145.50555349946512,63.0,153.23760430703402,60.0 M169.23760430703402,60.0 M178.475208614068,44.0 Q181.856406460551,52.0,169.23760430703402,60.0 Q176.9696551146029,57.0,181.23760430703402,60.0 C187.5470053837925,56.0,194.475208614068,44.0,190.475208614068,44.0 C186.475208614068,44.0,181.856406460551,52.0,181.23760430703402,60.0 Q188.9696551146029,57.0,193.23760430703402,60.0 Q196.61880215351698,68.0,184.0,76.0 M193.23760430703402,60.0 M209.23760430703402,60.0 M13.237604307034019,100.0 Q28.70170592217177,94.0,37.23760430703402,100.0 Q40.61880215351701,108.0,28.0,116.0 C40.61880215351701,108.0,34.928203230275514,104.0,45.23760430703402,100.0 C51.54700538379252,96.0,53.85640646055102,92.0,49.85640646055102,92.0 C45.85640646055102,92.0,43.54700538379252,96.0,45.23760430703402,100.0 Q52.969655114602894,97.0,57.23760430703402,100.0 L52.61880215351701,108.0 L54.928203230275514,104.0 Q57.23760430703402,100.0,65.23760430703402,100.0 Q72.96965511460289,97.0,77.23760430703402,100.0 C78.92820323027551,104.0,72.0,116.0,68.0,116.0 C64.0,116.0,68.61880215351701,108.0,77.23760430703402,100.0 M93.23760430703402,100.0 Q100.96965511460289,97.0,105.23760430703402,100.0 Q114.47520861406804,84.0,118.47520861406804,84.0 Q122.47520861406804,84.0,113.23760430703402,100.0 M129.23760430703402,100.0 Q134.92820323027553,104.0,124.61880215351701,108.0 C134.92820323027553,104.0,126.92820323027551,104.0,137.23760430703402,100.0 Q144.9696551146029,97.0,149.23760430703402,100.0 C150.92820323027553,104.0,148.618802153517,108.0,144.618802153517,108.0 C140.618802153517,108.0,142.92820323027553,104.0,149.23760430703402,100.0 Q156.9696551146029,97.0,161.23760430703402,100.0 Q156.618802153517,108.0,160.618802153517,108.0 Q164.618802153517,108.0,169.23760430703402,100.0 L173.85640646055103,92.0 M169.23760430703402,100.0 M185.23760430703402,100.0 M13.237604307034019,140.0 L4.0,156.0 L10.928203230275514,144.0 Q13.237604307034019,140.0,21.23760430703402,140.0 L45.23760430703402,140.0 Q53.23760430703402,140.0,55.54700538379252,136.0 L57.85640646055103,132.0 L53.23760430703402,140.0 M69.23760430703402,140.0 Q73.50555349946515,143.0,81.23760430703403,140.0 Q88.9696551146029,137.0,93.23760430703403,140.0 C99.54700538379254,136.0,106.47520861406804,124.0,102.47520861406804,124.0 C98.47520861406804,124.0,93.85640646055104,132.0,93.23760430703403,140.0 M109.23760430703403,140.0 M118.47520861406804,124.0 Q121.85640646055104,132.0,109.23760430703403,140.0 Q116.9696551146029,137.0,121.23760430703403,140.0 M137.23760430703402,140.0 L128.0,156.0 L134.92820323027553,144.0 Q137.23760430703402,140.0,145.23760430703402,140.0 L169.23760430703402,140.0 M185.23760430703402,140.0 M13.237604307034019,180.0 M22.475208614068023,164.0 Q25.856406460551028,172.0,13.237604307034019,180.0 Q20.969655114602887,177.0,25.23760430703402,180.0 C35.54700538379252,176.0,29.856406460551028,172.0,42.47520861406802,164.0 Q29.856406460551028,172.0,33.23760430703402,180.0 Q40.96965511460289,177.0,45.23760430703402,180.0 C46.928203230275514,184.0,44.61880215351701,188.0,40.61880215351701,188.0 C36.61880215351701,188.0,38.928203230275514,184.0,45.23760430703402,180.0 Q52.96965511460289,177.0,57.23760430703402,180.0 C58.928203230275514,184.0,52.0,196.0,48.0,196.0 C44.0,196.0,48.61880215351701,188.0,57.23760430703402,180.0\" stroke=\"black\" fill=\"none\" stroke-width=\"1.3333333333333333\" stroke-linecap=\"round\" stroke-linejoin=\"round\" id=\"JxpLbXGy0\" />\n",
       "</defs>\n",
       "<use xlink:href=\"#JxpLbXGy0\" x=\"0\" y=\"0\" />\n",
       "</svg>"
      ],
      "text/plain": [
       "<drawsvg.drawing.Drawing at 0x1176cf190>"
      ]
     },
     "metadata": {},
     "output_type": "display_data"
    }
   ],
   "source": [
    "show_grafoni_kerned_wrapped(\"there will come a time when you believe everything is finished that will be the beginning\",shear_val=-1/sqrt(3),wrap=40)"
   ]
  },
  {
   "cell_type": "markdown",
   "metadata": {},
   "source": [
    "#potential ligatures\n",
    "* k lv1\n",
    "* th r\n",
    "* ~~f r~~\n",
    "* ~~f l~~\n",
    "* s m\n",
    "* s n\n",
    "* ~~s f~~\n",
    "* k sh\n",
    "* sh r\n",
    "* m p\n",
    "* m p\n",
    "* ~~n t~~\n",
    "* ~~n d~~"
   ]
  },
  {
   "cell_type": "code",
   "execution_count": 1050,
   "metadata": {},
   "outputs": [
    {
     "data": {
      "image/svg+xml": [
       "<?xml version=\"1.0\" encoding=\"UTF-8\"?>\n",
       "<svg xmlns=\"http://www.w3.org/2000/svg\" xmlns:xlink=\"http://www.w3.org/1999/xlink\"\n",
       "     width=\"20\" height=\"40\" viewBox=\"0 0 20 40\">\n",
       "<defs>\n",
       "<path d=\"M8,20 M8,36 Q16,28,8,20 C12,12,12,4,8,4 C4,4,4,12,8,20\" stroke=\"black\" fill=\"none\" stroke-width=\"1.3333333333333333\" stroke-linecap=\"round\" stroke-linejoin=\"round\" id=\"G0e6Q3t80\" />\n",
       "</defs>\n",
       "<use xlink:href=\"#G0e6Q3t80\" x=\"0\" y=\"0\" />\n",
       "</svg>"
      ],
      "text/plain": [
       "<drawsvg.drawing.Drawing at 0x1177704f0>"
      ]
     },
     "metadata": {},
     "output_type": "display_data"
    }
   ],
   "source": [
    "show_kern(\"f-beg\",\"r\",-1,-1)"
   ]
  },
  {
   "cell_type": "code",
   "execution_count": 1049,
   "metadata": {},
   "outputs": [
    {
     "data": {
      "text/plain": [
       "\"[('move', 0, 4), ('quadratic', 2, 2, 0, 0), ('cubic', 1, -2, 1, -8, 0, -8), ('cubic', -1, -8, -1, -4, 0, 0)]\""
      ]
     },
     "execution_count": 1049,
     "metadata": {},
     "output_type": "execute_result"
    }
   ],
   "source": [
    "def print_pair(l,ll):\n",
    "    return str(concat(letter_forms[l],letter_forms[ll]))\n",
    "\n",
    "print_pair(\"f-beg\",\"l\")"
   ]
  },
  {
   "cell_type": "code",
   "execution_count": 1074,
   "metadata": {},
   "outputs": [],
   "source": [
    "ligatures = {\n",
    "    \"n_t\": [('cubic',1,2,1,4,0,4),('cubic',-1,4,-1,2,0,0),('quadratic',1,-2,1,-4),('line',1,0)],\n",
    "    \"n_d\": [('cubic',1,2,1,4,0,4),('cubic',-1,4,-1,2,0,0),('quadratic',1,-2,1,-4),('line',1,-8),('line',1,0)],\n",
    "    \"th_uv1\": [('line',0,4),('line',0,2),('cubic',0,0,1*vowel_scale,-1*vowel_scale,2*vowel_scale,0)],\n",
    "    \"th_uv2\": [('line',0,4),('line',0,2),('cubic',0,0,2*vowel_scale,-2*vowel_scale,4*vowel_scale,0)],\n",
    "    \"th_uv3\": [('line',0,4),('line',0,2),('cubic',0,0,4*vowel_scale,-4*vowel_scale,8*vowel_scale,0)],\n",
    "    \"dh_uv1\": [('line',0,8),('line',0,2),('cubic',0,0,1*vowel_scale,-1*vowel_scale,2*vowel_scale,0)],\n",
    "    \"dh_uv2\": [('line',0,8),('line',0,2),('cubic',0,0,2*vowel_scale,-2*vowel_scale,4*vowel_scale,0)],\n",
    "    \"dh_uv3\": [('line',0,8),('line',0,2),('cubic',0,0,4*vowel_scale,-4*vowel_scale,8*vowel_scale,0)],\n",
    "    \"s_f\": [('quadratic', 0, -4, 1, -4), ('quadratic', 2, -4, 2, 0), ('quadratic', 2, 4, 1, 4), ('cubic', 2, 4, 2, 0, 3, 0)],\n",
    "    \"v_r\": [('quadratic', 2, 4, 0, 8), ('cubic', 2, 4, 0, 2, 1, 0), ('cubic', 2, -2, 2, -4, 1, -4), ('cubic', 0, -4, 0, -2, 1, 0)],\n",
    "    \"v_l\": [('quadratic', 2, 4, 0, 8), ('cubic', 2, 4, 0, 2, 1, 0), ('cubic', 2, -4, 2, -8, 1, -8), ('cubic', 0, -8, 0, -4, 1, 0)],\n",
    "    \"f_r\": [('quadratic', 2, 2, 0, 4), ('cubic', 2, 2, 0, 1, 1, 0), ('cubic', 2, -2, 2, -4, 1, -4), ('cubic', 0, -4, 0, -2, 1, 0)],\n",
    "    \"f_l\": [('quadratic', 2, 2, 0, 4), ('cubic', 2, 2, 0, 1, 1, 0), ('cubic', 2, -4, 2, -8, 1, -8), ('cubic', 0, -8, 0, -4, 1, 0)],\n",
    "    \"f-beg_r\": [('move', 0, 4), ('quadratic', 2, 3, 2, 0), ('cubic', 2, -2, 2, -4, 1, -4), ('cubic', 0, -4, 0, -2, 2, 0)],\n",
    "    \"f-beg_l\": [('move', 0, 4), ('quadratic', 2, 3, 2, 0), ('cubic', 2, -4, 2, -8, 1, -8), ('cubic', 0, -8, 0, -4, 2, 0)],\n",
    "}"
   ]
  },
  {
   "cell_type": "code",
   "execution_count": 1075,
   "metadata": {},
   "outputs": [
    {
     "data": {
      "image/svg+xml": [
       "<?xml version=\"1.0\" encoding=\"UTF-8\"?>\n",
       "<svg xmlns=\"http://www.w3.org/2000/svg\" xmlns:xlink=\"http://www.w3.org/1999/xlink\"\n",
       "     width=\"16\" height=\"56\" viewBox=\"0 0 16 56\">\n",
       "<defs>\n",
       "<path d=\"M4,36 M4,52 Q12,48,12,36 C12,20,12,4,8,4 C4,4,4,20,12,36\" stroke=\"black\" fill=\"none\" stroke-width=\"1.3333333333333333\" stroke-linecap=\"round\" stroke-linejoin=\"round\" id=\"hOOuFbUH0\" />\n",
       "</defs>\n",
       "<use xlink:href=\"#hOOuFbUH0\" x=\"0\" y=\"0\" />\n",
       "</svg>"
      ],
      "text/plain": [
       "<drawsvg.drawing.Drawing at 0x117745ca0>"
      ]
     },
     "metadata": {},
     "output_type": "display_data"
    }
   ],
   "source": [
    "display(svgStrokes([('move',0,0)]+ligatures[\"f-beg_l\"]))"
   ]
  },
  {
   "cell_type": "code",
   "execution_count": 1053,
   "metadata": {},
   "outputs": [
    {
     "data": {
      "text/plain": [
       "['s', 't', 'uv3', 'n_d', 'z', ' ', 's', 'uv1', 'ng']"
      ]
     },
     "execution_count": 1053,
     "metadata": {},
     "output_type": "execute_result"
    }
   ],
   "source": [
    "def make_ligatures(in_list):\n",
    "    out = []\n",
    "    last = \"None\"\n",
    "    for c in in_list:\n",
    "        potential = last + \"_\" + c\n",
    "        if potential in ligatures:\n",
    "            out.append(potential) \n",
    "            last = \"None\"\n",
    "        else:\n",
    "            if last != \"None\":\n",
    "                out.append(last)\n",
    "            last = c\n",
    "    if last != \"None\":\n",
    "        out.append(last)\n",
    "    return out\n",
    "\n",
    "make_ligatures([\"s\", \"t\", \"uv3\", \"n\", \"d\", \"z\", \" \", \"s\", \"uv1\", \"ng\"])"
   ]
  },
  {
   "cell_type": "code",
   "execution_count": 1054,
   "metadata": {},
   "outputs": [
    {
     "data": {
      "text/plain": [
       "['s', 't', 'uv3', 'n', 'd']"
      ]
     },
     "execution_count": 1054,
     "metadata": {},
     "output_type": "execute_result"
    }
   ],
   "source": [
    "[\"s\", \"t\", \"uv3\", \"n\", \"d\"]"
   ]
  },
  {
   "cell_type": "code",
   "execution_count": 1055,
   "metadata": {},
   "outputs": [],
   "source": [
    "def first(string):\n",
    "    parts = string.split(\"_\")\n",
    "    if len(parts) == 0:\n",
    "        return \" \"\n",
    "    else:\n",
    "        return parts[0]\n",
    "\n",
    "def last(string):\n",
    "    parts = string.split(\"_\")\n",
    "    if len(parts) == 0:\n",
    "        return \" \"\n",
    "    else:\n",
    "        return parts[-1]"
   ]
  },
  {
   "cell_type": "code",
   "execution_count": 1056,
   "metadata": {},
   "outputs": [],
   "source": [
    "def show_grafoni_kerned_wrapped_ligs(in_string,wrap = 100,shear_val=-1,line_space=20,v_scale=0.5):\n",
    "    chars = in_string\n",
    "    if isinstance(chars, str):\n",
    "        chars = make_ligatures(process_ends(grafoni_spell(in_string)))\n",
    "    print(\" \".join(chars))\n",
    "    out = [('move',0,0)]\n",
    "    last_char = \" \"\n",
    "    for l in chars:\n",
    "        if l in letter_forms:\n",
    "            l_kern,r_kern = kerning[(last(last_char),first(l))]\n",
    "            last_char = l\n",
    "            out = concat(r_extend(out,l_kern),l_extend(letter_forms[l],r_kern))\n",
    "        elif l in ligatures:\n",
    "            l_kern,r_kern = kerning[(last(last_char),first(l))]\n",
    "            last_char = l\n",
    "            out = concat(r_extend(out,l_kern),l_extend(ligatures[l],r_kern))\n",
    "        else:\n",
    "            print(\"error: \" + l)\n",
    "        if last_char == \" \"  and out[-1][-2] + shear_val*v_scale*out[-1][-1] > wrap:\n",
    "            out.append(('move',-shear_val*v_scale*(out[-1][-1]+line_space),out[-1][-1]+line_space))\n",
    "    return display(svgStrokes(shear(scale(out,1,v_scale),by=shear_val)))"
   ]
  },
  {
   "cell_type": "code",
   "execution_count": 1076,
   "metadata": {},
   "outputs": [
    {
     "name": "stdout",
     "output_type": "stream",
     "text": [
      "s t uv3 n_d z   v uv2 n_t uv1 ng   dh mv2   dh_uv2 r   s_f uv1 r   f-beg_r uv3 n s   f-beg_l mv3 uv1 t-end\n"
     ]
    },
    {
     "data": {
      "image/svg+xml": [
       "<?xml version=\"1.0\" encoding=\"UTF-8\"?>\n",
       "<svg xmlns=\"http://www.w3.org/2000/svg\" xmlns:xlink=\"http://www.w3.org/1999/xlink\"\n",
       "     width=\"460.0\" height=\"40.0\" viewBox=\"0 0 460.0 40.0\">\n",
       "<defs>\n",
       "<path d=\"M4.0,20.0 Q12.0,12.0,16.0,12.0 Q20.0,12.0,12.0,20.0 Q20.0,20.0,24.0,16.0 L28.0,12.0 L20.0,20.0 Q56.0,8.0,68.0,20.0 C68.0,24.0,64.0,28.0,60.0,28.0 C56.0,28.0,60.0,24.0,68.0,20.0 Q76.0,16.0,80.0,12.0 L88.0,4.0 Q72.0,20.0,76.0,20.0 C80.0,20.0,96.0,4.0,100.0,4.0 Q104.0,4.0,88.0,20.0 M104.0,20.0 Q104.0,28.0,88.0,36.0 C104.0,28.0,100.0,24.0,112.0,20.0 Q130.0,14.0,136.0,20.0 C136.0,24.0,132.0,28.0,128.0,28.0 C124.0,28.0,128.0,24.0,136.0,20.0 Q144.0,16.0,148.0,12.0 L140.0,20.0 Q149.0,17.0,152.0,20.0 C152.0,24.0,140.0,36.0,136.0,36.0 C132.0,36.0,140.0,28.0,152.0,20.0 M168.0,20.0 L152.0,36.0 L164.0,24.0 Q168.0,20.0,176.0,20.0 L200.0,20.0 M216.0,20.0 L200.0,36.0 L212.0,24.0 C216.0,20.0,234.0,14.0,240.0,20.0 C248.0,16.0,252.0,12.0,248.0,12.0 C244.0,12.0,240.0,16.0,240.0,20.0 M256.0,20.0 Q264.0,12.0,268.0,12.0 Q272.0,12.0,264.0,20.0 Q256.0,28.0,252.0,28.0 C256.0,28.0,264.0,20.0,268.0,20.0 Q277.0,17.0,280.0,20.0 C288.0,16.0,292.0,12.0,288.0,12.0 C284.0,12.0,280.0,16.0,280.0,20.0 M296.0,20.0 M288.0,28.0 Q298.0,26.0,304.0,20.0 C308.0,16.0,312.0,12.0,308.0,12.0 C304.0,12.0,300.0,16.0,304.0,20.0 Q340.0,8.0,352.0,20.0 C352.0,24.0,348.0,28.0,344.0,28.0 C340.0,28.0,344.0,24.0,352.0,20.0 Q360.0,12.0,364.0,12.0 Q368.0,12.0,360.0,20.0 M376.0,20.0 M368.0,28.0 Q378.0,26.0,384.0,20.0 C392.0,12.0,400.0,4.0,396.0,4.0 C392.0,4.0,376.0,20.0,388.0,20.0 L436.0,20.0 Q445.0,17.0,448.0,20.0 L456.0,12.0 M448.0,20.0\" stroke=\"black\" fill=\"none\" stroke-width=\"1.3333333333333333\" stroke-linecap=\"round\" stroke-linejoin=\"round\" id=\"AvRK88Np0\" />\n",
       "</defs>\n",
       "<use xlink:href=\"#AvRK88Np0\" x=\"0\" y=\"0\" />\n",
       "</svg>"
      ],
      "text/plain": [
       "<drawsvg.drawing.Drawing at 0x1176ddeb0>"
      ]
     },
     "metadata": {},
     "output_type": "display_data"
    }
   ],
   "source": [
    "show_grafoni_kerned_wrapped_ligs(\"stands venting the there sphere france flight\")"
   ]
  },
  {
   "cell_type": "code",
   "execution_count": 1073,
   "metadata": {},
   "outputs": [
    {
     "name": "stdout",
     "output_type": "stream",
     "text": [
      "s t uv3 n d z   v uv2 n t uv1 ng   dh mv2   dh uv2 r   s f uv1 r   f-beg r uv3 n s   f-beg l mv3 uv1 t-end\n"
     ]
    },
    {
     "data": {
      "image/svg+xml": [
       "<?xml version=\"1.0\" encoding=\"UTF-8\"?>\n",
       "<svg xmlns=\"http://www.w3.org/2000/svg\" xmlns:xlink=\"http://www.w3.org/1999/xlink\"\n",
       "     width=\"464.0\" height=\"40.0\" viewBox=\"0 0 464.0 40.0\">\n",
       "<defs>\n",
       "<path d=\"M4.0,20.0 Q12.0,12.0,16.0,12.0 Q20.0,12.0,12.0,20.0 Q20.0,20.0,24.0,16.0 L28.0,12.0 L20.0,20.0 Q56.0,8.0,68.0,20.0 C68.0,24.0,64.0,28.0,60.0,28.0 C56.0,28.0,60.0,24.0,68.0,20.0 Q76.0,20.0,80.0,16.0 L92.0,4.0 Q76.0,20.0,80.0,20.0 C84.0,20.0,100.0,4.0,104.0,4.0 Q108.0,4.0,92.0,20.0 M108.0,20.0 Q108.0,28.0,92.0,36.0 C108.0,28.0,104.0,24.0,116.0,20.0 Q134.0,14.0,140.0,20.0 C140.0,24.0,136.0,28.0,132.0,28.0 C128.0,28.0,132.0,24.0,140.0,20.0 Q148.0,20.0,152.0,16.0 L156.0,12.0 L148.0,20.0 Q157.0,17.0,160.0,20.0 C160.0,24.0,148.0,36.0,144.0,36.0 C140.0,36.0,148.0,28.0,160.0,20.0 M176.0,20.0 L160.0,36.0 L172.0,24.0 Q176.0,20.0,184.0,20.0 L208.0,20.0 M224.0,20.0 L208.0,36.0 L220.0,24.0 Q224.0,20.0,232.0,20.0 Q250.0,14.0,256.0,20.0 C264.0,16.0,268.0,12.0,264.0,12.0 C260.0,12.0,256.0,16.0,256.0,20.0 M272.0,20.0 Q280.0,12.0,284.0,12.0 Q288.0,12.0,280.0,20.0 Q284.0,24.0,272.0,28.0 C284.0,24.0,276.0,24.0,288.0,20.0 Q297.0,17.0,300.0,20.0 C308.0,16.0,312.0,12.0,308.0,12.0 C304.0,12.0,300.0,16.0,300.0,20.0 M316.0,20.0 M308.0,28.0 Q320.0,24.0,316.0,20.0 C324.0,16.0,328.0,12.0,324.0,12.0 C320.0,12.0,316.0,16.0,316.0,20.0 Q352.0,8.0,364.0,20.0 C364.0,24.0,360.0,28.0,356.0,28.0 C352.0,28.0,356.0,24.0,364.0,20.0 Q372.0,12.0,376.0,12.0 Q380.0,12.0,372.0,20.0 M388.0,20.0 M380.0,28.0 Q392.0,24.0,388.0,20.0 C396.0,16.0,408.0,4.0,404.0,4.0 C400.0,4.0,384.0,20.0,392.0,20.0 L440.0,20.0 Q449.0,17.0,452.0,20.0 L460.0,12.0 M452.0,20.0\" stroke=\"black\" fill=\"none\" stroke-width=\"1.3333333333333333\" stroke-linecap=\"round\" stroke-linejoin=\"round\" id=\"bKNUymqF0\" />\n",
       "</defs>\n",
       "<use xlink:href=\"#bKNUymqF0\" x=\"0\" y=\"0\" />\n",
       "</svg>"
      ],
      "text/plain": [
       "<drawsvg.drawing.Drawing at 0x117770610>"
      ]
     },
     "metadata": {},
     "output_type": "display_data"
    }
   ],
   "source": [
    "show_grafoni_kerned_wrapped(\"stands venting the there sphere france flight\")"
   ]
  },
  {
   "cell_type": "code",
   "execution_count": 1059,
   "metadata": {},
   "outputs": [
    {
     "name": "stdout",
     "output_type": "stream",
     "text": [
      "dh_uv2 r   lv1 uv1 l   k-beg mv2 m   mv2   t-beg mv3 uv1 m   lv1 uv1 n   uv1 lv1   b-beg uv1 l uv1 v-end   uv2 v_r uv1 th_uv1 ng   uv1 z   f uv1 n uv1 sh t-end   dh mv2 t   lv1 uv1 l   b-beg uv1   dh mv2   b-beg uv1 g uv1 n uv1 ng\n"
     ]
    },
    {
     "data": {
      "image/svg+xml": [
       "<?xml version=\"1.0\" encoding=\"UTF-8\"?>\n",
       "<svg xmlns=\"http://www.w3.org/2000/svg\" xmlns:xlink=\"http://www.w3.org/1999/xlink\"\n",
       "     width=\"177.23760430703402\" height=\"200.0\" viewBox=\"0 0 177.23760430703402 200.0\">\n",
       "<defs>\n",
       "<path d=\"M13.237604307034013,20.0 L4.0,36.0 L10.92820323027551,24.0 C13.237604307034013,20.0,28.70170592217177,14.0,37.23760430703401,20.0 C43.547005383792516,16.0,45.85640646055102,12.0,41.85640646055102,12.0 C37.85640646055102,12.0,35.547005383792516,16.0,37.23760430703401,20.0 M53.23760430703401,20.0 Q57.50555349946514,23.0,65.23760430703402,20.0 Q72.96965511460289,17.0,77.23760430703402,20.0 C83.54700538379252,16.0,90.47520861406804,4.0,86.47520861406804,4.0 C82.47520861406804,4.0,77.85640646055103,12.0,77.23760430703402,20.0 M93.23760430703402,20.0 M97.85640646055103,12.0 Q87.54700538379252,16.0,93.23760430703402,20.0 L117.23760430703402,20.0 C121.23760430703402,20.0,118.92820323027551,24.0,114.92820323027551,24.0 C110.92820323027551,24.0,113.23760430703402,20.0,117.23760430703402,20.0 M133.23760430703402,20.0 L157.23760430703402,20.0 M173.23760430703402,20.0 M13.237604307034013,60.0 M17.85640646055102,52.0 L13.237604307034013,60.0 L61.23760430703401,60.0 Q68.96965511460289,57.0,73.23760430703402,60.0 C77.23760430703402,60.0,74.92820323027551,64.0,70.92820323027551,64.0 C66.9282032302755,64.0,69.23760430703402,60.0,73.23760430703402,60.0 M89.23760430703402,60.0 Q93.50555349946514,63.0,101.23760430703402,60.0 Q108.96965511460289,57.0,113.23760430703402,60.0 C114.92820323027551,64.0,112.61880215351701,68.0,108.61880215351701,68.0 C104.61880215351701,68.0,106.92820323027551,64.0,113.23760430703402,60.0 M129.23760430703402,60.0 Q136.9696551146029,57.0,141.237604307034,60.0 Q145.50555349946512,63.0,153.23760430703402,60.0 M169.23760430703402,60.0 M13.237604307034013,100.0 M22.475208614068023,84.0 Q25.856406460551014,92.0,13.237604307034013,100.0 Q20.969655114602887,97.0,25.23760430703401,100.0 C31.547005383792516,96.0,38.47520861406802,84.0,34.47520861406802,84.0 C30.475208614068023,84.0,25.856406460551014,92.0,25.23760430703401,100.0 Q32.96965511460289,97.0,37.23760430703401,100.0 Q40.618802153517,108.0,27.999999999999993,116.0 M37.23760430703401,100.0 M53.23760430703401,100.0 Q68.70170592217177,94.0,77.23760430703402,100.0 Q80.61880215351701,108.0,68.0,116.0 C80.61880215351701,108.0,74.92820323027551,104.0,81.23760430703402,100.0 C87.54700538379252,96.0,89.85640646055103,92.0,85.85640646055103,92.0 C81.85640646055103,92.0,79.54700538379252,96.0,81.23760430703402,100.0 Q88.96965511460289,97.0,93.23760430703402,100.0 L88.61880215351701,108.0 L90.92820323027551,104.0 C93.23760430703402,100.0,100.96965511460289,97.0,105.23760430703402,100.0 C106.92820323027551,104.0,100.0,116.0,96.0,116.0 C92.0,116.0,96.61880215351701,108.0,105.23760430703402,100.0 M121.23760430703402,100.0 Q128.9696551146029,97.0,133.23760430703402,100.0 Q142.47520861406804,84.0,146.47520861406804,84.0 Q150.47520861406804,84.0,141.23760430703402,100.0 M157.23760430703402,100.0 M13.237604307034013,140.0 Q18.928203230275507,144.0,8.618802153517004,148.0 C18.928203230275507,144.0,10.928203230275509,144.0,21.23760430703401,140.0 Q28.96965511460288,137.0,33.23760430703401,140.0 C34.92820323027551,144.0,32.618802153517,148.0,28.618802153517002,148.0 C24.618802153517002,148.0,26.928203230275507,144.0,33.23760430703401,140.0 Q40.96965511460288,137.0,45.23760430703401,140.0 Q40.618802153517,148.0,44.618802153517,148.0 Q48.618802153517,148.0,53.23760430703401,140.0 L57.85640646055102,132.0 M53.23760430703401,140.0 M69.23760430703402,140.0 L59.99999999999999,156.0 L66.9282032302755,144.0 Q69.23760430703402,140.0,77.23760430703403,140.0 L101.23760430703403,140.0 Q109.23760430703403,140.0,111.54700538379254,136.0 L113.85640646055104,132.0 L109.23760430703403,140.0 M125.23760430703403,140.0 Q129.50555349946515,143.0,137.23760430703402,140.0 Q144.96965511460292,137.0,149.23760430703402,140.0 C155.54700538379254,136.0,162.47520861406804,124.0,158.47520861406804,124.0 C154.47520861406804,124.0,149.85640646055106,132.0,149.23760430703402,140.0 M165.23760430703402,140.0 M13.237604307034013,180.0 M22.475208614068016,164.0 Q25.85640646055102,172.0,13.237604307034013,180.0 Q20.96965511460288,177.0,25.23760430703401,180.0 M41.23760430703401,180.0 L31.999999999999993,196.0 L38.92820323027551,184.0 Q41.23760430703401,180.0,49.23760430703401,180.0 L73.23760430703402,180.0 M89.23760430703402,180.0 M98.47520861406802,164.0 Q101.85640646055103,172.0,89.23760430703402,180.0 Q96.96965511460289,177.0,101.23760430703402,180.0 C111.54700538379252,176.0,105.85640646055103,172.0,118.47520861406802,164.0 Q105.85640646055103,172.0,109.23760430703402,180.0 Q116.96965511460289,177.0,121.23760430703402,180.0 C122.92820323027551,184.0,120.61880215351701,188.0,116.61880215351701,188.0 C112.61880215351701,188.0,114.92820323027551,184.0,121.23760430703402,180.0 Q128.9696551146029,177.0,133.23760430703402,180.0 C134.9282032302755,184.0,128.0,196.0,124.0,196.0 C120.0,196.0,124.61880215351701,188.0,133.23760430703402,180.0\" stroke=\"black\" fill=\"none\" stroke-width=\"1.3333333333333333\" stroke-linecap=\"round\" stroke-linejoin=\"round\" id=\"vIu9qTjg0\" />\n",
       "</defs>\n",
       "<use xlink:href=\"#vIu9qTjg0\" x=\"0\" y=\"0\" />\n",
       "</svg>"
      ],
      "text/plain": [
       "<drawsvg.drawing.Drawing at 0x117745c10>"
      ]
     },
     "metadata": {},
     "output_type": "display_data"
    }
   ],
   "source": [
    "show_grafoni_kerned_wrapped_ligs(\"there will come a time when you believe everything is finished that will be the beginning\",shear_val=-1/sqrt(3),wrap=35)"
   ]
  },
  {
   "cell_type": "code",
   "execution_count": 1060,
   "metadata": {},
   "outputs": [
    {
     "name": "stdout",
     "output_type": "stream",
     "text": [
      "dh uv2 r   lv1 uv1 l   k-beg mv2 m   mv2   t-beg mv3 uv1 m   lv1 uv1 n   uv1 lv1   b-beg uv1 l uv1 v-end   uv2 v r uv1 th uv1 ng   uv1 z   f uv1 n uv1 sh t-end   dh mv2 t   lv1 uv1 l   b-beg uv1   dh mv2   b-beg uv1 g uv1 n uv1 ng\n"
     ]
    },
    {
     "data": {
      "image/svg+xml": [
       "<?xml version=\"1.0\" encoding=\"UTF-8\"?>\n",
       "<svg xmlns=\"http://www.w3.org/2000/svg\" xmlns:xlink=\"http://www.w3.org/1999/xlink\"\n",
       "     width=\"185.23760430703402\" height=\"200.0\" viewBox=\"0 0 185.23760430703402 200.0\">\n",
       "<defs>\n",
       "<path d=\"M13.237604307034013,20.0 L4.0,36.0 L10.92820323027551,24.0 Q13.237604307034013,20.0,21.23760430703401,20.0 Q36.70170592217177,14.0,45.23760430703401,20.0 C51.547005383792516,16.0,53.85640646055102,12.0,49.85640646055102,12.0 C45.85640646055102,12.0,43.547005383792516,16.0,45.23760430703401,20.0 M61.23760430703401,20.0 Q65.50555349946514,23.0,73.23760430703402,20.0 Q80.9696551146029,17.0,85.23760430703402,20.0 C91.54700538379252,16.0,98.47520861406804,4.0,94.47520861406804,4.0 C90.47520861406804,4.0,85.85640646055103,12.0,85.23760430703402,20.0 M101.23760430703402,20.0 M105.85640646055103,12.0 Q95.54700538379252,16.0,101.23760430703402,20.0 L125.23760430703402,20.0 C129.23760430703402,20.0,126.92820323027551,24.0,122.92820323027551,24.0 C118.92820323027551,24.0,121.23760430703402,20.0,125.23760430703402,20.0 M141.23760430703402,20.0 L165.23760430703402,20.0 M181.23760430703402,20.0 M13.237604307034013,60.0 M17.85640646055102,52.0 L13.237604307034013,60.0 L61.23760430703401,60.0 Q68.96965511460289,57.0,73.23760430703402,60.0 C77.23760430703402,60.0,74.92820323027551,64.0,70.92820323027551,64.0 C66.9282032302755,64.0,69.23760430703402,60.0,73.23760430703402,60.0 M89.23760430703402,60.0 Q93.50555349946514,63.0,101.23760430703402,60.0 Q108.96965511460289,57.0,113.23760430703402,60.0 C114.92820323027551,64.0,112.61880215351701,68.0,108.61880215351701,68.0 C104.61880215351701,68.0,106.92820323027551,64.0,113.23760430703402,60.0 M129.23760430703402,60.0 Q136.9696551146029,57.0,141.237604307034,60.0 Q145.50555349946512,63.0,153.23760430703402,60.0 M169.23760430703402,60.0 M13.237604307034013,100.0 M22.475208614068023,84.0 Q25.856406460551014,92.0,13.237604307034013,100.0 Q20.969655114602887,97.0,25.23760430703401,100.0 C31.547005383792516,96.0,38.47520861406802,84.0,34.47520861406802,84.0 C30.475208614068023,84.0,25.856406460551014,92.0,25.23760430703401,100.0 Q32.96965511460289,97.0,37.23760430703401,100.0 Q40.618802153517,108.0,27.999999999999993,116.0 M37.23760430703401,100.0 M53.23760430703401,100.0 Q68.70170592217177,94.0,77.23760430703402,100.0 Q80.61880215351701,108.0,68.0,116.0 C80.61880215351701,108.0,74.92820323027551,104.0,85.23760430703402,100.0 C91.54700538379252,96.0,93.85640646055103,92.0,89.85640646055103,92.0 C85.85640646055103,92.0,83.54700538379252,96.0,85.23760430703402,100.0 Q92.96965511460289,97.0,97.23760430703402,100.0 L92.61880215351701,108.0 L94.92820323027551,104.0 Q97.23760430703402,100.0,105.23760430703402,100.0 Q112.96965511460289,97.0,117.23760430703402,100.0 C118.92820323027551,104.0,112.0,116.0,108.0,116.0 C104.0,116.0,108.61880215351701,108.0,117.23760430703402,100.0 M133.23760430703402,100.0 Q140.9696551146029,97.0,145.23760430703402,100.0 Q154.47520861406804,84.0,158.47520861406804,84.0 Q162.47520861406804,84.0,153.23760430703402,100.0 M169.23760430703402,100.0 M13.237604307034013,140.0 Q18.928203230275507,144.0,8.618802153517004,148.0 C18.928203230275507,144.0,10.928203230275509,144.0,21.23760430703401,140.0 Q28.96965511460288,137.0,33.23760430703401,140.0 C34.92820323027551,144.0,32.618802153517,148.0,28.618802153517002,148.0 C24.618802153517002,148.0,26.928203230275507,144.0,33.23760430703401,140.0 Q40.96965511460288,137.0,45.23760430703401,140.0 Q40.618802153517,148.0,44.618802153517,148.0 Q48.618802153517,148.0,53.23760430703401,140.0 L57.85640646055102,132.0 M53.23760430703401,140.0 M69.23760430703402,140.0 L59.99999999999999,156.0 L66.9282032302755,144.0 Q69.23760430703402,140.0,77.23760430703403,140.0 L101.23760430703403,140.0 Q109.23760430703403,140.0,111.54700538379254,136.0 L113.85640646055104,132.0 L109.23760430703403,140.0 M125.23760430703403,140.0 Q129.50555349946515,143.0,137.23760430703402,140.0 Q144.96965511460292,137.0,149.23760430703402,140.0 C155.54700538379254,136.0,162.47520861406804,124.0,158.47520861406804,124.0 C154.47520861406804,124.0,149.85640646055106,132.0,149.23760430703402,140.0 M165.23760430703402,140.0 M13.237604307034013,180.0 M22.475208614068016,164.0 Q25.85640646055102,172.0,13.237604307034013,180.0 Q20.96965511460288,177.0,25.23760430703401,180.0 M41.23760430703401,180.0 L31.999999999999993,196.0 L38.92820323027551,184.0 Q41.23760430703401,180.0,49.23760430703401,180.0 L73.23760430703402,180.0 M89.23760430703402,180.0 M98.47520861406802,164.0 Q101.85640646055103,172.0,89.23760430703402,180.0 Q96.96965511460289,177.0,101.23760430703402,180.0 C111.54700538379252,176.0,105.85640646055103,172.0,118.47520861406802,164.0 Q105.85640646055103,172.0,109.23760430703402,180.0 Q116.96965511460289,177.0,121.23760430703402,180.0 C122.92820323027551,184.0,120.61880215351701,188.0,116.61880215351701,188.0 C112.61880215351701,188.0,114.92820323027551,184.0,121.23760430703402,180.0 Q128.9696551146029,177.0,133.23760430703402,180.0 C134.9282032302755,184.0,128.0,196.0,124.0,196.0 C120.0,196.0,124.61880215351701,188.0,133.23760430703402,180.0\" stroke=\"black\" fill=\"none\" stroke-width=\"1.3333333333333333\" stroke-linecap=\"round\" stroke-linejoin=\"round\" id=\"pCSQLadE0\" />\n",
       "</defs>\n",
       "<use xlink:href=\"#pCSQLadE0\" x=\"0\" y=\"0\" />\n",
       "</svg>"
      ],
      "text/plain": [
       "<drawsvg.drawing.Drawing at 0x11771a520>"
      ]
     },
     "metadata": {},
     "output_type": "display_data"
    }
   ],
   "source": [
    "show_grafoni_kerned_wrapped(\"there will come a time when you believe everything is finished that will be the beginning\",shear_val=-1/sqrt(3),wrap=35)"
   ]
  },
  {
   "cell_type": "code",
   "execution_count": null,
   "metadata": {},
   "outputs": [],
   "source": []
  },
  {
   "cell_type": "code",
   "execution_count": null,
   "metadata": {},
   "outputs": [],
   "source": []
  },
  {
   "cell_type": "code",
   "execution_count": null,
   "metadata": {},
   "outputs": [],
   "source": []
  },
  {
   "cell_type": "code",
   "execution_count": null,
   "metadata": {},
   "outputs": [],
   "source": []
  },
  {
   "cell_type": "code",
   "execution_count": null,
   "metadata": {},
   "outputs": [],
   "source": []
  }
 ],
 "metadata": {
  "kernelspec": {
   "display_name": "Python 3",
   "language": "python",
   "name": "python3"
  },
  "language_info": {
   "codemirror_mode": {
    "name": "ipython",
    "version": 3
   },
   "file_extension": ".py",
   "mimetype": "text/x-python",
   "name": "python",
   "nbconvert_exporter": "python",
   "pygments_lexer": "ipython3",
   "version": "3.9.6"
  }
 },
 "nbformat": 4,
 "nbformat_minor": 2
}
