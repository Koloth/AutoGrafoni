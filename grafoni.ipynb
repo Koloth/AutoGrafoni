{
 "cells": [
  {
   "cell_type": "code",
   "execution_count": 3,
   "metadata": {},
   "outputs": [
    {
     "name": "stdout",
     "output_type": "stream",
     "text": [
      "Requirement already satisfied: eng-to-ipa in ./.conda/lib/python3.9/site-packages (0.0.2)\n",
      "Collecting drawsvg\n",
      "  Downloading drawsvg-2.3.0-py3-none-any.whl.metadata (19 kB)\n",
      "Downloading drawsvg-2.3.0-py3-none-any.whl (43 kB)\n",
      "\u001b[2K   \u001b[90m━━━━━━━━━━━━━━━━━━━━━━━━━━━━━━━━━━━━━━━━\u001b[0m \u001b[32m43.9/43.9 kB\u001b[0m \u001b[31m3.6 MB/s\u001b[0m eta \u001b[36m0:00:00\u001b[0m\n",
      "\u001b[?25hInstalling collected packages: drawsvg\n",
      "Successfully installed drawsvg-2.3.0\n"
     ]
    }
   ],
   "source": [
    "!pip3 install eng-to-ipa\n",
    "!pip3 install drawsvg"
   ]
  },
  {
   "cell_type": "code",
   "execution_count": 19,
   "metadata": {},
   "outputs": [
    {
     "data": {
      "text/plain": [
       "'ðə kwɪk braʊn fɑks ʤəmpt ˈoʊvər ðə ˈleɪzi dɔg.'"
      ]
     },
     "execution_count": 19,
     "metadata": {},
     "output_type": "execute_result"
    }
   ],
   "source": [
    "import eng_to_ipa as ipa\n",
    "ipa.convert(\"The quick brown fox jumped over the lazy dog.\")"
   ]
  },
  {
   "cell_type": "code",
   "execution_count": 20,
   "metadata": {},
   "outputs": [
    {
     "data": {
      "text/plain": [
       "'ˈweɪtɪŋ'"
      ]
     },
     "execution_count": 20,
     "metadata": {},
     "output_type": "execute_result"
    }
   ],
   "source": [
    "ipa.convert(\"waiting\")"
   ]
  },
  {
   "cell_type": "code",
   "execution_count": 21,
   "metadata": {},
   "outputs": [
    {
     "data": {
      "text/plain": [
       "'ˈstədiɪŋ'"
      ]
     },
     "execution_count": 21,
     "metadata": {},
     "output_type": "execute_result"
    }
   ],
   "source": [
    "ipa.convert(\"studying\")"
   ]
  },
  {
   "cell_type": "code",
   "execution_count": 22,
   "metadata": {},
   "outputs": [
    {
     "data": {
      "text/plain": [
       "'jild'"
      ]
     },
     "execution_count": 22,
     "metadata": {},
     "output_type": "execute_result"
    }
   ],
   "source": [
    "ipa.convert(\"yield\")"
   ]
  },
  {
   "cell_type": "code",
   "execution_count": 23,
   "metadata": {},
   "outputs": [
    {
     "data": {
      "text/plain": [
       "'wud'"
      ]
     },
     "execution_count": 23,
     "metadata": {},
     "output_type": "execute_result"
    }
   ],
   "source": [
    "ipa.convert(\"wooed\")"
   ]
  },
  {
   "cell_type": "code",
   "execution_count": 54,
   "metadata": {},
   "outputs": [],
   "source": [
    "def keep_some_y_w(in_string):\n",
    "    return in_string.replace('wu','uWu').replace('ji','ɪYɪ').replace('iɪŋ','ɪɪYɪŋ').replace('iiŋ','ɪYɪŋ')"
   ]
  },
  {
   "cell_type": "code",
   "execution_count": 55,
   "metadata": {},
   "outputs": [],
   "source": [
    "convert_dict = {\n",
    "    'i': [\"uv1\",\"uv1\"], # sometimes can be duplicated like \"see\"\n",
    "    'ɪ': [\"uv1\"],\n",
    "    'ɛ': [\"uv2\"],\n",
    "    'e': [\"uv2\"],\n",
    "    'æ': [\"uv3\"],\n",
    "    'ʊ': [\"mv1\"],\n",
    "    'ə': [\"mv2\"],\n",
    "    'ɑ': [\"mv3\"],\n",
    "    'a': [\"mv3\"],\n",
    "    'u': [\"lv1\"],\n",
    "    'o': [\"lv2\"],\n",
    "    'ɔ': [\"lv3\"],\n",
    "\n",
    "    'j': [\"uv1\"],\n",
    "    'w': [\"lv1\"],\n",
    "\n",
    "    'θ': [\"th\"],\n",
    "    'ð': [\"dh\"],\n",
    "    'ʃ': [\"sh\"],\n",
    "    'ʒ': [\"zh\"],\n",
    "\n",
    "    'ʤ': [\"d\",\"zh\"],\n",
    "    'ʧ': [\"t\",\"sh\"],\n",
    "\n",
    "    'ŋ': [\"ng\"],\n",
    "\n",
    "    'ˈ': [],\n",
    "    'ˌ': [],\n",
    "    '*': [],\n",
    "    \n",
    "    ' ': [\" \"]\n",
    "}"
   ]
  },
  {
   "cell_type": "code",
   "execution_count": 56,
   "metadata": {},
   "outputs": [],
   "source": [
    "def grafoni_spell(string):\n",
    "    ipa_string = ipa.convert(string)\n",
    "    ipa_string = keep_some_y_w(ipa_string)\n",
    "    out = []\n",
    "    for letter in ipa_string:\n",
    "        if letter in convert_dict:\n",
    "            out += convert_dict[letter]\n",
    "        else:\n",
    "            out += [letter]\n",
    "    return out"
   ]
  },
  {
   "cell_type": "code",
   "execution_count": 57,
   "metadata": {},
   "outputs": [
    {
     "data": {
      "text/plain": [
       "['mv3',\n",
       " 'uv1',\n",
       " ' ',\n",
       " 's',\n",
       " 'uv1',\n",
       " 'uv1',\n",
       " ' ',\n",
       " 'uv1',\n",
       " 'lv1',\n",
       " ' ',\n",
       " 's',\n",
       " 't',\n",
       " 'mv2',\n",
       " 'd',\n",
       " 'uv1',\n",
       " 'uv1',\n",
       " 'Y',\n",
       " 'uv1',\n",
       " 'ng']"
      ]
     },
     "execution_count": 57,
     "metadata": {},
     "output_type": "execute_result"
    }
   ],
   "source": [
    "grafoni_spell(\"I see you studying\")"
   ]
  },
  {
   "cell_type": "code",
   "execution_count": 58,
   "metadata": {},
   "outputs": [
    {
     "data": {
      "text/plain": [
       "'ˈstədiɪŋ'"
      ]
     },
     "execution_count": 58,
     "metadata": {},
     "output_type": "execute_result"
    }
   ],
   "source": [
    "ipa.convert(\"studying\")"
   ]
  },
  {
   "cell_type": "code",
   "execution_count": 59,
   "metadata": {},
   "outputs": [
    {
     "data": {
      "text/plain": [
       "['m',\n",
       " 'lv3',\n",
       " 'th',\n",
       " 's',\n",
       " ' ',\n",
       " 'm',\n",
       " 'mv2',\n",
       " 'n',\n",
       " 'th',\n",
       " 's',\n",
       " ' ',\n",
       " 's',\n",
       " 't',\n",
       " 'mv2',\n",
       " 'd',\n",
       " 'uv1',\n",
       " 'uv1',\n",
       " 'Y',\n",
       " 'uv1',\n",
       " 'ng']"
      ]
     },
     "execution_count": 59,
     "metadata": {},
     "output_type": "execute_result"
    }
   ],
   "source": [
    "grafoni_spell(\"moths months studying\")"
   ]
  },
  {
   "cell_type": "code",
   "execution_count": 60,
   "metadata": {},
   "outputs": [],
   "source": [
    "import drawsvg as draw\n",
    "\n",
    "def bounding_box(strokes):\n",
    "    min_x = 0\n",
    "    min_y = 0\n",
    "    max_x = 0\n",
    "    max_y = 0\n",
    "    for stroke in strokes:\n",
    "        if stroke[0] == 'move':\n",
    "            min_x = min(min_x,stroke[1])\n",
    "            min_y = min(min_y,stroke[2])\n",
    "            max_x = max(max_x,stroke[1])\n",
    "            max_y = max(max_y,stroke[2])\n",
    "        if stroke[0] == 'line':\n",
    "            min_x = min(min_x,stroke[1])\n",
    "            min_y = min(min_y,stroke[2])\n",
    "            max_x = max(max_x,stroke[1])\n",
    "            max_y = max(max_y,stroke[2])\n",
    "        if stroke[0] == 'quadratic':\n",
    "            min_x = min(min_x,stroke[1],stroke[3])\n",
    "            min_y = min(min_y,stroke[2],stroke[4])\n",
    "            max_x = max(max_x,stroke[1],stroke[3])\n",
    "            max_y = max(max_y,stroke[2],stroke[4])\n",
    "        if stroke[0] == 'cubic':\n",
    "            min_x = min(min_x,stroke[1],stroke[3],stroke[5])\n",
    "            min_y = min(min_y,stroke[2],stroke[4],stroke[6])\n",
    "            max_x = max(max_x,stroke[1],stroke[3],stroke[5])\n",
    "            max_y = max(max_y,stroke[2],stroke[4],stroke[6])\n",
    "    return min_x, min_y, max_x, max_y\n",
    "\n",
    "def svgStrokes(strokes, scale = 4,padding = 1, stroke_width = 1.0/3):\n",
    "    path = draw.Path(stroke='black', fill='none', stroke_width = stroke_width*scale, stroke_linecap='round', stroke_linejoin='round')\n",
    "    min_x,min_y,max_x,max_y = bounding_box(strokes)\n",
    "    for stroke in strokes:\n",
    "        if stroke[0] == 'move':\n",
    "            path.M(scale*(stroke[1]-min_x)+scale*padding,scale*(stroke[2]-min_y)+scale*padding)\n",
    "        if stroke[0] == 'line':\n",
    "            path.L(scale*(stroke[1]-min_x)+scale*padding,scale*(stroke[2]-min_y)+scale*padding)\n",
    "        if stroke[0] == 'quadratic':\n",
    "            path.Q(scale*(stroke[1]-min_x)+scale*padding,scale*(stroke[2]-min_y)+scale*padding,scale*(stroke[3]-min_x)+scale*padding,scale*(stroke[4]-min_y)+scale*padding)\n",
    "        if stroke[0] == 'cubic':\n",
    "            path.C(scale*(stroke[1]-min_x)+scale*padding,scale*(stroke[2]-min_y)+scale*padding,scale*(stroke[3]-min_x)+scale*padding,scale*(stroke[4]-min_y)+scale*padding,scale*(stroke[5]-min_x)+scale*padding,scale*(stroke[6]-min_y)+scale*padding)\n",
    "    \n",
    "    d = draw.Drawing(scale*(max_x-min_x)+2*scale*padding,scale*(max_y-min_y)+2*scale*padding)\n",
    "    d.append(draw.Use(path,0,0))\n",
    "    return d\n",
    "\n",
    "def translate(strokes,dx,dy):\n",
    "    out = []\n",
    "    for s in strokes:\n",
    "        if s[0] == 'move':\n",
    "            out.append(('move',s[1]+dx,s[2]+dy))\n",
    "        if s[0] == 'line':\n",
    "            out.append(('line',s[1]+dx,s[2]+dy))\n",
    "        if s[0] == 'quadratic':\n",
    "            out.append(('quadratic',s[1]+dx,s[2]+dy,s[3]+dx,s[4]+dy))\n",
    "        if s[0] == 'cubic':\n",
    "            out.append(('cubic',s[1]+dx,s[2]+dy,s[3]+dx,s[4]+dy,s[5]+dx,s[6]+dy))\n",
    "    return out\n",
    "\n",
    "def scale(strokes,dx,dy):\n",
    "    out = []\n",
    "    for s in strokes:\n",
    "        if s[0] == 'move':\n",
    "            out.append(('move',s[1]*dx,s[2]*dy))\n",
    "        if s[0] == 'line':\n",
    "            out.append(('line',s[1]*dx,s[2]*dy))\n",
    "        if s[0] == 'quadratic':\n",
    "            out.append(('quadratic',s[1]*dx,s[2]*dy,s[3]*dx,s[4]*dy))\n",
    "        if s[0] == 'cubic':\n",
    "            out.append(('cubic',s[1]*dx,s[2]*dy,s[3]*dx,s[4]*dy,s[5]*dx,s[6]*dy))\n",
    "    return out\n",
    "\n",
    "def concat(strokes, new):\n",
    "    last_x, last_y = strokes[-1][-2:]\n",
    "    return strokes + translate(new,last_x,last_y)"
   ]
  },
  {
   "cell_type": "code",
   "execution_count": 61,
   "metadata": {},
   "outputs": [],
   "source": [
    "from IPython.display import display"
   ]
  },
  {
   "cell_type": "code",
   "execution_count": 62,
   "metadata": {},
   "outputs": [],
   "source": [
    "vowel_scale = 1.5\n",
    "\n",
    "letter_forms_type = {\n",
    "    \" \": [('move',4,0)],\n",
    "\n",
    "    \"uv1\": [('quadratic',1*vowel_scale,-1*vowel_scale,2*vowel_scale,0)],\n",
    "    \"uv2\": [('quadratic',2*vowel_scale,-1*vowel_scale,4*vowel_scale,0)],\n",
    "    \"uv3\": [('quadratic',4*vowel_scale,-1*vowel_scale,8*vowel_scale,0)],\n",
    "    \"mv1\": [('line',2*vowel_scale,0)],\n",
    "    \"mv2\": [('line',4*vowel_scale,0)],\n",
    "    \"mv3\": [('line',8*vowel_scale,0)],\n",
    "    \"lv1\": [('quadratic',1*vowel_scale,1*vowel_scale,2*vowel_scale,0)],\n",
    "    \"lv2\": [('quadratic',2*vowel_scale,1*vowel_scale,4*vowel_scale,0)],\n",
    "    \"lv3\": [('quadratic',4*vowel_scale,1*vowel_scale,8*vowel_scale,0)],\n",
    "\n",
    "    \"r\": [('cubic',2,-2,2,-4,1,-4),('cubic',0,-4,0,-2,2,0)],\n",
    "    \"l\": [('cubic',2,-2,2,-8,1,-8),('cubic',0,-8,0,-4,2,0)],\n",
    "    \"m\": [('cubic',2,0,2,2,1,2),('cubic',0,2,0,0,2,0)],\n",
    "    \"n\": [('cubic',2,2,2,4,1,4),('cubic',0,4,0,2,2,0)],\n",
    "    \"ng\":[('cubic',2,2,2,8,1,8),('cubic',0,8,0,4,2,0)],\n",
    "\n",
    "    \"k\": [('cubic',2,-2,0,-2,2,-4),('quadratic',0,-2,2,0)],\n",
    "    \"g\": [('cubic',2,-2,0,-4,2,-8),('quadratic',0,-4,2,0)],\n",
    "    \"h\": [('cubic',2,2,0,2,2,4),('quadratic',0,2,2,0)],\n",
    "    \"x\": [('cubic',2,2,0,4,2,8),('quadratic',0,4,2,0)],\n",
    "\n",
    "    \"t\": [('quadratic',2,0,2,-2),('move',2,-4),('line',2,0)],\n",
    "    \"d\": [('quadratic',2,0,2,-2),('move',2,-8),('line',2,0)],\n",
    "    \"th\": [('line',0,4),('move',0,2),('quadratic',0,0,2,0)],\n",
    "    \"dh\": [('line',0,8),('move',0,2),('quadratic',0,0,2,0)],\n",
    "\n",
    "    \"p\": [('quadratic',2,-2,0,-4),('cubic',2,-2,0,-2,2,0)],\n",
    "    \"b\": [('quadratic',2,-4,0,-8),('cubic',2,-4,0,-2,2,0)],\n",
    "    \"f\": [('quadratic',2,2,0,4),('cubic',2,2,0,2,2,0)],\n",
    "    \"v\": [('quadratic',2,4,0,8),('cubic',2,4,0,2,2,0)],\n",
    "\n",
    "    \"s\": [('quadratic',0,-4,1,-4),('quadratic',2,-4,2,0)],\n",
    "    \"z\": [('quadratic',0,-8,1,-8),('quadratic',2,-8,2,0)],\n",
    "    \"sh\": [('quadratic',0,4,1,4),('quadratic',2,4,2,0)],\n",
    "    \"zh\": [('quadratic',0,8,1,8),('quadratic',2,8,2,0)],\n",
    "\n",
    "    \"Y\": [('cubic',1,1,-1,1,0,0)],\n",
    "    \"W\": [('cubic',1,-1,-1,-1,0,0)],\n",
    "}"
   ]
  },
  {
   "cell_type": "code",
   "execution_count": 63,
   "metadata": {},
   "outputs": [],
   "source": [
    "from math import sqrt\n",
    "\n",
    "def show_grafoni_type(in_string):\n",
    "    chars = grafoni_spell(in_string)\n",
    "    out = [('move',0,0)]\n",
    "    for l in chars:\n",
    "        if l in letter_forms_type:\n",
    "            out = concat(out,letter_forms_type[l])\n",
    "        else:\n",
    "            print(\"error: \" + l)\n",
    "    return display(svgStrokes(out))"
   ]
  },
  {
   "cell_type": "code",
   "execution_count": 64,
   "metadata": {},
   "outputs": [
    {
     "data": {
      "image/svg+xml": [
       "<?xml version=\"1.0\" encoding=\"UTF-8\"?>\n",
       "<svg xmlns=\"http://www.w3.org/2000/svg\" xmlns:xlink=\"http://www.w3.org/1999/xlink\"\n",
       "     width=\"388.0\" height=\"72\" viewBox=\"0 0 388.0 72\">\n",
       "<defs>\n",
       "<path d=\"M4,36 C12,44,4,44,12,52 Q4,44,12,36 Q24.0,30.0,36.0,36 C44.0,28,44.0,4,40.0,4 C36.0,4,36.0,20,44.0,36 Q56.0,42.0,68.0,36 L80.0,36 M96.0,36 Q102.0,42.0,108.0,36 L132.0,36 C140.0,28,140.0,20,136.0,20 C132.0,20,132.0,28,140.0,36 C148.0,28,148.0,4,144.0,4 C140.0,4,140.0,20,148.0,36 Q156.0,36,156.0,28 M156.0,4 L156.0,36 M172.0,36 C180.0,44,172.0,44,180.0,52 Q172.0,44,180.0,36 L228.0,36 L240.0,36 M256.0,36 L280.0,36 C288.0,28,288.0,20,284.0,20 C280.0,20,280.0,28,288.0,36 M304.0,36 Q310.0,30.0,316.0,36 Q322.0,42.0,328.0,36 M344.0,36 Q352.0,36,352.0,28 M352.0,4 L352.0,36 Q358.0,42.0,364.0,36 Q370.0,30.0,376.0,36 C384.0,44,384.0,68,380.0,68 C376.0,68,376.0,52,384.0,36\" stroke=\"black\" fill=\"none\" stroke-width=\"1.3333333333333333\" stroke-linecap=\"round\" stroke-linejoin=\"round\" id=\"UKWNaLBH0\" />\n",
       "</defs>\n",
       "<use xlink:href=\"#UKWNaLBH0\" x=\"0\" y=\"0\" />\n",
       "</svg>"
      ],
      "text/plain": [
       "<drawsvg.drawing.Drawing at 0x10a400b80>"
      ]
     },
     "metadata": {},
     "output_type": "display_data"
    }
   ],
   "source": [
    "show_grafoni_type(\"hello world how are you doing\")"
   ]
  },
  {
   "cell_type": "code",
   "execution_count": 65,
   "metadata": {},
   "outputs": [
    {
     "data": {
      "image/svg+xml": [
       "<?xml version=\"1.0\" encoding=\"UTF-8\"?>\n",
       "<svg xmlns=\"http://www.w3.org/2000/svg\" xmlns:xlink=\"http://www.w3.org/1999/xlink\"\n",
       "     width=\"440.0\" height=\"72\" viewBox=\"0 0 440.0 72\">\n",
       "<defs>\n",
       "<path d=\"M4,36 C12,44,4,44,12,52 Q4,44,12,36 Q24.0,30.0,36.0,36 C44.0,28,44.0,4,40.0,4 C36.0,4,36.0,20,44.0,36 Q56.0,42.0,68.0,36 L80.0,36 M96.0,36 Q102.0,42.0,108.0,36 L132.0,36 C140.0,28,140.0,20,136.0,20 C132.0,20,132.0,28,140.0,36 C148.0,28,148.0,4,144.0,4 C140.0,4,140.0,20,148.0,36 Q156.0,36,156.0,28 M156.0,4 L156.0,36 M172.0,36 C180.0,44,172.0,44,180.0,52 Q172.0,44,180.0,36 L228.0,36 L240.0,36 M256.0,36 L280.0,36 C288.0,28,288.0,20,284.0,20 C280.0,20,280.0,28,288.0,36 M304.0,36 Q310.0,30.0,316.0,36 Q322.0,42.0,328.0,36 M344.0,36 Q344.0,20,348.0,20 Q352.0,20,352.0,36 Q360.0,36,360.0,28 M360.0,20 L360.0,36 L384.0,36 Q392.0,36,392.0,28 M392.0,4 L392.0,36 Q398.0,30.0,404.0,36 Q410.0,30.0,416.0,36 C420.0,40,412.0,40,416.0,36 Q422.0,30.0,428.0,36 C436.0,44,436.0,68,432.0,68 C428.0,68,428.0,52,436.0,36\" stroke=\"black\" fill=\"none\" stroke-width=\"1.3333333333333333\" stroke-linecap=\"round\" stroke-linejoin=\"round\" id=\"RdL7cmFg0\" />\n",
       "</defs>\n",
       "<use xlink:href=\"#RdL7cmFg0\" x=\"0\" y=\"0\" />\n",
       "</svg>"
      ],
      "text/plain": [
       "<drawsvg.drawing.Drawing at 0x10a4129a0>"
      ]
     },
     "metadata": {},
     "output_type": "display_data"
    }
   ],
   "source": [
    "show_grafoni_type(\"hello world how are you studying\")"
   ]
  },
  {
   "cell_type": "code",
   "execution_count": 66,
   "metadata": {},
   "outputs": [],
   "source": [
    "# letter_forms = {\n",
    "#     \" \": [('move',4,0)],\n",
    "\n",
    "#     \"uv1\": [('quadratic',1*vowel_scale,-1*vowel_scale,2*vowel_scale,0)],\n",
    "#     \"uv2\": [('quadratic',2*vowel_scale,-2*vowel_scale,4*vowel_scale,0)],\n",
    "#     \"uv3\": [('quadratic',4*vowel_scale,-4*vowel_scale,8*vowel_scale,0)],\n",
    "#     \"mv1\": [('line',2*vowel_scale,0)],\n",
    "#     \"mv2\": [('line',4*vowel_scale,0)],\n",
    "#     \"mv3\": [('line',8*vowel_scale,0)],\n",
    "#     \"lv1\": [('quadratic',1*vowel_scale,1*vowel_scale,2*vowel_scale,0)],\n",
    "#     \"lv2\": [('quadratic',2*vowel_scale,2*vowel_scale,4*vowel_scale,0)],\n",
    "#     \"lv3\": [('quadratic',4*vowel_scale,4*vowel_scale,8*vowel_scale,0)],\n",
    "\n",
    "#     \"r\": [('cubic',1,-2,1,-4,0,-4),('cubic',-1,-4,-1,-2,0,0)],\n",
    "#     \"l\": [('cubic',1,-2,1,-8,0,-8),('cubic',-1,-8,-1,-4,0,0)],\n",
    "#     \"m\": [('cubic',1,0,1,2,0,2),('cubic',-1,2,-1,0,0,0)],\n",
    "#     \"n\": [('cubic',1,2,1,4,0,4),('cubic',-1,4,-1,2,0,0)],\n",
    "#     \"ng\":[('cubic',1,2,1,8,0,8),('cubic',-1,8,-1,4,0,0)],\n",
    "\n",
    "#     \"k\": [('cubic',2,-2,0,-2,2,-4),('quadratic',0,-2,2,0)],\n",
    "#     \"g\": [('cubic',2,-2,0,-4,2,-8),('quadratic',0,-4,2,0)],\n",
    "#     \"h\": [('cubic',2,2,0,2,2,4),('quadratic',0,2,2,0)],\n",
    "#     \"x\": [('cubic',2,2,0,4,2,8),('quadratic',0,4,2,0)],\n",
    "\n",
    "#     \"t\": [('quadratic',2,0,2,-2),('line',2,-4),('line',2,0)],\n",
    "#     \"d\": [('quadratic',2,0,2,-2),('line',2,-8),('line',2,0)],\n",
    "#     \"th\": [('line',0,4),('line',0,2),('quadratic',0,0,2,0)],\n",
    "#     \"dh\": [('line',0,8),('line',0,2),('quadratic',0,0,2,0)],\n",
    "\n",
    "#     \"p\": [('quadratic',2,-2,0,-4),('cubic',2,-2,0,-2,2,0)],\n",
    "#     \"b\": [('quadratic',2,-4,0,-8),('cubic',2,-4,0,-2,2,0)],\n",
    "#     \"f\": [('quadratic',2,2,0,4),('cubic',2,2,0,2,2,0)],\n",
    "#     \"v\": [('quadratic',2,4,0,8),('cubic',2,4,0,2,2,0)],\n",
    "\n",
    "#     \"s\": [('quadratic',0,-4,1,-4),('quadratic',2,-4,2,0)],\n",
    "#     \"z\": [('quadratic',0,-8,1,-8),('quadratic',2,-8,2,0)],\n",
    "#     \"sh\": [('quadratic',0,4,1,4),('quadratic',2,4,2,0)],\n",
    "#     \"zh\": [('quadratic',0,8,1,8),('quadratic',2,8,2,0)],\n",
    "\n",
    "#     \"Y\": [('cubic',1,1,-1,1,0,0)],\n",
    "#     \"W\": [('cubic',1,-1,-1,-1,0,0)],\n",
    "\n",
    "#     \"k-beg\": [('move',0,-4),('quadratic',-2,-2,0,0)],\n",
    "#     \"g-beg\": [('move',0,-8),('quadratic',-2,-4,0,0)],\n",
    "#     \"h-beg\": [('move',-1,4),('quadratic',-3,2,0,0)],\n",
    "#     \"x-beg\": [('move',-2,8),('quadratic',-4,4,0,0)],\n",
    "\n",
    "#     \"t-beg\": [('move',0,-4),('line',0,0)],\n",
    "#     \"d-beg\": [('move',0,-8),('line',0,0)],\n",
    "#     \"th-beg\": [('move',-1,4),('line',0,0)],\n",
    "#     \"dh-beg\": [('move',-2,8),('line',0,0)],\n",
    "\n",
    "#     \"p-beg\": [('move',0,-4),('quadratic',2,-2,0,0)],\n",
    "#     \"b-beg\": [('move',0,-8),('quadratic',2,-4,0,0)],\n",
    "#     \"f-beg\": [('move',-1,4),('quadratic',1,2,0,0)],\n",
    "#     \"v-beg\": [('move',-2,8),('quadratic',0,4,0,0)],\n",
    "\n",
    "#     \"k-end\": [('quadratic',-1,-2,1,-4),('move',0,0)],\n",
    "#     \"g-end\": [('quadratic',0,-4,2,-8),('move',0,0)],\n",
    "#     \"h-end\": [('quadratic',-2,2,0,4),('move',0,0)],\n",
    "#     \"x-end\": [('quadratic',-2,4,0,8),('move',0,0)],\n",
    "\n",
    "#     \"t-end\": [('line',1,-4),('move',0,0)],\n",
    "#     \"d-end\": [('line',2,-8),('move',0,0)],\n",
    "#     \"th-end\": [('line',0,4),('move',0,0)],\n",
    "#     \"dh-end\": [('line',0,8),('move',0,0)],\n",
    "\n",
    "#     \"p-end\": [('quadratic',3,-2,1,-4),('move',0,0)],\n",
    "#     \"b-end\": [('quadratic',4,-4,2,-8),('move',0,0)],\n",
    "#     \"f-end\": [('quadratic',2,2,0,4),('move',0,0)],\n",
    "#     \"v-end\": [('quadratic',2,4,0,8),('move',0,0)],\n",
    "# }"
   ]
  },
  {
   "cell_type": "code",
   "execution_count": 67,
   "metadata": {},
   "outputs": [],
   "source": [
    "# don't like the random slopes\n",
    "\n",
    "letter_forms = {\n",
    "    \" \": [('move',4,0)],\n",
    "\n",
    "    \"uv1\": [('quadratic',1*vowel_scale,-1*vowel_scale,2*vowel_scale,0)],\n",
    "    \"uv2\": [('quadratic',2*vowel_scale,-2*vowel_scale,4*vowel_scale,0)],\n",
    "    \"uv3\": [('quadratic',4*vowel_scale,-4*vowel_scale,8*vowel_scale,0)],\n",
    "    \"mv1\": [('line',2*vowel_scale,0)],\n",
    "    \"mv2\": [('line',4*vowel_scale,0)],\n",
    "    \"mv3\": [('line',8*vowel_scale,0)],\n",
    "    \"lv1\": [('quadratic',1*vowel_scale,1*vowel_scale,2*vowel_scale,0)],\n",
    "    \"lv2\": [('quadratic',2*vowel_scale,2*vowel_scale,4*vowel_scale,0)],\n",
    "    \"lv3\": [('quadratic',4*vowel_scale,4*vowel_scale,8*vowel_scale,0)],\n",
    "\n",
    "    \"r\": [('cubic',1,-2,1,-4,0,-4),('cubic',-1,-4,-1,-2,0,0)],\n",
    "    \"l\": [('cubic',1,-2,1,-8,0,-8),('cubic',-1,-8,-1,-4,0,0)],\n",
    "    \"m\": [('cubic',1,0,1,2,0,2),('cubic',-1,2,-1,0,0,0)],\n",
    "    \"n\": [('cubic',1,2,1,4,0,4),('cubic',-1,4,-1,2,0,0)],\n",
    "    \"ng\":[('cubic',1,2,1,8,0,8),('cubic',-1,8,-1,4,0,0)],\n",
    "\n",
    "    \"k\": [('cubic',2,-2,0,-2,2,-4),('quadratic',0,-2,2,0)],\n",
    "    \"g\": [('cubic',2,-2,0,-4,2,-8),('quadratic',0,-4,2,0)],\n",
    "    \"h\": [('cubic',2,2,0,2,2,4),('quadratic',0,2,2,0)],\n",
    "    \"x\": [('cubic',2,2,0,4,2,8),('quadratic',0,4,2,0)],\n",
    "\n",
    "    \"t\": [('quadratic',2,0,2,-2),('line',2,-4),('line',2,0)],\n",
    "    \"d\": [('quadratic',2,0,2,-2),('line',2,-8),('line',2,0)],\n",
    "    \"th\": [('line',0,4),('line',0,2),('quadratic',0,0,2,0)],\n",
    "    \"dh\": [('line',0,8),('line',0,2),('quadratic',0,0,2,0)],\n",
    "\n",
    "    \"p\": [('quadratic',2,-2,0,-4),('cubic',2,-2,0,-2,2,0)],\n",
    "    \"b\": [('quadratic',2,-4,0,-8),('cubic',2,-4,0,-2,2,0)],\n",
    "    \"f\": [('quadratic',2,2,0,4),('cubic',2,2,0,2,2,0)],\n",
    "    \"v\": [('quadratic',2,4,0,8),('cubic',2,4,0,2,2,0)],\n",
    "\n",
    "    \"s\": [('quadratic',0,-4,1,-4),('quadratic',2,-4,2,0)],\n",
    "    \"z\": [('quadratic',0,-8,1,-8),('quadratic',2,-8,2,0)],\n",
    "    \"sh\": [('quadratic',0,4,1,4),('quadratic',2,4,2,0)],\n",
    "    \"zh\": [('quadratic',0,8,1,8),('quadratic',2,8,2,0)],\n",
    "\n",
    "    \"Y\": [('cubic',1,1,-1,1,0,0)],\n",
    "    \"W\": [('cubic',1,-1,-1,-1,0,0)],\n",
    "\n",
    "    \"k-beg\": [('move',0,-4),('quadratic',-2,-2,0,0)],\n",
    "    \"g-beg\": [('move',0,-8),('quadratic',-2,-4,0,0)],\n",
    "    \"h-beg\": [('move',0,4),('quadratic',-2,2,0,0)],\n",
    "    \"x-beg\": [('move',0,8),('quadratic',-2,4,0,0)],\n",
    "\n",
    "    \"t-beg\": [('move',0,-4),('line',0,0)],\n",
    "    \"d-beg\": [('move',0,-8),('line',0,0)],\n",
    "    \"th-beg\": [('move',0,4),('line',0,0)],\n",
    "    \"dh-beg\": [('move',0,8),('line',0,0)],\n",
    "\n",
    "    \"p-beg\": [('move',0,-4),('quadratic',2,-2,0,0)],\n",
    "    \"b-beg\": [('move',0,-8),('quadratic',2,-4,0,0)],\n",
    "    \"f-beg\": [('move',0,4),('quadratic',2,2,0,0)],\n",
    "    \"v-beg\": [('move',0,8),('quadratic',2,4,0,0)],\n",
    "\n",
    "    \"k-end\": [('quadratic',-2,-2,0,-4),('move',0,0)],\n",
    "    \"g-end\": [('quadratic',-2,-4,0,-8),('move',0,0)],\n",
    "    \"h-end\": [('quadratic',-2,2,0,4),('move',0,0)],\n",
    "    \"x-end\": [('quadratic',-2,4,0,8),('move',0,0)],\n",
    "\n",
    "    \"t-end\": [('line',0,-4),('move',0,0)],\n",
    "    \"d-end\": [('line',0,-8),('move',0,0)],\n",
    "    \"th-end\": [('line',0,4),('move',0,0)],\n",
    "    \"dh-end\": [('line',0,8),('move',0,0)],\n",
    "\n",
    "    \"p-end\": [('quadratic',2,-2,0,-4),('move',0,0)],\n",
    "    \"b-end\": [('quadratic',2,-4,0,-8),('move',0,0)],\n",
    "    \"f-end\": [('quadratic',2,2,0,4),('move',0,0)],\n",
    "    \"v-end\": [('quadratic',2,4,0,8),('move',0,0)],\n",
    "}"
   ]
  },
  {
   "cell_type": "code",
   "execution_count": 68,
   "metadata": {},
   "outputs": [],
   "source": [
    "def process_ends(in_grafoni):\n",
    "    in_grafoni = [\" \"] + in_grafoni + [\" \"]\n",
    "    out_grafoni = []\n",
    "    for i in range(len(in_grafoni)-2):\n",
    "        # beginning\n",
    "        l, m, r = in_grafoni[i:i+3]\n",
    "        if l == \" \" and (m in [\"k\",\"g\",\"t\",\"d\",\"p\",\"b\",\"h\",\"x\"]):\n",
    "            m += \"-beg\"\n",
    "        if l == \" \" and m in [\"th\",\"dh\"] and not r in [\"uv1\",\"uv2\",\"uv3\",\"mv1\",\"mv2\",\"mv3\"]:\n",
    "            m += \"-beg\"\n",
    "        if l == \" \" and m in [\"f\",\"v\"] and not r in [\"uv1\",\"uv2\",\"uv3\"]:\n",
    "            m += \"-beg\"\n",
    "        # ending\n",
    "        if r == \" \" and m in [\"p\",\"b\",\"h\",\"x\",\"th\",\"dh\",\"f\",\"v\"]:\n",
    "            m += \"-end\"\n",
    "        if r == \" \" and m in [\"t\",\"d\"] and not l in [\"lv1\",\"lv2\",\"lv3\",\"mv1\",\"mv2\",\"mv3\"]:\n",
    "            m += \"-end\"\n",
    "        if r == \" \" and m in [\"k\",\"g\"] and not l in [\"lv1\",\"lv2\",\"lv3\"]:\n",
    "            m += \"-end\"\n",
    "        out_grafoni.append(m)\n",
    "    return out_grafoni"
   ]
  },
  {
   "cell_type": "code",
   "execution_count": 69,
   "metadata": {},
   "outputs": [],
   "source": [
    "def shear(strokes,by=-1):\n",
    "    out = []\n",
    "    for s in strokes:\n",
    "        if s[0] == 'move':\n",
    "            out.append(('move',s[1]+by*s[2],s[2]))\n",
    "        if s[0] == 'line':\n",
    "            out.append(('line',s[1]+by*s[2],s[2]))\n",
    "        if s[0] == 'quadratic':\n",
    "            out.append(('quadratic',s[1]+by*s[2],s[2],s[3]+by*s[4],s[4]))\n",
    "        if s[0] == 'cubic':\n",
    "            out.append(('cubic',s[1]+by*s[2],s[2],s[3]+by*s[4],s[4],s[5]+by*s[6],s[6]))\n",
    "    return out"
   ]
  },
  {
   "cell_type": "code",
   "execution_count": 70,
   "metadata": {},
   "outputs": [],
   "source": [
    "from math import sqrt\n",
    "\n",
    "def show_grafoni(in_string,bend = True):\n",
    "    chars = in_string\n",
    "    if isinstance(chars, str):\n",
    "        chars = process_ends(grafoni_spell(in_string))\n",
    "    print(\" \".join(chars))\n",
    "    out = [('move',0,0)]\n",
    "    for l in chars:\n",
    "        if l in letter_forms:\n",
    "            out = concat(out,letter_forms[l])\n",
    "        else:\n",
    "            print(\"error: \" + l)\n",
    "    if bend:\n",
    "        #return display(svgStrokes(shear(scale(out,1,0.5),by=-1/sqrt(3))))\n",
    "        return display(svgStrokes(shear(scale(out,1,0.5),by=-1)))\n",
    "    else:\n",
    "        return display(svgStrokes(out))"
   ]
  },
  {
   "cell_type": "code",
   "execution_count": 71,
   "metadata": {},
   "outputs": [
    {
     "data": {
      "image/svg+xml": [
       "<?xml version=\"1.0\" encoding=\"UTF-8\"?>\n",
       "<svg xmlns=\"http://www.w3.org/2000/svg\" xmlns:xlink=\"http://www.w3.org/1999/xlink\"\n",
       "     width=\"948.0\" height=\"72\" viewBox=\"0 0 948.0 72\">\n",
       "<defs>\n",
       "<path d=\"M4,36 L4,68 M4,44 Q4,36,12,36 Q24.0,30.0,36.0,36 C44.0,28,44.0,20,40.0,20 C36.0,20,36.0,28,44.0,36 M60.0,36 Q66.0,42.0,72.0,36 Q78.0,30.0,84.0,36 C92.0,28,92.0,4,88.0,4 C84.0,4,84.0,20,92.0,36 M108.0,36 C116.0,28,108.0,28,116.0,20 Q108.0,28,116.0,36 L140.0,36 C148.0,36,148.0,44,144.0,44 C140.0,44,140.0,36,148.0,36 M164.0,36 L188.0,36 M204.0,36 Q212.0,36,212.0,28 M212.0,20 L212.0,36 L260.0,36 Q266.0,30.0,272.0,36 C280.0,36,280.0,44,276.0,44 C272.0,44,272.0,36,280.0,36 M296.0,36 Q302.0,42.0,308.0,36 Q314.0,30.0,320.0,36 C328.0,44,328.0,52,324.0,52 C320.0,52,320.0,44,328.0,36 M344.0,36 Q350.0,30.0,356.0,36 Q362.0,42.0,368.0,36 M384.0,36 Q392.0,20,384.0,4 C392.0,20,384.0,28,392.0,36 Q398.0,30.0,404.0,36 C412.0,28,412.0,4,408.0,4 C404.0,4,404.0,20,412.0,36 Q418.0,30.0,424.0,36 Q430.0,30.0,436.0,36 Q444.0,52,436.0,68 C444.0,52,436.0,44,444.0,36 M460.0,36 Q472.0,30.0,484.0,36 Q492.0,52,484.0,68 C492.0,52,484.0,44,492.0,36 C500.0,28,500.0,20,496.0,20 C492.0,20,492.0,28,500.0,36 Q506.0,30.0,512.0,36 Q518.0,30.0,524.0,36 L524.0,52 M524.0,44 Q524.0,36,532.0,36 Q538.0,30.0,544.0,36 C552.0,44,552.0,68,548.0,68 C544.0,68,544.0,52,552.0,36 M568.0,36 Q574.0,30.0,580.0,36 Q580.0,4,584.0,4 Q588.0,4,588.0,36 M604.0,36 Q612.0,44,604.0,52 C612.0,44,604.0,44,612.0,36 Q618.0,30.0,624.0,36 C632.0,44,632.0,52,628.0,52 C624.0,52,624.0,44,632.0,36 Q638.0,30.0,644.0,36 Q644.0,52,648.0,52 Q652.0,52,652.0,36 Q660.0,36,660.0,28 M660.0,20 L660.0,36 M676.0,36 L676.0,68 M676.0,44 Q676.0,36,684.0,36 L708.0,36 Q716.0,36,716.0,28 M716.0,20 L716.0,36 M732.0,36 Q738.0,42.0,744.0,36 Q750.0,30.0,756.0,36 C764.0,28,764.0,4,760.0,4 C756.0,4,756.0,20,764.0,36 M780.0,36 Q788.0,20,780.0,4 C788.0,20,780.0,28,788.0,36 Q794.0,30.0,800.0,36 Q806.0,30.0,812.0,36 M828.0,36 L828.0,68 M828.0,44 Q828.0,36,836.0,36 L860.0,36 M876.0,36 Q884.0,20,876.0,4 C884.0,20,876.0,28,884.0,36 Q890.0,30.0,896.0,36 C904.0,28,896.0,20,904.0,4 Q896.0,20,904.0,36 Q910.0,30.0,916.0,36 C924.0,44,924.0,52,920.0,52 C916.0,52,916.0,44,924.0,36 Q930.0,30.0,936.0,36 C944.0,44,944.0,68,940.0,68 C936.0,68,936.0,52,944.0,36\" stroke=\"black\" fill=\"none\" stroke-width=\"1.3333333333333333\" stroke-linecap=\"round\" stroke-linejoin=\"round\" id=\"kgf91jMQ0\" />\n",
       "</defs>\n",
       "<use xlink:href=\"#kgf91jMQ0\" x=\"0\" y=\"0\" />\n",
       "</svg>"
      ],
      "text/plain": [
       "<drawsvg.drawing.Drawing at 0x10a27d070>"
      ]
     },
     "metadata": {},
     "output_type": "display_data"
    }
   ],
   "source": [
    "show_grafoni_type(\"there will come a time when you believe everything is finished that will be the beginning\")"
   ]
  },
  {
   "cell_type": "code",
   "execution_count": 72,
   "metadata": {},
   "outputs": [
    {
     "name": "stdout",
     "output_type": "stream",
     "text": [
      "dh uv2 r   lv1 uv1 l   k-beg mv2 m   mv2   t-beg mv3 uv1 m   lv1 uv1 n   uv1 lv1   b-beg uv1 l uv1 uv1 v-end   uv2 v r uv1 uv1 th uv1 ng   uv1 z   f uv1 n uv1 sh t-end   dh mv2 t   lv1 uv1 l   b-beg uv1 uv1   dh mv2   b-beg uv1 g uv1 n uv1 ng\n"
     ]
    },
    {
     "data": {
      "image/svg+xml": [
       "<?xml version=\"1.0\" encoding=\"UTF-8\"?>\n",
       "<svg xmlns=\"http://www.w3.org/2000/svg\" xmlns:xlink=\"http://www.w3.org/1999/xlink\"\n",
       "     width=\"812.0\" height=\"40.0\" viewBox=\"0 0 812.0 40.0\">\n",
       "<defs>\n",
       "<path d=\"M20.0,20.0 L4.0,36.0 L16.0,24.0 Q20.0,20.0,28.0,20.0 Q46.0,14.0,52.0,20.0 C60.0,16.0,64.0,12.0,60.0,12.0 C56.0,12.0,52.0,16.0,52.0,20.0 M68.0,20.0 Q71.0,23.0,80.0,20.0 Q89.0,17.0,92.0,20.0 C100.0,16.0,112.0,4.0,108.0,4.0 C104.0,4.0,96.0,12.0,92.0,20.0 M108.0,20.0 M116.0,12.0 Q104.0,16.0,108.0,20.0 L132.0,20.0 C136.0,20.0,132.0,24.0,128.0,24.0 C124.0,24.0,128.0,20.0,132.0,20.0 M148.0,20.0 L172.0,20.0 M188.0,20.0 M196.0,12.0 L188.0,20.0 L236.0,20.0 Q245.0,17.0,248.0,20.0 C252.0,20.0,248.0,24.0,244.0,24.0 C240.0,24.0,244.0,20.0,248.0,20.0 M264.0,20.0 Q267.0,23.0,276.0,20.0 Q285.0,17.0,288.0,20.0 C288.0,24.0,284.0,28.0,280.0,28.0 C276.0,28.0,280.0,24.0,288.0,20.0 M304.0,20.0 Q313.0,17.0,316.0,20.0 Q319.0,23.0,328.0,20.0 M344.0,20.0 M360.0,4.0 Q360.0,12.0,344.0,20.0 Q353.0,17.0,356.0,20.0 C364.0,16.0,376.0,4.0,372.0,4.0 C368.0,4.0,360.0,12.0,356.0,20.0 Q365.0,17.0,368.0,20.0 Q377.0,17.0,380.0,20.0 Q380.0,28.0,364.0,36.0 M380.0,20.0 M396.0,20.0 Q414.0,14.0,420.0,20.0 Q420.0,28.0,404.0,36.0 C420.0,28.0,416.0,24.0,428.0,20.0 C436.0,16.0,440.0,12.0,436.0,12.0 C432.0,12.0,428.0,16.0,428.0,20.0 Q437.0,17.0,440.0,20.0 Q449.0,17.0,452.0,20.0 L444.0,28.0 L448.0,24.0 Q452.0,20.0,460.0,20.0 Q469.0,17.0,472.0,20.0 C472.0,24.0,460.0,36.0,456.0,36.0 C452.0,36.0,460.0,28.0,472.0,20.0 M488.0,20.0 Q497.0,17.0,500.0,20.0 Q516.0,4.0,520.0,4.0 Q524.0,4.0,508.0,20.0 M524.0,20.0 Q528.0,24.0,516.0,28.0 C528.0,24.0,520.0,24.0,532.0,20.0 Q541.0,17.0,544.0,20.0 C544.0,24.0,540.0,28.0,536.0,28.0 C532.0,28.0,536.0,24.0,544.0,20.0 Q553.0,17.0,556.0,20.0 Q548.0,28.0,552.0,28.0 Q556.0,28.0,564.0,20.0 L572.0,12.0 M564.0,20.0 M580.0,20.0 L564.0,36.0 L576.0,24.0 Q580.0,20.0,588.0,20.0 L612.0,20.0 Q620.0,20.0,624.0,16.0 L628.0,12.0 L620.0,20.0 M636.0,20.0 Q639.0,23.0,648.0,20.0 Q657.0,17.0,660.0,20.0 C668.0,16.0,680.0,4.0,676.0,4.0 C672.0,4.0,664.0,12.0,660.0,20.0 M676.0,20.0 M692.0,4.0 Q692.0,12.0,676.0,20.0 Q685.0,17.0,688.0,20.0 Q697.0,17.0,700.0,20.0 M716.0,20.0 L700.0,36.0 L712.0,24.0 Q716.0,20.0,724.0,20.0 L748.0,20.0 M764.0,20.0 M780.0,4.0 Q780.0,12.0,764.0,20.0 Q773.0,17.0,776.0,20.0 C788.0,16.0,784.0,12.0,800.0,4.0 Q784.0,12.0,784.0,20.0 Q793.0,17.0,796.0,20.0 C796.0,24.0,792.0,28.0,788.0,28.0 C784.0,28.0,788.0,24.0,796.0,20.0 Q805.0,17.0,808.0,20.0 C808.0,24.0,796.0,36.0,792.0,36.0 C788.0,36.0,796.0,28.0,808.0,20.0\" stroke=\"black\" fill=\"none\" stroke-width=\"1.3333333333333333\" stroke-linecap=\"round\" stroke-linejoin=\"round\" id=\"KYnrmSx90\" />\n",
       "</defs>\n",
       "<use xlink:href=\"#KYnrmSx90\" x=\"0\" y=\"0\" />\n",
       "</svg>"
      ],
      "text/plain": [
       "<drawsvg.drawing.Drawing at 0x10a3ee670>"
      ]
     },
     "metadata": {},
     "output_type": "display_data"
    }
   ],
   "source": [
    "show_grafoni(\"there will come a time when you believe everything is finished that will be the beginning\",bend=True)"
   ]
  },
  {
   "cell_type": "markdown",
   "metadata": {},
   "source": []
  },
  {
   "cell_type": "code",
   "execution_count": 73,
   "metadata": {},
   "outputs": [
    {
     "name": "stdout",
     "output_type": "stream",
     "text": [
      "mv2   g-beg r uv2 uv1 t-end   d-beg uv1 uv1 l   mv2 v-end   t-beg mv3 uv1 m   uv1 z   l lv3 s t-end   b-beg mv3 uv1   dh mv2   p-beg r uv2 z mv2 n t-end   uv1 n d mv2 r uv2 k t-end   m uv2 th mv2 d   mv2 v-end   r uv1 k lv3 r d uv1 ng   b-beg uv1 z n uv1 s   k-beg lv3 r mv2 s p mv3 n d mv2 n s\n"
     ]
    },
    {
     "data": {
      "image/svg+xml": [
       "<?xml version=\"1.0\" encoding=\"UTF-8\"?>\n",
       "<svg xmlns=\"http://www.w3.org/2000/svg\" xmlns:xlink=\"http://www.w3.org/1999/xlink\"\n",
       "     width=\"1116.0\" height=\"40.0\" viewBox=\"0 0 1116.0 40.0\">\n",
       "<defs>\n",
       "<path d=\"M4.0,20.0 L28.0,20.0 M44.0,20.0 M60.0,4.0 Q44.0,12.0,44.0,20.0 C52.0,16.0,56.0,12.0,52.0,12.0 C48.0,12.0,44.0,16.0,44.0,20.0 Q62.0,14.0,68.0,20.0 Q77.0,17.0,80.0,20.0 L88.0,12.0 M80.0,20.0 M96.0,20.0 M112.0,4.0 L96.0,20.0 Q105.0,17.0,108.0,20.0 Q117.0,17.0,120.0,20.0 C128.0,16.0,140.0,4.0,136.0,4.0 C132.0,4.0,124.0,12.0,120.0,20.0 M136.0,20.0 L160.0,20.0 Q160.0,28.0,144.0,36.0 M160.0,20.0 M176.0,20.0 M184.0,12.0 L176.0,20.0 L224.0,20.0 Q233.0,17.0,236.0,20.0 C240.0,20.0,236.0,24.0,232.0,24.0 C228.0,24.0,232.0,20.0,236.0,20.0 M252.0,20.0 Q261.0,17.0,264.0,20.0 Q280.0,4.0,284.0,4.0 Q288.0,4.0,272.0,20.0 M288.0,20.0 C296.0,16.0,308.0,4.0,304.0,4.0 C300.0,4.0,292.0,12.0,288.0,20.0 Q300.0,32.0,336.0,20.0 Q344.0,12.0,348.0,12.0 Q352.0,12.0,344.0,20.0 L352.0,12.0 M344.0,20.0 M360.0,20.0 M376.0,4.0 Q376.0,12.0,360.0,20.0 L408.0,20.0 Q417.0,17.0,420.0,20.0 M436.0,20.0 L420.0,36.0 L432.0,24.0 Q436.0,20.0,444.0,20.0 L468.0,20.0 M484.0,20.0 M492.0,12.0 Q496.0,16.0,484.0,20.0 C492.0,16.0,496.0,12.0,492.0,12.0 C488.0,12.0,484.0,16.0,484.0,20.0 Q502.0,14.0,508.0,20.0 Q524.0,4.0,528.0,4.0 Q532.0,4.0,516.0,20.0 L540.0,20.0 C540.0,24.0,536.0,28.0,532.0,28.0 C528.0,28.0,532.0,24.0,540.0,20.0 L548.0,12.0 M540.0,20.0 M556.0,20.0 Q565.0,17.0,568.0,20.0 C568.0,24.0,564.0,28.0,560.0,28.0 C556.0,28.0,560.0,24.0,568.0,20.0 Q576.0,20.0,580.0,16.0 L592.0,4.0 L576.0,20.0 L600.0,20.0 C608.0,16.0,612.0,12.0,608.0,12.0 C604.0,12.0,600.0,16.0,600.0,20.0 Q618.0,14.0,624.0,20.0 C636.0,16.0,628.0,16.0,640.0,12.0 Q628.0,16.0,632.0,20.0 L640.0,12.0 M632.0,20.0 M648.0,20.0 C652.0,20.0,648.0,24.0,644.0,24.0 C640.0,24.0,644.0,20.0,648.0,20.0 Q666.0,14.0,672.0,20.0 L664.0,28.0 L668.0,24.0 Q672.0,20.0,680.0,20.0 L704.0,20.0 Q712.0,20.0,716.0,16.0 L728.0,4.0 L712.0,20.0 M728.0,20.0 L752.0,20.0 Q752.0,28.0,736.0,36.0 M752.0,20.0 M768.0,20.0 C776.0,16.0,780.0,12.0,776.0,12.0 C772.0,12.0,768.0,16.0,768.0,20.0 Q777.0,17.0,780.0,20.0 C792.0,16.0,784.0,16.0,796.0,12.0 Q784.0,16.0,788.0,20.0 Q800.0,32.0,836.0,20.0 C844.0,16.0,848.0,12.0,844.0,12.0 C840.0,12.0,836.0,16.0,836.0,20.0 Q844.0,20.0,848.0,16.0 L860.0,4.0 L844.0,20.0 Q853.0,17.0,856.0,20.0 C856.0,24.0,844.0,36.0,840.0,36.0 C836.0,36.0,844.0,28.0,856.0,20.0 M872.0,20.0 M888.0,4.0 Q888.0,12.0,872.0,20.0 Q881.0,17.0,884.0,20.0 Q900.0,4.0,904.0,4.0 Q908.0,4.0,892.0,20.0 C892.0,24.0,888.0,28.0,884.0,28.0 C880.0,28.0,884.0,24.0,892.0,20.0 Q901.0,17.0,904.0,20.0 Q912.0,12.0,916.0,12.0 Q920.0,12.0,912.0,20.0 M928.0,20.0 M936.0,12.0 Q924.0,16.0,928.0,20.0 Q940.0,32.0,976.0,20.0 C984.0,16.0,988.0,12.0,984.0,12.0 C980.0,12.0,976.0,16.0,976.0,20.0 L1000.0,20.0 Q1008.0,12.0,1012.0,12.0 Q1016.0,12.0,1008.0,20.0 Q1020.0,16.0,1016.0,12.0 C1020.0,16.0,1012.0,16.0,1016.0,20.0 L1064.0,20.0 C1064.0,24.0,1060.0,28.0,1056.0,28.0 C1052.0,28.0,1056.0,24.0,1064.0,20.0 Q1072.0,20.0,1076.0,16.0 L1088.0,4.0 L1072.0,20.0 L1096.0,20.0 C1096.0,24.0,1092.0,28.0,1088.0,28.0 C1084.0,28.0,1088.0,24.0,1096.0,20.0 Q1104.0,12.0,1108.0,12.0 Q1112.0,12.0,1104.0,20.0\" stroke=\"black\" fill=\"none\" stroke-width=\"1.3333333333333333\" stroke-linecap=\"round\" stroke-linejoin=\"round\" id=\"LjGjifHk0\" />\n",
       "</defs>\n",
       "<use xlink:href=\"#LjGjifHk0\" x=\"0\" y=\"0\" />\n",
       "</svg>"
      ],
      "text/plain": [
       "<drawsvg.drawing.Drawing at 0x10a466e50>"
      ]
     },
     "metadata": {},
     "output_type": "display_data"
    }
   ],
   "source": [
    "show_grafoni(\"a great deal of time is lost by the present indirect method of recording business correspondence\")"
   ]
  },
  {
   "cell_type": "code",
   "execution_count": 74,
   "metadata": {},
   "outputs": [
    {
     "name": "stdout",
     "output_type": "stream",
     "text": [
      "lv1 mv2 r l d-end\n"
     ]
    },
    {
     "data": {
      "image/svg+xml": [
       "<?xml version=\"1.0\" encoding=\"UTF-8\"?>\n",
       "<svg xmlns=\"http://www.w3.org/2000/svg\" xmlns:xlink=\"http://www.w3.org/1999/xlink\"\n",
       "     width=\"64.0\" height=\"27.0\" viewBox=\"0 0 64.0 27.0\">\n",
       "<defs>\n",
       "<path d=\"M4.0,20.0 Q7.0,23.0,16.0,20.0 L40.0,20.0 C48.0,16.0,52.0,12.0,48.0,12.0 C44.0,12.0,40.0,16.0,40.0,20.0 C48.0,16.0,60.0,4.0,56.0,4.0 C52.0,4.0,44.0,12.0,40.0,20.0 L56.0,4.0 M40.0,20.0\" stroke=\"black\" fill=\"none\" stroke-width=\"1.3333333333333333\" stroke-linecap=\"round\" stroke-linejoin=\"round\" id=\"NNx8PQvi0\" />\n",
       "</defs>\n",
       "<use xlink:href=\"#NNx8PQvi0\" x=\"0\" y=\"0\" />\n",
       "</svg>"
      ],
      "text/plain": [
       "<drawsvg.drawing.Drawing at 0x10a2f1d90>"
      ]
     },
     "metadata": {},
     "output_type": "display_data"
    }
   ],
   "source": [
    "show_grafoni(\"world\")"
   ]
  },
  {
   "cell_type": "code",
   "execution_count": 75,
   "metadata": {},
   "outputs": [
    {
     "name": "stdout",
     "output_type": "stream",
     "text": [
      "k s\n"
     ]
    },
    {
     "data": {
      "image/svg+xml": [
       "<?xml version=\"1.0\" encoding=\"UTF-8\"?>\n",
       "<svg xmlns=\"http://www.w3.org/2000/svg\" xmlns:xlink=\"http://www.w3.org/1999/xlink\"\n",
       "     width=\"32.0\" height=\"16.0\" viewBox=\"0 0 32.0 16.0\">\n",
       "<defs>\n",
       "<path d=\"M4.0,12.0 C16.0,8.0,8.0,8.0,20.0,4.0 Q8.0,8.0,12.0,12.0 Q20.0,4.0,24.0,4.0 Q28.0,4.0,20.0,12.0\" stroke=\"black\" fill=\"none\" stroke-width=\"1.3333333333333333\" stroke-linecap=\"round\" stroke-linejoin=\"round\" id=\"PzBlbCXu0\" />\n",
       "</defs>\n",
       "<use xlink:href=\"#PzBlbCXu0\" x=\"0\" y=\"0\" />\n",
       "</svg>"
      ],
      "text/plain": [
       "<drawsvg.drawing.Drawing at 0x10a5f3e80>"
      ]
     },
     "metadata": {},
     "output_type": "display_data"
    }
   ],
   "source": [
    "show_grafoni([\"k\", \"s\"])"
   ]
  },
  {
   "cell_type": "code",
   "execution_count": 76,
   "metadata": {},
   "outputs": [],
   "source": [
    "# change last curve to be a little longer, and flat.  do nothing with negatives, but do something with non-negatives, including zero\n",
    "def r_extend(strokes,length=1):\n",
    "    strokes = strokes.copy()\n",
    "    if length < 0:\n",
    "        return strokes\n",
    "    s = strokes[-1]\n",
    "    if s[0] == 'move':\n",
    "        strokes[-1] = ('move',s[1]+length,s[2])\n",
    "    if s[0] == 'line':\n",
    "        strokes[-1] = ('quadratic',s[1],s[2],s[1]+length,s[2])\n",
    "    if s[0] == 'quadratic':\n",
    "        strokes[-1] = ('cubic',s[1],s[2],s[3],s[4],s[3]+length,s[4])\n",
    "    if s[0] == 'cubic':\n",
    "        strokes[-1] = ('cubic',s[1],s[2],s[3],s[6],s[5]+length,s[6]) #note I kinda just flatten the end\n",
    "    return strokes\n",
    "\n",
    "# change first curve to be a little longer and flat, translate the rest\n",
    "# assumes you start at 0,0 (as all should)\n",
    "def l_extend(strokes,length = 1):\n",
    "    strokes = strokes.copy()\n",
    "    if length < 0:\n",
    "        return strokes\n",
    "    s = strokes[0]\n",
    "    if s[0] == 'move':\n",
    "        strokes[0] = ('move',s[1]+length,s[2])\n",
    "    if s[0] == 'line':\n",
    "        strokes[0] = ('quadratic',length,0,s[1]+length,s[2])\n",
    "    if s[0] == 'quadratic':\n",
    "        strokes[0] = ('cubic',length,0,s[1]+length,s[2],s[3]+length,s[4])\n",
    "    if s[0] == 'cubic':\n",
    "        strokes[0] = ('cubic',s[1]+length,0,s[3]+length,s[4],s[5]+length,s[6]) #note I kinda just flatten the end\n",
    "    return [strokes[0]] + translate(strokes[1:],length,0)\n",
    "    "
   ]
  },
  {
   "cell_type": "code",
   "execution_count": 77,
   "metadata": {},
   "outputs": [],
   "source": [
    "def show_extended(letter,l_length,r_length):\n",
    "    out = [('move',0,0)]\n",
    "    out += r_extend(l_extend(letter_forms[letter],l_length),r_length)\n",
    "    print(out)\n",
    "    display(svgStrokes(out))"
   ]
  },
  {
   "cell_type": "code",
   "execution_count": 78,
   "metadata": {},
   "outputs": [
    {
     "name": "stdout",
     "output_type": "stream",
     "text": [
      "[('move', 0, 0), ('quadratic', 2, 0, 2, -2), ('line', 2, -4), ('quadratic', 2, 0, 3, 0)]\n"
     ]
    },
    {
     "data": {
      "image/svg+xml": [
       "<?xml version=\"1.0\" encoding=\"UTF-8\"?>\n",
       "<svg xmlns=\"http://www.w3.org/2000/svg\" xmlns:xlink=\"http://www.w3.org/1999/xlink\"\n",
       "     width=\"20\" height=\"24\" viewBox=\"0 0 20 24\">\n",
       "<defs>\n",
       "<path d=\"M4,20 Q12,20,12,12 L12,4 Q12,20,16,20\" stroke=\"black\" fill=\"none\" stroke-width=\"1.3333333333333333\" stroke-linecap=\"round\" stroke-linejoin=\"round\" id=\"xJ3ZXKSg0\" />\n",
       "</defs>\n",
       "<use xlink:href=\"#xJ3ZXKSg0\" x=\"0\" y=\"0\" />\n",
       "</svg>"
      ],
      "text/plain": [
       "<drawsvg.drawing.Drawing at 0x10a58d940>"
      ]
     },
     "metadata": {},
     "output_type": "display_data"
    }
   ],
   "source": [
    "show_extended(\"t\",-1,1)"
   ]
  },
  {
   "cell_type": "code",
   "execution_count": 79,
   "metadata": {},
   "outputs": [],
   "source": [
    "def show_kern(l_letter,r_letter,l_length,r_length):\n",
    "    out = [('move',0,0)]\n",
    "    out += r_extend(letter_forms[l_letter],l_length)\n",
    "    out = concat(out,l_extend(letter_forms[r_letter],r_length))\n",
    "    display(svgStrokes(out))"
   ]
  },
  {
   "cell_type": "code",
   "execution_count": 80,
   "metadata": {},
   "outputs": [
    {
     "data": {
      "image/svg+xml": [
       "<?xml version=\"1.0\" encoding=\"UTF-8\"?>\n",
       "<svg xmlns=\"http://www.w3.org/2000/svg\" xmlns:xlink=\"http://www.w3.org/1999/xlink\"\n",
       "     width=\"32\" height=\"40\" viewBox=\"0 0 32 40\">\n",
       "<defs>\n",
       "<path d=\"M4,36 Q12,36,12,28 L12,4 Q12,36,16,36 C20,36,20,20,24,20 Q28,20,28,36\" stroke=\"black\" fill=\"none\" stroke-width=\"1.3333333333333333\" stroke-linecap=\"round\" stroke-linejoin=\"round\" id=\"R5bFBpyC0\" />\n",
       "</defs>\n",
       "<use xlink:href=\"#R5bFBpyC0\" x=\"0\" y=\"0\" />\n",
       "</svg>"
      ],
      "text/plain": [
       "<drawsvg.drawing.Drawing at 0x10a29d910>"
      ]
     },
     "metadata": {},
     "output_type": "display_data"
    }
   ],
   "source": [
    "show_kern(\"d\",\"s\",1,1)"
   ]
  },
  {
   "cell_type": "markdown",
   "metadata": {},
   "source": [
    "#potential ligatures\n",
    "* k lv1\n",
    "* th r\n",
    "* f r\n",
    "* f l\n",
    "* s m\n",
    "* s n\n",
    "* s f\n",
    "* k sh\n",
    "* sh r\n",
    "* m p\n",
    "* m p\n",
    "* n t\n",
    "* n d"
   ]
  },
  {
   "cell_type": "code",
   "execution_count": 81,
   "metadata": {},
   "outputs": [],
   "source": [
    "from collections import defaultdict\n",
    "\n",
    "# this dictionary will hold kerning instructions for pairs of letters, it says how much to kern the left letter on the right and the right letter on the left\n",
    "kerning = defaultdict(lambda: (-1,-1))\n",
    "kerning[(\"t-beg\",\"r\")] = (0.5,1.5)\n",
    "kerning[(\"t-beg\",\"l\")] = (0.5,1.5)\n",
    "kerning[(\"d-beg\",\"r\")] = (0.5,1.5)\n",
    "kerning[(\"d-beg\",\"l\")] = (0.5,1.5)\n",
    "kerning[(\"t\",\"r\")] = (0.5,1.5)\n",
    "kerning[(\"t\",\"l\")] = (0.5,1.5)\n",
    "kerning[(\"d\",\"r\")] = (0.5,1.5)\n",
    "kerning[(\"d\",\"l\")] = (0.5,1.5)\n",
    "kerning[(\"t\",\"s\")] = (1,1)\n",
    "kerning[(\"t\",\"z\")] = (1,1)\n",
    "kerning[(\"d\",\"s\")] = (1,1)\n",
    "kerning[(\"d\",\"z\")] = (1,1)\n",
    "kerning[(\"g-beg\",\"r\")] = (1,1)\n",
    "kerning[(\"g-beg\",\"l\")] = (1,1)\n",
    "kerning[(\"k-beg\",\"r\")] = (1,1)\n",
    "kerning[(\"k-beg\",\"l\")] = (1,1)\n",
    "kerning[(\"g\",\"r\")] = (0.5,1)\n",
    "kerning[(\"g\",\"l\")] = (0.5,1)\n",
    "kerning[(\"k\",\"r\")] = (0.5,1)\n",
    "kerning[(\"k\",\"l\")] = (0.5,1)\n",
    "kerning[(\"r\",\"p\")] = (1,0.5)\n",
    "kerning[(\"r\",\"b\")] = (1,0.5)\n",
    "kerning[(\"l\",\"p\")] = (1,0.5)\n",
    "kerning[(\"l\",\"b\")] = (1,0.5)\n",
    "kerning[(\"p-beg\",\"r\")] = (1.5,1)\n",
    "kerning[(\"p-beg\",\"l\")] = (1.5,1)\n",
    "kerning[(\"b-beg\",\"r\")] = (1.5,0.5)\n",
    "kerning[(\"b-beg\",\"l\")] = (1.5,0.5)\n",
    "kerning[(\"p\",\"r\")] = (0.5,1)\n",
    "kerning[(\"p\",\"l\")] = (0.5,1)\n",
    "kerning[(\"b\",\"r\")] = (0.5,0.5)\n",
    "kerning[(\"b\",\"l\")] = (0.5,0.5)\n",
    "kerning[(\"r\",\"l\")] = (1,1)\n",
    "kerning[(\"r\",\"k\")] = (0.5,0.5)\n",
    "kerning[(\"r\",\"g\")] = (0.5,0.5)\n",
    "kerning[(\"r\",\"s\")] = (1.5,0.5)\n",
    "kerning[(\"r\",\"z\")] = (1.5,0.5)\n",
    "kerning[(\"l\",\"r\")] = (1,1)\n",
    "kerning[(\"l\",\"k\")] = (0.5,0.5)\n",
    "kerning[(\"l\",\"g\")] = (0.5,0.5)\n",
    "kerning[(\"l\",\"s\")] = (1.5,0.5)\n",
    "kerning[(\"l\",\"z\")] = (1.5,0.5)\n",
    "kerning[(\"s\",\"t-end\")] = (1,0.5)\n",
    "kerning[(\"s\",\"d-end\")] = (1,0.5)\n",
    "kerning[(\"z\",\"t-end\")] = (1,0.5)\n",
    "kerning[(\"z\",\"d-end\")] = (1,0.5)\n",
    "kerning[(\"r\",\"t-end\")] = (1,0.5)\n",
    "kerning[(\"r\",\"d-end\")] = (1,0.5)\n",
    "kerning[(\"l\",\"t-end\")] = (1,0.5)\n",
    "kerning[(\"l\",\"d-end\")] = (1,0.5)\n",
    "kerning[(\"k\",\"t-end\")] = (0.5,0.5)\n",
    "kerning[(\"k\",\"d-end\")] = (0.5,0.5)\n",
    "kerning[(\"g\",\"t-end\")] = (0.5,0.5)\n",
    "kerning[(\"g\",\"d-end\")] = (0.5,0.5)\n",
    "kerning[(\"s\",\"p\")] = (0.5,0.5)\n",
    "kerning[(\"s\",\"b\")] = (0.5,0.5)\n",
    "kerning[(\"z\",\"p\")] = (0.5,0.5)\n",
    "kerning[(\"z\",\"b\")] = (0.5,0.5)\n",
    "kerning[(\"s\",\"k\")] = (0.5,0.5)\n",
    "kerning[(\"s\",\"g\")] = (0.5,0.5)\n",
    "kerning[(\"z\",\"k\")] = (0.5,0.5)\n",
    "kerning[(\"z\",\"g\")] = (0.5,0.5)\n",
    "kerning[(\"s\",\"r\")] = (0.5,1.5)\n",
    "kerning[(\"s\",\"l\")] = (0.5,1.5)\n",
    "kerning[(\"z\",\"r\")] = (0.5,1.5)\n",
    "kerning[(\"z\",\"l\")] = (0.5,1.5)\n",
    "kerning[(\"k\",\"s\")] = (0.5,0.5)\n",
    "kerning[(\"k\",\"z\")] = (0.5,0.5)\n",
    "kerning[(\"g\",\"s\")] = (0.5,0.5)\n",
    "kerning[(\"g\",\"z\")] = (0.5,0.5)\n",
    "kerning[(\"k-beg\",\"s\")] = (0.5,0.5)\n",
    "kerning[(\"k-beg\",\"z\")] = (0.5,0.5)\n",
    "kerning[(\"g-beg\",\"s\")] = (0.5,0.5)\n",
    "kerning[(\"g-beg\",\"z\")] = (0.5,0.5)\n",
    "kerning[(\"t\",\"r\")] = (0.5,1.5)\n",
    "kerning[(\"t\",\"l\")] = (0.5,1.5)\n",
    "kerning[(\"d\",\"r\")] = (0.5,1.5)\n",
    "kerning[(\"d\",\"l\")] = (0.5,1.5)\n",
    "kerning[(\"r\",\"mv1\")] = (1,-1)\n",
    "kerning[(\"r\",\"mv2\")] = (1,-1)\n",
    "kerning[(\"r\",\"mv3\")] = (1,-1)\n",
    "kerning[(\"l\",\"mv1\")] = (1,-1)\n",
    "kerning[(\"l\",\"mv2\")] = (1,-1)\n",
    "kerning[(\"l\",\"mv3\")] = (1,-1)\n",
    "kerning[(\"mv1\",\"r\")] = (-1,1)\n",
    "kerning[(\"mv2\",\"r\")] = (-1,1)\n",
    "kerning[(\"mv3\",\"r\")] = (-1,1)\n",
    "kerning[(\"mv1\",\"l\")] = (-1,1)\n",
    "kerning[(\"mv2\",\"l\")] = (-1,1)\n",
    "kerning[(\"mv3\",\"l\")] = (-1,1)\n",
    "kerning[(\"n\",\"mv1\")] = (1,-1)\n",
    "kerning[(\"n\",\"mv2\")] = (1,-1)\n",
    "kerning[(\"n\",\"mv3\")] = (1,-1)\n",
    "kerning[(\"ng\",\"mv1\")] = (1,-1)\n",
    "kerning[(\"ng\",\"mv2\")] = (1,-1)\n",
    "kerning[(\"ng\",\"mv3\")] = (1,-1)\n",
    "kerning[(\"mv1\",\"n\")] = (-1,1)\n",
    "kerning[(\"mv2\",\"n\")] = (-1,1)\n",
    "kerning[(\"mv3\",\"n\")] = (-1,1)\n",
    "kerning[(\"mv1\",\"ng\")] = (-1,1)\n",
    "kerning[(\"mv2\",\"ng\")] = (-1,1)\n",
    "kerning[(\"mv3\",\"ng\")] = (-1,1)\n",
    "kerning[(\"n\",\"sh\")] = (1,1)\n",
    "kerning[(\"n\",\"zh\")] = (1,1)\n",
    "kerning[(\"ng\",\"sh\")] = (1,1)\n",
    "kerning[(\"ng\",\"zh\")] = (1,1)"
   ]
  },
  {
   "cell_type": "code",
   "execution_count": 82,
   "metadata": {},
   "outputs": [],
   "source": [
    "def show_grafoni_kerned(in_string,bend = True):\n",
    "    chars = in_string\n",
    "    if isinstance(chars, str):\n",
    "        chars = process_ends(grafoni_spell(in_string))\n",
    "    print(\" \".join(chars))\n",
    "    out = [('move',0,0)]\n",
    "    last_char = \" \"\n",
    "    for l in chars:\n",
    "        if l in letter_forms:\n",
    "            l_kern,r_kern = kerning[(last_char,l)]\n",
    "            last_char = l\n",
    "            out = concat(r_extend(out,l_kern),l_extend(letter_forms[l],r_kern))\n",
    "        else:\n",
    "            print(\"error: \" + l)\n",
    "    if bend:\n",
    "        #return display(svgStrokes(shear(scale(out,1,0.5),by=-1/sqrt(3))))\n",
    "        return display(svgStrokes(shear(scale(out,1,0.5),by=-1)))\n",
    "    else:\n",
    "        return display(svgStrokes(out))"
   ]
  },
  {
   "cell_type": "code",
   "execution_count": 83,
   "metadata": {},
   "outputs": [
    {
     "name": "stdout",
     "output_type": "stream",
     "text": [
      "s p l uv3 sh   lv1 mv2 r l d-end\n"
     ]
    },
    {
     "data": {
      "image/svg+xml": [
       "<?xml version=\"1.0\" encoding=\"UTF-8\"?>\n",
       "<svg xmlns=\"http://www.w3.org/2000/svg\" xmlns:xlink=\"http://www.w3.org/1999/xlink\"\n",
       "     width=\"176.0\" height=\"32.0\" viewBox=\"0 0 176.0 32.0\">\n",
       "<defs>\n",
       "<path d=\"M4.0,20.0 Q12.0,12.0,16.0,12.0 C20.0,12.0,12.0,20.0,14.0,20.0 C16.0,20.0,28.0,16.0,24.0,12.0 C28.0,16.0,16.0,20.0,26.0,20.0 C34.0,20.0,50.0,4.0,46.0,4.0 C42.0,4.0,34.0,12.0,30.0,20.0 Q66.0,8.0,78.0,20.0 Q70.0,28.0,74.0,28.0 Q78.0,28.0,86.0,20.0 M102.0,20.0 Q105.0,23.0,114.0,20.0 L138.0,20.0 C146.0,20.0,154.0,12.0,150.0,12.0 C146.0,12.0,138.0,20.0,146.0,20.0 C154.0,20.0,170.0,4.0,166.0,4.0 C162.0,4.0,146.0,20.0,154.0,20.0 Q156.0,20.0,172.0,4.0 M156.0,20.0\" stroke=\"black\" fill=\"none\" stroke-width=\"1.3333333333333333\" stroke-linecap=\"round\" stroke-linejoin=\"round\" id=\"pxE8EjgG0\" />\n",
       "</defs>\n",
       "<use xlink:href=\"#pxE8EjgG0\" x=\"0\" y=\"0\" />\n",
       "</svg>"
      ],
      "text/plain": [
       "<drawsvg.drawing.Drawing at 0x10a36c880>"
      ]
     },
     "metadata": {},
     "output_type": "display_data"
    }
   ],
   "source": [
    "show_grafoni_kerned(\"splash world\")"
   ]
  },
  {
   "cell_type": "code",
   "execution_count": 84,
   "metadata": {},
   "outputs": [
    {
     "name": "stdout",
     "output_type": "stream",
     "text": [
      "mv2   g-beg r uv2 uv1 t-end   d-beg uv1 uv1 l   mv2 v-end   t-beg mv3 uv1 m   uv1 z   l lv3 s t-end   b-beg mv3 uv1   dh mv2   p-beg r uv2 z mv2 n t-end   uv1 n d mv2 r uv2 k t-end   m uv2 th mv2 d   mv2 v-end   r uv1 k lv3 r d uv1 ng   b-beg uv1 z n uv1 s   k-beg lv3 r mv2 s p mv3 n d mv2 n s\n"
     ]
    },
    {
     "data": {
      "image/svg+xml": [
       "<?xml version=\"1.0\" encoding=\"UTF-8\"?>\n",
       "<svg xmlns=\"http://www.w3.org/2000/svg\" xmlns:xlink=\"http://www.w3.org/1999/xlink\"\n",
       "     width=\"1168.0\" height=\"40.0\" viewBox=\"0 0 1168.0 40.0\">\n",
       "<defs>\n",
       "<path d=\"M4.0,20.0 L28.0,20.0 M44.0,20.0 M60.0,4.0 C44.0,12.0,44.0,20.0,48.0,20.0 C56.0,20.0,64.0,12.0,60.0,12.0 C56.0,12.0,52.0,16.0,52.0,20.0 Q70.0,14.0,76.0,20.0 Q85.0,17.0,88.0,20.0 L96.0,12.0 M88.0,20.0 M104.0,20.0 M120.0,4.0 L104.0,20.0 Q113.0,17.0,116.0,20.0 Q125.0,17.0,128.0,20.0 C136.0,16.0,148.0,4.0,144.0,4.0 C140.0,4.0,132.0,12.0,128.0,20.0 M144.0,20.0 L168.0,20.0 Q168.0,28.0,152.0,36.0 M168.0,20.0 M184.0,20.0 M192.0,12.0 L184.0,20.0 L232.0,20.0 Q241.0,17.0,244.0,20.0 C248.0,20.0,244.0,24.0,240.0,24.0 C236.0,24.0,240.0,20.0,244.0,20.0 M260.0,20.0 Q269.0,17.0,272.0,20.0 Q288.0,4.0,292.0,4.0 Q296.0,4.0,280.0,20.0 M296.0,20.0 C304.0,16.0,316.0,4.0,312.0,4.0 C308.0,4.0,300.0,12.0,296.0,20.0 Q308.0,32.0,344.0,20.0 Q352.0,12.0,356.0,12.0 C360.0,12.0,352.0,20.0,356.0,20.0 Q358.0,20.0,366.0,12.0 M358.0,20.0 M374.0,20.0 M390.0,4.0 Q390.0,12.0,374.0,20.0 L422.0,20.0 Q431.0,17.0,434.0,20.0 M450.0,20.0 L434.0,36.0 L446.0,24.0 Q450.0,20.0,458.0,20.0 L482.0,20.0 M498.0,20.0 M506.0,12.0 C510.0,16.0,498.0,20.0,504.0,20.0 C512.0,20.0,520.0,12.0,516.0,12.0 C512.0,12.0,508.0,16.0,508.0,20.0 Q526.0,14.0,532.0,20.0 Q548.0,4.0,552.0,4.0 Q556.0,4.0,540.0,20.0 L564.0,20.0 C572.0,20.0,564.0,28.0,560.0,28.0 C556.0,28.0,560.0,24.0,568.0,20.0 L576.0,12.0 M568.0,20.0 M584.0,20.0 Q593.0,17.0,596.0,20.0 C596.0,24.0,592.0,28.0,588.0,28.0 C584.0,28.0,588.0,24.0,596.0,20.0 Q604.0,20.0,608.0,16.0 L620.0,4.0 L604.0,20.0 L628.0,20.0 C636.0,20.0,644.0,12.0,640.0,12.0 C636.0,12.0,632.0,16.0,632.0,20.0 Q650.0,14.0,656.0,20.0 C668.0,16.0,660.0,16.0,672.0,12.0 C660.0,16.0,664.0,20.0,666.0,20.0 Q668.0,20.0,676.0,12.0 M668.0,20.0 M684.0,20.0 C688.0,20.0,684.0,24.0,680.0,24.0 C676.0,24.0,680.0,20.0,684.0,20.0 Q702.0,14.0,708.0,20.0 L700.0,28.0 L704.0,24.0 Q708.0,20.0,716.0,20.0 L740.0,20.0 Q748.0,20.0,752.0,16.0 L764.0,4.0 L748.0,20.0 M764.0,20.0 L788.0,20.0 Q788.0,28.0,772.0,36.0 M788.0,20.0 M804.0,20.0 C812.0,16.0,816.0,12.0,812.0,12.0 C808.0,12.0,804.0,16.0,804.0,20.0 Q813.0,17.0,816.0,20.0 C828.0,16.0,820.0,16.0,832.0,12.0 Q820.0,16.0,824.0,20.0 Q836.0,32.0,872.0,20.0 C880.0,16.0,884.0,12.0,880.0,12.0 C876.0,12.0,872.0,16.0,872.0,20.0 Q880.0,20.0,884.0,16.0 L896.0,4.0 L880.0,20.0 Q889.0,17.0,892.0,20.0 C892.0,24.0,880.0,36.0,876.0,36.0 C872.0,36.0,880.0,28.0,892.0,20.0 M908.0,20.0 M924.0,4.0 Q924.0,12.0,908.0,20.0 Q917.0,17.0,920.0,20.0 Q936.0,4.0,940.0,4.0 Q944.0,4.0,928.0,20.0 C928.0,24.0,924.0,28.0,920.0,28.0 C916.0,28.0,920.0,24.0,928.0,20.0 Q937.0,17.0,940.0,20.0 Q948.0,12.0,952.0,12.0 Q956.0,12.0,948.0,20.0 M964.0,20.0 M972.0,12.0 Q960.0,16.0,964.0,20.0 Q976.0,32.0,1012.0,20.0 C1020.0,16.0,1024.0,12.0,1020.0,12.0 C1016.0,12.0,1008.0,20.0,1016.0,20.0 L1040.0,20.0 Q1048.0,12.0,1052.0,12.0 C1056.0,12.0,1048.0,20.0,1050.0,20.0 C1052.0,20.0,1064.0,16.0,1060.0,12.0 C1064.0,16.0,1056.0,16.0,1060.0,20.0 L1108.0,20.0 C1116.0,20.0,1108.0,28.0,1104.0,28.0 C1100.0,28.0,1104.0,24.0,1112.0,20.0 Q1120.0,20.0,1124.0,16.0 L1136.0,4.0 L1120.0,20.0 L1144.0,20.0 C1152.0,20.0,1144.0,28.0,1140.0,28.0 C1136.0,28.0,1140.0,24.0,1148.0,20.0 Q1156.0,12.0,1160.0,12.0 Q1164.0,12.0,1156.0,20.0\" stroke=\"black\" fill=\"none\" stroke-width=\"1.3333333333333333\" stroke-linecap=\"round\" stroke-linejoin=\"round\" id=\"J5oUvuDo0\" />\n",
       "</defs>\n",
       "<use xlink:href=\"#J5oUvuDo0\" x=\"0\" y=\"0\" />\n",
       "</svg>"
      ],
      "text/plain": [
       "<drawsvg.drawing.Drawing at 0x10a3ee4c0>"
      ]
     },
     "metadata": {},
     "output_type": "display_data"
    }
   ],
   "source": [
    "show_grafoni_kerned(\"a great deal of time is lost by the present indirect method of recording business correspondence\")"
   ]
  },
  {
   "cell_type": "code",
   "execution_count": 85,
   "metadata": {},
   "outputs": [
    {
     "name": "stdout",
     "output_type": "stream",
     "text": [
      "s p uv2 uv1 s   dh mv2   f-beg mv3 uv1 n mv2 l   f-beg r mv2 n t uv1 r   dh uv1 uv1 z   mv2 r   dh mv2   v-beg lv3 uv1 uv1 d zh uv1 z   mv2 v-end   dh mv2   s t mv3 r sh uv1 p-end   uv2 n mv2 r p r mv3 uv1 z\n"
     ]
    },
    {
     "data": {
      "image/svg+xml": [
       "<?xml version=\"1.0\" encoding=\"UTF-8\"?>\n",
       "<svg xmlns=\"http://www.w3.org/2000/svg\" xmlns:xlink=\"http://www.w3.org/1999/xlink\"\n",
       "     width=\"940.0\" height=\"40.0\" viewBox=\"0 0 940.0 40.0\">\n",
       "<defs>\n",
       "<path d=\"M4.0,20.0 Q12.0,12.0,16.0,12.0 C20.0,12.0,12.0,20.0,14.0,20.0 C16.0,20.0,28.0,16.0,24.0,12.0 C28.0,16.0,20.0,16.0,24.0,20.0 Q42.0,14.0,48.0,20.0 Q57.0,17.0,60.0,20.0 Q68.0,12.0,72.0,12.0 Q76.0,12.0,68.0,20.0 M84.0,20.0 L68.0,36.0 L80.0,24.0 Q84.0,20.0,92.0,20.0 L116.0,20.0 M132.0,20.0 M124.0,28.0 Q136.0,24.0,132.0,20.0 L180.0,20.0 Q189.0,17.0,192.0,20.0 C192.0,24.0,188.0,28.0,184.0,28.0 C180.0,28.0,188.0,20.0,196.0,20.0 L220.0,20.0 C228.0,20.0,244.0,4.0,240.0,4.0 C236.0,4.0,228.0,12.0,224.0,20.0 M240.0,20.0 M232.0,28.0 Q244.0,24.0,240.0,20.0 C248.0,16.0,252.0,12.0,248.0,12.0 C244.0,12.0,236.0,20.0,244.0,20.0 L268.0,20.0 C276.0,20.0,268.0,28.0,264.0,28.0 C260.0,28.0,264.0,24.0,272.0,20.0 Q280.0,20.0,284.0,16.0 L288.0,12.0 L280.0,20.0 Q289.0,17.0,292.0,20.0 C300.0,16.0,304.0,12.0,300.0,12.0 C296.0,12.0,292.0,16.0,292.0,20.0 M308.0,20.0 L292.0,36.0 L304.0,24.0 Q308.0,20.0,316.0,20.0 Q325.0,17.0,328.0,20.0 Q337.0,17.0,340.0,20.0 Q356.0,4.0,360.0,4.0 Q364.0,4.0,348.0,20.0 M364.0,20.0 L388.0,20.0 C396.0,20.0,404.0,12.0,400.0,12.0 C396.0,12.0,392.0,16.0,392.0,20.0 M408.0,20.0 L392.0,36.0 L404.0,24.0 Q408.0,20.0,416.0,20.0 L440.0,20.0 M456.0,20.0 M440.0,36.0 Q456.0,28.0,456.0,20.0 Q468.0,32.0,504.0,20.0 Q513.0,17.0,516.0,20.0 Q525.0,17.0,528.0,20.0 Q536.0,20.0,540.0,16.0 L552.0,4.0 L536.0,20.0 Q520.0,36.0,524.0,36.0 Q528.0,36.0,544.0,20.0 Q553.0,17.0,556.0,20.0 Q572.0,4.0,576.0,4.0 Q580.0,4.0,564.0,20.0 M580.0,20.0 L604.0,20.0 Q604.0,28.0,588.0,36.0 M604.0,20.0 M620.0,20.0 L604.0,36.0 L616.0,24.0 Q620.0,20.0,628.0,20.0 L652.0,20.0 M668.0,20.0 Q676.0,12.0,680.0,12.0 Q684.0,12.0,676.0,20.0 Q684.0,20.0,688.0,16.0 L692.0,12.0 L684.0,20.0 L732.0,20.0 C740.0,20.0,748.0,12.0,744.0,12.0 C740.0,12.0,736.0,16.0,736.0,20.0 Q728.0,28.0,732.0,28.0 Q736.0,28.0,744.0,20.0 Q753.0,17.0,756.0,20.0 Q768.0,16.0,764.0,12.0 M756.0,20.0 M772.0,20.0 Q790.0,14.0,796.0,20.0 C796.0,24.0,792.0,28.0,788.0,28.0 C784.0,28.0,792.0,20.0,800.0,20.0 L824.0,20.0 C832.0,20.0,840.0,12.0,836.0,12.0 C832.0,12.0,824.0,20.0,832.0,20.0 C834.0,20.0,846.0,16.0,842.0,12.0 C846.0,16.0,834.0,20.0,844.0,20.0 C852.0,20.0,860.0,12.0,856.0,12.0 C852.0,12.0,844.0,20.0,852.0,20.0 L900.0,20.0 Q909.0,17.0,912.0,20.0 Q928.0,4.0,932.0,4.0 Q936.0,4.0,920.0,20.0\" stroke=\"black\" fill=\"none\" stroke-width=\"1.3333333333333333\" stroke-linecap=\"round\" stroke-linejoin=\"round\" id=\"MhgoMJLS0\" />\n",
       "</defs>\n",
       "<use xlink:href=\"#MhgoMJLS0\" x=\"0\" y=\"0\" />\n",
       "</svg>"
      ],
      "text/plain": [
       "<drawsvg.drawing.Drawing at 0x10a490bb0>"
      ]
     },
     "metadata": {},
     "output_type": "display_data"
    }
   ],
   "source": [
    "show_grafoni_kerned(\"space the final frontier these are the voyages of the starship enterprise\")"
   ]
  },
  {
   "cell_type": "code",
   "execution_count": 86,
   "metadata": {},
   "outputs": [
    {
     "name": "stdout",
     "output_type": "stream",
     "text": [
      "h-beg uv2 l lv2 mv1   h-beg mv3 mv1   mv2 r   uv1 lv1   f uv1 uv1 l uv1 ng   t-beg mv2 d uv2 uv1\n"
     ]
    },
    {
     "data": {
      "image/svg+xml": [
       "<?xml version=\"1.0\" encoding=\"UTF-8\"?>\n",
       "<svg xmlns=\"http://www.w3.org/2000/svg\" xmlns:xlink=\"http://www.w3.org/1999/xlink\"\n",
       "     width=\"384.0\" height=\"40.0\" viewBox=\"0 0 384.0 40.0\">\n",
       "<defs>\n",
       "<path d=\"M16.0,20.0 M8.0,28.0 Q4.0,24.0,16.0,20.0 Q34.0,14.0,40.0,20.0 C48.0,16.0,60.0,4.0,56.0,4.0 C52.0,4.0,44.0,12.0,40.0,20.0 Q46.0,26.0,64.0,20.0 L76.0,20.0 M92.0,20.0 M84.0,28.0 Q80.0,24.0,92.0,20.0 L140.0,20.0 L152.0,20.0 M168.0,20.0 L192.0,20.0 C200.0,20.0,208.0,12.0,204.0,12.0 C200.0,12.0,196.0,16.0,196.0,20.0 M212.0,20.0 Q221.0,17.0,224.0,20.0 Q227.0,23.0,236.0,20.0 M252.0,20.0 Q256.0,24.0,244.0,28.0 C256.0,24.0,248.0,24.0,260.0,20.0 Q269.0,17.0,272.0,20.0 Q281.0,17.0,284.0,20.0 C292.0,16.0,304.0,4.0,300.0,4.0 C296.0,4.0,288.0,12.0,284.0,20.0 Q293.0,17.0,296.0,20.0 C296.0,24.0,284.0,36.0,280.0,36.0 C276.0,36.0,284.0,28.0,296.0,20.0 M312.0,20.0 M320.0,12.0 L312.0,20.0 L336.0,20.0 Q344.0,20.0,348.0,16.0 L360.0,4.0 L344.0,20.0 Q362.0,14.0,368.0,20.0 Q377.0,17.0,380.0,20.0\" stroke=\"black\" fill=\"none\" stroke-width=\"1.3333333333333333\" stroke-linecap=\"round\" stroke-linejoin=\"round\" id=\"beLHeF7c0\" />\n",
       "</defs>\n",
       "<use xlink:href=\"#beLHeF7c0\" x=\"0\" y=\"0\" />\n",
       "</svg>"
      ],
      "text/plain": [
       "<drawsvg.drawing.Drawing at 0x10a216ee0>"
      ]
     },
     "metadata": {},
     "output_type": "display_data"
    }
   ],
   "source": [
    "show_grafoni_kerned(\"hello how are you feeling today\")"
   ]
  },
  {
   "cell_type": "code",
   "execution_count": 87,
   "metadata": {},
   "outputs": [
    {
     "name": "stdout",
     "output_type": "stream",
     "text": [
      "mv3 uv1   n lv1   dh mv2   m lv2 mv1 m mv2 n t-end   dh mv2 t   mv3 uv1   f uv2 l   uv1 n t lv1   dh mv2   f uv1 sh mv2 r   dh mv2 t   m mv3 uv1   b-beg mv1 k-end   lv1 mv1 d   n mv3 t   b-beg uv1 uv1   d-beg uv1 s t r lv3 uv1 d-end   uv2 z   mv3 uv1   h-beg uv3 d-end   p-beg l uv3 n d-end\n"
     ]
    },
    {
     "data": {
      "image/svg+xml": [
       "<?xml version=\"1.0\" encoding=\"UTF-8\"?>\n",
       "<svg xmlns=\"http://www.w3.org/2000/svg\" xmlns:xlink=\"http://www.w3.org/1999/xlink\"\n",
       "     width=\"1286.0\" height=\"40.0\" viewBox=\"0 0 1286.0 40.0\">\n",
       "<defs>\n",
       "<path d=\"M4.0,20.0 L52.0,20.0 Q61.0,17.0,64.0,20.0 M80.0,20.0 C80.0,24.0,76.0,28.0,72.0,28.0 C68.0,28.0,72.0,24.0,80.0,20.0 Q83.0,23.0,92.0,20.0 M108.0,20.0 L92.0,36.0 L104.0,24.0 Q108.0,20.0,116.0,20.0 L140.0,20.0 M156.0,20.0 C160.0,20.0,156.0,24.0,152.0,24.0 C148.0,24.0,152.0,20.0,156.0,20.0 Q162.0,26.0,180.0,20.0 L192.0,20.0 C196.0,20.0,192.0,24.0,188.0,24.0 C184.0,24.0,188.0,20.0,192.0,20.0 L216.0,20.0 C224.0,20.0,216.0,28.0,212.0,28.0 C208.0,28.0,212.0,24.0,220.0,20.0 L228.0,12.0 M220.0,20.0 M236.0,20.0 L220.0,36.0 L232.0,24.0 Q236.0,20.0,244.0,20.0 L268.0,20.0 Q276.0,20.0,280.0,16.0 L284.0,12.0 L276.0,20.0 M292.0,20.0 L340.0,20.0 Q349.0,17.0,352.0,20.0 M368.0,20.0 Q372.0,24.0,360.0,28.0 C372.0,24.0,364.0,24.0,376.0,20.0 Q394.0,14.0,400.0,20.0 C408.0,16.0,420.0,4.0,416.0,4.0 C412.0,4.0,404.0,12.0,400.0,20.0 M416.0,20.0 Q425.0,17.0,428.0,20.0 C428.0,24.0,424.0,28.0,420.0,28.0 C416.0,28.0,420.0,24.0,428.0,20.0 Q436.0,20.0,440.0,16.0 L444.0,12.0 L436.0,20.0 Q439.0,23.0,448.0,20.0 M464.0,20.0 L448.0,36.0 L460.0,24.0 Q464.0,20.0,472.0,20.0 L496.0,20.0 M512.0,20.0 Q516.0,24.0,504.0,28.0 C516.0,24.0,508.0,24.0,520.0,20.0 Q529.0,17.0,532.0,20.0 Q524.0,28.0,528.0,28.0 Q532.0,28.0,540.0,20.0 L564.0,20.0 C572.0,20.0,580.0,12.0,576.0,12.0 C572.0,12.0,568.0,16.0,568.0,20.0 M584.0,20.0 L568.0,36.0 L580.0,24.0 Q584.0,20.0,592.0,20.0 L616.0,20.0 Q624.0,20.0,628.0,16.0 L632.0,12.0 L624.0,20.0 M640.0,20.0 C644.0,20.0,640.0,24.0,636.0,24.0 C632.0,24.0,636.0,20.0,640.0,20.0 L688.0,20.0 Q697.0,17.0,700.0,20.0 M716.0,20.0 M732.0,4.0 Q732.0,12.0,716.0,20.0 L728.0,20.0 Q724.0,16.0,736.0,12.0 M728.0,20.0 M744.0,20.0 Q747.0,23.0,756.0,20.0 L768.0,20.0 Q776.0,20.0,780.0,16.0 L792.0,4.0 L776.0,20.0 M792.0,20.0 C792.0,24.0,788.0,28.0,784.0,28.0 C780.0,28.0,788.0,20.0,796.0,20.0 L844.0,20.0 Q852.0,20.0,856.0,16.0 L860.0,12.0 L852.0,20.0 M868.0,20.0 M884.0,4.0 Q884.0,12.0,868.0,20.0 Q877.0,17.0,880.0,20.0 Q889.0,17.0,892.0,20.0 M908.0,20.0 M924.0,4.0 L908.0,20.0 Q917.0,17.0,920.0,20.0 Q928.0,12.0,932.0,12.0 Q936.0,12.0,928.0,20.0 Q936.0,20.0,940.0,16.0 L944.0,12.0 Q936.0,20.0,938.0,20.0 C948.0,20.0,956.0,12.0,952.0,12.0 C948.0,12.0,944.0,16.0,944.0,20.0 Q956.0,32.0,992.0,20.0 Q1001.0,17.0,1004.0,20.0 L1020.0,4.0 M1004.0,20.0 M1020.0,20.0 Q1038.0,14.0,1044.0,20.0 Q1060.0,4.0,1064.0,4.0 Q1068.0,4.0,1052.0,20.0 M1068.0,20.0 L1116.0,20.0 Q1125.0,17.0,1128.0,20.0 M1144.0,20.0 M1136.0,28.0 Q1132.0,24.0,1144.0,20.0 Q1180.0,8.0,1192.0,20.0 L1208.0,4.0 M1192.0,20.0 M1208.0,20.0 M1216.0,12.0 C1220.0,16.0,1208.0,20.0,1214.0,20.0 C1222.0,20.0,1238.0,4.0,1234.0,4.0 C1230.0,4.0,1222.0,12.0,1218.0,20.0 Q1254.0,8.0,1266.0,20.0 C1266.0,24.0,1262.0,28.0,1258.0,28.0 C1254.0,28.0,1258.0,24.0,1266.0,20.0 L1282.0,4.0 M1266.0,20.0\" stroke=\"black\" fill=\"none\" stroke-width=\"1.3333333333333333\" stroke-linecap=\"round\" stroke-linejoin=\"round\" id=\"IizQO5KY0\" />\n",
       "</defs>\n",
       "<use xlink:href=\"#IizQO5KY0\" x=\"0\" y=\"0\" />\n",
       "</svg>"
      ],
      "text/plain": [
       "<drawsvg.drawing.Drawing at 0x10a216670>"
      ]
     },
     "metadata": {},
     "output_type": "display_data"
    }
   ],
   "source": [
    "show_grafoni_kerned(\"I knew the moment that I fell into the fissure that my book would not be destroyed as I had planned\")"
   ]
  },
  {
   "cell_type": "code",
   "execution_count": 88,
   "metadata": {},
   "outputs": [],
   "source": [
    "def show_grafoni_kerned_wrapped(in_string,wrap = 100,shear_val=-1,line_space=20,v_scale=0.5):\n",
    "    chars = in_string\n",
    "    if isinstance(chars, str):\n",
    "        chars = process_ends(grafoni_spell(in_string))\n",
    "    print(\" \".join(chars))\n",
    "    out = [('move',0,0)]\n",
    "    last_char = \" \"\n",
    "    for l in chars:\n",
    "        if l in letter_forms:\n",
    "            l_kern,r_kern = kerning[(last_char,l)]\n",
    "            last_char = l\n",
    "            out = concat(r_extend(out,l_kern),l_extend(letter_forms[l],r_kern))\n",
    "        else:\n",
    "            print(\"error: \" + l)\n",
    "        if last_char == \" \"  and out[-1][-2] + shear_val*v_scale*out[-1][-1] > wrap:\n",
    "            out.append(('move',-shear_val*v_scale*(out[-1][-1]+line_space),out[-1][-1]+line_space))\n",
    "    return display(svgStrokes(shear(scale(out,1,v_scale),by=shear_val)))"
   ]
  },
  {
   "cell_type": "code",
   "execution_count": 89,
   "metadata": {},
   "outputs": [
    {
     "name": "stdout",
     "output_type": "stream",
     "text": [
      "mv3 uv1   n lv1   dh mv2   m lv2 mv1 m mv2 n t-end   dh mv2 t   mv3 uv1   f uv2 l   uv1 n t lv1   dh mv2   f uv1 sh mv2 r   dh mv2 t   m mv3 uv1   b-beg mv1 k-end   lv1 mv1 d   n mv3 t   b-beg uv1 uv1   d-beg uv1 s t r lv3 uv1 d-end   uv2 z   mv3 uv1   h-beg uv3 d-end   p-beg l uv3 n d .   uv2 z   mv3 uv1   f uv2 l   uv1 n t lv1   dh mv2 t   s t mv3 r uv1 uv1   uv1 k s p uv3 n s\n",
      "error: .\n"
     ]
    },
    {
     "data": {
      "image/svg+xml": [
       "<?xml version=\"1.0\" encoding=\"UTF-8\"?>\n",
       "<svg xmlns=\"http://www.w3.org/2000/svg\" xmlns:xlink=\"http://www.w3.org/1999/xlink\"\n",
       "     width=\"500.0\" height=\"160.0\" viewBox=\"0 0 500.0 160.0\">\n",
       "<defs>\n",
       "<path d=\"M4.0,20.0 L52.0,20.0 Q61.0,17.0,64.0,20.0 M80.0,20.0 C80.0,24.0,76.0,28.0,72.0,28.0 C68.0,28.0,72.0,24.0,80.0,20.0 Q83.0,23.0,92.0,20.0 M108.0,20.0 L92.0,36.0 L104.0,24.0 Q108.0,20.0,116.0,20.0 L140.0,20.0 M156.0,20.0 C160.0,20.0,156.0,24.0,152.0,24.0 C148.0,24.0,152.0,20.0,156.0,20.0 Q162.0,26.0,180.0,20.0 L192.0,20.0 C196.0,20.0,192.0,24.0,188.0,24.0 C184.0,24.0,188.0,20.0,192.0,20.0 L216.0,20.0 C224.0,20.0,216.0,28.0,212.0,28.0 C208.0,28.0,212.0,24.0,220.0,20.0 L228.0,12.0 M220.0,20.0 M236.0,20.0 L220.0,36.0 L232.0,24.0 Q236.0,20.0,244.0,20.0 L268.0,20.0 Q276.0,20.0,280.0,16.0 L284.0,12.0 L276.0,20.0 M292.0,20.0 L340.0,20.0 Q349.0,17.0,352.0,20.0 M368.0,20.0 Q372.0,24.0,360.0,28.0 C372.0,24.0,364.0,24.0,376.0,20.0 Q394.0,14.0,400.0,20.0 C408.0,16.0,420.0,4.0,416.0,4.0 C412.0,4.0,404.0,12.0,400.0,20.0 M416.0,20.0 M4.0,60.0 Q13.0,57.0,16.0,60.0 C16.0,64.0,12.0,68.0,8.0,68.0 C4.0,68.0,8.0,64.0,16.0,60.0 Q24.0,60.0,28.0,56.0 L32.0,52.0 L24.0,60.0 Q27.0,63.0,36.0,60.0 M52.0,60.0 L36.0,76.0 L48.0,64.0 Q52.0,60.0,60.0,60.0 L84.0,60.0 M100.0,60.0 Q104.0,64.0,92.0,68.0 C104.0,64.0,96.0,64.0,108.0,60.0 Q117.0,57.0,120.0,60.0 Q112.0,68.0,116.0,68.0 Q120.0,68.0,128.0,60.0 L152.0,60.0 C160.0,60.0,168.0,52.0,164.0,52.0 C160.0,52.0,156.0,56.0,156.0,60.0 M172.0,60.0 L156.0,76.0 L168.0,64.0 Q172.0,60.0,180.0,60.0 L204.0,60.0 Q212.0,60.0,216.0,56.0 L220.0,52.0 L212.0,60.0 M228.0,60.0 C232.0,60.0,228.0,64.0,224.0,64.0 C220.0,64.0,224.0,60.0,228.0,60.0 L276.0,60.0 Q285.0,57.0,288.0,60.0 M304.0,60.0 M320.0,44.0 Q320.0,52.0,304.0,60.0 L316.0,60.0 Q312.0,56.0,324.0,52.0 M316.0,60.0 M332.0,60.0 Q335.0,63.0,344.0,60.0 L356.0,60.0 Q364.0,60.0,368.0,56.0 L380.0,44.0 L364.0,60.0 M380.0,60.0 C380.0,64.0,376.0,68.0,372.0,68.0 C368.0,68.0,376.0,60.0,384.0,60.0 L432.0,60.0 Q440.0,60.0,444.0,56.0 L448.0,52.0 L440.0,60.0 M456.0,60.0 M4.0,100.0 M20.0,84.0 Q20.0,92.0,4.0,100.0 Q13.0,97.0,16.0,100.0 Q25.0,97.0,28.0,100.0 M44.0,100.0 M60.0,84.0 L44.0,100.0 Q53.0,97.0,56.0,100.0 Q64.0,92.0,68.0,92.0 Q72.0,92.0,64.0,100.0 Q72.0,100.0,76.0,96.0 L80.0,92.0 Q72.0,100.0,74.0,100.0 C84.0,100.0,92.0,92.0,88.0,92.0 C84.0,92.0,80.0,96.0,80.0,100.0 Q92.0,112.0,128.0,100.0 Q137.0,97.0,140.0,100.0 L156.0,84.0 M140.0,100.0 M156.0,100.0 Q174.0,94.0,180.0,100.0 Q196.0,84.0,200.0,84.0 Q204.0,84.0,188.0,100.0 M204.0,100.0 L252.0,100.0 Q261.0,97.0,264.0,100.0 M280.0,100.0 M272.0,108.0 Q268.0,104.0,280.0,100.0 Q316.0,88.0,328.0,100.0 L344.0,84.0 M328.0,100.0 M344.0,100.0 M352.0,92.0 C356.0,96.0,344.0,100.0,350.0,100.0 C358.0,100.0,374.0,84.0,370.0,84.0 C366.0,84.0,358.0,92.0,354.0,100.0 Q390.0,88.0,402.0,100.0 C402.0,104.0,398.0,108.0,394.0,108.0 C390.0,108.0,394.0,104.0,402.0,100.0 Q410.0,100.0,414.0,96.0 L426.0,84.0 L410.0,100.0 M426.0,100.0 M4.0,140.0 Q22.0,134.0,28.0,140.0 Q44.0,124.0,48.0,124.0 Q52.0,124.0,36.0,140.0 M52.0,140.0 L100.0,140.0 Q109.0,137.0,112.0,140.0 M128.0,140.0 Q132.0,144.0,120.0,148.0 C132.0,144.0,124.0,144.0,136.0,140.0 Q154.0,134.0,160.0,140.0 C168.0,136.0,180.0,124.0,176.0,124.0 C172.0,124.0,164.0,132.0,160.0,140.0 M176.0,140.0 Q185.0,137.0,188.0,140.0 C188.0,144.0,184.0,148.0,180.0,148.0 C176.0,148.0,180.0,144.0,188.0,140.0 Q196.0,140.0,200.0,136.0 L204.0,132.0 L196.0,140.0 Q199.0,143.0,208.0,140.0 M224.0,140.0 L208.0,156.0 L220.0,144.0 Q224.0,140.0,232.0,140.0 L256.0,140.0 Q264.0,140.0,268.0,136.0 L272.0,132.0 L264.0,140.0 M280.0,140.0 Q288.0,132.0,292.0,132.0 Q296.0,132.0,288.0,140.0 Q296.0,140.0,300.0,136.0 L304.0,132.0 L296.0,140.0 L344.0,140.0 C352.0,140.0,360.0,132.0,356.0,132.0 C352.0,132.0,348.0,136.0,348.0,140.0 Q357.0,137.0,360.0,140.0 Q369.0,137.0,372.0,140.0 M388.0,140.0 Q397.0,137.0,400.0,140.0 C412.0,136.0,404.0,136.0,416.0,132.0 C404.0,136.0,408.0,140.0,410.0,140.0 C412.0,140.0,420.0,132.0,424.0,132.0 C428.0,132.0,420.0,140.0,422.0,140.0 C424.0,140.0,436.0,136.0,432.0,132.0 C436.0,136.0,428.0,136.0,432.0,140.0 Q468.0,128.0,480.0,140.0 C480.0,144.0,476.0,148.0,472.0,148.0 C468.0,148.0,472.0,144.0,480.0,140.0 Q488.0,132.0,492.0,132.0 Q496.0,132.0,488.0,140.0\" stroke=\"black\" fill=\"none\" stroke-width=\"1.3333333333333333\" stroke-linecap=\"round\" stroke-linejoin=\"round\" id=\"liVPKIQL0\" />\n",
       "</defs>\n",
       "<use xlink:href=\"#liVPKIQL0\" x=\"0\" y=\"0\" />\n",
       "</svg>"
      ],
      "text/plain": [
       "<drawsvg.drawing.Drawing at 0x10a36c880>"
      ]
     },
     "metadata": {},
     "output_type": "display_data"
    }
   ],
   "source": [
    "show_grafoni_kerned_wrapped(\"I knew the moment that I fell into the fissure that my book would not be destroyed as I had planned. as I fell into that starry expanse\")"
   ]
  },
  {
   "cell_type": "code",
   "execution_count": 90,
   "metadata": {},
   "outputs": [
    {
     "name": "stdout",
     "output_type": "stream",
     "text": [
      "dh uv2 r   lv1 uv1 l   k-beg mv2 m   mv2   t-beg mv3 uv1 m   lv1 uv1 n   uv1 lv1   b-beg uv1 l uv1 uv1 v-end   uv2 v r uv1 uv1 th uv1 ng   uv1 z   f uv1 n uv1 sh t-end   dh mv2 t   lv1 uv1 l   b-beg uv1 uv1   dh mv2   b-beg uv1 g uv1 n uv1 ng\n"
     ]
    },
    {
     "data": {
      "image/svg+xml": [
       "<?xml version=\"1.0\" encoding=\"UTF-8\"?>\n",
       "<svg xmlns=\"http://www.w3.org/2000/svg\" xmlns:xlink=\"http://www.w3.org/1999/xlink\"\n",
       "     width=\"492.0\" height=\"80.0\" viewBox=\"0 0 492.0 80.0\">\n",
       "<defs>\n",
       "<path d=\"M20.0,20.0 L4.0,36.0 L16.0,24.0 Q20.0,20.0,28.0,20.0 Q46.0,14.0,52.0,20.0 C60.0,16.0,64.0,12.0,60.0,12.0 C56.0,12.0,52.0,16.0,52.0,20.0 M68.0,20.0 Q71.0,23.0,80.0,20.0 Q89.0,17.0,92.0,20.0 C100.0,16.0,112.0,4.0,108.0,4.0 C104.0,4.0,96.0,12.0,92.0,20.0 M108.0,20.0 M116.0,12.0 Q104.0,16.0,108.0,20.0 L132.0,20.0 C136.0,20.0,132.0,24.0,128.0,24.0 C124.0,24.0,128.0,20.0,132.0,20.0 M148.0,20.0 L172.0,20.0 M188.0,20.0 M196.0,12.0 L188.0,20.0 L236.0,20.0 Q245.0,17.0,248.0,20.0 C252.0,20.0,248.0,24.0,244.0,24.0 C240.0,24.0,244.0,20.0,248.0,20.0 M264.0,20.0 Q267.0,23.0,276.0,20.0 Q285.0,17.0,288.0,20.0 C288.0,24.0,284.0,28.0,280.0,28.0 C276.0,28.0,280.0,24.0,288.0,20.0 M304.0,20.0 Q313.0,17.0,316.0,20.0 Q319.0,23.0,328.0,20.0 M344.0,20.0 M360.0,4.0 Q360.0,12.0,344.0,20.0 Q353.0,17.0,356.0,20.0 C364.0,16.0,376.0,4.0,372.0,4.0 C368.0,4.0,360.0,12.0,356.0,20.0 Q365.0,17.0,368.0,20.0 Q377.0,17.0,380.0,20.0 Q380.0,28.0,364.0,36.0 M380.0,20.0 M396.0,20.0 Q414.0,14.0,420.0,20.0 Q420.0,28.0,404.0,36.0 C420.0,28.0,416.0,24.0,428.0,20.0 C436.0,16.0,440.0,12.0,436.0,12.0 C432.0,12.0,428.0,16.0,428.0,20.0 Q437.0,17.0,440.0,20.0 Q449.0,17.0,452.0,20.0 L444.0,28.0 L448.0,24.0 Q452.0,20.0,460.0,20.0 Q469.0,17.0,472.0,20.0 C472.0,24.0,460.0,36.0,456.0,36.0 C452.0,36.0,460.0,28.0,472.0,20.0 M488.0,20.0 M20.0,60.0 Q29.0,57.0,32.0,60.0 Q48.0,44.0,52.0,44.0 Q56.0,44.0,40.0,60.0 M56.0,60.0 Q60.0,64.0,48.0,68.0 C60.0,64.0,52.0,64.0,64.0,60.0 Q73.0,57.0,76.0,60.0 C76.0,64.0,72.0,68.0,68.0,68.0 C64.0,68.0,68.0,64.0,76.0,60.0 Q85.0,57.0,88.0,60.0 Q80.0,68.0,84.0,68.0 Q88.0,68.0,96.0,60.0 L104.0,52.0 M96.0,60.0 M112.0,60.0 L96.0,76.0 L108.0,64.0 Q112.0,60.0,120.0,60.0 L144.0,60.0 Q152.0,60.0,156.0,56.0 L160.0,52.0 L152.0,60.0 M168.0,60.0 Q171.0,63.0,180.0,60.0 Q189.0,57.0,192.0,60.0 C200.0,56.0,212.0,44.0,208.0,44.0 C204.0,44.0,196.0,52.0,192.0,60.0 M208.0,60.0 M224.0,44.0 Q224.0,52.0,208.0,60.0 Q217.0,57.0,220.0,60.0 Q229.0,57.0,232.0,60.0 M248.0,60.0 L232.0,76.0 L244.0,64.0 Q248.0,60.0,256.0,60.0 L280.0,60.0 M296.0,60.0 M312.0,44.0 Q312.0,52.0,296.0,60.0 Q305.0,57.0,308.0,60.0 C320.0,56.0,316.0,52.0,332.0,44.0 Q316.0,52.0,316.0,60.0 Q325.0,57.0,328.0,60.0 C328.0,64.0,324.0,68.0,320.0,68.0 C316.0,68.0,320.0,64.0,328.0,60.0 Q337.0,57.0,340.0,60.0 C340.0,64.0,328.0,76.0,324.0,76.0 C320.0,76.0,328.0,68.0,340.0,60.0\" stroke=\"black\" fill=\"none\" stroke-width=\"1.3333333333333333\" stroke-linecap=\"round\" stroke-linejoin=\"round\" id=\"zi8STPOJ0\" />\n",
       "</defs>\n",
       "<use xlink:href=\"#zi8STPOJ0\" x=\"0\" y=\"0\" />\n",
       "</svg>"
      ],
      "text/plain": [
       "<drawsvg.drawing.Drawing at 0x10a36c880>"
      ]
     },
     "metadata": {},
     "output_type": "display_data"
    }
   ],
   "source": [
    "show_grafoni_kerned_wrapped(\"there will come a time when you believe everything is finished that will be the beginning\")"
   ]
  },
  {
   "cell_type": "code",
   "execution_count": 91,
   "metadata": {},
   "outputs": [
    {
     "data": {
      "image/svg+xml": [
       "<?xml version=\"1.0\" encoding=\"UTF-8\"?>\n",
       "<svg xmlns=\"http://www.w3.org/2000/svg\" xmlns:xlink=\"http://www.w3.org/1999/xlink\"\n",
       "     width=\"948.0\" height=\"72\" viewBox=\"0 0 948.0 72\">\n",
       "<defs>\n",
       "<path d=\"M4,36 L4,68 M4,44 Q4,36,12,36 Q24.0,30.0,36.0,36 C44.0,28,44.0,20,40.0,20 C36.0,20,36.0,28,44.0,36 M60.0,36 Q66.0,42.0,72.0,36 Q78.0,30.0,84.0,36 C92.0,28,92.0,4,88.0,4 C84.0,4,84.0,20,92.0,36 M108.0,36 C116.0,28,108.0,28,116.0,20 Q108.0,28,116.0,36 L140.0,36 C148.0,36,148.0,44,144.0,44 C140.0,44,140.0,36,148.0,36 M164.0,36 L188.0,36 M204.0,36 Q212.0,36,212.0,28 M212.0,20 L212.0,36 L260.0,36 Q266.0,30.0,272.0,36 C280.0,36,280.0,44,276.0,44 C272.0,44,272.0,36,280.0,36 M296.0,36 Q302.0,42.0,308.0,36 Q314.0,30.0,320.0,36 C328.0,44,328.0,52,324.0,52 C320.0,52,320.0,44,328.0,36 M344.0,36 Q350.0,30.0,356.0,36 Q362.0,42.0,368.0,36 M384.0,36 Q392.0,20,384.0,4 C392.0,20,384.0,28,392.0,36 Q398.0,30.0,404.0,36 C412.0,28,412.0,4,408.0,4 C404.0,4,404.0,20,412.0,36 Q418.0,30.0,424.0,36 Q430.0,30.0,436.0,36 Q444.0,52,436.0,68 C444.0,52,436.0,44,444.0,36 M460.0,36 Q472.0,30.0,484.0,36 Q492.0,52,484.0,68 C492.0,52,484.0,44,492.0,36 C500.0,28,500.0,20,496.0,20 C492.0,20,492.0,28,500.0,36 Q506.0,30.0,512.0,36 Q518.0,30.0,524.0,36 L524.0,52 M524.0,44 Q524.0,36,532.0,36 Q538.0,30.0,544.0,36 C552.0,44,552.0,68,548.0,68 C544.0,68,544.0,52,552.0,36 M568.0,36 Q574.0,30.0,580.0,36 Q580.0,4,584.0,4 Q588.0,4,588.0,36 M604.0,36 Q612.0,44,604.0,52 C612.0,44,604.0,44,612.0,36 Q618.0,30.0,624.0,36 C632.0,44,632.0,52,628.0,52 C624.0,52,624.0,44,632.0,36 Q638.0,30.0,644.0,36 Q644.0,52,648.0,52 Q652.0,52,652.0,36 Q660.0,36,660.0,28 M660.0,20 L660.0,36 M676.0,36 L676.0,68 M676.0,44 Q676.0,36,684.0,36 L708.0,36 Q716.0,36,716.0,28 M716.0,20 L716.0,36 M732.0,36 Q738.0,42.0,744.0,36 Q750.0,30.0,756.0,36 C764.0,28,764.0,4,760.0,4 C756.0,4,756.0,20,764.0,36 M780.0,36 Q788.0,20,780.0,4 C788.0,20,780.0,28,788.0,36 Q794.0,30.0,800.0,36 Q806.0,30.0,812.0,36 M828.0,36 L828.0,68 M828.0,44 Q828.0,36,836.0,36 L860.0,36 M876.0,36 Q884.0,20,876.0,4 C884.0,20,876.0,28,884.0,36 Q890.0,30.0,896.0,36 C904.0,28,896.0,20,904.0,4 Q896.0,20,904.0,36 Q910.0,30.0,916.0,36 C924.0,44,924.0,52,920.0,52 C916.0,52,916.0,44,924.0,36 Q930.0,30.0,936.0,36 C944.0,44,944.0,68,940.0,68 C936.0,68,936.0,52,944.0,36\" stroke=\"black\" fill=\"none\" stroke-width=\"1.3333333333333333\" stroke-linecap=\"round\" stroke-linejoin=\"round\" id=\"IVK06mCz0\" />\n",
       "</defs>\n",
       "<use xlink:href=\"#IVK06mCz0\" x=\"0\" y=\"0\" />\n",
       "</svg>"
      ],
      "text/plain": [
       "<drawsvg.drawing.Drawing at 0x10a49b340>"
      ]
     },
     "metadata": {},
     "output_type": "display_data"
    }
   ],
   "source": [
    "show_grafoni_type(\"there will come a time when you believe everything is finished that will be the beginning\")"
   ]
  },
  {
   "cell_type": "code",
   "execution_count": 92,
   "metadata": {},
   "outputs": [
    {
     "name": "stdout",
     "output_type": "stream",
     "text": [
      "mv3 uv1   r uv1 uv1 mv2 l mv3 uv1 z d ,   dh mv2   m lv2 mv1 m mv2 n t-end   mv3 uv1   f uv2 l   uv1 n t lv1   dh mv2   f uv1 sh mv2 r ,   dh mv2 t   dh mv2   b-beg mv1 k-end   lv1 mv1 d   n mv3 t   b-beg uv1 uv1   d-beg uv1 s t r lv3 uv1 d-end   uv2 z   mv3 uv1   h-beg uv3 d-end   p-beg l uv3 n d .   uv1 t-end   k-beg mv2 n t uv1 n uv1 lv1 d   f-beg mv3 l uv1 ng   uv1 n t lv1   dh mv2 t   s t mv3 r uv1 uv1   uv1 k s p uv3 n s   mv2 v-end   lv1 uv1 t sh   mv3 uv1   h-beg uv3 d-end   lv2 mv1 n l uv1 uv1   mv2   f-beg l uv1 uv1 t uv1 ng   g-beg l uv1 m p s .   mv3 uv1   h-beg uv3 v-end   t-beg r mv3 uv1 d-end   t-beg uv1   s p uv2 k uv1 mv2 l uv2 uv1 t-end   lv1 uv2 r   uv1 t-end   m mv3 uv1 t-end   h-beg uv3 v-end   l uv3 n d uv1 d ,   b-beg mv2 t   mv3 uv1   m mv2 s t-end   mv2 d m uv1 t ,   h-beg lv2 lv1 uv2 v uv2 r — —   s mv2 t sh   k-beg mv2 n d zh uv2 k t sh mv2 r   uv1 z   f uv1 lv1 t mv2 l .   s t uv1 l ,   dh mv2   k-beg lv1 uv2 sh mv2 n   mv2 v-end   h-beg lv1 z   h-beg uv3 n z   m mv3 uv1 t-end   s mv2 m d uv2 uv1   h-beg lv2 mv1 l d-end   m mv3 uv1   m uv1 s t-end   b-beg mv1 k-end   mv2 r   mv2 n s uv2 t mv2 l uv1 ng   t-beg uv1   m uv1 uv1 .   mv3 uv1   n lv2 mv1   dh mv2 t   m mv3 uv1   uv3 p r uv1 h uv2 n sh mv2 n z   m mv3 uv1 t-end   n uv2 v mv2 r   b-beg uv1 uv1   mv2 l uv2 uv1 d ,   mv2 n d-end   s lv2 mv1   mv3 uv1   k-beg l lv2 mv1 z ,   r uv1 uv1 mv2 l mv3 uv1 z uv1 ng   dh mv2 t   p-beg mv2 r h uv3 p s ,   dh mv2   uv2 n d uv1 ng   h-beg mv2 z   n mv3 t   uv1 uv2 t-end   b-beg uv1 n   r uv1 t mv2 n .\n",
      "error: ,\n",
      "error: ,\n",
      "error: .\n",
      "error: .\n",
      "error: ,\n",
      "error: ,\n",
      "error: —\n",
      "error: —\n",
      "error: .\n",
      "error: ,\n",
      "error: .\n",
      "error: ,\n",
      "error: ,\n",
      "error: ,\n",
      "error: .\n"
     ]
    },
    {
     "data": {
      "image/svg+xml": [
       "<?xml version=\"1.0\" encoding=\"UTF-8\"?>\n",
       "<svg xmlns=\"http://www.w3.org/2000/svg\" xmlns:xlink=\"http://www.w3.org/1999/xlink\"\n",
       "     width=\"545.237604307034\" height=\"592.0\" viewBox=\"0 0 545.237604307034 592.0\">\n",
       "<defs>\n",
       "<path d=\"M13.237604307034019,20.0 L61.23760430703402,20.0 Q68.96965511460289,17.0,73.23760430703402,20.0 M89.23760430703402,20.0 C95.54700538379252,16.0,97.85640646055103,12.0,93.85640646055103,12.0 C89.85640646055103,12.0,87.54700538379252,16.0,89.23760430703402,20.0 Q96.9696551146029,17.0,101.23760430703402,20.0 Q108.9696551146029,17.0,113.23760430703402,20.0 L137.23760430703402,20.0 C145.23760430703402,20.0,154.47520861406804,4.0,150.47520861406804,4.0 C146.47520861406804,4.0,137.23760430703402,20.0,145.23760430703402,20.0 L193.23760430703402,20.0 Q200.9696551146029,17.0,205.23760430703402,20.0 Q214.47520861406804,4.0,218.47520861406804,4.0 Q222.47520861406804,4.0,213.23760430703402,20.0 Q221.23760430703402,20.0,223.5470053837925,16.0 L230.47520861406804,4.0 L221.23760430703402,20.0 M237.23760430703402,20.0 L228.0,36.0 L234.92820323027553,24.0 Q237.23760430703402,20.0,245.23760430703402,20.0 L269.237604307034,20.0 M285.237604307034,20.0 C289.237604307034,20.0,286.9282032302755,24.0,282.9282032302755,24.0 C278.9282032302755,24.0,281.237604307034,20.0,285.237604307034,20.0 Q293.7735026918963,26.0,309.237604307034,20.0 L321.237604307034,20.0 C325.237604307034,20.0,322.9282032302755,24.0,318.9282032302755,24.0 C314.9282032302755,24.0,317.237604307034,20.0,321.237604307034,20.0 L345.237604307034,20.0 C353.237604307034,20.0,348.61880215351704,28.0,344.61880215351704,28.0 C340.61880215351704,28.0,342.9282032302755,24.0,349.237604307034,20.0 L353.856406460551,12.0 M349.237604307034,20.0 M365.237604307034,20.0 L413.237604307034,20.0 Q420.9696551146029,17.0,425.237604307034,20.0 M441.237604307034,20.0 M13.237604307034019,60.0 Q18.928203230275514,64.0,8.61880215351701,68.0 C18.928203230275514,64.0,10.928203230275514,64.0,21.23760430703402,60.0 Q36.70170592217177,54.0,45.23760430703402,60.0 C51.54700538379252,56.0,58.47520861406803,44.0,54.47520861406803,44.0 C50.47520861406803,44.0,45.85640646055103,52.0,45.23760430703402,60.0 M61.23760430703402,60.0 Q68.96965511460289,57.0,73.23760430703402,60.0 C74.92820323027551,64.0,72.61880215351701,68.0,68.61880215351701,68.0 C64.61880215351701,68.0,66.92820323027551,64.0,73.23760430703402,60.0 Q81.23760430703402,60.0,83.54700538379252,56.0 L85.85640646055103,52.0 L81.23760430703402,60.0 Q85.50555349946514,63.0,93.23760430703402,60.0 M109.23760430703402,60.0 L100.0,76.0 L106.92820323027551,64.0 Q109.23760430703402,60.0,117.23760430703402,60.0 L141.23760430703402,60.0 M157.23760430703402,60.0 Q162.9282032302755,64.0,152.61880215351698,68.0 C162.9282032302755,64.0,154.9282032302755,64.0,165.23760430703402,60.0 Q172.9696551146029,57.0,177.23760430703402,60.0 Q172.61880215351698,68.0,176.61880215351698,68.0 Q180.61880215351698,68.0,185.23760430703402,60.0 L209.23760430703402,60.0 C217.23760430703402,60.0,221.856406460551,52.0,217.856406460551,52.0 C213.856406460551,52.0,211.5470053837925,56.0,213.23760430703402,60.0 M229.23760430703402,60.0 L220.0,76.0 L226.9282032302755,64.0 Q229.23760430703402,60.0,237.23760430703402,60.0 L261.237604307034,60.0 Q269.237604307034,60.0,271.5470053837925,56.0 L273.856406460551,52.0 L269.237604307034,60.0 M285.237604307034,60.0 L276.0,76.0 L282.9282032302755,64.0 Q285.237604307034,60.0,293.237604307034,60.0 L317.237604307034,60.0 M333.237604307034,60.0 M342.47520861406804,44.0 Q345.856406460551,52.0,333.237604307034,60.0 L345.237604307034,60.0 Q339.5470053837925,56.0,349.856406460551,52.0 M345.237604307034,60.0 M361.237604307034,60.0 Q365.5055534994651,63.0,373.237604307034,60.0 L385.237604307034,60.0 Q393.237604307034,60.0,395.5470053837925,56.0 L402.47520861406804,44.0 L393.237604307034,60.0 M409.237604307034,60.0 C410.9282032302755,64.0,408.618802153517,68.0,404.618802153517,68.0 C400.618802153517,68.0,405.237604307034,60.0,413.237604307034,60.0 L461.237604307034,60.0 Q469.237604307034,60.0,471.5470053837925,56.0 L473.856406460551,52.0 L469.237604307034,60.0 M485.237604307034,60.0 M13.237604307034019,100.0 M22.47520861406803,84.0 Q25.85640646055102,92.0,13.237604307034019,100.0 Q20.969655114602894,97.0,25.23760430703402,100.0 Q32.969655114602894,97.0,37.23760430703402,100.0 M53.23760430703402,100.0 M62.47520861406803,84.0 L53.23760430703402,100.0 Q60.969655114602894,97.0,65.23760430703402,100.0 Q69.85640646055103,92.0,73.85640646055103,92.0 Q77.85640646055103,92.0,73.23760430703402,100.0 Q81.23760430703402,100.0,83.54700538379252,96.0 L85.85640646055103,92.0 Q81.23760430703402,100.0,83.23760430703402,100.0 C93.23760430703402,100.0,97.85640646055103,92.0,93.85640646055103,92.0 C89.85640646055103,92.0,87.54700538379252,96.0,89.23760430703402,100.0 Q106.3094010767585,112.0,137.23760430703402,100.0 Q144.9696551146029,97.0,149.23760430703402,100.0 L158.47520861406804,84.0 M149.23760430703402,100.0 M165.23760430703402,100.0 Q180.70170592217175,94.0,189.23760430703402,100.0 Q198.47520861406804,84.0,202.47520861406804,84.0 Q206.47520861406804,84.0,197.23760430703402,100.0 M213.23760430703402,100.0 L261.23760430703396,100.0 Q268.96965511460286,97.0,273.237604307034,100.0 M289.237604307034,100.0 M284.618802153517,108.0 Q278.92820323027547,104.0,289.237604307034,100.0 Q320.1658075373095,88.0,337.237604307034,100.0 L346.475208614068,84.0 M337.237604307034,100.0 M353.237604307034,100.0 M357.856406460551,92.0 C363.5470053837925,96.0,353.237604307034,100.0,359.237604307034,100.0 C367.237604307034,100.0,376.475208614068,84.0,372.475208614068,84.0 C368.475208614068,84.0,363.856406460551,92.0,363.237604307034,100.0 Q394.1658075373095,88.0,411.237604307034,100.0 C412.92820323027547,104.0,410.618802153517,108.0,406.618802153517,108.0 C402.618802153517,108.0,404.92820323027547,104.0,411.237604307034,100.0 Q419.237604307034,100.0,421.5470053837925,96.0 L428.475208614068,84.0 L419.237604307034,100.0 M435.237604307034,100.0 M13.237604307034019,140.0 Q20.969655114602887,137.0,25.23760430703402,140.0 L29.856406460551028,132.0 M25.23760430703402,140.0 M41.23760430703402,140.0 M45.85640646055103,132.0 Q35.54700538379252,136.0,41.23760430703402,140.0 L65.23760430703402,140.0 C73.23760430703403,140.0,68.61880215351702,148.0,64.61880215351701,148.0 C60.61880215351701,148.0,62.928203230275514,144.0,69.23760430703402,140.0 Q77.23760430703403,140.0,79.54700538379254,136.0 L81.85640646055104,132.0 L77.23760430703403,140.0 Q84.9696551146029,137.0,89.23760430703403,140.0 C90.92820323027553,144.0,88.61880215351702,148.0,84.61880215351702,148.0 C80.61880215351702,148.0,82.92820323027553,144.0,89.23760430703403,140.0 Q96.9696551146029,137.0,101.23760430703403,140.0 Q105.50555349946515,143.0,113.23760430703403,140.0 Q121.23760430703403,140.0,123.54700538379254,136.0 L130.47520861406804,124.0 L121.23760430703403,140.0 M137.23760430703402,140.0 M132.61880215351704,148.0 Q142.92820323027553,144.0,137.23760430703402,140.0 L185.23760430703402,140.0 C193.23760430703402,140.0,202.47520861406804,124.0,198.47520861406804,124.0 C194.47520861406804,124.0,189.85640646055106,132.0,189.23760430703402,140.0 Q196.96965511460292,137.0,201.23760430703402,140.0 C202.92820323027553,144.0,196.0,156.0,192.0,156.0 C188.0,156.0,192.61880215351704,148.0,201.23760430703402,140.0 M217.23760430703402,140.0 Q224.96965511460292,137.0,229.23760430703402,140.0 C230.92820323027553,144.0,228.61880215351704,148.0,224.61880215351704,148.0 C220.61880215351704,148.0,222.92820323027553,144.0,229.23760430703402,140.0 Q237.23760430703402,140.0,239.54700538379254,136.0 L241.85640646055106,132.0 L237.23760430703402,140.0 Q241.50555349946515,143.0,249.23760430703402,140.0 M265.237604307034,140.0 L256.0,156.0 L262.9282032302755,144.0 Q265.237604307034,140.0,273.237604307034,140.0 L297.237604307034,140.0 Q305.237604307034,140.0,307.5470053837925,136.0 L309.85640646055106,132.0 L305.237604307034,140.0 M321.237604307034,140.0 Q325.85640646055106,132.0,329.85640646055106,132.0 Q333.85640646055106,132.0,329.237604307034,140.0 Q337.237604307034,140.0,339.5470053837925,136.0 L341.85640646055106,132.0 L337.237604307034,140.0 L385.237604307034,140.0 C393.237604307034,140.0,397.85640646055106,132.0,393.85640646055106,132.0 C389.85640646055106,132.0,387.5470053837925,136.0,389.237604307034,140.0 Q396.9696551146029,137.0,401.237604307034,140.0 Q408.9696551146029,137.0,413.237604307034,140.0 M429.237604307034,140.0 M13.237604307034019,180.0 Q20.969655114602887,177.0,25.23760430703402,180.0 C35.54700538379252,176.0,27.547005383792524,176.0,37.85640646055103,172.0 C27.547005383792524,176.0,33.23760430703402,180.0,35.23760430703402,180.0 C37.23760430703402,180.0,41.85640646055103,172.0,45.85640646055103,172.0 C49.85640646055103,172.0,45.23760430703402,180.0,47.23760430703402,180.0 C49.23760430703402,180.0,59.54700538379252,176.0,53.85640646055103,172.0 C59.54700538379252,176.0,51.54700538379252,176.0,57.23760430703402,180.0 Q88.16580753730952,168.0,105.23760430703402,180.0 C106.92820323027551,184.0,104.61880215351701,188.0,100.61880215351701,188.0 C96.61880215351701,188.0,98.92820323027551,184.0,105.23760430703402,180.0 Q109.85640646055103,172.0,113.85640646055103,172.0 Q117.85640646055103,172.0,113.23760430703402,180.0 M129.23760430703402,180.0 L153.23760430703402,180.0 Q156.618802153517,188.0,144.0,196.0 M153.23760430703402,180.0 M169.23760430703402,180.0 Q173.50555349946512,183.0,181.23760430703402,180.0 Q188.9696551146029,177.0,193.23760430703402,180.0 Q201.23760430703402,180.0,203.5470053837925,176.0 L205.85640646055103,172.0 L201.23760430703402,180.0 Q196.618802153517,188.0,200.618802153517,188.0 Q204.618802153517,188.0,209.23760430703402,180.0 M225.23760430703402,180.0 L273.237604307034,180.0 Q280.96965511460286,177.0,285.237604307034,180.0 M301.237604307034,180.0 M296.61880215351704,188.0 Q290.9282032302755,184.0,301.237604307034,180.0 Q332.1658075373095,168.0,349.237604307034,180.0 L358.47520861406804,164.0 M349.237604307034,180.0 M365.237604307034,180.0 Q373.7735026918962,186.0,389.237604307034,180.0 L401.237604307034,180.0 C409.237604307034,180.0,404.61880215351704,188.0,400.61880215351704,188.0 C396.61880215351704,188.0,398.9282032302755,184.0,405.237604307034,180.0 C411.5470053837925,176.0,418.47520861406804,164.0,414.47520861406804,164.0 C410.47520861406804,164.0,405.856406460551,172.0,405.237604307034,180.0 Q412.96965511460286,177.0,417.237604307034,180.0 Q424.96965511460286,177.0,429.237604307034,180.0 M445.23760430703396,180.0 M13.237604307034019,220.0 L37.237604307034005,220.0 M53.237604307034005,220.0 M48.618802153516995,228.0 Q58.9282032302755,224.0,53.237604307034005,220.0 C59.54700538379251,216.0,66.47520861406801,204.0,62.47520861406801,204.0 C58.47520861406801,204.0,53.856406460551,212.0,53.237604307034005,220.0 Q60.96965511460287,217.0,65.237604307034,220.0 Q72.96965511460287,217.0,77.237604307034,220.0 Q85.237604307034,220.0,87.54700538379251,216.0 L89.856406460551,212.0 L85.237604307034,220.0 Q92.96965511460287,217.0,97.237604307034,220.0 C98.9282032302755,224.0,91.99999999999999,236.0,87.99999999999999,236.0 C83.99999999999999,236.0,88.618802153517,228.0,97.237604307034,220.0 M113.237604307034,220.0 M122.47520861406801,204.0 C109.856406460551,212.0,113.237604307034,220.0,117.237604307034,220.0 C125.237604307034,220.0,134.475208614068,204.0,130.475208614068,204.0 C126.47520861406801,204.0,121.856406460551,212.0,121.237604307034,220.0 Q128.96965511460286,217.0,133.23760430703402,220.0 C137.23760430703402,220.0,134.9282032302755,224.0,130.9282032302755,224.0 C126.9282032302755,224.0,129.23760430703402,220.0,133.23760430703402,220.0 Q143.5470053837925,216.0,137.856406460551,212.0 C143.5470053837925,216.0,135.5470053837925,216.0,141.23760430703402,220.0 Q145.856406460551,212.0,149.856406460551,212.0 Q153.856406460551,212.0,149.23760430703402,220.0 M165.23760430703402,220.0 L213.23760430703402,220.0 Q220.96965511460286,217.0,225.23760430703402,220.0 M241.23760430703402,220.0 M236.61880215351698,228.0 Q230.9282032302755,224.0,241.23760430703402,220.0 Q272.1658075373095,208.0,289.237604307034,220.0 Q292.618802153517,228.0,280.0,236.0 M289.237604307034,220.0 M305.237604307034,220.0 M309.856406460551,212.0 Q305.237604307034,220.0,307.237604307034,220.0 C317.237604307034,220.0,321.856406460551,212.0,317.856406460551,212.0 C313.856406460551,212.0,309.237604307034,220.0,317.237604307034,220.0 L365.237604307034,220.0 Q372.96965511460286,217.0,377.237604307034,220.0 L386.475208614068,204.0 M377.237604307034,220.0 M393.237604307034,220.0 M397.856406460551,212.0 L393.237604307034,220.0 Q400.96965511460286,217.0,405.237604307034,220.0 M421.2376043070341,220.0 M13.237604307034019,260.0 Q17.856406460551028,252.0,21.856406460551028,252.0 C25.856406460551028,252.0,21.23760430703402,260.0,23.23760430703402,260.0 C25.23760430703402,260.0,35.54700538379251,256.0,29.856406460551028,252.0 C35.54700538379251,256.0,27.54700538379251,256.0,33.23760430703402,260.0 Q48.701705922171755,254.0,57.23760430703402,260.0 C67.54700538379251,256.0,59.54700538379251,256.0,69.85640646055103,252.0 Q59.54700538379251,256.0,65.23760430703402,260.0 Q72.96965511460289,257.0,77.23760430703402,260.0 L101.23760430703402,260.0 C109.23760430703402,260.0,118.47520861406804,244.0,114.47520861406804,244.0 C110.47520861406804,244.0,105.85640646055103,252.0,105.23760430703402,260.0 Q120.70170592217175,254.0,129.23760430703402,260.0 Q136.96965511460292,257.0,141.23760430703405,260.0 L145.85640646055106,252.0 M141.23760430703405,260.0 M157.23760430703405,260.0 Q161.50555349946515,263.0,169.23760430703405,260.0 Q184.70170592217178,254.0,193.23760430703405,260.0 C199.54700538379254,256.0,201.85640646055106,252.0,197.85640646055106,252.0 C193.85640646055106,252.0,191.54700538379254,256.0,193.23760430703405,260.0 M209.23760430703405,260.0 Q216.96965511460292,257.0,221.23760430703405,260.0 L225.85640646055106,252.0 M221.23760430703405,260.0 M237.23760430703405,260.0 C241.23760430703405,260.0,238.92820323027553,264.0,234.92820323027553,264.0 C230.92820323027553,264.0,233.23760430703405,260.0,237.23760430703405,260.0 L285.237604307034,260.0 Q292.9696551146029,257.0,297.237604307034,260.0 L301.85640646055106,252.0 M297.237604307034,260.0 M313.237604307034,260.0 M308.61880215351704,268.0 Q302.9282032302755,264.0,313.237604307034,260.0 Q344.16580753730955,248.0,361.237604307034,260.0 Q364.61880215351704,268.0,352.00000000000006,276.0 M361.237604307034,260.0 M377.237604307034,260.0 C383.5470053837925,256.0,390.4752086140681,244.0,386.4752086140681,244.0 C382.4752086140681,244.0,377.85640646055106,252.0,377.237604307034,260.0 Q408.16580753730955,248.0,425.237604307034,260.0 C426.9282032302755,264.0,424.61880215351704,268.0,420.61880215351704,268.0 C416.61880215351704,268.0,418.9282032302755,264.0,425.237604307034,260.0 Q433.237604307034,260.0,435.5470053837925,256.0 L442.4752086140681,244.0 L433.237604307034,260.0 Q440.9696551146029,257.0,445.237604307034,260.0 Q453.237604307034,260.0,455.5470053837925,256.0 L462.4752086140681,244.0 L453.237604307034,260.0 M469.237604307034,260.0 M13.237604307034019,300.0 M22.475208614068038,284.0 Q25.856406460551028,292.0,13.237604307034019,300.0 L37.23760430703402,300.0 Q45.23760430703402,300.0,47.54700538379254,296.0 L49.85640646055103,292.0 L45.23760430703402,300.0 M61.23760430703402,300.0 L109.23760430703402,300.0 Q116.96965511460292,297.0,121.23760430703402,300.0 M137.23760430703402,300.0 C141.23760430703402,300.0,138.92820323027553,304.0,134.92820323027553,304.0 C130.92820323027553,304.0,133.23760430703402,300.0,137.23760430703402,300.0 L161.23760430703402,300.0 Q165.85640646055103,292.0,169.85640646055103,292.0 C173.85640646055103,292.0,169.23760430703402,300.0,173.23760430703402,300.0 Q175.23760430703402,300.0,179.85640646055103,292.0 M175.23760430703402,300.0 M191.23760430703402,300.0 L215.23760430703402,300.0 Q223.23760430703402,300.0,225.54700538379254,296.0 L232.47520861406804,284.0 L223.23760430703402,300.0 C227.23760430703402,300.0,224.92820323027553,304.0,220.92820323027553,304.0 C216.92820323027553,304.0,219.23760430703402,300.0,223.23760430703402,300.0 Q230.96965511460292,297.0,235.23760430703402,300.0 Q243.23760430703402,300.0,245.54700538379254,296.0 L247.85640646055103,292.0 L243.23760430703402,300.0 M259.237604307034,300.0 M254.618802153517,308.0 Q248.92820323027553,304.0,259.237604307034,300.0 Q267.7735026918963,306.0,283.237604307034,300.0 Q287.5055534994652,303.0,295.237604307034,300.0 Q310.7017059221718,294.0,319.237604307034,300.0 Q322.61880215351704,308.0,310.0,316.0 C322.61880215351704,308.0,316.9282032302755,304.0,327.237604307034,300.0 Q342.7017059221718,294.0,351.237604307034,300.0 C357.5470053837925,296.0,359.856406460551,292.0,355.856406460551,292.0 C351.856406460551,292.0,349.5470053837925,296.0,351.237604307034,300.0 M367.237604307034,300.0 Q371.856406460551,292.0,375.856406460551,292.0 Q379.856406460551,292.0,375.237604307034,300.0 L399.237604307034,300.0 Q407.237604307034,300.0,409.5470053837925,296.0 L411.856406460551,292.0 L407.237604307034,300.0 Q402.61880215351704,308.0,406.61880215351704,308.0 Q410.61880215351704,308.0,415.237604307034,300.0 M431.237604307034,300.0 M13.237604307034019,340.0 M17.856406460551028,332.0 Q7.547005383792509,336.0,13.237604307034019,340.0 L37.23760430703402,340.0 C45.23760430703402,340.0,40.61880215351701,348.0,36.61880215351701,348.0 C32.61880215351701,348.0,34.9282032302755,344.0,41.23760430703402,340.0 Q49.23760430703402,340.0,51.54700538379251,336.0 L58.47520861406804,324.0 L49.23760430703402,340.0 Q40.0,356.0,44.0,356.0 Q48.0,356.0,57.23760430703402,340.0 Q72.70170592217175,334.0,81.23760430703402,340.0 C91.54700538379251,336.0,83.54700538379251,336.0,93.85640646055103,332.0 Q83.54700538379251,336.0,89.23760430703402,340.0 Q97.23760430703402,340.0,99.54700538379251,336.0 L101.85640646055103,332.0 L97.23760430703402,340.0 Q92.61880215351701,348.0,96.61880215351701,348.0 Q100.61880215351701,348.0,105.23760430703402,340.0 L129.23760430703402,340.0 C137.23760430703402,340.0,141.85640646055103,332.0,137.85640646055103,332.0 C133.85640646055103,332.0,131.5470053837925,336.0,133.23760430703402,340.0 M149.23760430703402,340.0 Q156.9696551146029,337.0,161.23760430703402,340.0 Q170.47520861406804,324.0,174.47520861406804,324.0 Q178.47520861406804,324.0,169.23760430703402,340.0 M185.23760430703402,340.0 Q190.9282032302755,344.0,180.618802153517,348.0 C190.9282032302755,344.0,182.9282032302755,344.0,193.23760430703402,340.0 Q200.9696551146029,337.0,205.23760430703402,340.0 Q209.50555349946512,343.0,217.23760430703402,340.0 Q225.23760430703402,340.0,227.5470053837925,336.0 L229.85640646055103,332.0 L225.23760430703402,340.0 L249.23760430703402,340.0 C257.237604307034,340.0,266.47520861406804,324.0,262.47520861406804,324.0 C258.47520861406804,324.0,253.85640646055103,332.0,253.23760430703402,340.0 M269.237604307034,340.0 Q273.856406460551,332.0,277.856406460551,332.0 Q281.856406460551,332.0,277.237604307034,340.0 Q285.237604307034,340.0,287.5470053837925,336.0 L289.856406460551,332.0 L285.237604307034,340.0 Q292.96965511460286,337.0,297.237604307034,340.0 C303.5470053837925,336.0,310.47520861406804,324.0,306.47520861406804,324.0 C302.47520861406804,324.0,297.856406460551,332.0,297.237604307034,340.0 M313.237604307034,340.0 L304.0,356.0 L310.9282032302755,344.0 Q313.237604307034,340.0,321.237604307034,340.0 L345.237604307034,340.0 M361.237604307034,340.0 M365.856406460551,332.0 Q355.5470053837925,336.0,361.237604307034,340.0 Q365.5055534994651,343.0,373.237604307034,340.0 Q388.70170592217175,334.0,397.237604307034,340.0 Q392.61880215351704,348.0,396.61880215351704,348.0 Q400.61880215351704,348.0,405.237604307034,340.0 L429.237604307034,340.0 C437.237604307034,340.0,432.61880215351704,348.0,428.61880215351704,348.0 C424.61880215351704,348.0,426.9282032302755,344.0,433.237604307034,340.0 M449.237604307034,340.0 M13.237604307034019,380.0 L37.23760430703402,380.0 Q40.61880215351701,388.0,28.0,396.0 M37.23760430703402,380.0 M53.23760430703402,380.0 M48.61880215351701,388.0 Q42.92820323027553,384.0,53.23760430703402,380.0 Q57.50555349946515,383.0,65.23760430703399,380.0 Q74.47520861406801,364.0,78.47520861406801,364.0 Q82.47520861406801,364.0,73.23760430703399,380.0 M89.23760430703399,380.0 M84.61880215351698,388.0 Q78.9282032302755,384.0,89.23760430703399,380.0 Q120.16580753730952,368.0,137.237604307034,380.0 C138.9282032302755,384.0,136.61880215351698,388.0,132.61880215351698,388.0 C128.61880215351698,388.0,130.9282032302755,384.0,137.237604307034,380.0 Q146.475208614068,364.0,150.475208614068,364.0 Q154.475208614068,364.0,145.237604307034,380.0 M161.237604307034,380.0 C165.237604307034,380.0,162.9282032302755,384.0,158.9282032302755,384.0 C154.9282032302755,384.0,157.237604307034,380.0,161.237604307034,380.0 L209.237604307034,380.0 Q216.9696551146029,377.0,221.237604307034,380.0 L225.856406460551,372.0 M221.237604307034,380.0 M237.237604307034,380.0 Q241.856406460551,372.0,245.856406460551,372.0 Q249.856406460551,372.0,245.237604307034,380.0 L269.23760430703396,380.0 C273.237604307034,380.0,270.9282032302755,384.0,266.92820323027547,384.0 C262.92820323027547,384.0,265.23760430703396,380.0,269.23760430703396,380.0 Q277.237604307034,380.0,279.5470053837925,376.0 L286.475208614068,364.0 L277.237604307034,380.0 Q292.70170592217175,374.0,301.237604307034,380.0 Q308.96965511460286,377.0,313.237604307034,380.0 M329.237604307034,380.0 M324.618802153517,388.0 Q318.9282032302755,384.0,329.237604307034,380.0 Q337.7735026918962,386.0,353.237604307034,380.0 L365.237604307034,380.0 C373.237604307034,380.0,382.475208614068,364.0,378.475208614068,364.0 C374.475208614068,364.0,365.237604307034,380.0,373.237604307034,380.0 Q375.237604307034,380.0,384.475208614068,364.0 M375.237604307034,380.0 M391.237604307034,380.0 C395.237604307034,380.0,392.9282032302755,384.0,388.9282032302755,384.0 C384.9282032302755,384.0,387.237604307034,380.0,391.237604307034,380.0 L439.237604307034,380.0 Q446.96965511460286,377.0,451.237604307034,380.0 M467.237604307034,380.0 M13.237604307034019,420.0 C17.23760430703402,420.0,14.9282032302755,424.0,10.9282032302755,424.0 C6.9282032302755,424.0,9.237604307034019,420.0,13.237604307034019,420.0 Q20.969655114602887,417.0,25.23760430703402,420.0 Q29.856406460551028,412.0,33.85640646055103,412.0 C37.85640646055103,412.0,33.23760430703402,420.0,37.23760430703402,420.0 Q39.23760430703399,420.0,43.856406460551,412.0 M39.23760430703399,420.0 M55.23760430703399,420.0 M64.47520861406798,404.0 Q67.856406460551,412.0,55.23760430703399,420.0 L67.23760430703399,420.0 Q61.54700538379248,416.0,71.856406460551,412.0 M67.23760430703399,420.0 M83.23760430703399,420.0 L107.23760430703399,420.0 C115.23760430703399,420.0,119.856406460551,412.0,115.856406460551,412.0 C111.856406460551,412.0,109.54700538379248,416.0,111.23760430703399,420.0 M127.23760430703399,420.0 L151.237604307034,420.0 C159.237604307034,420.0,154.61880215351698,428.0,150.61880215351698,428.0 C146.61880215351698,428.0,148.92820323027547,424.0,155.237604307034,420.0 Q159.856406460551,412.0,163.856406460551,412.0 Q167.856406460551,412.0,163.237604307034,420.0 Q178.70170592217173,414.0,187.237604307034,420.0 Q195.237604307034,420.0,197.54700538379248,416.0 L199.856406460551,412.0 L195.237604307034,420.0 L219.237604307034,420.0 C227.237604307034,420.0,236.47520861406798,404.0,232.47520861406798,404.0 C228.47520861406798,404.0,223.856406460551,412.0,223.237604307034,420.0 Q230.96965511460286,417.0,235.237604307034,420.0 C236.92820323027547,424.0,229.99999999999997,436.0,225.99999999999997,436.0 C221.99999999999997,436.0,226.61880215351698,428.0,235.237604307034,420.0 M251.237604307034,420.0 M255.856406460551,412.0 L251.237604307034,420.0 Q258.96965511460286,417.0,263.23760430703396,420.0 M279.237604307034,420.0 C283.237604307034,420.0,280.92820323027547,424.0,276.92820323027547,424.0 C272.92820323027547,424.0,275.237604307034,420.0,279.237604307034,420.0 Q286.96965511460286,417.0,291.237604307034,420.0 Q298.96965511460286,417.0,303.237604307034,420.0 M319.237604307034,420.0 L367.237604307034,420.0 Q374.96965511460286,417.0,379.237604307034,420.0 M395.237604307034,420.0 C396.92820323027547,424.0,394.618802153517,428.0,390.618802153517,428.0 C386.618802153517,428.0,388.92820323027547,424.0,395.237604307034,420.0 Q403.7735026918962,426.0,419.237604307034,420.0 L431.237604307034,420.0 M447.237604307034,420.0 M13.237604307034019,460.0 L4.0,476.0 L10.928203230275528,464.0 Q13.237604307034019,460.0,21.23760430703402,460.0 L45.23760430703402,460.0 Q53.23760430703402,460.0,55.54700538379254,456.0 L57.85640646055103,452.0 L53.23760430703402,460.0 M69.23760430703402,460.0 C73.23760430703402,460.0,70.92820323027553,464.0,66.92820323027553,464.0 C62.92820323027553,464.0,65.23760430703402,460.0,69.23760430703402,460.0 L117.23760430703402,460.0 Q124.96965511460289,457.0,129.23760430703402,460.0 M145.23760430703402,460.0 Q176.16580753730955,448.0,193.23760430703402,460.0 Q203.54700538379254,456.0,197.85640646055103,452.0 C203.54700538379254,456.0,193.23760430703402,460.0,203.23760430703402,460.0 C211.23760430703402,460.0,215.85640646055103,452.0,211.85640646055103,452.0 C207.85640646055103,452.0,205.54700538379254,456.0,207.23760430703402,460.0 Q214.9696551146029,457.0,219.23760430703402,460.0 C224.92820323027553,464.0,216.92820323027553,464.0,222.61880215351704,468.0 Q216.92820323027553,464.0,227.23760430703402,460.0 Q242.70170592217178,454.0,251.23760430703402,460.0 C252.92820323027553,464.0,250.61880215351704,468.0,246.61880215351704,468.0 C242.61880215351704,468.0,247.23760430703402,460.0,255.23760430703402,460.0 C259.237604307034,460.0,254.61880215351704,468.0,258.61880215351704,468.0 Q262.61880215351704,468.0,267.237604307034,460.0 L291.23760430703396,460.0 C299.23760430703396,460.0,294.618802153517,468.0,290.618802153517,468.0 C286.618802153517,468.0,288.92820323027547,464.0,295.23760430703396,460.0 Q304.475208614068,444.0,308.475208614068,444.0 Q312.475208614068,444.0,303.23760430703396,460.0 M319.23760430703396,460.0 C323.23760430703396,460.0,320.92820323027547,464.0,316.92820323027547,464.0 C312.92820323027547,464.0,315.23760430703396,460.0,319.23760430703396,460.0 L367.23760430703396,460.0 Q374.96965511460286,457.0,379.23760430703396,460.0 L383.856406460551,452.0 M379.23760430703396,460.0 M395.23760430703396,460.0 C396.92820323027547,464.0,394.618802153517,468.0,390.618802153517,468.0 C386.618802153517,468.0,388.92820323027547,464.0,395.23760430703396,460.0 Q410.7017059221717,454.0,419.23760430703396,460.0 Q422.618802153517,468.0,409.99999999999994,476.0 C422.618802153517,468.0,416.92820323027547,464.0,427.23760430703396,460.0 L451.23760430703396,460.0 C459.23760430703396,460.0,463.856406460551,452.0,459.856406460551,452.0 C455.856406460551,452.0,453.5470053837925,456.0,455.23760430703396,460.0 M471.23760430703396,460.0 M13.237604307034019,500.0 M22.475208614068038,484.0 Q25.856406460551,492.0,13.237604307034019,500.0 Q20.96965511460286,497.0,25.23760430703402,500.0 Q32.96965511460286,497.0,37.23760430703402,500.0 M53.23760430703402,500.0 L77.23760430703402,500.0 C85.23760430703402,500.0,94.47520861406804,484.0,90.47520861406804,484.0 C86.47520861406804,484.0,81.856406460551,492.0,81.23760430703402,500.0 Q96.70170592217175,494.0,105.23760430703402,500.0 Q112.96965511460286,497.0,117.23760430703402,500.0 Q125.23760430703402,500.0,127.54700538379251,496.0 L134.47520861406804,484.0 L125.23760430703402,500.0 M141.23760430703402,500.0 L165.23760430703402,500.0 C173.23760430703402,500.0,168.61880215351698,508.0,164.61880215351698,508.0 C160.61880215351698,508.0,162.92820323027553,504.0,169.23760430703402,500.0 L178.47520861406804,484.0 M169.23760430703402,500.0 M185.23760430703402,500.0 Q189.856406460551,492.0,193.856406460551,492.0 Q197.856406460551,492.0,193.23760430703402,500.0 Q201.77350269189623,506.0,217.23760430703402,500.0 L229.23760430703402,500.0 M245.23760430703402,500.0 L293.2376043070341,500.0 Q300.9696551146029,497.0,305.2376043070341,500.0 M321.2376043070341,500.0 M325.85640646055106,492.0 C315.54700538379257,496.0,321.2376043070341,500.0,325.2376043070341,500.0 C333.2376043070341,500.0,342.4752086140681,484.0,338.4752086140681,484.0 C334.4752086140681,484.0,329.85640646055106,492.0,329.2376043070341,500.0 Q337.7735026918963,506.0,353.2376043070341,500.0 L365.2376043070341,500.0 Q374.4752086140681,484.0,378.4752086140681,484.0 Q382.4752086140681,484.0,373.2376043070341,500.0 M389.2376043070341,500.0 C395.54700538379257,496.0,397.85640646055106,492.0,393.85640646055106,492.0 C389.85640646055106,492.0,387.54700538379257,496.0,389.2376043070341,500.0 Q396.9696551146029,497.0,401.2376043070341,500.0 Q408.9696551146029,497.0,413.2376043070341,500.0 L437.2376043070341,500.0 C445.2376043070341,500.0,454.4752086140681,484.0,450.4752086140681,484.0 C446.4752086140681,484.0,437.2376043070341,500.0,445.2376043070341,500.0 L493.2376043070341,500.0 Q500.9696551146029,497.0,505.2376043070341,500.0 Q514.4752086140682,484.0,518.4752086140682,484.0 Q522.4752086140682,484.0,513.2376043070341,500.0 Q520.9696551146029,497.0,525.237604307034,500.0 C526.9282032302756,504.0,520.0,516.0,516.0,516.0 C512.0,516.0,516.618802153517,508.0,525.237604307034,500.0 M541.237604307034,500.0 M13.237604307034019,540.0 L4.0,556.0 L10.928203230275471,544.0 Q13.237604307034019,540.0,21.23760430703402,540.0 L45.23760430703402,540.0 Q53.23760430703402,540.0,55.54700538379251,536.0 L57.856406460551,532.0 L53.23760430703402,540.0 M69.23760430703402,540.0 M73.856406460551,532.0 Q79.54700538379251,536.0,69.23760430703402,540.0 L93.23760430703402,540.0 C101.23760430703402,540.0,105.856406460551,532.0,101.856406460551,532.0 C97.856406460551,532.0,95.54700538379251,536.0,97.23760430703402,540.0 C102.92820323027547,544.0,94.92820323027547,544.0,100.61880215351698,548.0 Q94.92820323027547,544.0,105.23760430703402,540.0 Q136.1658075373095,528.0,153.23760430703402,540.0 Q163.5470053837925,536.0,157.856406460551,532.0 C163.5470053837925,536.0,155.5470053837925,536.0,161.23760430703402,540.0 Q165.856406460551,532.0,169.856406460551,532.0 Q173.856406460551,532.0,169.23760430703402,540.0 M185.23760430703402,540.0 L176.0,556.0 L182.92820323027547,544.0 Q185.23760430703402,540.0,193.23760430703402,540.0 L217.23760430703402,540.0 M233.23760430703396,540.0 Q248.7017059221717,534.0,257.23760430703396,540.0 C258.9282032302754,544.0,256.6188021535169,548.0,252.61880215351692,548.0 C248.61880215351692,548.0,250.92820323027541,544.0,257.23760430703396,540.0 Q265.23760430703396,540.0,267.54700538379245,536.0 L274.4752086140679,524.0 L265.23760430703396,540.0 Q272.9696551146028,537.0,277.23760430703396,540.0 C278.9282032302754,544.0,271.99999999999994,556.0,267.99999999999994,556.0 C263.99999999999994,556.0,268.6188021535169,548.0,277.23760430703396,540.0 M293.23760430703396,540.0 M288.6188021535169,548.0 Q282.9282032302754,544.0,293.23760430703396,540.0 L317.23760430703396,540.0 Q326.4752086140679,524.0,330.4752086140679,524.0 Q334.4752086140679,524.0,325.23760430703396,540.0 M341.23760430703396,540.0 C342.9282032302754,544.0,340.6188021535169,548.0,336.6188021535169,548.0 C332.6188021535169,548.0,337.23760430703396,540.0,345.23760430703396,540.0 L393.23760430703396,540.0 Q401.23760430703396,540.0,403.54700538379245,536.0 L405.85640646055094,532.0 L401.23760430703396,540.0 M417.23760430703396,540.0 M13.237604307034019,580.0 Q20.969655114602915,577.0,25.23760430703402,580.0 Q40.70170592217181,574.0,49.23760430703402,580.0 L53.85640646055106,572.0 M49.23760430703402,580.0 M65.23760430703402,580.0 M74.47520861406804,564.0 Q77.85640646055106,572.0,65.23760430703402,580.0 Q72.96965511460292,577.0,77.23760430703402,580.0 C78.92820323027553,584.0,76.61880215351704,588.0,72.61880215351704,588.0 C68.61880215351704,588.0,70.92820323027553,584.0,77.23760430703402,580.0 M93.23760430703402,580.0 C99.54700538379257,576.0,101.85640646055106,572.0,97.85640646055106,572.0 C93.85640646055106,572.0,91.54700538379257,576.0,93.23760430703402,580.0 Q100.96965511460292,577.0,105.23760430703402,580.0 Q113.23760430703402,580.0,115.54700538379257,576.0 L117.85640646055106,572.0 L113.23760430703402,580.0 L137.23760430703402,580.0 C145.23760430703402,580.0,140.61880215351704,588.0,136.61880215351704,588.0 C132.61880215351704,588.0,134.92820323027553,584.0,141.23760430703402,580.0\" stroke=\"black\" fill=\"none\" stroke-width=\"1.3333333333333333\" stroke-linecap=\"round\" stroke-linejoin=\"round\" id=\"hf0QmP1l0\" />\n",
       "</defs>\n",
       "<use xlink:href=\"#hf0QmP1l0\" x=\"0\" y=\"0\" />\n",
       "</svg>"
      ],
      "text/plain": [
       "<drawsvg.drawing.Drawing at 0x10a49bf10>"
      ]
     },
     "metadata": {},
     "output_type": "display_data"
    }
   ],
   "source": [
    "show_grafoni_kerned_wrapped(\"I realized, the moment I fell into the fissure, that the book would not be destroyed as I had planned. It continued falling into that starry expanse of which I had only a fleeting glimpse. I have tried to speculate where it might have landed, but I must admit, however— such conjecture is futile. Still, the question of whose hands might someday hold my mist book are unsettling to me. I know that my apprehensions might never be allayed, and so I close, realizing that perhaps, the ending has not yet been written.\",shear_val=-1/sqrt(3))"
   ]
  },
  {
   "cell_type": "code",
   "execution_count": 93,
   "metadata": {},
   "outputs": [
    {
     "name": "stdout",
     "output_type": "stream",
     "text": [
      "dh uv2 r   lv1 uv1 l   k-beg mv2 m   mv2   t-beg mv3 uv1 m   lv1 uv1 n   uv1 lv1   b-beg uv1 l uv1 uv1 v-end   uv2 v r uv1 uv1 th uv1 ng   uv1 z   f uv1 n uv1 sh t-end   dh mv2 t   lv1 uv1 l   b-beg uv1 uv1   dh mv2   b-beg uv1 g uv1 n uv1 ng\n"
     ]
    },
    {
     "data": {
      "image/svg+xml": [
       "<?xml version=\"1.0\" encoding=\"UTF-8\"?>\n",
       "<svg xmlns=\"http://www.w3.org/2000/svg\" xmlns:xlink=\"http://www.w3.org/1999/xlink\"\n",
       "     width=\"225.23760430703402\" height=\"200.0\" viewBox=\"0 0 225.23760430703402 200.0\">\n",
       "<defs>\n",
       "<path d=\"M13.237604307034019,20.0 L4.000000000000005,36.0 L10.928203230275516,24.0 Q13.237604307034019,20.0,21.23760430703402,20.0 Q36.701705922171776,14.0,45.23760430703402,20.0 C51.54700538379252,16.0,53.85640646055103,12.0,49.85640646055103,12.0 C45.85640646055103,12.0,43.54700538379252,16.0,45.23760430703402,20.0 M61.23760430703402,20.0 Q65.50555349946515,23.0,73.23760430703402,20.0 Q80.9696551146029,17.0,85.23760430703402,20.0 C91.54700538379252,16.0,98.47520861406804,4.0,94.47520861406804,4.0 C90.47520861406804,4.0,85.85640646055103,12.0,85.23760430703402,20.0 M101.23760430703402,20.0 M105.85640646055103,12.0 Q95.54700538379252,16.0,101.23760430703402,20.0 L125.23760430703402,20.0 C129.23760430703402,20.0,126.92820323027551,24.0,122.92820323027551,24.0 C118.92820323027551,24.0,121.23760430703402,20.0,125.23760430703402,20.0 M141.23760430703402,20.0 L165.23760430703402,20.0 M181.23760430703402,20.0 M13.237604307034019,60.0 M17.856406460551025,52.0 L13.237604307034019,60.0 L61.23760430703402,60.0 Q68.96965511460289,57.0,73.23760430703402,60.0 C77.23760430703402,60.0,74.92820323027551,64.0,70.92820323027551,64.0 C66.92820323027551,64.0,69.23760430703402,60.0,73.23760430703402,60.0 M89.23760430703402,60.0 Q93.50555349946514,63.0,101.23760430703402,60.0 Q108.96965511460289,57.0,113.23760430703402,60.0 C114.92820323027551,64.0,112.61880215351701,68.0,108.61880215351701,68.0 C104.61880215351701,68.0,106.92820323027551,64.0,113.23760430703402,60.0 M129.23760430703402,60.0 Q136.9696551146029,57.0,141.23760430703402,60.0 Q145.50555349946512,63.0,153.23760430703402,60.0 M169.23760430703402,60.0 M178.475208614068,44.0 Q181.856406460551,52.0,169.23760430703402,60.0 Q176.9696551146029,57.0,181.23760430703402,60.0 C187.5470053837925,56.0,194.475208614068,44.0,190.475208614068,44.0 C186.475208614068,44.0,181.856406460551,52.0,181.23760430703402,60.0 Q188.9696551146029,57.0,193.23760430703402,60.0 Q200.9696551146029,57.0,205.23760430703402,60.0 Q208.61880215351698,68.0,196.0,76.0 M205.23760430703402,60.0 M221.23760430703402,60.0 M13.237604307034019,100.0 Q28.70170592217177,94.0,37.23760430703402,100.0 Q40.61880215351701,108.0,28.0,116.0 C40.61880215351701,108.0,34.928203230275514,104.0,45.23760430703402,100.0 C51.54700538379252,96.0,53.85640646055102,92.0,49.85640646055102,92.0 C45.85640646055102,92.0,43.54700538379252,96.0,45.23760430703402,100.0 Q52.969655114602894,97.0,57.23760430703402,100.0 Q64.96965511460289,97.0,69.23760430703402,100.0 L64.61880215351701,108.0 L66.92820323027551,104.0 Q69.23760430703402,100.0,77.23760430703402,100.0 Q84.96965511460289,97.0,89.23760430703402,100.0 C90.92820323027551,104.0,84.0,116.0,80.0,116.0 C76.0,116.0,80.61880215351701,108.0,89.23760430703402,100.0 M105.23760430703402,100.0 Q112.96965511460289,97.0,117.23760430703402,100.0 Q126.47520861406804,84.0,130.47520861406804,84.0 Q134.47520861406804,84.0,125.23760430703402,100.0 M141.23760430703402,100.0 Q146.92820323027553,104.0,136.618802153517,108.0 C146.92820323027553,104.0,138.92820323027553,104.0,149.23760430703402,100.0 Q156.9696551146029,97.0,161.23760430703402,100.0 C162.92820323027553,104.0,160.618802153517,108.0,156.618802153517,108.0 C152.618802153517,108.0,154.92820323027553,104.0,161.23760430703402,100.0 Q168.9696551146029,97.0,173.23760430703402,100.0 Q168.618802153517,108.0,172.618802153517,108.0 Q176.618802153517,108.0,181.23760430703402,100.0 L185.85640646055103,92.0 M181.23760430703402,100.0 M197.23760430703402,100.0 M13.237604307034019,140.0 L4.0,156.0 L10.928203230275514,144.0 Q13.237604307034019,140.0,21.23760430703402,140.0 L45.23760430703402,140.0 Q53.23760430703402,140.0,55.54700538379252,136.0 L57.85640646055103,132.0 L53.23760430703402,140.0 M69.23760430703402,140.0 Q73.50555349946515,143.0,81.23760430703403,140.0 Q88.9696551146029,137.0,93.23760430703403,140.0 C99.54700538379254,136.0,106.47520861406804,124.0,102.47520861406804,124.0 C98.47520861406804,124.0,93.85640646055104,132.0,93.23760430703403,140.0 M109.23760430703403,140.0 M118.47520861406804,124.0 Q121.85640646055104,132.0,109.23760430703403,140.0 Q116.9696551146029,137.0,121.23760430703403,140.0 Q128.96965511460292,137.0,133.23760430703402,140.0 M149.23760430703402,140.0 L140.0,156.0 L146.92820323027553,144.0 Q149.23760430703402,140.0,157.23760430703402,140.0 L181.23760430703402,140.0 M197.23760430703402,140.0 M13.237604307034019,180.0 M22.475208614068023,164.0 Q25.856406460551028,172.0,13.237604307034019,180.0 Q20.969655114602887,177.0,25.23760430703402,180.0 C35.54700538379252,176.0,29.856406460551028,172.0,42.47520861406802,164.0 Q29.856406460551028,172.0,33.23760430703402,180.0 Q40.96965511460289,177.0,45.23760430703402,180.0 C46.928203230275514,184.0,44.61880215351701,188.0,40.61880215351701,188.0 C36.61880215351701,188.0,38.928203230275514,184.0,45.23760430703402,180.0 Q52.96965511460289,177.0,57.23760430703402,180.0 C58.928203230275514,184.0,52.0,196.0,48.0,196.0 C44.0,196.0,48.61880215351701,188.0,57.23760430703402,180.0\" stroke=\"black\" fill=\"none\" stroke-width=\"1.3333333333333333\" stroke-linecap=\"round\" stroke-linejoin=\"round\" id=\"UQzTUEcf0\" />\n",
       "</defs>\n",
       "<use xlink:href=\"#UQzTUEcf0\" x=\"0\" y=\"0\" />\n",
       "</svg>"
      ],
      "text/plain": [
       "<drawsvg.drawing.Drawing at 0x10a2b1e80>"
      ]
     },
     "metadata": {},
     "output_type": "display_data"
    }
   ],
   "source": [
    "show_grafoni_kerned_wrapped(\"there will come a time when you believe everything is finished that will be the beginning\",shear_val=-1/sqrt(3),wrap=40)"
   ]
  },
  {
   "cell_type": "markdown",
   "metadata": {},
   "source": [
    "#potential ligatures\n",
    "* k lv1\n",
    "* th r\n",
    "* ~~f r~~\n",
    "* ~~f l~~\n",
    "* s m\n",
    "* s n\n",
    "* ~~s f~~\n",
    "* k sh\n",
    "* sh r\n",
    "* m p\n",
    "* m p\n",
    "* ~~n t~~\n",
    "* ~~n d~~"
   ]
  },
  {
   "cell_type": "code",
   "execution_count": 94,
   "metadata": {},
   "outputs": [
    {
     "data": {
      "image/svg+xml": [
       "<?xml version=\"1.0\" encoding=\"UTF-8\"?>\n",
       "<svg xmlns=\"http://www.w3.org/2000/svg\" xmlns:xlink=\"http://www.w3.org/1999/xlink\"\n",
       "     width=\"20\" height=\"40\" viewBox=\"0 0 20 40\">\n",
       "<defs>\n",
       "<path d=\"M8,20 M8,36 Q16,28,8,20 C12,12,12,4,8,4 C4,4,4,12,8,20\" stroke=\"black\" fill=\"none\" stroke-width=\"1.3333333333333333\" stroke-linecap=\"round\" stroke-linejoin=\"round\" id=\"JGkNjvOj0\" />\n",
       "</defs>\n",
       "<use xlink:href=\"#JGkNjvOj0\" x=\"0\" y=\"0\" />\n",
       "</svg>"
      ],
      "text/plain": [
       "<drawsvg.drawing.Drawing at 0x10a2611c0>"
      ]
     },
     "metadata": {},
     "output_type": "display_data"
    }
   ],
   "source": [
    "show_kern(\"f-beg\",\"r\",-1,-1)"
   ]
  },
  {
   "cell_type": "code",
   "execution_count": 95,
   "metadata": {},
   "outputs": [
    {
     "data": {
      "text/plain": [
       "\"[('move', 0, 4), ('quadratic', 2, 2, 0, 0), ('cubic', 1, -2, 1, -8, 0, -8), ('cubic', -1, -8, -1, -4, 0, 0)]\""
      ]
     },
     "execution_count": 95,
     "metadata": {},
     "output_type": "execute_result"
    }
   ],
   "source": [
    "def print_pair(l,ll):\n",
    "    return str(concat(letter_forms[l],letter_forms[ll]))\n",
    "\n",
    "print_pair(\"f-beg\",\"l\")"
   ]
  },
  {
   "cell_type": "code",
   "execution_count": 96,
   "metadata": {},
   "outputs": [],
   "source": [
    "ligatures = {\n",
    "    \"n_t\": [('cubic',1,2,1,4,0,4),('cubic',-1,4,-1,2,0,0),('quadratic',1,-2,1,-4),('line',1,0)],\n",
    "    \"n_d\": [('cubic',1,2,1,4,0,4),('cubic',-1,4,-1,2,0,0),('quadratic',1,-2,1,-4),('line',1,-8),('line',1,0)],\n",
    "    \"th_uv1\": [('line',0,4),('line',0,2),('cubic',0,0,1*vowel_scale,-1*vowel_scale,2*vowel_scale,0)],\n",
    "    \"th_uv2\": [('line',0,4),('line',0,2),('cubic',0,0,2*vowel_scale,-2*vowel_scale,4*vowel_scale,0)],\n",
    "    \"th_uv3\": [('line',0,4),('line',0,2),('cubic',0,0,4*vowel_scale,-4*vowel_scale,8*vowel_scale,0)],\n",
    "    \"dh_uv1\": [('line',0,8),('line',0,2),('cubic',0,0,1*vowel_scale,-1*vowel_scale,2*vowel_scale,0)],\n",
    "    \"dh_uv2\": [('line',0,8),('line',0,2),('cubic',0,0,2*vowel_scale,-2*vowel_scale,4*vowel_scale,0)],\n",
    "    \"dh_uv3\": [('line',0,8),('line',0,2),('cubic',0,0,4*vowel_scale,-4*vowel_scale,8*vowel_scale,0)],\n",
    "    \"s_f\": [('quadratic', 0, -4, 1, -4), ('quadratic', 2, -4, 2, 0), ('quadratic', 2, 4, 1, 4), ('cubic', 2, 4, 2, 0, 3, 0)],\n",
    "    \"v_r\": [('quadratic', 2, 4, 0, 8), ('cubic', 2, 4, 0, 2, 1, 0), ('cubic', 2, -2, 2, -4, 1, -4), ('cubic', 0, -4, 0, -2, 1, 0)],\n",
    "    \"v_l\": [('quadratic', 2, 4, 0, 8), ('cubic', 2, 4, 0, 2, 1, 0), ('cubic', 2, -4, 2, -8, 1, -8), ('cubic', 0, -8, 0, -4, 1, 0)],\n",
    "    \"f_r\": [('quadratic', 2, 2, 0, 4), ('cubic', 2, 2, 0, 1, 1, 0), ('cubic', 2, -2, 2, -4, 1, -4), ('cubic', 0, -4, 0, -2, 1, 0)],\n",
    "    \"f_l\": [('quadratic', 2, 2, 0, 4), ('cubic', 2, 2, 0, 1, 1, 0), ('cubic', 2, -4, 2, -8, 1, -8), ('cubic', 0, -8, 0, -4, 1, 0)],\n",
    "    \"f-beg_r\": [('move', 0, 4), ('quadratic', 2, 3, 2, 0), ('cubic', 2, -2, 2, -4, 1, -4), ('cubic', 0, -4, 0, -2, 2, 0)],\n",
    "    \"f-beg_l\": [('move', 0, 4), ('quadratic', 2, 3, 2, 0), ('cubic', 2, -4, 2, -8, 1, -8), ('cubic', 0, -8, 0, -4, 2, 0)],\n",
    "}"
   ]
  },
  {
   "cell_type": "code",
   "execution_count": 97,
   "metadata": {},
   "outputs": [
    {
     "data": {
      "image/svg+xml": [
       "<?xml version=\"1.0\" encoding=\"UTF-8\"?>\n",
       "<svg xmlns=\"http://www.w3.org/2000/svg\" xmlns:xlink=\"http://www.w3.org/1999/xlink\"\n",
       "     width=\"16\" height=\"56\" viewBox=\"0 0 16 56\">\n",
       "<defs>\n",
       "<path d=\"M4,36 M4,52 Q12,48,12,36 C12,20,12,4,8,4 C4,4,4,20,12,36\" stroke=\"black\" fill=\"none\" stroke-width=\"1.3333333333333333\" stroke-linecap=\"round\" stroke-linejoin=\"round\" id=\"TPk9o0JT0\" />\n",
       "</defs>\n",
       "<use xlink:href=\"#TPk9o0JT0\" x=\"0\" y=\"0\" />\n",
       "</svg>"
      ],
      "text/plain": [
       "<drawsvg.drawing.Drawing at 0x10b809850>"
      ]
     },
     "metadata": {},
     "output_type": "display_data"
    }
   ],
   "source": [
    "display(svgStrokes([('move',0,0)]+ligatures[\"f-beg_l\"]))"
   ]
  },
  {
   "cell_type": "code",
   "execution_count": 98,
   "metadata": {},
   "outputs": [
    {
     "data": {
      "text/plain": [
       "['s', 't', 'uv3', 'n_d', 'z', ' ', 's', 'uv1', 'ng']"
      ]
     },
     "execution_count": 98,
     "metadata": {},
     "output_type": "execute_result"
    }
   ],
   "source": [
    "def make_ligatures(in_list):\n",
    "    out = []\n",
    "    last = \"None\"\n",
    "    for c in in_list:\n",
    "        potential = last + \"_\" + c\n",
    "        if potential in ligatures:\n",
    "            out.append(potential) \n",
    "            last = \"None\"\n",
    "        else:\n",
    "            if last != \"None\":\n",
    "                out.append(last)\n",
    "            last = c\n",
    "    if last != \"None\":\n",
    "        out.append(last)\n",
    "    return out\n",
    "\n",
    "make_ligatures([\"s\", \"t\", \"uv3\", \"n\", \"d\", \"z\", \" \", \"s\", \"uv1\", \"ng\"])"
   ]
  },
  {
   "cell_type": "code",
   "execution_count": 99,
   "metadata": {},
   "outputs": [
    {
     "data": {
      "text/plain": [
       "['s', 't', 'uv3', 'n', 'd']"
      ]
     },
     "execution_count": 99,
     "metadata": {},
     "output_type": "execute_result"
    }
   ],
   "source": [
    "[\"s\", \"t\", \"uv3\", \"n\", \"d\"]"
   ]
  },
  {
   "cell_type": "code",
   "execution_count": 100,
   "metadata": {},
   "outputs": [],
   "source": [
    "def first(string):\n",
    "    parts = string.split(\"_\")\n",
    "    if len(parts) == 0:\n",
    "        return \" \"\n",
    "    else:\n",
    "        return parts[0]\n",
    "\n",
    "def last(string):\n",
    "    parts = string.split(\"_\")\n",
    "    if len(parts) == 0:\n",
    "        return \" \"\n",
    "    else:\n",
    "        return parts[-1]"
   ]
  },
  {
   "cell_type": "code",
   "execution_count": 101,
   "metadata": {},
   "outputs": [],
   "source": [
    "def show_grafoni_kerned_wrapped_ligs(in_string,wrap = 100,shear_val=-1,line_space=20,v_scale=0.5):\n",
    "    chars = in_string\n",
    "    if isinstance(chars, str):\n",
    "        chars = make_ligatures(process_ends(grafoni_spell(in_string)))\n",
    "    print(\" \".join(chars))\n",
    "    out = [('move',0,0)]\n",
    "    last_char = \" \"\n",
    "    for l in chars:\n",
    "        if l in letter_forms:\n",
    "            l_kern,r_kern = kerning[(last(last_char),first(l))]\n",
    "            last_char = l\n",
    "            out = concat(r_extend(out,l_kern),l_extend(letter_forms[l],r_kern))\n",
    "        elif l in ligatures:\n",
    "            l_kern,r_kern = kerning[(last(last_char),first(l))]\n",
    "            last_char = l\n",
    "            out = concat(r_extend(out,l_kern),l_extend(ligatures[l],r_kern))\n",
    "        else:\n",
    "            print(\"error: \" + l)\n",
    "        if last_char == \" \"  and out[-1][-2] + shear_val*v_scale*out[-1][-1] > wrap:\n",
    "            out.append(('move',-shear_val*v_scale*(out[-1][-1]+line_space),out[-1][-1]+line_space))\n",
    "    return display(svgStrokes(shear(scale(out,1,v_scale),by=shear_val)))"
   ]
  },
  {
   "cell_type": "code",
   "execution_count": 102,
   "metadata": {},
   "outputs": [
    {
     "name": "stdout",
     "output_type": "stream",
     "text": [
      "s t uv3 n_d z   v uv2 n_t uv1 ng   dh mv2   dh_uv2 r   s_f uv1 r   f-beg_r uv3 n s   f-beg_l mv3 uv1 t-end\n"
     ]
    },
    {
     "data": {
      "image/svg+xml": [
       "<?xml version=\"1.0\" encoding=\"UTF-8\"?>\n",
       "<svg xmlns=\"http://www.w3.org/2000/svg\" xmlns:xlink=\"http://www.w3.org/1999/xlink\"\n",
       "     width=\"460.0\" height=\"40.0\" viewBox=\"0 0 460.0 40.0\">\n",
       "<defs>\n",
       "<path d=\"M4.0,20.0 Q12.0,12.0,16.0,12.0 Q20.0,12.0,12.0,20.0 Q20.0,20.0,24.0,16.0 L28.0,12.0 L20.0,20.0 Q56.0,8.0,68.0,20.0 C68.0,24.0,64.0,28.0,60.0,28.0 C56.0,28.0,60.0,24.0,68.0,20.0 Q76.0,16.0,80.0,12.0 L88.0,4.0 Q72.0,20.0,76.0,20.0 C80.0,20.0,96.0,4.0,100.0,4.0 Q104.0,4.0,88.0,20.0 M104.0,20.0 Q104.0,28.0,88.0,36.0 C104.0,28.0,100.0,24.0,112.0,20.0 Q130.0,14.0,136.0,20.0 C136.0,24.0,132.0,28.0,128.0,28.0 C124.0,28.0,128.0,24.0,136.0,20.0 Q144.0,16.0,148.0,12.0 L140.0,20.0 Q149.0,17.0,152.0,20.0 C152.0,24.0,140.0,36.0,136.0,36.0 C132.0,36.0,140.0,28.0,152.0,20.0 M168.0,20.0 L152.0,36.0 L164.0,24.0 Q168.0,20.0,176.0,20.0 L200.0,20.0 M216.0,20.0 L200.0,36.0 L212.0,24.0 C216.0,20.0,234.0,14.0,240.0,20.0 C248.0,16.0,252.0,12.0,248.0,12.0 C244.0,12.0,240.0,16.0,240.0,20.0 M256.0,20.0 Q264.0,12.0,268.0,12.0 Q272.0,12.0,264.0,20.0 Q256.0,28.0,252.0,28.0 C256.0,28.0,264.0,20.0,268.0,20.0 Q277.0,17.0,280.0,20.0 C288.0,16.0,292.0,12.0,288.0,12.0 C284.0,12.0,280.0,16.0,280.0,20.0 M296.0,20.0 M288.0,28.0 Q298.0,26.0,304.0,20.0 C308.0,16.0,312.0,12.0,308.0,12.0 C304.0,12.0,300.0,16.0,304.0,20.0 Q340.0,8.0,352.0,20.0 C352.0,24.0,348.0,28.0,344.0,28.0 C340.0,28.0,344.0,24.0,352.0,20.0 Q360.0,12.0,364.0,12.0 Q368.0,12.0,360.0,20.0 M376.0,20.0 M368.0,28.0 Q378.0,26.0,384.0,20.0 C392.0,12.0,400.0,4.0,396.0,4.0 C392.0,4.0,376.0,20.0,388.0,20.0 L436.0,20.0 Q445.0,17.0,448.0,20.0 L456.0,12.0 M448.0,20.0\" stroke=\"black\" fill=\"none\" stroke-width=\"1.3333333333333333\" stroke-linecap=\"round\" stroke-linejoin=\"round\" id=\"bg1pewDg0\" />\n",
       "</defs>\n",
       "<use xlink:href=\"#bg1pewDg0\" x=\"0\" y=\"0\" />\n",
       "</svg>"
      ],
      "text/plain": [
       "<drawsvg.drawing.Drawing at 0x10a4a0c70>"
      ]
     },
     "metadata": {},
     "output_type": "display_data"
    }
   ],
   "source": [
    "show_grafoni_kerned_wrapped_ligs(\"stands venting the there sphere france flight\")"
   ]
  },
  {
   "cell_type": "code",
   "execution_count": 103,
   "metadata": {},
   "outputs": [
    {
     "name": "stdout",
     "output_type": "stream",
     "text": [
      "s t uv3 n d z   v uv2 n t uv1 ng   dh mv2   dh uv2 r   s f uv1 r   f-beg r uv3 n s   f-beg l mv3 uv1 t-end\n"
     ]
    },
    {
     "data": {
      "image/svg+xml": [
       "<?xml version=\"1.0\" encoding=\"UTF-8\"?>\n",
       "<svg xmlns=\"http://www.w3.org/2000/svg\" xmlns:xlink=\"http://www.w3.org/1999/xlink\"\n",
       "     width=\"464.0\" height=\"40.0\" viewBox=\"0 0 464.0 40.0\">\n",
       "<defs>\n",
       "<path d=\"M4.0,20.0 Q12.0,12.0,16.0,12.0 Q20.0,12.0,12.0,20.0 Q20.0,20.0,24.0,16.0 L28.0,12.0 L20.0,20.0 Q56.0,8.0,68.0,20.0 C68.0,24.0,64.0,28.0,60.0,28.0 C56.0,28.0,60.0,24.0,68.0,20.0 Q76.0,20.0,80.0,16.0 L92.0,4.0 Q76.0,20.0,80.0,20.0 C84.0,20.0,100.0,4.0,104.0,4.0 Q108.0,4.0,92.0,20.0 M108.0,20.0 Q108.0,28.0,92.0,36.0 C108.0,28.0,104.0,24.0,116.0,20.0 Q134.0,14.0,140.0,20.0 C140.0,24.0,136.0,28.0,132.0,28.0 C128.0,28.0,132.0,24.0,140.0,20.0 Q148.0,20.0,152.0,16.0 L156.0,12.0 L148.0,20.0 Q157.0,17.0,160.0,20.0 C160.0,24.0,148.0,36.0,144.0,36.0 C140.0,36.0,148.0,28.0,160.0,20.0 M176.0,20.0 L160.0,36.0 L172.0,24.0 Q176.0,20.0,184.0,20.0 L208.0,20.0 M224.0,20.0 L208.0,36.0 L220.0,24.0 Q224.0,20.0,232.0,20.0 Q250.0,14.0,256.0,20.0 C264.0,16.0,268.0,12.0,264.0,12.0 C260.0,12.0,256.0,16.0,256.0,20.0 M272.0,20.0 Q280.0,12.0,284.0,12.0 Q288.0,12.0,280.0,20.0 Q284.0,24.0,272.0,28.0 C284.0,24.0,276.0,24.0,288.0,20.0 Q297.0,17.0,300.0,20.0 C308.0,16.0,312.0,12.0,308.0,12.0 C304.0,12.0,300.0,16.0,300.0,20.0 M316.0,20.0 M308.0,28.0 Q320.0,24.0,316.0,20.0 C324.0,16.0,328.0,12.0,324.0,12.0 C320.0,12.0,316.0,16.0,316.0,20.0 Q352.0,8.0,364.0,20.0 C364.0,24.0,360.0,28.0,356.0,28.0 C352.0,28.0,356.0,24.0,364.0,20.0 Q372.0,12.0,376.0,12.0 Q380.0,12.0,372.0,20.0 M388.0,20.0 M380.0,28.0 Q392.0,24.0,388.0,20.0 C396.0,16.0,408.0,4.0,404.0,4.0 C400.0,4.0,384.0,20.0,392.0,20.0 L440.0,20.0 Q449.0,17.0,452.0,20.0 L460.0,12.0 M452.0,20.0\" stroke=\"black\" fill=\"none\" stroke-width=\"1.3333333333333333\" stroke-linecap=\"round\" stroke-linejoin=\"round\" id=\"pKU0PZLF0\" />\n",
       "</defs>\n",
       "<use xlink:href=\"#pKU0PZLF0\" x=\"0\" y=\"0\" />\n",
       "</svg>"
      ],
      "text/plain": [
       "<drawsvg.drawing.Drawing at 0x10a241b50>"
      ]
     },
     "metadata": {},
     "output_type": "display_data"
    }
   ],
   "source": [
    "show_grafoni_kerned_wrapped(\"stands venting the there sphere france flight\")"
   ]
  },
  {
   "cell_type": "code",
   "execution_count": 104,
   "metadata": {},
   "outputs": [
    {
     "name": "stdout",
     "output_type": "stream",
     "text": [
      "dh_uv2 r   lv1 uv1 l   k-beg mv2 m   mv2   t-beg mv3 uv1 m   lv1 uv1 n   uv1 lv1   b-beg uv1 l uv1 uv1 v-end   uv2 v_r uv1 uv1 th_uv1 ng   uv1 z   f uv1 n uv1 sh t-end   dh mv2 t   lv1 uv1 l   b-beg uv1 uv1   dh mv2   b-beg uv1 g uv1 n uv1 ng\n"
     ]
    },
    {
     "data": {
      "image/svg+xml": [
       "<?xml version=\"1.0\" encoding=\"UTF-8\"?>\n",
       "<svg xmlns=\"http://www.w3.org/2000/svg\" xmlns:xlink=\"http://www.w3.org/1999/xlink\"\n",
       "     width=\"185.23760430703402\" height=\"200.0\" viewBox=\"0 0 185.23760430703402 200.0\">\n",
       "<defs>\n",
       "<path d=\"M13.237604307034013,20.0 L4.0,36.0 L10.92820323027551,24.0 C13.237604307034013,20.0,28.70170592217177,14.0,37.23760430703401,20.0 C43.547005383792516,16.0,45.85640646055102,12.0,41.85640646055102,12.0 C37.85640646055102,12.0,35.547005383792516,16.0,37.23760430703401,20.0 M53.23760430703401,20.0 Q57.50555349946514,23.0,65.23760430703402,20.0 Q72.96965511460289,17.0,77.23760430703402,20.0 C83.54700538379252,16.0,90.47520861406804,4.0,86.47520861406804,4.0 C82.47520861406804,4.0,77.85640646055103,12.0,77.23760430703402,20.0 M93.23760430703402,20.0 M97.85640646055103,12.0 Q87.54700538379252,16.0,93.23760430703402,20.0 L117.23760430703402,20.0 C121.23760430703402,20.0,118.92820323027551,24.0,114.92820323027551,24.0 C110.92820323027551,24.0,113.23760430703402,20.0,117.23760430703402,20.0 M133.23760430703402,20.0 L157.23760430703402,20.0 M173.23760430703402,20.0 M13.237604307034013,60.0 M17.85640646055102,52.0 L13.237604307034013,60.0 L61.23760430703401,60.0 Q68.96965511460289,57.0,73.23760430703402,60.0 C77.23760430703402,60.0,74.92820323027551,64.0,70.92820323027551,64.0 C66.9282032302755,64.0,69.23760430703402,60.0,73.23760430703402,60.0 M89.23760430703402,60.0 Q93.50555349946514,63.0,101.23760430703402,60.0 Q108.96965511460289,57.0,113.23760430703402,60.0 C114.92820323027551,64.0,112.61880215351701,68.0,108.61880215351701,68.0 C104.61880215351701,68.0,106.92820323027551,64.0,113.23760430703402,60.0 M129.23760430703402,60.0 Q136.9696551146029,57.0,141.237604307034,60.0 Q145.50555349946512,63.0,153.23760430703402,60.0 M169.23760430703402,60.0 M13.237604307034013,100.0 M22.475208614068023,84.0 Q25.856406460551014,92.0,13.237604307034013,100.0 Q20.969655114602887,97.0,25.23760430703401,100.0 C31.547005383792516,96.0,38.47520861406802,84.0,34.47520861406802,84.0 C30.475208614068023,84.0,25.856406460551014,92.0,25.23760430703401,100.0 Q32.96965511460289,97.0,37.23760430703401,100.0 Q44.96965511460289,97.0,49.23760430703401,100.0 Q52.618802153517,108.0,39.99999999999999,116.0 M49.23760430703401,100.0 M65.23760430703402,100.0 Q80.70170592217177,94.0,89.23760430703402,100.0 Q92.61880215351701,108.0,80.0,116.0 C92.61880215351701,108.0,86.92820323027551,104.0,93.23760430703402,100.0 C99.54700538379252,96.0,101.85640646055103,92.0,97.85640646055103,92.0 C93.85640646055103,92.0,91.54700538379252,96.0,93.23760430703402,100.0 Q100.96965511460289,97.0,105.23760430703402,100.0 Q112.96965511460289,97.0,117.23760430703402,100.0 L112.61880215351701,108.0 L114.92820323027551,104.0 C117.23760430703402,100.0,124.96965511460289,97.0,129.23760430703402,100.0 C130.92820323027553,104.0,124.0,116.0,120.0,116.0 C116.0,116.0,120.61880215351701,108.0,129.23760430703402,100.0 M145.23760430703402,100.0 Q152.9696551146029,97.0,157.23760430703402,100.0 Q166.47520861406804,84.0,170.47520861406804,84.0 Q174.47520861406804,84.0,165.23760430703402,100.0 M181.23760430703402,100.0 M13.237604307034013,140.0 Q18.928203230275507,144.0,8.618802153517004,148.0 C18.928203230275507,144.0,10.928203230275509,144.0,21.23760430703401,140.0 Q28.96965511460288,137.0,33.23760430703401,140.0 C34.92820323027551,144.0,32.618802153517,148.0,28.618802153517002,148.0 C24.618802153517002,148.0,26.928203230275507,144.0,33.23760430703401,140.0 Q40.96965511460288,137.0,45.23760430703401,140.0 Q40.618802153517,148.0,44.618802153517,148.0 Q48.618802153517,148.0,53.23760430703401,140.0 L57.85640646055102,132.0 M53.23760430703401,140.0 M69.23760430703402,140.0 L59.99999999999999,156.0 L66.9282032302755,144.0 Q69.23760430703402,140.0,77.23760430703403,140.0 L101.23760430703403,140.0 Q109.23760430703403,140.0,111.54700538379254,136.0 L113.85640646055104,132.0 L109.23760430703403,140.0 M125.23760430703403,140.0 Q129.50555349946515,143.0,137.23760430703402,140.0 Q144.96965511460292,137.0,149.23760430703402,140.0 C155.54700538379254,136.0,162.47520861406804,124.0,158.47520861406804,124.0 C154.47520861406804,124.0,149.85640646055106,132.0,149.23760430703402,140.0 M165.23760430703402,140.0 M13.237604307034013,180.0 M22.475208614068016,164.0 Q25.85640646055102,172.0,13.237604307034013,180.0 Q20.96965511460288,177.0,25.23760430703401,180.0 Q32.96965511460288,177.0,37.23760430703401,180.0 M53.23760430703401,180.0 L43.99999999999999,196.0 L50.92820323027551,184.0 Q53.23760430703401,180.0,61.23760430703401,180.0 L85.23760430703402,180.0 M101.23760430703402,180.0 M110.47520861406802,164.0 Q113.85640646055103,172.0,101.23760430703402,180.0 Q108.96965511460289,177.0,113.23760430703402,180.0 C123.54700538379252,176.0,117.85640646055103,172.0,130.47520861406804,164.0 Q117.85640646055103,172.0,121.23760430703402,180.0 Q128.9696551146029,177.0,133.23760430703402,180.0 C134.9282032302755,184.0,132.618802153517,188.0,128.618802153517,188.0 C124.61880215351701,188.0,126.92820323027551,184.0,133.23760430703402,180.0 Q140.9696551146029,177.0,145.23760430703402,180.0 C146.92820323027553,184.0,140.0,196.0,136.0,196.0 C132.0,196.0,136.618802153517,188.0,145.23760430703402,180.0\" stroke=\"black\" fill=\"none\" stroke-width=\"1.3333333333333333\" stroke-linecap=\"round\" stroke-linejoin=\"round\" id=\"olyuYcKe0\" />\n",
       "</defs>\n",
       "<use xlink:href=\"#olyuYcKe0\" x=\"0\" y=\"0\" />\n",
       "</svg>"
      ],
      "text/plain": [
       "<drawsvg.drawing.Drawing at 0x10a4a07c0>"
      ]
     },
     "metadata": {},
     "output_type": "display_data"
    }
   ],
   "source": [
    "show_grafoni_kerned_wrapped_ligs(\"there will come a time when you believe everything is finished that will be the beginning\",shear_val=-1/sqrt(3),wrap=35)"
   ]
  },
  {
   "cell_type": "code",
   "execution_count": 105,
   "metadata": {},
   "outputs": [
    {
     "name": "stdout",
     "output_type": "stream",
     "text": [
      "dh uv2 r   lv1 uv1 l   k-beg mv2 m   mv2   t-beg mv3 uv1 m   lv1 uv1 n   uv1 lv1   b-beg uv1 l uv1 uv1 v-end   uv2 v r uv1 uv1 th uv1 ng   uv1 z   f uv1 n uv1 sh t-end   dh mv2 t   lv1 uv1 l   b-beg uv1 uv1   dh mv2   b-beg uv1 g uv1 n uv1 ng\n"
     ]
    },
    {
     "data": {
      "image/svg+xml": [
       "<?xml version=\"1.0\" encoding=\"UTF-8\"?>\n",
       "<svg xmlns=\"http://www.w3.org/2000/svg\" xmlns:xlink=\"http://www.w3.org/1999/xlink\"\n",
       "     width=\"190.92820323027553\" height=\"200.0\" viewBox=\"0 0 190.92820323027553 200.0\">\n",
       "<defs>\n",
       "<path d=\"M13.237604307034013,20.0 L4.0,36.0 L10.92820323027551,24.0 Q13.237604307034013,20.0,21.23760430703401,20.0 Q36.70170592217177,14.0,45.23760430703401,20.0 C51.547005383792516,16.0,53.85640646055102,12.0,49.85640646055102,12.0 C45.85640646055102,12.0,43.547005383792516,16.0,45.23760430703401,20.0 M61.23760430703401,20.0 Q65.50555349946514,23.0,73.23760430703402,20.0 Q80.9696551146029,17.0,85.23760430703402,20.0 C91.54700538379252,16.0,98.47520861406804,4.0,94.47520861406804,4.0 C90.47520861406804,4.0,85.85640646055103,12.0,85.23760430703402,20.0 M101.23760430703402,20.0 M105.85640646055103,12.0 Q95.54700538379252,16.0,101.23760430703402,20.0 L125.23760430703402,20.0 C129.23760430703402,20.0,126.92820323027551,24.0,122.92820323027551,24.0 C118.92820323027551,24.0,121.23760430703402,20.0,125.23760430703402,20.0 M141.23760430703402,20.0 L165.23760430703402,20.0 M181.23760430703402,20.0 M13.237604307034013,60.0 M17.85640646055102,52.0 L13.237604307034013,60.0 L61.23760430703401,60.0 Q68.96965511460289,57.0,73.23760430703402,60.0 C77.23760430703402,60.0,74.92820323027551,64.0,70.92820323027551,64.0 C66.9282032302755,64.0,69.23760430703402,60.0,73.23760430703402,60.0 M89.23760430703402,60.0 Q93.50555349946514,63.0,101.23760430703402,60.0 Q108.96965511460289,57.0,113.23760430703402,60.0 C114.92820323027551,64.0,112.61880215351701,68.0,108.61880215351701,68.0 C104.61880215351701,68.0,106.92820323027551,64.0,113.23760430703402,60.0 M129.23760430703402,60.0 Q136.9696551146029,57.0,141.237604307034,60.0 Q145.50555349946512,63.0,153.23760430703402,60.0 M169.23760430703402,60.0 M13.237604307034013,100.0 M22.475208614068023,84.0 Q25.856406460551014,92.0,13.237604307034013,100.0 Q20.969655114602887,97.0,25.23760430703401,100.0 C31.547005383792516,96.0,38.47520861406802,84.0,34.47520861406802,84.0 C30.475208614068023,84.0,25.856406460551014,92.0,25.23760430703401,100.0 Q32.96965511460289,97.0,37.23760430703401,100.0 Q44.96965511460289,97.0,49.23760430703401,100.0 Q52.618802153517,108.0,39.99999999999999,116.0 M49.23760430703401,100.0 M65.23760430703402,100.0 Q80.70170592217177,94.0,89.23760430703402,100.0 Q92.61880215351701,108.0,80.0,116.0 C92.61880215351701,108.0,86.92820323027551,104.0,97.23760430703402,100.0 C103.54700538379252,96.0,105.85640646055103,92.0,101.85640646055103,92.0 C97.85640646055103,92.0,95.54700538379252,96.0,97.23760430703402,100.0 Q104.96965511460289,97.0,109.23760430703402,100.0 Q116.96965511460289,97.0,121.23760430703402,100.0 L116.61880215351701,108.0 L118.92820323027551,104.0 Q121.23760430703402,100.0,129.23760430703402,100.0 Q136.9696551146029,97.0,141.23760430703402,100.0 C142.92820323027553,104.0,136.0,116.0,132.0,116.0 C128.0,116.0,132.618802153517,108.0,141.23760430703402,100.0 M157.23760430703402,100.0 M13.237604307034013,140.0 Q20.96965511460288,137.0,25.23760430703401,140.0 Q34.47520861406802,124.0,38.47520861406802,124.0 Q42.47520861406802,124.0,33.23760430703401,140.0 M49.23760430703401,140.0 Q54.92820323027551,144.0,44.618802153517,148.0 C54.92820323027551,144.0,46.92820323027551,144.0,57.23760430703401,140.0 Q64.96965511460289,137.0,69.23760430703402,140.0 C70.92820323027553,144.0,68.61880215351702,148.0,64.61880215351701,148.0 C60.618802153517,148.0,62.92820323027551,144.0,69.23760430703402,140.0 Q76.9696551146029,137.0,81.23760430703403,140.0 Q76.61880215351702,148.0,80.61880215351702,148.0 Q84.61880215351702,148.0,89.23760430703403,140.0 L93.85640646055104,132.0 M89.23760430703403,140.0 M105.23760430703403,140.0 L96.00000000000001,156.0 L102.92820323027553,144.0 Q105.23760430703403,140.0,113.23760430703403,140.0 L137.23760430703402,140.0 Q145.23760430703402,140.0,147.54700538379254,136.0 L149.85640646055106,132.0 L145.23760430703402,140.0 M161.23760430703402,140.0 M13.237604307034013,180.0 Q17.50555349946513,183.0,25.23760430703401,180.0 Q32.96965511460288,177.0,37.23760430703401,180.0 C43.547005383792516,176.0,50.475208614068016,164.0,46.475208614068016,164.0 C42.475208614068016,164.0,37.85640646055102,172.0,37.23760430703401,180.0 M53.23760430703401,180.0 M62.475208614068016,164.0 Q65.85640646055103,172.0,53.23760430703401,180.0 Q60.96965511460288,177.0,65.23760430703402,180.0 Q72.96965511460289,177.0,77.23760430703402,180.0 M93.23760430703402,180.0 L84.0,196.0 L90.92820323027551,184.0 Q93.23760430703402,180.0,101.23760430703402,180.0 L125.23760430703402,180.0 M141.23760430703402,180.0 M150.47520861406804,164.0 Q153.85640646055103,172.0,141.23760430703402,180.0 Q148.9696551146029,177.0,153.23760430703402,180.0 C163.5470053837925,176.0,157.85640646055103,172.0,170.47520861406804,164.0 Q157.85640646055103,172.0,161.23760430703402,180.0 Q168.9696551146029,177.0,173.23760430703402,180.0 C174.92820323027553,184.0,172.618802153517,188.0,168.618802153517,188.0 C164.618802153517,188.0,166.92820323027553,184.0,173.23760430703402,180.0 Q180.9696551146029,177.0,185.23760430703402,180.0 C186.92820323027553,184.0,180.0,196.0,176.0,196.0 C172.0,196.0,176.618802153517,188.0,185.23760430703402,180.0\" stroke=\"black\" fill=\"none\" stroke-width=\"1.3333333333333333\" stroke-linecap=\"round\" stroke-linejoin=\"round\" id=\"Fjb3ZExZ0\" />\n",
       "</defs>\n",
       "<use xlink:href=\"#Fjb3ZExZ0\" x=\"0\" y=\"0\" />\n",
       "</svg>"
      ],
      "text/plain": [
       "<drawsvg.drawing.Drawing at 0x10a4a07c0>"
      ]
     },
     "metadata": {},
     "output_type": "display_data"
    }
   ],
   "source": [
    "show_grafoni_kerned_wrapped(\"there will come a time when you believe everything is finished that will be the beginning\",shear_val=-1/sqrt(3),wrap=35)"
   ]
  },
  {
   "cell_type": "code",
   "execution_count": 106,
   "metadata": {},
   "outputs": [
    {
     "name": "stdout",
     "output_type": "stream",
     "text": [
      "uv1 Y uv1 l d-end   lv1 W lv1 d   s t mv2 d uv1 uv1 Y uv1 ng\n"
     ]
    },
    {
     "data": {
      "image/svg+xml": [
       "<?xml version=\"1.0\" encoding=\"UTF-8\"?>\n",
       "<svg xmlns=\"http://www.w3.org/2000/svg\" xmlns:xlink=\"http://www.w3.org/1999/xlink\"\n",
       "     width=\"187.6905989232415\" height=\"40.0\" viewBox=\"0 0 187.6905989232415 40.0\">\n",
       "<defs>\n",
       "<path d=\"M4.0,20.0 Q11.732050807568879,17.0,16.0,20.0 C18.845299461620748,22.0,10.845299461620748,22.0,16.0,20.0 Q23.73205080756888,17.0,28.0,20.0 C34.309401076758505,16.0,41.23760430703401,4.0,37.23760430703401,4.0 C33.23760430703401,4.0,24.0,20.0,32.0,20.0 Q34.0,20.0,43.23760430703401,4.0 M34.0,20.0 M50.0,20.0 Q54.267949192431125,23.0,62.0,20.0 C67.15470053837925,18.0,59.15470053837925,18.0,62.0,20.0 Q66.26794919243113,23.0,74.0,20.0 Q82.0,20.0,84.3094010767585,16.0 L91.23760430703402,4.0 L82.0,20.0 M98.0,20.0 Q102.61880215351701,12.0,106.61880215351701,12.0 Q110.61880215351701,12.0,106.0,20.0 Q114.0,20.0,116.3094010767585,16.0 L118.61880215351701,12.0 L114.0,20.0 L138.0,20.0 Q146.0,20.0,148.3094010767585,16.0 L155.23760430703402,4.0 L146.0,20.0 Q153.73205080756887,17.0,158.0,20.0 Q165.73205080756887,17.0,170.0,20.0 C172.84529946162075,22.0,164.84529946162075,22.0,170.0,20.0 Q177.73205080756887,17.0,182.0,20.0 C183.6905989232415,24.0,176.76239569296598,36.0,172.76239569296598,36.0 C168.76239569296598,36.0,173.381197846483,28.0,182.0,20.0\" stroke=\"black\" fill=\"none\" stroke-width=\"1.3333333333333333\" stroke-linecap=\"round\" stroke-linejoin=\"round\" id=\"FNA4O1Wu0\" />\n",
       "</defs>\n",
       "<use xlink:href=\"#FNA4O1Wu0\" x=\"0\" y=\"0\" />\n",
       "</svg>"
      ],
      "text/plain": [
       "<drawsvg.drawing.Drawing at 0x10a36c580>"
      ]
     },
     "metadata": {},
     "output_type": "display_data"
    }
   ],
   "source": [
    "show_grafoni_kerned_wrapped(\"yield wooed studying\",shear_val=-1/sqrt(3),wrap=35)"
   ]
  },
  {
   "cell_type": "code",
   "execution_count": null,
   "metadata": {},
   "outputs": [],
   "source": []
  },
  {
   "cell_type": "code",
   "execution_count": null,
   "metadata": {},
   "outputs": [],
   "source": []
  },
  {
   "cell_type": "code",
   "execution_count": null,
   "metadata": {},
   "outputs": [],
   "source": []
  },
  {
   "cell_type": "code",
   "execution_count": null,
   "metadata": {},
   "outputs": [],
   "source": []
  }
 ],
 "metadata": {
  "kernelspec": {
   "display_name": "Python 3",
   "language": "python",
   "name": "python3"
  },
  "language_info": {
   "codemirror_mode": {
    "name": "ipython",
    "version": 3
   },
   "file_extension": ".py",
   "mimetype": "text/x-python",
   "name": "python",
   "nbconvert_exporter": "python",
   "pygments_lexer": "ipython3",
   "version": "3.9.18"
  }
 },
 "nbformat": 4,
 "nbformat_minor": 2
}
